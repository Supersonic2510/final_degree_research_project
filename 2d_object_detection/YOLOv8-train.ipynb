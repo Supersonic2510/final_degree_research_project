{
 "cells": [
  {
   "cell_type": "code",
   "execution_count": 2,
   "id": "ca6e6a2cf383f5aa",
   "metadata": {
    "ExecuteTime": {
     "end_time": "2024-09-01T17:15:42.214053Z",
     "start_time": "2024-09-01T17:15:40.134256Z"
    }
   },
   "outputs": [],
   "source": [
    "# Import model and check parameters\n",
    "from ultralytics import YOLO, settings\n",
    "import gc\n",
    "import torch\n",
    "import os"
   ]
  },
  {
   "cell_type": "code",
   "execution_count": 3,
   "id": "5a3be177fdd2f122",
   "metadata": {
    "ExecuteTime": {
     "end_time": "2024-09-01T17:15:42.226759Z",
     "start_time": "2024-09-01T17:15:42.223948Z"
    }
   },
   "outputs": [],
   "source": [
    "base_path = os.getcwd()"
   ]
  },
  {
   "cell_type": "code",
   "execution_count": 4,
   "id": "ed754eaafa2dd1d4",
   "metadata": {
    "ExecuteTime": {
     "end_time": "2024-09-01T17:15:42.710998Z",
     "start_time": "2024-09-01T17:15:42.705006Z"
    }
   },
   "outputs": [],
   "source": [
    "settings.update({\"datasets_dir\": f\"{base_path}/data\"})\n",
    "settings.update({\"runs_dir\": f\"{base_path}/runs\"})\n",
    "settings.update({\"weights_dir\": f\"{base_path}/models\"})"
   ]
  },
  {
   "cell_type": "code",
   "execution_count": 4,
   "id": "c9f90ec3-b9a1-42b8-baba-c6ded3dab8ef",
   "metadata": {
    "ExecuteTime": {
     "end_time": "2024-09-01T17:15:43.394652Z",
     "start_time": "2024-09-01T17:15:43.277925Z"
    }
   },
   "outputs": [
    {
     "name": "stdout",
     "output_type": "stream",
     "text": [
      "YOLOv8n summary: 225 layers, 3,157,200 parameters, 0 gradients, 8.9 GFLOPs\n"
     ]
    },
    {
     "data": {
      "text/plain": [
       "(225, 3157200, 0, 8.8575488)"
      ]
     },
     "execution_count": 4,
     "metadata": {},
     "output_type": "execute_result"
    }
   ],
   "source": [
    "model = YOLO(os.path.join(base_path, \"models/yolov8n.pt\"))\n",
    "\n",
    "model.info()"
   ]
  },
  {
   "cell_type": "code",
   "execution_count": 5,
   "id": "f67fd9c0df905eda",
   "metadata": {
    "ExecuteTime": {
     "end_time": "2024-09-01T17:15:44.382282Z",
     "start_time": "2024-09-01T17:15:44.312519Z"
    }
   },
   "outputs": [
    {
     "data": {
      "text/plain": [
       "5423"
      ]
     },
     "execution_count": 5,
     "metadata": {},
     "output_type": "execute_result"
    }
   ],
   "source": [
    "# Clear cuda memory\n",
    "torch.cuda.empty_cache()\n",
    "gc.collect()"
   ]
  },
  {
   "cell_type": "code",
   "execution_count": 6,
   "id": "bf5817cb-7f88-419f-b577-6470c869ab72",
   "metadata": {
    "ExecuteTime": {
     "start_time": "2024-09-01T17:15:59.720980Z"
    },
    "jupyter": {
     "is_executing": true
    }
   },
   "outputs": [
    {
     "name": "stdout",
     "output_type": "stream",
     "text": [
      "New https://pypi.org/project/ultralytics/8.2.86 available 😃 Update with 'pip install -U ultralytics'\n",
      "Ultralytics YOLOv8.2.84 🚀 Python-3.12.4 torch-2.4.0+cu118 CUDA:0 (NVIDIA GeForce RTX 3080, 9904MiB)\n",
      "\u001b[34m\u001b[1mengine/trainer: \u001b[0mtask=detect, mode=train, model=/home/polna/Developer/final_degree_project/2d_object_detection/models/yolov8n.pt, data=/home/polna/Developer/final_degree_project/2d_object_detection//data/yolo/data.yaml, epochs=500, time=None, patience=100, batch=500, imgsz=128, save=True, save_period=10, cache=True, device=0, workers=10, project=results/, name=500e full dataset, exist_ok=False, pretrained=True, optimizer=auto, verbose=True, seed=42, deterministic=True, single_cls=False, rect=False, cos_lr=False, close_mosaic=10, resume=False, amp=True, fraction=1.0, profile=False, freeze=None, multi_scale=False, overlap_mask=True, mask_ratio=4, dropout=0.0, val=True, split=val, save_json=False, save_hybrid=False, conf=None, iou=0.7, max_det=300, half=False, dnn=False, plots=True, source=None, vid_stride=1, stream_buffer=False, visualize=False, augment=False, agnostic_nms=False, classes=None, retina_masks=False, embed=None, show=False, save_frames=False, save_txt=False, save_conf=False, save_crop=False, show_labels=True, show_conf=True, show_boxes=True, line_width=None, format=torchscript, keras=False, optimize=False, int8=False, dynamic=False, simplify=False, opset=None, workspace=4, nms=False, lr0=0.01, lrf=0.01, momentum=0.937, weight_decay=0.0005, warmup_epochs=3.0, warmup_momentum=0.8, warmup_bias_lr=0.1, box=7.5, cls=0.5, dfl=1.5, pose=12.0, kobj=1.0, label_smoothing=0.0, nbs=64, hsv_h=0.015, hsv_s=0.7, hsv_v=0.4, degrees=0.0, translate=0.1, scale=0.5, shear=0.0, perspective=0.0, flipud=0.0, fliplr=0.5, bgr=0.0, mosaic=1.0, mixup=0.0, copy_paste=0.0, auto_augment=randaugment, erasing=0.4, crop_fraction=1.0, cfg=None, tracker=botsort.yaml, save_dir=results/500e full dataset\n",
      "Overriding model.yaml nc=80 with nc=401\n",
      "\n",
      "                   from  n    params  module                                       arguments                     \n",
      "  0                  -1  1       464  ultralytics.nn.modules.conv.Conv             [3, 16, 3, 2]                 \n",
      "  1                  -1  1      4672  ultralytics.nn.modules.conv.Conv             [16, 32, 3, 2]                \n",
      "  2                  -1  1      7360  ultralytics.nn.modules.block.C2f             [32, 32, 1, True]             \n",
      "  3                  -1  1     18560  ultralytics.nn.modules.conv.Conv             [32, 64, 3, 2]                \n",
      "  4                  -1  2     49664  ultralytics.nn.modules.block.C2f             [64, 64, 2, True]             \n",
      "  5                  -1  1     73984  ultralytics.nn.modules.conv.Conv             [64, 128, 3, 2]               \n",
      "  6                  -1  2    197632  ultralytics.nn.modules.block.C2f             [128, 128, 2, True]           \n",
      "  7                  -1  1    295424  ultralytics.nn.modules.conv.Conv             [128, 256, 3, 2]              \n",
      "  8                  -1  1    460288  ultralytics.nn.modules.block.C2f             [256, 256, 1, True]           \n",
      "  9                  -1  1    164608  ultralytics.nn.modules.block.SPPF            [256, 256, 5]                 \n",
      " 10                  -1  1         0  torch.nn.modules.upsampling.Upsample         [None, 2, 'nearest']          \n",
      " 11             [-1, 6]  1         0  ultralytics.nn.modules.conv.Concat           [1]                           \n",
      " 12                  -1  1    148224  ultralytics.nn.modules.block.C2f             [384, 128, 1]                 \n",
      " 13                  -1  1         0  torch.nn.modules.upsampling.Upsample         [None, 2, 'nearest']          \n",
      " 14             [-1, 4]  1         0  ultralytics.nn.modules.conv.Concat           [1]                           \n",
      " 15                  -1  1     37248  ultralytics.nn.modules.block.C2f             [192, 64, 1]                  \n",
      " 16                  -1  1     36992  ultralytics.nn.modules.conv.Conv             [64, 64, 3, 2]                \n",
      " 17            [-1, 12]  1         0  ultralytics.nn.modules.conv.Concat           [1]                           \n",
      " 18                  -1  1    123648  ultralytics.nn.modules.block.C2f             [192, 128, 1]                 \n",
      " 19                  -1  1    147712  ultralytics.nn.modules.conv.Conv             [128, 128, 3, 2]              \n",
      " 20             [-1, 9]  1         0  ultralytics.nn.modules.conv.Concat           [1]                           \n",
      " 21                  -1  1    493056  ultralytics.nn.modules.block.C2f             [384, 256, 1]                 \n",
      " 22        [15, 18, 21]  1   1177807  ultralytics.nn.modules.head.Detect           [401, [64, 128, 256]]         \n",
      "Model summary: 225 layers, 3,437,343 parameters, 3,437,327 gradients, 10.2 GFLOPs\n",
      "\n",
      "Transferred 319/355 items from pretrained weights\n",
      "Freezing layer 'model.22.dfl.conv.weight'\n",
      "\u001b[34m\u001b[1mAMP: \u001b[0mrunning Automatic Mixed Precision (AMP) checks with YOLOv8n...\n",
      "\u001b[34m\u001b[1mAMP: \u001b[0mchecks passed ✅\n"
     ]
    },
    {
     "name": "stderr",
     "output_type": "stream",
     "text": [
      "/home/polna/.pyenv/versions/3.12.4/lib/python3.12/site-packages/ultralytics/engine/trainer.py:268: FutureWarning: `torch.cuda.amp.GradScaler(args...)` is deprecated. Please use `torch.amp.GradScaler('cuda', args...)` instead.\n",
      "  self.scaler = torch.cuda.amp.GradScaler(enabled=self.amp)\n",
      "\u001b[34m\u001b[1mtrain: \u001b[0mScanning /home/polna/Developer/final_degree_project/2d_object_detection/data/yolo/train/labe\u001b[0m"
     ]
    },
    {
     "name": "stdout",
     "output_type": "stream",
     "text": [
      "\u001b[34m\u001b[1mtrain: \u001b[0mWARNING ⚠️ /home/polna/Developer/final_degree_project/2d_object_detection/data/yolo/train/images/-Im2QKDRyFSHxN2e1x0AUg_4.jpg: ignoring corrupt image/label: image size (7, 13) <10 pixels\n",
      "\u001b[34m\u001b[1mtrain: \u001b[0mWARNING ⚠️ /home/polna/Developer/final_degree_project/2d_object_detection/data/yolo/train/images/-Im2QKDRyFSHxN2e1x0AUg_aug_3.jpg: ignoring corrupt image/label: image size (7, 13) <10 pixels\n",
      "\u001b[34m\u001b[1mtrain: \u001b[0mWARNING ⚠️ /home/polna/Developer/final_degree_project/2d_object_detection/data/yolo/train/images/-Im2QKDRyFSHxN2e1x0AUg_aug_4.jpg: ignoring corrupt image/label: image size (7, 13) <10 pixels\n",
      "\u001b[34m\u001b[1mtrain: \u001b[0mWARNING ⚠️ /home/polna/Developer/final_degree_project/2d_object_detection/data/yolo/train/images/-KVHZLWsvCtBVGz3p_XfhQ_2.jpg: ignoring corrupt image/label: image size (9, 41) <10 pixels\n",
      "\u001b[34m\u001b[1mtrain: \u001b[0mWARNING ⚠️ /home/polna/Developer/final_degree_project/2d_object_detection/data/yolo/train/images/-KVHZLWsvCtBVGz3p_XfhQ_aug_0.jpg: ignoring corrupt image/label: image size (9, 41) <10 pixels\n",
      "\u001b[34m\u001b[1mtrain: \u001b[0mWARNING ⚠️ /home/polna/Developer/final_degree_project/2d_object_detection/data/yolo/train/images/-fHQB3_g3Wx1lkxiCkkq9Q_1.jpg: ignoring corrupt image/label: image size (9, 20) <10 pixels\n",
      "\u001b[34m\u001b[1mtrain: \u001b[0mWARNING ⚠️ /home/polna/Developer/final_degree_project/2d_object_detection/data/yolo/train/images/-fHQB3_g3Wx1lkxiCkkq9Q_aug_0.jpg: ignoring corrupt image/label: image size (9, 20) <10 pixels\n",
      "\u001b[34m\u001b[1mtrain: \u001b[0mWARNING ⚠️ /home/polna/Developer/final_degree_project/2d_object_detection/data/yolo/train/images/-fHQB3_g3Wx1lkxiCkkq9Q_aug_1.jpg: ignoring corrupt image/label: image size (9, 20) <10 pixels\n",
      "\u001b[34m\u001b[1mtrain: \u001b[0mWARNING ⚠️ /home/polna/Developer/final_degree_project/2d_object_detection/data/yolo/train/images/-fHQB3_g3Wx1lkxiCkkq9Q_aug_2.jpg: ignoring corrupt image/label: image size (9, 20) <10 pixels\n",
      "\u001b[34m\u001b[1mtrain: \u001b[0mWARNING ⚠️ /home/polna/Developer/final_degree_project/2d_object_detection/data/yolo/train/images/-fHQB3_g3Wx1lkxiCkkq9Q_aug_3.jpg: ignoring corrupt image/label: image size (9, 20) <10 pixels\n",
      "\u001b[34m\u001b[1mtrain: \u001b[0mWARNING ⚠️ /home/polna/Developer/final_degree_project/2d_object_detection/data/yolo/train/images/-fHQB3_g3Wx1lkxiCkkq9Q_aug_5.jpg: ignoring corrupt image/label: image size (9, 20) <10 pixels\n",
      "\u001b[34m\u001b[1mtrain: \u001b[0mWARNING ⚠️ /home/polna/Developer/final_degree_project/2d_object_detection/data/yolo/train/images/-fHQB3_g3Wx1lkxiCkkq9Q_aug_6.jpg: ignoring corrupt image/label: image size (9, 20) <10 pixels\n",
      "\u001b[34m\u001b[1mtrain: \u001b[0mWARNING ⚠️ /home/polna/Developer/final_degree_project/2d_object_detection/data/yolo/train/images/-fHQB3_g3Wx1lkxiCkkq9Q_aug_7.jpg: ignoring corrupt image/label: image size (9, 20) <10 pixels\n",
      "\u001b[34m\u001b[1mtrain: \u001b[0mWARNING ⚠️ /home/polna/Developer/final_degree_project/2d_object_detection/data/yolo/train/images/-fHQB3_g3Wx1lkxiCkkq9Q_aug_8.jpg: ignoring corrupt image/label: image size (9, 20) <10 pixels\n",
      "\u001b[34m\u001b[1mtrain: \u001b[0mWARNING ⚠️ /home/polna/Developer/final_degree_project/2d_object_detection/data/yolo/train/images/-fHQB3_g3Wx1lkxiCkkq9Q_aug_9.jpg: ignoring corrupt image/label: image size (9, 20) <10 pixels\n",
      "\u001b[34m\u001b[1mtrain: \u001b[0mWARNING ⚠️ /home/polna/Developer/final_degree_project/2d_object_detection/data/yolo/train/images/-ndyGFa2tBYAwNpsUlcB-A_7.jpg: ignoring corrupt image/label: image size (9, 14) <10 pixels\n",
      "\u001b[34m\u001b[1mtrain: \u001b[0mWARNING ⚠️ /home/polna/Developer/final_degree_project/2d_object_detection/data/yolo/train/images/015pZ7AGeriz9oNy0lp6gw_1.jpg: ignoring corrupt image/label: image size (17, 8) <10 pixels\n",
      "\u001b[34m\u001b[1mtrain: \u001b[0mWARNING ⚠️ /home/polna/Developer/final_degree_project/2d_object_detection/data/yolo/train/images/0QrG9g-WS2zIVsSH2a4XEg_7.jpg: ignoring corrupt image/label: image size (9, 20) <10 pixels\n",
      "\u001b[34m\u001b[1mtrain: \u001b[0mWARNING ⚠️ /home/polna/Developer/final_degree_project/2d_object_detection/data/yolo/train/images/0QrG9g-WS2zIVsSH2a4XEg_9.jpg: ignoring corrupt image/label: image size (9, 18) <10 pixels\n",
      "\u001b[34m\u001b[1mtrain: \u001b[0mWARNING ⚠️ /home/polna/Developer/final_degree_project/2d_object_detection/data/yolo/train/images/0QrG9g-WS2zIVsSH2a4XEg_aug_1.jpg: ignoring corrupt image/label: image size (9, 18) <10 pixels\n",
      "\u001b[34m\u001b[1mtrain: \u001b[0mWARNING ⚠️ /home/polna/Developer/final_degree_project/2d_object_detection/data/yolo/train/images/0QrG9g-WS2zIVsSH2a4XEg_aug_2.jpg: ignoring corrupt image/label: image size (9, 18) <10 pixels\n",
      "\u001b[34m\u001b[1mtrain: \u001b[0mWARNING ⚠️ /home/polna/Developer/final_degree_project/2d_object_detection/data/yolo/train/images/0QrG9g-WS2zIVsSH2a4XEg_aug_3.jpg: ignoring corrupt image/label: image size (9, 18) <10 pixels\n",
      "\u001b[34m\u001b[1mtrain: \u001b[0mWARNING ⚠️ /home/polna/Developer/final_degree_project/2d_object_detection/data/yolo/train/images/0QrG9g-WS2zIVsSH2a4XEg_aug_6.jpg: ignoring corrupt image/label: image size (9, 18) <10 pixels\n",
      "\u001b[34m\u001b[1mtrain: \u001b[0mWARNING ⚠️ /home/polna/Developer/final_degree_project/2d_object_detection/data/yolo/train/images/0QrG9g-WS2zIVsSH2a4XEg_aug_7.jpg: ignoring corrupt image/label: image size (9, 18) <10 pixels\n",
      "\u001b[34m\u001b[1mtrain: \u001b[0mWARNING ⚠️ /home/polna/Developer/final_degree_project/2d_object_detection/data/yolo/train/images/0VicR3k1zRavUqIrcvx81A_1.jpg: ignoring corrupt image/label: image size (11, 9) <10 pixels\n",
      "\u001b[34m\u001b[1mtrain: \u001b[0mWARNING ⚠️ /home/polna/Developer/final_degree_project/2d_object_detection/data/yolo/train/images/1p4A-J8LxnTIFqPGCNEw9A_aug_0.jpg: ignoring corrupt image/label: image size (7, 22) <10 pixels\n",
      "\u001b[34m\u001b[1mtrain: \u001b[0mWARNING ⚠️ /home/polna/Developer/final_degree_project/2d_object_detection/data/yolo/train/images/1p4A-J8LxnTIFqPGCNEw9A_aug_3.jpg: ignoring corrupt image/label: image size (7, 22) <10 pixels\n",
      "\u001b[34m\u001b[1mtrain: \u001b[0mWARNING ⚠️ /home/polna/Developer/final_degree_project/2d_object_detection/data/yolo/train/images/1p4A-J8LxnTIFqPGCNEw9A_aug_4.jpg: ignoring corrupt image/label: image size (7, 22) <10 pixels\n",
      "\u001b[34m\u001b[1mtrain: \u001b[0mWARNING ⚠️ /home/polna/Developer/final_degree_project/2d_object_detection/data/yolo/train/images/1pkKhVIteoX57YHjlUZlEg_8.jpg: ignoring corrupt image/label: image size (8, 7) <10 pixels\n",
      "\u001b[34m\u001b[1mtrain: \u001b[0mWARNING ⚠️ /home/polna/Developer/final_degree_project/2d_object_detection/data/yolo/train/images/1pkKhVIteoX57YHjlUZlEg_9.jpg: ignoring corrupt image/label: image size (9, 7) <10 pixels\n",
      "\u001b[34m\u001b[1mtrain: \u001b[0mWARNING ⚠️ /home/polna/Developer/final_degree_project/2d_object_detection/data/yolo/train/images/1pkKhVIteoX57YHjlUZlEg_aug_3.jpg: ignoring corrupt image/label: image size (9, 7) <10 pixels\n",
      "\u001b[34m\u001b[1mtrain: \u001b[0mWARNING ⚠️ /home/polna/Developer/final_degree_project/2d_object_detection/data/yolo/train/images/1pkKhVIteoX57YHjlUZlEg_aug_4.jpg: ignoring corrupt image/label: image size (9, 7) <10 pixels\n",
      "\u001b[34m\u001b[1mtrain: \u001b[0mWARNING ⚠️ /home/polna/Developer/final_degree_project/2d_object_detection/data/yolo/train/images/1pkKhVIteoX57YHjlUZlEg_aug_5.jpg: ignoring corrupt image/label: image size (9, 7) <10 pixels\n",
      "\u001b[34m\u001b[1mtrain: \u001b[0mWARNING ⚠️ /home/polna/Developer/final_degree_project/2d_object_detection/data/yolo/train/images/1vZSeTiBH5zQMoR-19sU3Q_5.jpg: ignoring corrupt image/label: image size (9, 44) <10 pixels\n",
      "\u001b[34m\u001b[1mtrain: \u001b[0mWARNING ⚠️ /home/polna/Developer/final_degree_project/2d_object_detection/data/yolo/train/images/2GGnOw3_u3GkPJ4G6v9Ujg_7.jpg: ignoring corrupt image/label: image size (11, 8) <10 pixels\n",
      "\u001b[34m\u001b[1mtrain: \u001b[0mWARNING ⚠️ /home/polna/Developer/final_degree_project/2d_object_detection/data/yolo/train/images/3107BkD70V6x05-Vu3YQuA_2.jpg: ignoring corrupt image/label: image size (8, 19) <10 pixels\n",
      "\u001b[34m\u001b[1mtrain: \u001b[0mWARNING ⚠️ /home/polna/Developer/final_degree_project/2d_object_detection/data/yolo/train/images/39VnQn9n7L2naNBzU0fLfA_8.jpg: ignoring corrupt image/label: image size (9, 16) <10 pixels\n",
      "\u001b[34m\u001b[1mtrain: \u001b[0mWARNING ⚠️ /home/polna/Developer/final_degree_project/2d_object_detection/data/yolo/train/images/3yEpgZsnfwBw7_SexBrBPQ_9.jpg: ignoring corrupt image/label: image size (8, 9) <10 pixels\n",
      "\u001b[34m\u001b[1mtrain: \u001b[0mWARNING ⚠️ /home/polna/Developer/final_degree_project/2d_object_detection/data/yolo/train/images/3yEpgZsnfwBw7_SexBrBPQ_aug_0.jpg: ignoring corrupt image/label: image size (8, 9) <10 pixels\n",
      "\u001b[34m\u001b[1mtrain: \u001b[0mWARNING ⚠️ /home/polna/Developer/final_degree_project/2d_object_detection/data/yolo/train/images/40ET42OFiQawg-ebqJo3eA_4.jpg: ignoring corrupt image/label: image size (12, 8) <10 pixels\n",
      "\u001b[34m\u001b[1mtrain: \u001b[0mWARNING ⚠️ /home/polna/Developer/final_degree_project/2d_object_detection/data/yolo/train/images/4Rnirr6ncUu3MFrGyzBEUg_3.jpg: ignoring corrupt image/label: image size (8, 16) <10 pixels\n",
      "\u001b[34m\u001b[1mtrain: \u001b[0mWARNING ⚠️ /home/polna/Developer/final_degree_project/2d_object_detection/data/yolo/train/images/4uSg_tYFVd87eEBCk9EyJw_2.jpg: ignoring corrupt image/label: image size (10, 9) <10 pixels\n",
      "\u001b[34m\u001b[1mtrain: \u001b[0mWARNING ⚠️ /home/polna/Developer/final_degree_project/2d_object_detection/data/yolo/train/images/4uSg_tYFVd87eEBCk9EyJw_aug_0.jpg: ignoring corrupt image/label: image size (10, 9) <10 pixels\n",
      "\u001b[34m\u001b[1mtrain: \u001b[0mWARNING ⚠️ /home/polna/Developer/final_degree_project/2d_object_detection/data/yolo/train/images/4uSg_tYFVd87eEBCk9EyJw_aug_3.jpg: ignoring corrupt image/label: image size (10, 9) <10 pixels\n",
      "\u001b[34m\u001b[1mtrain: \u001b[0mWARNING ⚠️ /home/polna/Developer/final_degree_project/2d_object_detection/data/yolo/train/images/5ZmsfxIrMa6TmjFE0i-HhA_6.jpg: ignoring corrupt image/label: image size (9, 10) <10 pixels\n",
      "\u001b[34m\u001b[1mtrain: \u001b[0mWARNING ⚠️ /home/polna/Developer/final_degree_project/2d_object_detection/data/yolo/train/images/5ZmsfxIrMa6TmjFE0i-HhA_aug_1.jpg: ignoring corrupt image/label: image size (9, 10) <10 pixels\n",
      "\u001b[34m\u001b[1mtrain: \u001b[0mWARNING ⚠️ /home/polna/Developer/final_degree_project/2d_object_detection/data/yolo/train/images/5iRxqQA83H_W1qZYYCulEA_1.jpg: ignoring corrupt image/label: image size (12, 7) <10 pixels\n",
      "\u001b[34m\u001b[1mtrain: \u001b[0mWARNING ⚠️ /home/polna/Developer/final_degree_project/2d_object_detection/data/yolo/train/images/5lypeQt6nv56UMVw_xCTbg_5.jpg: ignoring corrupt image/label: image size (21, 9) <10 pixels\n",
      "\u001b[34m\u001b[1mtrain: \u001b[0mWARNING ⚠️ /home/polna/Developer/final_degree_project/2d_object_detection/data/yolo/train/images/5lypeQt6nv56UMVw_xCTbg_aug_0.jpg: ignoring corrupt image/label: image size (21, 9) <10 pixels\n",
      "\u001b[34m\u001b[1mtrain: \u001b[0mWARNING ⚠️ /home/polna/Developer/final_degree_project/2d_object_detection/data/yolo/train/images/6CorX7qpBOGAyZmSS0J-UA_10.jpg: ignoring corrupt image/label: image size (27, 9) <10 pixels\n",
      "\u001b[34m\u001b[1mtrain: \u001b[0mWARNING ⚠️ /home/polna/Developer/final_degree_project/2d_object_detection/data/yolo/train/images/6CorX7qpBOGAyZmSS0J-UA_aug_1.jpg: ignoring corrupt image/label: image size (10, 8) <10 pixels\n",
      "\u001b[34m\u001b[1mtrain: \u001b[0mWARNING ⚠️ /home/polna/Developer/final_degree_project/2d_object_detection/data/yolo/train/images/6CorX7qpBOGAyZmSS0J-UA_aug_12.jpg: ignoring corrupt image/label: image size (10, 8) <10 pixels\n",
      "\u001b[34m\u001b[1mtrain: \u001b[0mWARNING ⚠️ /home/polna/Developer/final_degree_project/2d_object_detection/data/yolo/train/images/6CorX7qpBOGAyZmSS0J-UA_aug_14.jpg: ignoring corrupt image/label: image size (10, 8) <10 pixels\n",
      "\u001b[34m\u001b[1mtrain: \u001b[0mWARNING ⚠️ /home/polna/Developer/final_degree_project/2d_object_detection/data/yolo/train/images/6CorX7qpBOGAyZmSS0J-UA_aug_15.jpg: ignoring corrupt image/label: image size (10, 8) <10 pixels\n",
      "\u001b[34m\u001b[1mtrain: \u001b[0mWARNING ⚠️ /home/polna/Developer/final_degree_project/2d_object_detection/data/yolo/train/images/6CorX7qpBOGAyZmSS0J-UA_aug_16.jpg: ignoring corrupt image/label: image size (10, 8) <10 pixels\n",
      "\u001b[34m\u001b[1mtrain: \u001b[0mWARNING ⚠️ /home/polna/Developer/final_degree_project/2d_object_detection/data/yolo/train/images/6CorX7qpBOGAyZmSS0J-UA_aug_17.jpg: ignoring corrupt image/label: image size (10, 8) <10 pixels\n",
      "\u001b[34m\u001b[1mtrain: \u001b[0mWARNING ⚠️ /home/polna/Developer/final_degree_project/2d_object_detection/data/yolo/train/images/6CorX7qpBOGAyZmSS0J-UA_aug_18.jpg: ignoring corrupt image/label: image size (10, 8) <10 pixels\n",
      "\u001b[34m\u001b[1mtrain: \u001b[0mWARNING ⚠️ /home/polna/Developer/final_degree_project/2d_object_detection/data/yolo/train/images/6CorX7qpBOGAyZmSS0J-UA_aug_19.jpg: ignoring corrupt image/label: image size (10, 8) <10 pixels\n",
      "\u001b[34m\u001b[1mtrain: \u001b[0mWARNING ⚠️ /home/polna/Developer/final_degree_project/2d_object_detection/data/yolo/train/images/6CorX7qpBOGAyZmSS0J-UA_aug_2.jpg: ignoring corrupt image/label: image size (10, 8) <10 pixels\n",
      "\u001b[34m\u001b[1mtrain: \u001b[0mWARNING ⚠️ /home/polna/Developer/final_degree_project/2d_object_detection/data/yolo/train/images/6CorX7qpBOGAyZmSS0J-UA_aug_4.jpg: ignoring corrupt image/label: image size (10, 8) <10 pixels\n",
      "\u001b[34m\u001b[1mtrain: \u001b[0mWARNING ⚠️ /home/polna/Developer/final_degree_project/2d_object_detection/data/yolo/train/images/6CorX7qpBOGAyZmSS0J-UA_aug_6.jpg: ignoring corrupt image/label: image size (10, 8) <10 pixels\n",
      "\u001b[34m\u001b[1mtrain: \u001b[0mWARNING ⚠️ /home/polna/Developer/final_degree_project/2d_object_detection/data/yolo/train/images/6CorX7qpBOGAyZmSS0J-UA_aug_7.jpg: ignoring corrupt image/label: image size (10, 8) <10 pixels\n",
      "\u001b[34m\u001b[1mtrain: \u001b[0mWARNING ⚠️ /home/polna/Developer/final_degree_project/2d_object_detection/data/yolo/train/images/6CorX7qpBOGAyZmSS0J-UA_aug_8.jpg: ignoring corrupt image/label: image size (10, 8) <10 pixels\n",
      "\u001b[34m\u001b[1mtrain: \u001b[0mWARNING ⚠️ /home/polna/Developer/final_degree_project/2d_object_detection/data/yolo/train/images/6HIko52dQiT2p_or6fsaNg_6.jpg: ignoring corrupt image/label: image size (11, 9) <10 pixels\n",
      "\u001b[34m\u001b[1mtrain: \u001b[0mWARNING ⚠️ /home/polna/Developer/final_degree_project/2d_object_detection/data/yolo/train/images/6o8_ReYeX5mydugeZE4FNA_9.jpg: ignoring corrupt image/label: image size (9, 19) <10 pixels\n",
      "\u001b[34m\u001b[1mtrain: \u001b[0mWARNING ⚠️ /home/polna/Developer/final_degree_project/2d_object_detection/data/yolo/train/images/6oAYbVJnbnUIJlHQnNgMrg_1.jpg: ignoring corrupt image/label: image size (14, 8) <10 pixels\n",
      "\u001b[34m\u001b[1mtrain: \u001b[0mWARNING ⚠️ /home/polna/Developer/final_degree_project/2d_object_detection/data/yolo/train/images/6oAYbVJnbnUIJlHQnNgMrg_aug_1.jpg: ignoring corrupt image/label: image size (14, 8) <10 pixels\n",
      "\u001b[34m\u001b[1mtrain: \u001b[0mWARNING ⚠️ /home/polna/Developer/final_degree_project/2d_object_detection/data/yolo/train/images/6oAYbVJnbnUIJlHQnNgMrg_aug_2.jpg: ignoring corrupt image/label: image size (14, 8) <10 pixels\n",
      "\u001b[34m\u001b[1mtrain: \u001b[0mWARNING ⚠️ /home/polna/Developer/final_degree_project/2d_object_detection/data/yolo/train/images/6q6bNUhuiDYY0jvffRMhOQ_5.jpg: ignoring corrupt image/label: image size (9, 13) <10 pixels\n",
      "\u001b[34m\u001b[1mtrain: \u001b[0mWARNING ⚠️ /home/polna/Developer/final_degree_project/2d_object_detection/data/yolo/train/images/72Wo9HN5dPgyniYMmzPmZw_5.jpg: ignoring corrupt image/label: image size (9, 30) <10 pixels\n",
      "\u001b[34m\u001b[1mtrain: \u001b[0mWARNING ⚠️ /home/polna/Developer/final_degree_project/2d_object_detection/data/yolo/train/images/7O-a6qQ7V_IRy7ZJ0uGYDw_5.jpg: ignoring corrupt image/label: image size (9, 17) <10 pixels\n",
      "\u001b[34m\u001b[1mtrain: \u001b[0mWARNING ⚠️ /home/polna/Developer/final_degree_project/2d_object_detection/data/yolo/train/images/7uKiEF0O89mZDBohGgUQlA_4.jpg: ignoring corrupt image/label: image size (9, 19) <10 pixels\n",
      "\u001b[34m\u001b[1mtrain: \u001b[0mWARNING ⚠️ /home/polna/Developer/final_degree_project/2d_object_detection/data/yolo/train/images/7uKiEF0O89mZDBohGgUQlA_aug_0.jpg: ignoring corrupt image/label: image size (9, 19) <10 pixels\n",
      "\u001b[34m\u001b[1mtrain: \u001b[0mWARNING ⚠️ /home/polna/Developer/final_degree_project/2d_object_detection/data/yolo/train/images/8-ZGaSJdDB9mkL93yDrVyA_8.jpg: ignoring corrupt image/label: image size (9, 17) <10 pixels\n",
      "\u001b[34m\u001b[1mtrain: \u001b[0mWARNING ⚠️ /home/polna/Developer/final_degree_project/2d_object_detection/data/yolo/train/images/8-ZGaSJdDB9mkL93yDrVyA_aug_10.jpg: ignoring corrupt image/label: image size (9, 17) <10 pixels\n",
      "\u001b[34m\u001b[1mtrain: \u001b[0mWARNING ⚠️ /home/polna/Developer/final_degree_project/2d_object_detection/data/yolo/train/images/8-ZGaSJdDB9mkL93yDrVyA_aug_11.jpg: ignoring corrupt image/label: image size (9, 17) <10 pixels\n",
      "\u001b[34m\u001b[1mtrain: \u001b[0mWARNING ⚠️ /home/polna/Developer/final_degree_project/2d_object_detection/data/yolo/train/images/8-ZGaSJdDB9mkL93yDrVyA_aug_14.jpg: ignoring corrupt image/label: image size (9, 17) <10 pixels\n",
      "\u001b[34m\u001b[1mtrain: \u001b[0mWARNING ⚠️ /home/polna/Developer/final_degree_project/2d_object_detection/data/yolo/train/images/8-ZGaSJdDB9mkL93yDrVyA_aug_2.jpg: ignoring corrupt image/label: image size (9, 17) <10 pixels\n",
      "\u001b[34m\u001b[1mtrain: \u001b[0mWARNING ⚠️ /home/polna/Developer/final_degree_project/2d_object_detection/data/yolo/train/images/8-ZGaSJdDB9mkL93yDrVyA_aug_3.jpg: ignoring corrupt image/label: image size (9, 17) <10 pixels\n",
      "\u001b[34m\u001b[1mtrain: \u001b[0mWARNING ⚠️ /home/polna/Developer/final_degree_project/2d_object_detection/data/yolo/train/images/8-ZGaSJdDB9mkL93yDrVyA_aug_5.jpg: ignoring corrupt image/label: image size (9, 17) <10 pixels\n",
      "\u001b[34m\u001b[1mtrain: \u001b[0mWARNING ⚠️ /home/polna/Developer/final_degree_project/2d_object_detection/data/yolo/train/images/8-ZGaSJdDB9mkL93yDrVyA_aug_6.jpg: ignoring corrupt image/label: image size (9, 17) <10 pixels\n",
      "\u001b[34m\u001b[1mtrain: \u001b[0mWARNING ⚠️ /home/polna/Developer/final_degree_project/2d_object_detection/data/yolo/train/images/8-ZGaSJdDB9mkL93yDrVyA_aug_7.jpg: ignoring corrupt image/label: image size (9, 17) <10 pixels\n",
      "\u001b[34m\u001b[1mtrain: \u001b[0mWARNING ⚠️ /home/polna/Developer/final_degree_project/2d_object_detection/data/yolo/train/images/8-ZGaSJdDB9mkL93yDrVyA_aug_8.jpg: ignoring corrupt image/label: image size (9, 17) <10 pixels\n",
      "\u001b[34m\u001b[1mtrain: \u001b[0mWARNING ⚠️ /home/polna/Developer/final_degree_project/2d_object_detection/data/yolo/train/images/8-ZGaSJdDB9mkL93yDrVyA_aug_9.jpg: ignoring corrupt image/label: image size (9, 17) <10 pixels\n",
      "\u001b[34m\u001b[1mtrain: \u001b[0mWARNING ⚠️ /home/polna/Developer/final_degree_project/2d_object_detection/data/yolo/train/images/AVDGN_GW7IdUIeukrUqL4w_aug_0.jpg: ignoring corrupt image/label: image size (19, 8) <10 pixels\n",
      "\u001b[34m\u001b[1mtrain: \u001b[0mWARNING ⚠️ /home/polna/Developer/final_degree_project/2d_object_detection/data/yolo/train/images/Ae4HZ65rrhJQRWb69OoUVA_9.jpg: ignoring corrupt image/label: image size (13, 9) <10 pixels\n",
      "\u001b[34m\u001b[1mtrain: \u001b[0mWARNING ⚠️ /home/polna/Developer/final_degree_project/2d_object_detection/data/yolo/train/images/Aw0PKrzsFZxU3HSjZYSKIg_12.jpg: ignoring corrupt image/label: image size (21, 9) <10 pixels\n",
      "\u001b[34m\u001b[1mtrain: \u001b[0mWARNING ⚠️ /home/polna/Developer/final_degree_project/2d_object_detection/data/yolo/train/images/BAc3Ww8oyKXf583U1BY9zw_4.jpg: ignoring corrupt image/label: image size (12, 8) <10 pixels\n",
      "\u001b[34m\u001b[1mtrain: \u001b[0mWARNING ⚠️ /home/polna/Developer/final_degree_project/2d_object_detection/data/yolo/train/images/CSgAGcQrjCOUVjpe1qhsOQ_2.jpg: ignoring corrupt image/label: image size (7, 12) <10 pixels\n",
      "\u001b[34m\u001b[1mtrain: \u001b[0mWARNING ⚠️ /home/polna/Developer/final_degree_project/2d_object_detection/data/yolo/train/images/CWZvK1UpP_TK8IeRXG2ZrQ_1.jpg: ignoring corrupt image/label: image size (35, 9) <10 pixels\n",
      "\u001b[34m\u001b[1mtrain: \u001b[0mWARNING ⚠️ /home/polna/Developer/final_degree_project/2d_object_detection/data/yolo/train/images/CYAhxiqlnf_JNnybxBD9uQ_3.jpg: ignoring corrupt image/label: image size (7, 25) <10 pixels\n",
      "\u001b[34m\u001b[1mtrain: \u001b[0mWARNING ⚠️ /home/polna/Developer/final_degree_project/2d_object_detection/data/yolo/train/images/CwUP2BE1VS4xRdkIJbV6aA_4.jpg: ignoring corrupt image/label: image size (8, 10) <10 pixels\n",
      "\u001b[34m\u001b[1mtrain: \u001b[0mWARNING ⚠️ /home/polna/Developer/final_degree_project/2d_object_detection/data/yolo/train/images/DSKuRBWfSczPZTImNiUwbg_11.jpg: ignoring corrupt image/label: image size (12, 9) <10 pixels\n",
      "\u001b[34m\u001b[1mtrain: \u001b[0mWARNING ⚠️ /home/polna/Developer/final_degree_project/2d_object_detection/data/yolo/train/images/DSKuRBWfSczPZTImNiUwbg_aug_0.jpg: ignoring corrupt image/label: image size (12, 9) <10 pixels\n",
      "\u001b[34m\u001b[1mtrain: \u001b[0mWARNING ⚠️ /home/polna/Developer/final_degree_project/2d_object_detection/data/yolo/train/images/DSKuRBWfSczPZTImNiUwbg_aug_6.jpg: ignoring corrupt image/label: image size (12, 9) <10 pixels\n",
      "\u001b[34m\u001b[1mtrain: \u001b[0mWARNING ⚠️ /home/polna/Developer/final_degree_project/2d_object_detection/data/yolo/train/images/Dyia97bqt2vpIGv_2G1jlA_5.jpg: ignoring corrupt image/label: image size (16, 9) <10 pixels\n",
      "\u001b[34m\u001b[1mtrain: \u001b[0mWARNING ⚠️ /home/polna/Developer/final_degree_project/2d_object_detection/data/yolo/train/images/ECWFK40qAJNYlVp2fFYbZg_3.jpg: ignoring corrupt image/label: image size (9, 17) <10 pixels\n",
      "\u001b[34m\u001b[1mtrain: \u001b[0mWARNING ⚠️ /home/polna/Developer/final_degree_project/2d_object_detection/data/yolo/train/images/EKxN85CD-Pd-Ahpp04MToA_3.jpg: ignoring corrupt image/label: image size (6, 10) <10 pixels\n",
      "\u001b[34m\u001b[1mtrain: \u001b[0mWARNING ⚠️ /home/polna/Developer/final_degree_project/2d_object_detection/data/yolo/train/images/EUHmk6Q3wI-EtZshCUh4nQ_2.jpg: ignoring corrupt image/label: image size (8, 19) <10 pixels\n",
      "\u001b[34m\u001b[1mtrain: \u001b[0mWARNING ⚠️ /home/polna/Developer/final_degree_project/2d_object_detection/data/yolo/train/images/EUHmk6Q3wI-EtZshCUh4nQ_aug_1.jpg: ignoring corrupt image/label: image size (8, 19) <10 pixels\n",
      "\u001b[34m\u001b[1mtrain: \u001b[0mWARNING ⚠️ /home/polna/Developer/final_degree_project/2d_object_detection/data/yolo/train/images/EVcwQM2zo2LVWuv4ALZAWg_2.jpg: ignoring corrupt image/label: image size (8, 15) <10 pixels\n",
      "\u001b[34m\u001b[1mtrain: \u001b[0mWARNING ⚠️ /home/polna/Developer/final_degree_project/2d_object_detection/data/yolo/train/images/EVcwQM2zo2LVWuv4ALZAWg_aug_1.jpg: ignoring corrupt image/label: image size (8, 15) <10 pixels\n",
      "\u001b[34m\u001b[1mtrain: \u001b[0mWARNING ⚠️ /home/polna/Developer/final_degree_project/2d_object_detection/data/yolo/train/images/EVcwQM2zo2LVWuv4ALZAWg_aug_2.jpg: ignoring corrupt image/label: image size (8, 15) <10 pixels\n",
      "\u001b[34m\u001b[1mtrain: \u001b[0mWARNING ⚠️ /home/polna/Developer/final_degree_project/2d_object_detection/data/yolo/train/images/EZsVYM5jLKw6kxsmDb0aVQ_5.jpg: ignoring corrupt image/label: image size (23, 9) <10 pixels\n",
      "\u001b[34m\u001b[1mtrain: \u001b[0mWARNING ⚠️ /home/polna/Developer/final_degree_project/2d_object_detection/data/yolo/train/images/EZsVYM5jLKw6kxsmDb0aVQ_aug_1.jpg: ignoring corrupt image/label: image size (23, 9) <10 pixels\n",
      "\u001b[34m\u001b[1mtrain: \u001b[0mWARNING ⚠️ /home/polna/Developer/final_degree_project/2d_object_detection/data/yolo/train/images/EvVXsCWQX6K5cPzt1isUuw_3.jpg: ignoring corrupt image/label: image size (8, 34) <10 pixels\n",
      "\u001b[34m\u001b[1mtrain: \u001b[0mWARNING ⚠️ /home/polna/Developer/final_degree_project/2d_object_detection/data/yolo/train/images/EvVXsCWQX6K5cPzt1isUuw_aug_1.jpg: ignoring corrupt image/label: image size (9, 32) <10 pixels\n",
      "\u001b[34m\u001b[1mtrain: \u001b[0mWARNING ⚠️ /home/polna/Developer/final_degree_project/2d_object_detection/data/yolo/train/images/F824gSGVfC-SzrFskVpkTQ_2.jpg: ignoring corrupt image/label: image size (8, 26) <10 pixels\n",
      "\u001b[34m\u001b[1mtrain: \u001b[0mWARNING ⚠️ /home/polna/Developer/final_degree_project/2d_object_detection/data/yolo/train/images/F824gSGVfC-SzrFskVpkTQ_aug_0.jpg: ignoring corrupt image/label: image size (8, 26) <10 pixels\n",
      "\u001b[34m\u001b[1mtrain: \u001b[0mWARNING ⚠️ /home/polna/Developer/final_degree_project/2d_object_detection/data/yolo/train/images/F824gSGVfC-SzrFskVpkTQ_aug_1.jpg: ignoring corrupt image/label: image size (8, 26) <10 pixels\n",
      "\u001b[34m\u001b[1mtrain: \u001b[0mWARNING ⚠️ /home/polna/Developer/final_degree_project/2d_object_detection/data/yolo/train/images/FUQuJs-52jhftJYZa0hI9g_aug_1.jpg: ignoring corrupt image/label: image size (21, 6) <10 pixels\n",
      "\u001b[34m\u001b[1mtrain: \u001b[0mWARNING ⚠️ /home/polna/Developer/final_degree_project/2d_object_detection/data/yolo/train/images/FYsxGZ2pa1P9-z5F9B_MeA_3.jpg: ignoring corrupt image/label: image size (8, 23) <10 pixels\n",
      "\u001b[34m\u001b[1mtrain: \u001b[0mWARNING ⚠️ /home/polna/Developer/final_degree_project/2d_object_detection/data/yolo/train/images/Fbd91rcjMDEVRU8Lbc2qZA_3.jpg: ignoring corrupt image/label: image size (16, 8) <10 pixels\n",
      "\u001b[34m\u001b[1mtrain: \u001b[0mWARNING ⚠️ /home/polna/Developer/final_degree_project/2d_object_detection/data/yolo/train/images/FrZS6FstVBACYOG1GZaTZQ_5.jpg: ignoring corrupt image/label: image size (8, 16) <10 pixels\n",
      "\u001b[34m\u001b[1mtrain: \u001b[0mWARNING ⚠️ /home/polna/Developer/final_degree_project/2d_object_detection/data/yolo/train/images/FrZS6FstVBACYOG1GZaTZQ_aug_0.jpg: ignoring corrupt image/label: image size (8, 16) <10 pixels\n",
      "\u001b[34m\u001b[1mtrain: \u001b[0mWARNING ⚠️ /home/polna/Developer/final_degree_project/2d_object_detection/data/yolo/train/images/FrZS6FstVBACYOG1GZaTZQ_aug_2.jpg: ignoring corrupt image/label: image size (8, 16) <10 pixels\n",
      "\u001b[34m\u001b[1mtrain: \u001b[0mWARNING ⚠️ /home/polna/Developer/final_degree_project/2d_object_detection/data/yolo/train/images/GMztM10L2vzb6JudULyTrg_10.jpg: ignoring corrupt image/label: image size (9, 8) <10 pixels\n",
      "\u001b[34m\u001b[1mtrain: \u001b[0mWARNING ⚠️ /home/polna/Developer/final_degree_project/2d_object_detection/data/yolo/train/images/GTETFix-FRUGwCO7C28o4g_10.jpg: ignoring corrupt image/label: image size (7, 32) <10 pixels\n",
      "\u001b[34m\u001b[1mtrain: \u001b[0mWARNING ⚠️ /home/polna/Developer/final_degree_project/2d_object_detection/data/yolo/train/images/GTETFix-FRUGwCO7C28o4g_6.jpg: ignoring corrupt image/label: image size (8, 23) <10 pixels\n",
      "\u001b[34m\u001b[1mtrain: \u001b[0mWARNING ⚠️ /home/polna/Developer/final_degree_project/2d_object_detection/data/yolo/train/images/GTETFix-FRUGwCO7C28o4g_aug_0.jpg: ignoring corrupt image/label: image size (8, 23) <10 pixels\n",
      "\u001b[34m\u001b[1mtrain: \u001b[0mWARNING ⚠️ /home/polna/Developer/final_degree_project/2d_object_detection/data/yolo/train/images/GTETFix-FRUGwCO7C28o4g_aug_2.jpg: ignoring corrupt image/label: image size (8, 23) <10 pixels\n",
      "\u001b[34m\u001b[1mtrain: \u001b[0mWARNING ⚠️ /home/polna/Developer/final_degree_project/2d_object_detection/data/yolo/train/images/GTETFix-FRUGwCO7C28o4g_aug_5.jpg: ignoring corrupt image/label: image size (7, 32) <10 pixels\n",
      "\u001b[34m\u001b[1mtrain: \u001b[0mWARNING ⚠️ /home/polna/Developer/final_degree_project/2d_object_detection/data/yolo/train/images/GTETFix-FRUGwCO7C28o4g_aug_6.jpg: ignoring corrupt image/label: image size (8, 23) <10 pixels\n",
      "\u001b[34m\u001b[1mtrain: \u001b[0mWARNING ⚠️ /home/polna/Developer/final_degree_project/2d_object_detection/data/yolo/train/images/GTETFix-FRUGwCO7C28o4g_aug_7.jpg: ignoring corrupt image/label: image size (8, 23) <10 pixels\n",
      "\u001b[34m\u001b[1mtrain: \u001b[0mWARNING ⚠️ /home/polna/Developer/final_degree_project/2d_object_detection/data/yolo/train/images/Goyc2idyD2z-bPVbGrx7pg_11.jpg: ignoring corrupt image/label: image size (10, 8) <10 pixels\n",
      "\u001b[34m\u001b[1mtrain: \u001b[0mWARNING ⚠️ /home/polna/Developer/final_degree_project/2d_object_detection/data/yolo/train/images/Goyc2idyD2z-bPVbGrx7pg_16.jpg: ignoring corrupt image/label: image size (10, 8) <10 pixels\n",
      "\u001b[34m\u001b[1mtrain: \u001b[0mWARNING ⚠️ /home/polna/Developer/final_degree_project/2d_object_detection/data/yolo/train/images/Goyc2idyD2z-bPVbGrx7pg_aug_3.jpg: ignoring corrupt image/label: image size (10, 8) <10 pixels\n",
      "\u001b[34m\u001b[1mtrain: \u001b[0mWARNING ⚠️ /home/polna/Developer/final_degree_project/2d_object_detection/data/yolo/train/images/GtQIpmJDZO_8AAFgpqD9mw_12.jpg: ignoring corrupt image/label: image size (12, 8) <10 pixels\n",
      "\u001b[34m\u001b[1mtrain: \u001b[0mWARNING ⚠️ /home/polna/Developer/final_degree_project/2d_object_detection/data/yolo/train/images/GtQIpmJDZO_8AAFgpqD9mw_8.jpg: ignoring corrupt image/label: image size (13, 9) <10 pixels\n",
      "\u001b[34m\u001b[1mtrain: \u001b[0mWARNING ⚠️ /home/polna/Developer/final_degree_project/2d_object_detection/data/yolo/train/images/GtQIpmJDZO_8AAFgpqD9mw_9.jpg: ignoring corrupt image/label: image size (12, 9) <10 pixels\n",
      "\u001b[34m\u001b[1mtrain: \u001b[0mWARNING ⚠️ /home/polna/Developer/final_degree_project/2d_object_detection/data/yolo/train/images/GtQIpmJDZO_8AAFgpqD9mw_aug_1.jpg: ignoring corrupt image/label: image size (12, 8) <10 pixels\n",
      "\u001b[34m\u001b[1mtrain: \u001b[0mWARNING ⚠️ /home/polna/Developer/final_degree_project/2d_object_detection/data/yolo/train/images/GtQIpmJDZO_8AAFgpqD9mw_aug_2.jpg: ignoring corrupt image/label: image size (12, 9) <10 pixels\n",
      "\u001b[34m\u001b[1mtrain: \u001b[0mWARNING ⚠️ /home/polna/Developer/final_degree_project/2d_object_detection/data/yolo/train/images/GtQIpmJDZO_8AAFgpqD9mw_aug_3.jpg: ignoring corrupt image/label: image size (13, 9) <10 pixels\n",
      "\u001b[34m\u001b[1mtrain: \u001b[0mWARNING ⚠️ /home/polna/Developer/final_degree_project/2d_object_detection/data/yolo/train/images/H8BgVzk4Rh9_qXV9ywplOg_2.jpg: ignoring corrupt image/label: image size (21, 8) <10 pixels\n",
      "\u001b[34m\u001b[1mtrain: \u001b[0mWARNING ⚠️ /home/polna/Developer/final_degree_project/2d_object_detection/data/yolo/train/images/IUyu7N2eoXNvSDCAzIKE-g_aug_0.jpg: ignoring corrupt image/label: image size (7, 28) <10 pixels\n",
      "\u001b[34m\u001b[1mtrain: \u001b[0mWARNING ⚠️ /home/polna/Developer/final_degree_project/2d_object_detection/data/yolo/train/images/IUyu7N2eoXNvSDCAzIKE-g_aug_1.jpg: ignoring corrupt image/label: image size (7, 28) <10 pixels\n",
      "\u001b[34m\u001b[1mtrain: \u001b[0mWARNING ⚠️ /home/polna/Developer/final_degree_project/2d_object_detection/data/yolo/train/images/IgvYAzr6blwjvOOGs7XWDQ_15.jpg: ignoring corrupt image/label: image size (6, 17) <10 pixels\n",
      "\u001b[34m\u001b[1mtrain: \u001b[0mWARNING ⚠️ /home/polna/Developer/final_degree_project/2d_object_detection/data/yolo/train/images/IpG4kwikfklLrmWUz5irtw_1.jpg: ignoring corrupt image/label: image size (8, 25) <10 pixels\n",
      "\u001b[34m\u001b[1mtrain: \u001b[0mWARNING ⚠️ /home/polna/Developer/final_degree_project/2d_object_detection/data/yolo/train/images/JLJh_AXG1okpsrEvwMeEIQ_4.jpg: ignoring corrupt image/label: image size (32, 9) <10 pixels\n",
      "\u001b[34m\u001b[1mtrain: \u001b[0mWARNING ⚠️ /home/polna/Developer/final_degree_project/2d_object_detection/data/yolo/train/images/Kkk-YHw-znw4PDTsDfkfNQ_0.jpg: ignoring corrupt image/label: image size (9, 16) <10 pixels\n",
      "\u001b[34m\u001b[1mtrain: \u001b[0mWARNING ⚠️ /home/polna/Developer/final_degree_project/2d_object_detection/data/yolo/train/images/Kkk-YHw-znw4PDTsDfkfNQ_16.jpg: ignoring corrupt image/label: image size (9, 17) <10 pixels\n",
      "\u001b[34m\u001b[1mtrain: \u001b[0mWARNING ⚠️ /home/polna/Developer/final_degree_project/2d_object_detection/data/yolo/train/images/Kkk-YHw-znw4PDTsDfkfNQ_aug_6.jpg: ignoring corrupt image/label: image size (9, 16) <10 pixels\n",
      "\u001b[34m\u001b[1mtrain: \u001b[0mWARNING ⚠️ /home/polna/Developer/final_degree_project/2d_object_detection/data/yolo/train/images/Kkk-YHw-znw4PDTsDfkfNQ_aug_7.jpg: ignoring corrupt image/label: image size (9, 17) <10 pixels\n",
      "\u001b[34m\u001b[1mtrain: \u001b[0mWARNING ⚠️ /home/polna/Developer/final_degree_project/2d_object_detection/data/yolo/train/images/KpzDqivaNAjil3CzseR1Og_7.jpg: ignoring corrupt image/label: image size (8, 9) <10 pixels\n",
      "\u001b[34m\u001b[1mtrain: \u001b[0mWARNING ⚠️ /home/polna/Developer/final_degree_project/2d_object_detection/data/yolo/train/images/L8KWIX51rZZazGYZysVevw_6.jpg: ignoring corrupt image/label: image size (14, 9) <10 pixels\n",
      "\u001b[34m\u001b[1mtrain: \u001b[0mWARNING ⚠️ /home/polna/Developer/final_degree_project/2d_object_detection/data/yolo/train/images/LCNmN0WN--uj2MkT2e8alg_11.jpg: ignoring corrupt image/label: image size (13, 8) <10 pixels\n",
      "\u001b[34m\u001b[1mtrain: \u001b[0mWARNING ⚠️ /home/polna/Developer/final_degree_project/2d_object_detection/data/yolo/train/images/LLgcs6rxpI_Rw-flTvMKug_5.jpg: ignoring corrupt image/label: image size (12, 8) <10 pixels\n",
      "\u001b[34m\u001b[1mtrain: \u001b[0mWARNING ⚠️ /home/polna/Developer/final_degree_project/2d_object_detection/data/yolo/train/images/LLgcs6rxpI_Rw-flTvMKug_aug_0.jpg: ignoring corrupt image/label: image size (12, 8) <10 pixels\n",
      "\u001b[34m\u001b[1mtrain: \u001b[0mWARNING ⚠️ /home/polna/Developer/final_degree_project/2d_object_detection/data/yolo/train/images/LLgcs6rxpI_Rw-flTvMKug_aug_1.jpg: ignoring corrupt image/label: image size (12, 8) <10 pixels\n",
      "\u001b[34m\u001b[1mtrain: \u001b[0mWARNING ⚠️ /home/polna/Developer/final_degree_project/2d_object_detection/data/yolo/train/images/LLgcs6rxpI_Rw-flTvMKug_aug_3.jpg: ignoring corrupt image/label: image size (12, 8) <10 pixels\n",
      "\u001b[34m\u001b[1mtrain: \u001b[0mWARNING ⚠️ /home/polna/Developer/final_degree_project/2d_object_detection/data/yolo/train/images/LUHloxkD12IrZ0deFe-YLQ_5.jpg: ignoring corrupt image/label: image size (16, 6) <10 pixels\n",
      "\u001b[34m\u001b[1mtrain: \u001b[0mWARNING ⚠️ /home/polna/Developer/final_degree_project/2d_object_detection/data/yolo/train/images/LUHloxkD12IrZ0deFe-YLQ_7.jpg: ignoring corrupt image/label: image size (19, 9) <10 pixels\n",
      "\u001b[34m\u001b[1mtrain: \u001b[0mWARNING ⚠️ /home/polna/Developer/final_degree_project/2d_object_detection/data/yolo/train/images/LhOBpYYM67G6qoHcmF-iPw_3.jpg: ignoring corrupt image/label: image size (10, 7) <10 pixels\n",
      "\u001b[34m\u001b[1mtrain: \u001b[0mWARNING ⚠️ /home/polna/Developer/final_degree_project/2d_object_detection/data/yolo/train/images/LjHuzl3NcrSWxsTCygI_GQ_3.jpg: ignoring corrupt image/label: image size (7, 15) <10 pixels\n",
      "\u001b[34m\u001b[1mtrain: \u001b[0mWARNING ⚠️ /home/polna/Developer/final_degree_project/2d_object_detection/data/yolo/train/images/LjHuzl3NcrSWxsTCygI_GQ_aug_0.jpg: ignoring corrupt image/label: image size (7, 15) <10 pixels\n",
      "\u001b[34m\u001b[1mtrain: \u001b[0mWARNING ⚠️ /home/polna/Developer/final_degree_project/2d_object_detection/data/yolo/train/images/LjHuzl3NcrSWxsTCygI_GQ_aug_1.jpg: ignoring corrupt image/label: image size (7, 15) <10 pixels\n",
      "\u001b[34m\u001b[1mtrain: \u001b[0mWARNING ⚠️ /home/polna/Developer/final_degree_project/2d_object_detection/data/yolo/train/images/MR6hNkyshCXgaILIfrkL0w_8.jpg: ignoring corrupt image/label: image size (9, 14) <10 pixels\n",
      "\u001b[34m\u001b[1mtrain: \u001b[0mWARNING ⚠️ /home/polna/Developer/final_degree_project/2d_object_detection/data/yolo/train/images/MdVUJCugXGyZGwahXpR3Qw_3.jpg: ignoring corrupt image/label: image size (11, 9) <10 pixels\n",
      "\u001b[34m\u001b[1mtrain: \u001b[0mWARNING ⚠️ /home/polna/Developer/final_degree_project/2d_object_detection/data/yolo/train/images/Mte-c6_rdPNcgT9PkSZ0vw_5.jpg: ignoring corrupt image/label: image size (9, 33) <10 pixels\n",
      "\u001b[34m\u001b[1mtrain: \u001b[0mWARNING ⚠️ /home/polna/Developer/final_degree_project/2d_object_detection/data/yolo/train/images/Mte-c6_rdPNcgT9PkSZ0vw_6.jpg: ignoring corrupt image/label: image size (8, 33) <10 pixels\n",
      "\u001b[34m\u001b[1mtrain: \u001b[0mWARNING ⚠️ /home/polna/Developer/final_degree_project/2d_object_detection/data/yolo/train/images/Mte-c6_rdPNcgT9PkSZ0vw_aug_1.jpg: ignoring corrupt image/label: image size (9, 33) <10 pixels\n",
      "\u001b[34m\u001b[1mtrain: \u001b[0mWARNING ⚠️ /home/polna/Developer/final_degree_project/2d_object_detection/data/yolo/train/images/NBCssvM83okEIPwKV_zQ1g_12.jpg: ignoring corrupt image/label: image size (8, 10) <10 pixels\n",
      "\u001b[34m\u001b[1mtrain: \u001b[0mWARNING ⚠️ /home/polna/Developer/final_degree_project/2d_object_detection/data/yolo/train/images/NBCssvM83okEIPwKV_zQ1g_aug_0.jpg: ignoring corrupt image/label: image size (8, 10) <10 pixels\n",
      "\u001b[34m\u001b[1mtrain: \u001b[0mWARNING ⚠️ /home/polna/Developer/final_degree_project/2d_object_detection/data/yolo/train/images/NBCssvM83okEIPwKV_zQ1g_aug_1.jpg: ignoring corrupt image/label: image size (8, 10) <10 pixels\n",
      "\u001b[34m\u001b[1mtrain: \u001b[0mWARNING ⚠️ /home/polna/Developer/final_degree_project/2d_object_detection/data/yolo/train/images/NBCssvM83okEIPwKV_zQ1g_aug_2.jpg: ignoring corrupt image/label: image size (8, 10) <10 pixels\n",
      "\u001b[34m\u001b[1mtrain: \u001b[0mWARNING ⚠️ /home/polna/Developer/final_degree_project/2d_object_detection/data/yolo/train/images/NNA3XUX-RHUC4xE8fOy1vQ_3.jpg: ignoring corrupt image/label: image size (25, 8) <10 pixels\n",
      "\u001b[34m\u001b[1mtrain: \u001b[0mWARNING ⚠️ /home/polna/Developer/final_degree_project/2d_object_detection/data/yolo/train/images/Nei_GlvWTu5jSscyIHT5Hw_0.jpg: ignoring corrupt image/label: image size (8, 23) <10 pixels\n",
      "\u001b[34m\u001b[1mtrain: \u001b[0mWARNING ⚠️ /home/polna/Developer/final_degree_project/2d_object_detection/data/yolo/train/images/Nei_GlvWTu5jSscyIHT5Hw_4.jpg: ignoring corrupt image/label: image size (9, 24) <10 pixels\n",
      "\u001b[34m\u001b[1mtrain: \u001b[0mWARNING ⚠️ /home/polna/Developer/final_degree_project/2d_object_detection/data/yolo/train/images/Notm5Sa0-wklI5S4jbi-AA_3.jpg: ignoring corrupt image/label: image size (8, 16) <10 pixels\n",
      "\u001b[34m\u001b[1mtrain: \u001b[0mWARNING ⚠️ /home/polna/Developer/final_degree_project/2d_object_detection/data/yolo/train/images/O-w4uLIa5YOAkAoNMK6X3A_6.jpg: ignoring corrupt image/label: image size (31, 8) <10 pixels\n",
      "\u001b[34m\u001b[1mtrain: \u001b[0mWARNING ⚠️ /home/polna/Developer/final_degree_project/2d_object_detection/data/yolo/train/images/O5d3Ww7syIx0kHJ-jBi9mA_5.jpg: ignoring corrupt image/label: image size (24, 8) <10 pixels\n",
      "\u001b[34m\u001b[1mtrain: \u001b[0mWARNING ⚠️ /home/polna/Developer/final_degree_project/2d_object_detection/data/yolo/train/images/O5d3Ww7syIx0kHJ-jBi9mA_aug_0.jpg: ignoring corrupt image/label: image size (24, 8) <10 pixels\n",
      "\u001b[34m\u001b[1mtrain: \u001b[0mWARNING ⚠️ /home/polna/Developer/final_degree_project/2d_object_detection/data/yolo/train/images/OGmV5x9RKEIioTxpLdTsnA_aug_10.jpg: ignoring corrupt image/label: image size (9, 28) <10 pixels\n",
      "\u001b[34m\u001b[1mtrain: \u001b[0mWARNING ⚠️ /home/polna/Developer/final_degree_project/2d_object_detection/data/yolo/train/images/OGmV5x9RKEIioTxpLdTsnA_aug_11.jpg: ignoring corrupt image/label: image size (9, 28) <10 pixels\n",
      "\u001b[34m\u001b[1mtrain: \u001b[0mWARNING ⚠️ /home/polna/Developer/final_degree_project/2d_object_detection/data/yolo/train/images/OGmV5x9RKEIioTxpLdTsnA_aug_12.jpg: ignoring corrupt image/label: image size (9, 28) <10 pixels\n",
      "\u001b[34m\u001b[1mtrain: \u001b[0mWARNING ⚠️ /home/polna/Developer/final_degree_project/2d_object_detection/data/yolo/train/images/OGmV5x9RKEIioTxpLdTsnA_aug_13.jpg: ignoring corrupt image/label: image size (9, 28) <10 pixels\n",
      "\u001b[34m\u001b[1mtrain: \u001b[0mWARNING ⚠️ /home/polna/Developer/final_degree_project/2d_object_detection/data/yolo/train/images/OXQ0d1XsZd1prUcck6Fz4A_12.jpg: ignoring corrupt image/label: image size (11, 8) <10 pixels\n",
      "\u001b[34m\u001b[1mtrain: \u001b[0mWARNING ⚠️ /home/polna/Developer/final_degree_project/2d_object_detection/data/yolo/train/images/OXQ0d1XsZd1prUcck6Fz4A_aug_1.jpg: ignoring corrupt image/label: image size (11, 8) <10 pixels\n",
      "\u001b[34m\u001b[1mtrain: \u001b[0mWARNING ⚠️ /home/polna/Developer/final_degree_project/2d_object_detection/data/yolo/train/images/OoA9h0JUsa3cLAZG9HPzxg_aug_1.jpg: ignoring corrupt image/label: image size (8, 19) <10 pixels\n",
      "\u001b[34m\u001b[1mtrain: \u001b[0mWARNING ⚠️ /home/polna/Developer/final_degree_project/2d_object_detection/data/yolo/train/images/Oz1AJz_cPoKTKtQ3RX3hVw_2.jpg: ignoring corrupt image/label: image size (11, 8) <10 pixels\n",
      "\u001b[34m\u001b[1mtrain: \u001b[0mWARNING ⚠️ /home/polna/Developer/final_degree_project/2d_object_detection/data/yolo/train/images/P66DJzVuc3F7vOAcWxSx9Q_9.jpg: ignoring corrupt image/label: image size (7, 28) <10 pixels\n",
      "\u001b[34m\u001b[1mtrain: \u001b[0mWARNING ⚠️ /home/polna/Developer/final_degree_project/2d_object_detection/data/yolo/train/images/P66DJzVuc3F7vOAcWxSx9Q_aug_1.jpg: ignoring corrupt image/label: image size (7, 28) <10 pixels\n",
      "\u001b[34m\u001b[1mtrain: \u001b[0mWARNING ⚠️ /home/polna/Developer/final_degree_project/2d_object_detection/data/yolo/train/images/P66DJzVuc3F7vOAcWxSx9Q_aug_2.jpg: ignoring corrupt image/label: image size (7, 28) <10 pixels\n",
      "\u001b[34m\u001b[1mtrain: \u001b[0mWARNING ⚠️ /home/polna/Developer/final_degree_project/2d_object_detection/data/yolo/train/images/P66DJzVuc3F7vOAcWxSx9Q_aug_3.jpg: ignoring corrupt image/label: image size (7, 28) <10 pixels\n",
      "\u001b[34m\u001b[1mtrain: \u001b[0mWARNING ⚠️ /home/polna/Developer/final_degree_project/2d_object_detection/data/yolo/train/images/PP2ADVHrPkn6lcLn3iwEfA_3.jpg: ignoring corrupt image/label: image size (33, 9) <10 pixels\n",
      "\u001b[34m\u001b[1mtrain: \u001b[0mWARNING ⚠️ /home/polna/Developer/final_degree_project/2d_object_detection/data/yolo/train/images/PYK_eMBfsmJD7nHjvK2_Cg_2.jpg: ignoring corrupt image/label: image size (27, 9) <10 pixels\n",
      "\u001b[34m\u001b[1mtrain: \u001b[0mWARNING ⚠️ /home/polna/Developer/final_degree_project/2d_object_detection/data/yolo/train/images/PovlHn5dmFOsQX95f5krGA_4.jpg: ignoring corrupt image/label: image size (9, 14) <10 pixels\n",
      "\u001b[34m\u001b[1mtrain: \u001b[0mWARNING ⚠️ /home/polna/Developer/final_degree_project/2d_object_detection/data/yolo/train/images/PovlHn5dmFOsQX95f5krGA_aug_0.jpg: ignoring corrupt image/label: image size (9, 14) <10 pixels\n",
      "\u001b[34m\u001b[1mtrain: \u001b[0mWARNING ⚠️ /home/polna/Developer/final_degree_project/2d_object_detection/data/yolo/train/images/Q-pq3RVx6FA9l1fl9bn51A_7.jpg: ignoring corrupt image/label: image size (12, 9) <10 pixels\n",
      "\u001b[34m\u001b[1mtrain: \u001b[0mWARNING ⚠️ /home/polna/Developer/final_degree_project/2d_object_detection/data/yolo/train/images/Q-pq3RVx6FA9l1fl9bn51A_aug_0.jpg: ignoring corrupt image/label: image size (12, 9) <10 pixels\n",
      "\u001b[34m\u001b[1mtrain: \u001b[0mWARNING ⚠️ /home/polna/Developer/final_degree_project/2d_object_detection/data/yolo/train/images/QL4ZP4VHdI-MRcupL136Iw_5.jpg: ignoring corrupt image/label: image size (8, 15) <10 pixels\n",
      "\u001b[34m\u001b[1mtrain: \u001b[0mWARNING ⚠️ /home/polna/Developer/final_degree_project/2d_object_detection/data/yolo/train/images/QL4ZP4VHdI-MRcupL136Iw_aug_0.jpg: ignoring corrupt image/label: image size (8, 15) <10 pixels\n",
      "\u001b[34m\u001b[1mtrain: \u001b[0mWARNING ⚠️ /home/polna/Developer/final_degree_project/2d_object_detection/data/yolo/train/images/QQDR_1glaUL_mNIaxDJiKg_7.jpg: ignoring corrupt image/label: image size (9, 17) <10 pixels\n",
      "\u001b[34m\u001b[1mtrain: \u001b[0mWARNING ⚠️ /home/polna/Developer/final_degree_project/2d_object_detection/data/yolo/train/images/QgdE-gCQkHYP3KnomyjSug_3.jpg: ignoring corrupt image/label: image size (11, 8) <10 pixels\n",
      "\u001b[34m\u001b[1mtrain: \u001b[0mWARNING ⚠️ /home/polna/Developer/final_degree_project/2d_object_detection/data/yolo/train/images/QiABOmH4SwJGg4WO4VYfyA_4.jpg: ignoring corrupt image/label: image size (9, 5) <10 pixels\n",
      "\u001b[34m\u001b[1mtrain: \u001b[0mWARNING ⚠️ /home/polna/Developer/final_degree_project/2d_object_detection/data/yolo/train/images/QtjQcZygBKmLupsn9XL5_Q_4.jpg: ignoring corrupt image/label: image size (8, 20) <10 pixels\n",
      "\u001b[34m\u001b[1mtrain: \u001b[0mWARNING ⚠️ /home/polna/Developer/final_degree_project/2d_object_detection/data/yolo/train/images/QxMCNzxVib4ZBD8KJNMzFQ_2.jpg: ignoring corrupt image/label: image size (10, 9) <10 pixels\n",
      "\u001b[34m\u001b[1mtrain: \u001b[0mWARNING ⚠️ /home/polna/Developer/final_degree_project/2d_object_detection/data/yolo/train/images/QxMCNzxVib4ZBD8KJNMzFQ_aug_0.jpg: ignoring corrupt image/label: image size (10, 9) <10 pixels\n",
      "\u001b[34m\u001b[1mtrain: \u001b[0mWARNING ⚠️ /home/polna/Developer/final_degree_project/2d_object_detection/data/yolo/train/images/QxMCNzxVib4ZBD8KJNMzFQ_aug_1.jpg: ignoring corrupt image/label: image size (10, 9) <10 pixels\n",
      "\u001b[34m\u001b[1mtrain: \u001b[0mWARNING ⚠️ /home/polna/Developer/final_degree_project/2d_object_detection/data/yolo/train/images/QxMCNzxVib4ZBD8KJNMzFQ_aug_3.jpg: ignoring corrupt image/label: image size (10, 9) <10 pixels\n",
      "\u001b[34m\u001b[1mtrain: \u001b[0mWARNING ⚠️ /home/polna/Developer/final_degree_project/2d_object_detection/data/yolo/train/images/QxMCNzxVib4ZBD8KJNMzFQ_aug_6.jpg: ignoring corrupt image/label: image size (10, 9) <10 pixels\n",
      "\u001b[34m\u001b[1mtrain: \u001b[0mWARNING ⚠️ /home/polna/Developer/final_degree_project/2d_object_detection/data/yolo/train/images/R8NPd_AqMkycp0sqklEckg_2.jpg: ignoring corrupt image/label: image size (8, 7) <10 pixels\n",
      "\u001b[34m\u001b[1mtrain: \u001b[0mWARNING ⚠️ /home/polna/Developer/final_degree_project/2d_object_detection/data/yolo/train/images/RY7zLrAUQ2hHehEognmSAA_5.jpg: ignoring corrupt image/label: image size (9, 6) <10 pixels\n",
      "\u001b[34m\u001b[1mtrain: \u001b[0mWARNING ⚠️ /home/polna/Developer/final_degree_project/2d_object_detection/data/yolo/train/images/RY7zLrAUQ2hHehEognmSAA_aug_0.jpg: ignoring corrupt image/label: image size (9, 6) <10 pixels\n",
      "\u001b[34m\u001b[1mtrain: \u001b[0mWARNING ⚠️ /home/polna/Developer/final_degree_project/2d_object_detection/data/yolo/train/images/RiqIc1HcssydtLmn8VLM1A_12.jpg: ignoring corrupt image/label: image size (9, 18) <10 pixels\n",
      "\u001b[34m\u001b[1mtrain: \u001b[0mWARNING ⚠️ /home/polna/Developer/final_degree_project/2d_object_detection/data/yolo/train/images/RiqIc1HcssydtLmn8VLM1A_aug_3.jpg: ignoring corrupt image/label: image size (9, 18) <10 pixels\n",
      "\u001b[34m\u001b[1mtrain: \u001b[0mWARNING ⚠️ /home/polna/Developer/final_degree_project/2d_object_detection/data/yolo/train/images/RiqIc1HcssydtLmn8VLM1A_aug_4.jpg: ignoring corrupt image/label: image size (9, 18) <10 pixels\n",
      "\u001b[34m\u001b[1mtrain: \u001b[0mWARNING ⚠️ /home/polna/Developer/final_degree_project/2d_object_detection/data/yolo/train/images/RnIkSnHTH4b3cAo0IWExKg_5.jpg: ignoring corrupt image/label: image size (9, 9) <10 pixels\n",
      "\u001b[34m\u001b[1mtrain: \u001b[0mWARNING ⚠️ /home/polna/Developer/final_degree_project/2d_object_detection/data/yolo/train/images/RnIkSnHTH4b3cAo0IWExKg_aug_0.jpg: ignoring corrupt image/label: image size (9, 9) <10 pixels\n",
      "\u001b[34m\u001b[1mtrain: \u001b[0mWARNING ⚠️ /home/polna/Developer/final_degree_project/2d_object_detection/data/yolo/train/images/RnIkSnHTH4b3cAo0IWExKg_aug_1.jpg: ignoring corrupt image/label: image size (9, 9) <10 pixels\n",
      "\u001b[34m\u001b[1mtrain: \u001b[0mWARNING ⚠️ /home/polna/Developer/final_degree_project/2d_object_detection/data/yolo/train/images/RnIkSnHTH4b3cAo0IWExKg_aug_2.jpg: ignoring corrupt image/label: image size (9, 9) <10 pixels\n",
      "\u001b[34m\u001b[1mtrain: \u001b[0mWARNING ⚠️ /home/polna/Developer/final_degree_project/2d_object_detection/data/yolo/train/images/RnIkSnHTH4b3cAo0IWExKg_aug_3.jpg: ignoring corrupt image/label: image size (9, 9) <10 pixels\n",
      "\u001b[34m\u001b[1mtrain: \u001b[0mWARNING ⚠️ /home/polna/Developer/final_degree_project/2d_object_detection/data/yolo/train/images/RrNTWNe8ymKUiOdfFsEmlA_7.jpg: ignoring corrupt image/label: image size (13, 7) <10 pixels\n",
      "\u001b[34m\u001b[1mtrain: \u001b[0mWARNING ⚠️ /home/polna/Developer/final_degree_project/2d_object_detection/data/yolo/train/images/RrNTWNe8ymKUiOdfFsEmlA_aug_10.jpg: ignoring corrupt image/label: image size (13, 7) <10 pixels\n",
      "\u001b[34m\u001b[1mtrain: \u001b[0mWARNING ⚠️ /home/polna/Developer/final_degree_project/2d_object_detection/data/yolo/train/images/RrNTWNe8ymKUiOdfFsEmlA_aug_11.jpg: ignoring corrupt image/label: image size (13, 7) <10 pixels\n",
      "\u001b[34m\u001b[1mtrain: \u001b[0mWARNING ⚠️ /home/polna/Developer/final_degree_project/2d_object_detection/data/yolo/train/images/RrNTWNe8ymKUiOdfFsEmlA_aug_8.jpg: ignoring corrupt image/label: image size (13, 7) <10 pixels\n",
      "\u001b[34m\u001b[1mtrain: \u001b[0mWARNING ⚠️ /home/polna/Developer/final_degree_project/2d_object_detection/data/yolo/train/images/RrNTWNe8ymKUiOdfFsEmlA_aug_9.jpg: ignoring corrupt image/label: image size (13, 7) <10 pixels\n",
      "\u001b[34m\u001b[1mtrain: \u001b[0mWARNING ⚠️ /home/polna/Developer/final_degree_project/2d_object_detection/data/yolo/train/images/RwlyEntwxUuMTya9RBtXBQ_aug_0.jpg: ignoring corrupt image/label: image size (9, 29) <10 pixels\n",
      "\u001b[34m\u001b[1mtrain: \u001b[0mWARNING ⚠️ /home/polna/Developer/final_degree_project/2d_object_detection/data/yolo/train/images/RwlyEntwxUuMTya9RBtXBQ_aug_1.jpg: ignoring corrupt image/label: image size (9, 29) <10 pixels\n",
      "\u001b[34m\u001b[1mtrain: \u001b[0mWARNING ⚠️ /home/polna/Developer/final_degree_project/2d_object_detection/data/yolo/train/images/S5NEaNj14lYGRRRarwJQLg_3.jpg: ignoring corrupt image/label: image size (16, 9) <10 pixels\n",
      "\u001b[34m\u001b[1mtrain: \u001b[0mWARNING ⚠️ /home/polna/Developer/final_degree_project/2d_object_detection/data/yolo/train/images/S5NEaNj14lYGRRRarwJQLg_5.jpg: ignoring corrupt image/label: image size (9, 7) <10 pixels\n",
      "\u001b[34m\u001b[1mtrain: \u001b[0mWARNING ⚠️ /home/polna/Developer/final_degree_project/2d_object_detection/data/yolo/train/images/S7W7IjVo9QYC28gX-JYaOQ_aug_0.jpg: ignoring corrupt image/label: image size (9, 18) <10 pixels\n",
      "\u001b[34m\u001b[1mtrain: \u001b[0mWARNING ⚠️ /home/polna/Developer/final_degree_project/2d_object_detection/data/yolo/train/images/T18E4AsRszWFlwnEEZVUQw_11.jpg: ignoring corrupt image/label: image size (9, 15) <10 pixels\n",
      "\u001b[34m\u001b[1mtrain: \u001b[0mWARNING ⚠️ /home/polna/Developer/final_degree_project/2d_object_detection/data/yolo/train/images/T18E4AsRszWFlwnEEZVUQw_6.jpg: ignoring corrupt image/label: image size (9, 18) <10 pixels\n",
      "\u001b[34m\u001b[1mtrain: \u001b[0mWARNING ⚠️ /home/polna/Developer/final_degree_project/2d_object_detection/data/yolo/train/images/T18E4AsRszWFlwnEEZVUQw_aug_5.jpg: ignoring corrupt image/label: image size (9, 18) <10 pixels\n",
      "\u001b[34m\u001b[1mtrain: \u001b[0mWARNING ⚠️ /home/polna/Developer/final_degree_project/2d_object_detection/data/yolo/train/images/T18E4AsRszWFlwnEEZVUQw_aug_7.jpg: ignoring corrupt image/label: image size (9, 18) <10 pixels\n",
      "\u001b[34m\u001b[1mtrain: \u001b[0mWARNING ⚠️ /home/polna/Developer/final_degree_project/2d_object_detection/data/yolo/train/images/T18E4AsRszWFlwnEEZVUQw_aug_8.jpg: ignoring corrupt image/label: image size (9, 18) <10 pixels\n",
      "\u001b[34m\u001b[1mtrain: \u001b[0mWARNING ⚠️ /home/polna/Developer/final_degree_project/2d_object_detection/data/yolo/train/images/T8NoWhIGWaeCuj0tbOOOUA_3.jpg: ignoring corrupt image/label: image size (10, 6) <10 pixels\n",
      "\u001b[34m\u001b[1mtrain: \u001b[0mWARNING ⚠️ /home/polna/Developer/final_degree_project/2d_object_detection/data/yolo/train/images/T8kgXYbo2WDu-olXmRweyw_11.jpg: ignoring corrupt image/label: image size (8, 19) <10 pixels\n",
      "\u001b[34m\u001b[1mtrain: \u001b[0mWARNING ⚠️ /home/polna/Developer/final_degree_project/2d_object_detection/data/yolo/train/images/T8kgXYbo2WDu-olXmRweyw_aug_2.jpg: ignoring corrupt image/label: image size (8, 19) <10 pixels\n",
      "\u001b[34m\u001b[1mtrain: \u001b[0mWARNING ⚠️ /home/polna/Developer/final_degree_project/2d_object_detection/data/yolo/train/images/TE6ovTxVCriEvTuybNO0Zw_4.jpg: ignoring corrupt image/label: image size (8, 16) <10 pixels\n",
      "\u001b[34m\u001b[1mtrain: \u001b[0mWARNING ⚠️ /home/polna/Developer/final_degree_project/2d_object_detection/data/yolo/train/images/THn6V-R59uHRVDgqhmmjFg_3.jpg: ignoring corrupt image/label: image size (12, 9) <10 pixels\n",
      "\u001b[34m\u001b[1mtrain: \u001b[0mWARNING ⚠️ /home/polna/Developer/final_degree_project/2d_object_detection/data/yolo/train/images/TJUIXt09_hHsUYH2zKZPzA_4.jpg: ignoring corrupt image/label: image size (9, 12) <10 pixels\n",
      "\u001b[34m\u001b[1mtrain: \u001b[0mWARNING ⚠️ /home/polna/Developer/final_degree_project/2d_object_detection/data/yolo/train/images/TJUIXt09_hHsUYH2zKZPzA_aug_2.jpg: ignoring corrupt image/label: image size (9, 12) <10 pixels\n",
      "\u001b[34m\u001b[1mtrain: \u001b[0mWARNING ⚠️ /home/polna/Developer/final_degree_project/2d_object_detection/data/yolo/train/images/TOF-v-cjjQZc60BfgtQeog_18.jpg: ignoring corrupt image/label: image size (21, 8) <10 pixels\n",
      "\u001b[34m\u001b[1mtrain: \u001b[0mWARNING ⚠️ /home/polna/Developer/final_degree_project/2d_object_detection/data/yolo/train/images/TPlG7MR1QFIJBFAnq9mYgQ_2.jpg: ignoring corrupt image/label: image size (6, 19) <10 pixels\n",
      "\u001b[34m\u001b[1mtrain: \u001b[0mWARNING ⚠️ /home/polna/Developer/final_degree_project/2d_object_detection/data/yolo/train/images/TcI68eflSxQtdCSJKxAc-A_11.jpg: ignoring corrupt image/label: image size (9, 10) <10 pixels\n",
      "\u001b[34m\u001b[1mtrain: \u001b[0mWARNING ⚠️ /home/polna/Developer/final_degree_project/2d_object_detection/data/yolo/train/images/TqLkAjrij5Gm7X75YHOpyA_1.jpg: ignoring corrupt image/label: image size (25, 9) <10 pixels\n",
      "\u001b[34m\u001b[1mtrain: \u001b[0mWARNING ⚠️ /home/polna/Developer/final_degree_project/2d_object_detection/data/yolo/train/images/U-qHATWPQvpjJa9UbQGCuw_5.jpg: ignoring corrupt image/label: image size (8, 19) <10 pixels\n",
      "\u001b[34m\u001b[1mtrain: \u001b[0mWARNING ⚠️ /home/polna/Developer/final_degree_project/2d_object_detection/data/yolo/train/images/U2VQKXuS3l_2b337tbyE3A_11.jpg: ignoring corrupt image/label: image size (9, 24) <10 pixels\n",
      "\u001b[34m\u001b[1mtrain: \u001b[0mWARNING ⚠️ /home/polna/Developer/final_degree_project/2d_object_detection/data/yolo/train/images/U2VQKXuS3l_2b337tbyE3A_aug_1.jpg: ignoring corrupt image/label: image size (9, 24) <10 pixels\n",
      "\u001b[34m\u001b[1mtrain: \u001b[0mWARNING ⚠️ /home/polna/Developer/final_degree_project/2d_object_detection/data/yolo/train/images/U2VQKXuS3l_2b337tbyE3A_aug_3.jpg: ignoring corrupt image/label: image size (9, 24) <10 pixels\n",
      "\u001b[34m\u001b[1mtrain: \u001b[0mWARNING ⚠️ /home/polna/Developer/final_degree_project/2d_object_detection/data/yolo/train/images/UWnThAsVi7uMzu3HezYGUw_1.jpg: ignoring corrupt image/label: image size (8, 22) <10 pixels\n",
      "\u001b[34m\u001b[1mtrain: \u001b[0mWARNING ⚠️ /home/polna/Developer/final_degree_project/2d_object_detection/data/yolo/train/images/UWnThAsVi7uMzu3HezYGUw_aug_0.jpg: ignoring corrupt image/label: image size (8, 22) <10 pixels\n",
      "\u001b[34m\u001b[1mtrain: \u001b[0mWARNING ⚠️ /home/polna/Developer/final_degree_project/2d_object_detection/data/yolo/train/images/UtsP4Kr629oOYpSZV8sHIQ_9.jpg: ignoring corrupt image/label: image size (9, 7) <10 pixels\n",
      "\u001b[34m\u001b[1mtrain: \u001b[0mWARNING ⚠️ /home/polna/Developer/final_degree_project/2d_object_detection/data/yolo/train/images/V7giIxNbVN1fX03IyAphzQ_18.jpg: ignoring corrupt image/label: image size (9, 30) <10 pixels\n",
      "\u001b[34m\u001b[1mtrain: \u001b[0mWARNING ⚠️ /home/polna/Developer/final_degree_project/2d_object_detection/data/yolo/train/images/VmykNkhWhrGSSNi9fKWZJQ_4.jpg: ignoring corrupt image/label: image size (18, 8) <10 pixels\n",
      "\u001b[34m\u001b[1mtrain: \u001b[0mWARNING ⚠️ /home/polna/Developer/final_degree_project/2d_object_detection/data/yolo/train/images/W7fl11iKsMFHGRBjW_kDyg_3.jpg: ignoring corrupt image/label: image size (13, 8) <10 pixels\n",
      "\u001b[34m\u001b[1mtrain: \u001b[0mWARNING ⚠️ /home/polna/Developer/final_degree_project/2d_object_detection/data/yolo/train/images/WC0b0RXsJG3upfRyHmhb_g_3.jpg: ignoring corrupt image/label: image size (16, 7) <10 pixels\n",
      "\u001b[34m\u001b[1mtrain: \u001b[0mWARNING ⚠️ /home/polna/Developer/final_degree_project/2d_object_detection/data/yolo/train/images/WC0b0RXsJG3upfRyHmhb_g_aug_0.jpg: ignoring corrupt image/label: image size (16, 7) <10 pixels\n",
      "\u001b[34m\u001b[1mtrain: \u001b[0mWARNING ⚠️ /home/polna/Developer/final_degree_project/2d_object_detection/data/yolo/train/images/WGkKcsr1z8Jk0pNesj0PPw_aug_0.jpg: ignoring corrupt image/label: image size (9, 22) <10 pixels\n",
      "\u001b[34m\u001b[1mtrain: \u001b[0mWARNING ⚠️ /home/polna/Developer/final_degree_project/2d_object_detection/data/yolo/train/images/WQI8f6cHCkr8TcD5VCG0NA_9.jpg: ignoring corrupt image/label: image size (8, 7) <10 pixels\n",
      "\u001b[34m\u001b[1mtrain: \u001b[0mWARNING ⚠️ /home/polna/Developer/final_degree_project/2d_object_detection/data/yolo/train/images/WWIePcLqBwXL43sp6WFeow_2.jpg: ignoring corrupt image/label: image size (30, 7) <10 pixels\n",
      "\u001b[34m\u001b[1mtrain: \u001b[0mWARNING ⚠️ /home/polna/Developer/final_degree_project/2d_object_detection/data/yolo/train/images/Wk3cnVrSK4GVLPYlt2D61Q_5.jpg: ignoring corrupt image/label: image size (9, 15) <10 pixels\n",
      "\u001b[34m\u001b[1mtrain: \u001b[0mWARNING ⚠️ /home/polna/Developer/final_degree_project/2d_object_detection/data/yolo/train/images/Wk3cnVrSK4GVLPYlt2D61Q_aug_1.jpg: ignoring corrupt image/label: image size (9, 15) <10 pixels\n",
      "\u001b[34m\u001b[1mtrain: \u001b[0mWARNING ⚠️ /home/polna/Developer/final_degree_project/2d_object_detection/data/yolo/train/images/Wk3cnVrSK4GVLPYlt2D61Q_aug_2.jpg: ignoring corrupt image/label: image size (9, 15) <10 pixels\n",
      "\u001b[34m\u001b[1mtrain: \u001b[0mWARNING ⚠️ /home/polna/Developer/final_degree_project/2d_object_detection/data/yolo/train/images/X6kEwkNWQac67ZwSPpXFXw_6.jpg: ignoring corrupt image/label: image size (17, 9) <10 pixels\n",
      "\u001b[34m\u001b[1mtrain: \u001b[0mWARNING ⚠️ /home/polna/Developer/final_degree_project/2d_object_detection/data/yolo/train/images/Xh2Z4m35fYpeHNdctI_wvA_3.jpg: ignoring corrupt image/label: image size (9, 13) <10 pixels\n",
      "\u001b[34m\u001b[1mtrain: \u001b[0mWARNING ⚠️ /home/polna/Developer/final_degree_project/2d_object_detection/data/yolo/train/images/Xh2Z4m35fYpeHNdctI_wvA_aug_10.jpg: ignoring corrupt image/label: image size (9, 13) <10 pixels\n",
      "\u001b[34m\u001b[1mtrain: \u001b[0mWARNING ⚠️ /home/polna/Developer/final_degree_project/2d_object_detection/data/yolo/train/images/Xh2Z4m35fYpeHNdctI_wvA_aug_12.jpg: ignoring corrupt image/label: image size (9, 13) <10 pixels\n",
      "\u001b[34m\u001b[1mtrain: \u001b[0mWARNING ⚠️ /home/polna/Developer/final_degree_project/2d_object_detection/data/yolo/train/images/Xs5XtpTkoZQYCJwXK3N2TQ_9.jpg: ignoring corrupt image/label: image size (8, 17) <10 pixels\n",
      "\u001b[34m\u001b[1mtrain: \u001b[0mWARNING ⚠️ /home/polna/Developer/final_degree_project/2d_object_detection/data/yolo/train/images/Xs5XtpTkoZQYCJwXK3N2TQ_aug_13.jpg: ignoring corrupt image/label: image size (8, 17) <10 pixels\n",
      "\u001b[34m\u001b[1mtrain: \u001b[0mWARNING ⚠️ /home/polna/Developer/final_degree_project/2d_object_detection/data/yolo/train/images/Xs5XtpTkoZQYCJwXK3N2TQ_aug_15.jpg: ignoring corrupt image/label: image size (8, 17) <10 pixels\n",
      "\u001b[34m\u001b[1mtrain: \u001b[0mWARNING ⚠️ /home/polna/Developer/final_degree_project/2d_object_detection/data/yolo/train/images/Xs5XtpTkoZQYCJwXK3N2TQ_aug_16.jpg: ignoring corrupt image/label: image size (8, 17) <10 pixels\n",
      "\u001b[34m\u001b[1mtrain: \u001b[0mWARNING ⚠️ /home/polna/Developer/final_degree_project/2d_object_detection/data/yolo/train/images/Xs5XtpTkoZQYCJwXK3N2TQ_aug_18.jpg: ignoring corrupt image/label: image size (8, 17) <10 pixels\n",
      "\u001b[34m\u001b[1mtrain: \u001b[0mWARNING ⚠️ /home/polna/Developer/final_degree_project/2d_object_detection/data/yolo/train/images/Xs5XtpTkoZQYCJwXK3N2TQ_aug_22.jpg: ignoring corrupt image/label: image size (8, 17) <10 pixels\n",
      "\u001b[34m\u001b[1mtrain: \u001b[0mWARNING ⚠️ /home/polna/Developer/final_degree_project/2d_object_detection/data/yolo/train/images/Xs5XtpTkoZQYCJwXK3N2TQ_aug_23.jpg: ignoring corrupt image/label: image size (8, 17) <10 pixels\n",
      "\u001b[34m\u001b[1mtrain: \u001b[0mWARNING ⚠️ /home/polna/Developer/final_degree_project/2d_object_detection/data/yolo/train/images/Xs5XtpTkoZQYCJwXK3N2TQ_aug_25.jpg: ignoring corrupt image/label: image size (8, 17) <10 pixels\n",
      "\u001b[34m\u001b[1mtrain: \u001b[0mWARNING ⚠️ /home/polna/Developer/final_degree_project/2d_object_detection/data/yolo/train/images/Y1H4oOvZID2tk8EZiaiQuQ_17.jpg: ignoring corrupt image/label: image size (33, 8) <10 pixels\n",
      "\u001b[34m\u001b[1mtrain: \u001b[0mWARNING ⚠️ /home/polna/Developer/final_degree_project/2d_object_detection/data/yolo/train/images/Y1H4oOvZID2tk8EZiaiQuQ_aug_6.jpg: ignoring corrupt image/label: image size (33, 8) <10 pixels\n",
      "\u001b[34m\u001b[1mtrain: \u001b[0mWARNING ⚠️ /home/polna/Developer/final_degree_project/2d_object_detection/data/yolo/train/images/Y1H4oOvZID2tk8EZiaiQuQ_aug_8.jpg: ignoring corrupt image/label: image size (33, 8) <10 pixels\n",
      "\u001b[34m\u001b[1mtrain: \u001b[0mWARNING ⚠️ /home/polna/Developer/final_degree_project/2d_object_detection/data/yolo/train/images/Y1H4oOvZID2tk8EZiaiQuQ_aug_9.jpg: ignoring corrupt image/label: image size (33, 8) <10 pixels\n",
      "\u001b[34m\u001b[1mtrain: \u001b[0mWARNING ⚠️ /home/polna/Developer/final_degree_project/2d_object_detection/data/yolo/train/images/YDISBQdb_iv9a3rkVb7_MA_6.jpg: ignoring corrupt image/label: image size (9, 18) <10 pixels\n",
      "\u001b[34m\u001b[1mtrain: \u001b[0mWARNING ⚠️ /home/polna/Developer/final_degree_project/2d_object_detection/data/yolo/train/images/YLo7HIvZ0SxpwecZUGDuMA_4.jpg: ignoring corrupt image/label: image size (7, 17) <10 pixels\n",
      "\u001b[34m\u001b[1mtrain: \u001b[0mWARNING ⚠️ /home/polna/Developer/final_degree_project/2d_object_detection/data/yolo/train/images/Yg-AWC9PMDokIqyXpg7ZxQ_8.jpg: ignoring corrupt image/label: image size (17, 9) <10 pixels\n",
      "\u001b[34m\u001b[1mtrain: \u001b[0mWARNING ⚠️ /home/polna/Developer/final_degree_project/2d_object_detection/data/yolo/train/images/YoI05mYzkPTs2y3rqgIpcg_7.jpg: ignoring corrupt image/label: image size (9, 16) <10 pixels\n",
      "\u001b[34m\u001b[1mtrain: \u001b[0mWARNING ⚠️ /home/polna/Developer/final_degree_project/2d_object_detection/data/yolo/train/images/YoI05mYzkPTs2y3rqgIpcg_aug_0.jpg: ignoring corrupt image/label: image size (9, 16) <10 pixels\n",
      "\u001b[34m\u001b[1mtrain: \u001b[0mWARNING ⚠️ /home/polna/Developer/final_degree_project/2d_object_detection/data/yolo/train/images/YoI05mYzkPTs2y3rqgIpcg_aug_1.jpg: ignoring corrupt image/label: image size (9, 16) <10 pixels\n",
      "\u001b[34m\u001b[1mtrain: \u001b[0mWARNING ⚠️ /home/polna/Developer/final_degree_project/2d_object_detection/data/yolo/train/images/Z89dut8oLyIgOO3gUPBXrA_4.jpg: ignoring corrupt image/label: image size (10, 7) <10 pixels\n",
      "\u001b[34m\u001b[1mtrain: \u001b[0mWARNING ⚠️ /home/polna/Developer/final_degree_project/2d_object_detection/data/yolo/train/images/ZEivG_BasBq_FKx15z7ZlA_1.jpg: ignoring corrupt image/label: image size (8, 36) <10 pixels\n",
      "\u001b[34m\u001b[1mtrain: \u001b[0mWARNING ⚠️ /home/polna/Developer/final_degree_project/2d_object_detection/data/yolo/train/images/ZEivG_BasBq_FKx15z7ZlA_aug_0.jpg: ignoring corrupt image/label: image size (8, 36) <10 pixels\n",
      "\u001b[34m\u001b[1mtrain: \u001b[0mWARNING ⚠️ /home/polna/Developer/final_degree_project/2d_object_detection/data/yolo/train/images/ZEm64iUIrVd8i-8SuB12Dg_0.jpg: ignoring corrupt image/label: image size (10, 9) <10 pixels\n",
      "\u001b[34m\u001b[1mtrain: \u001b[0mWARNING ⚠️ /home/polna/Developer/final_degree_project/2d_object_detection/data/yolo/train/images/ZFv_V23khgGWlZJm-OarkQ_4.jpg: ignoring corrupt image/label: image size (9, 7) <10 pixels\n",
      "\u001b[34m\u001b[1mtrain: \u001b[0mWARNING ⚠️ /home/polna/Developer/final_degree_project/2d_object_detection/data/yolo/train/images/ZGCxVJJOUn_1iPr8AjVCqw_3.jpg: ignoring corrupt image/label: image size (9, 27) <10 pixels\n",
      "\u001b[34m\u001b[1mtrain: \u001b[0mWARNING ⚠️ /home/polna/Developer/final_degree_project/2d_object_detection/data/yolo/train/images/ZGCxVJJOUn_1iPr8AjVCqw_aug_0.jpg: ignoring corrupt image/label: image size (9, 27) <10 pixels\n",
      "\u001b[34m\u001b[1mtrain: \u001b[0mWARNING ⚠️ /home/polna/Developer/final_degree_project/2d_object_detection/data/yolo/train/images/ZXfynolZGW3qZv30akUaIw_10.jpg: ignoring corrupt image/label: image size (9, 37) <10 pixels\n",
      "\u001b[34m\u001b[1mtrain: \u001b[0mWARNING ⚠️ /home/polna/Developer/final_degree_project/2d_object_detection/data/yolo/train/images/ZXfynolZGW3qZv30akUaIw_aug_1.jpg: ignoring corrupt image/label: image size (9, 37) <10 pixels\n",
      "\u001b[34m\u001b[1mtrain: \u001b[0mWARNING ⚠️ /home/polna/Developer/final_degree_project/2d_object_detection/data/yolo/train/images/ZXfynolZGW3qZv30akUaIw_aug_2.jpg: ignoring corrupt image/label: image size (9, 37) <10 pixels\n",
      "\u001b[34m\u001b[1mtrain: \u001b[0mWARNING ⚠️ /home/polna/Developer/final_degree_project/2d_object_detection/data/yolo/train/images/Zkax4zUOygdIocbie2EOOA_aug_2.jpg: ignoring corrupt image/label: image size (9, 19) <10 pixels\n",
      "\u001b[34m\u001b[1mtrain: \u001b[0mWARNING ⚠️ /home/polna/Developer/final_degree_project/2d_object_detection/data/yolo/train/images/Zkax4zUOygdIocbie2EOOA_aug_4.jpg: ignoring corrupt image/label: image size (9, 19) <10 pixels\n",
      "\u001b[34m\u001b[1mtrain: \u001b[0mWARNING ⚠️ /home/polna/Developer/final_degree_project/2d_object_detection/data/yolo/train/images/Zkax4zUOygdIocbie2EOOA_aug_5.jpg: ignoring corrupt image/label: image size (9, 19) <10 pixels\n",
      "\u001b[34m\u001b[1mtrain: \u001b[0mWARNING ⚠️ /home/polna/Developer/final_degree_project/2d_object_detection/data/yolo/train/images/_M2TiU92N9MXUyWEBWFcpQ_3.jpg: ignoring corrupt image/label: image size (9, 7) <10 pixels\n",
      "\u001b[34m\u001b[1mtrain: \u001b[0mWARNING ⚠️ /home/polna/Developer/final_degree_project/2d_object_detection/data/yolo/train/images/_kvZyv1eH-nFzAWwcCekyg_8.jpg: ignoring corrupt image/label: image size (19, 9) <10 pixels\n",
      "\u001b[34m\u001b[1mtrain: \u001b[0mWARNING ⚠️ /home/polna/Developer/final_degree_project/2d_object_detection/data/yolo/train/images/_kvZyv1eH-nFzAWwcCekyg_aug_10.jpg: ignoring corrupt image/label: image size (19, 9) <10 pixels\n",
      "\u001b[34m\u001b[1mtrain: \u001b[0mWARNING ⚠️ /home/polna/Developer/final_degree_project/2d_object_detection/data/yolo/train/images/_kvZyv1eH-nFzAWwcCekyg_aug_4.jpg: ignoring corrupt image/label: image size (19, 9) <10 pixels\n",
      "\u001b[34m\u001b[1mtrain: \u001b[0mWARNING ⚠️ /home/polna/Developer/final_degree_project/2d_object_detection/data/yolo/train/images/_kvZyv1eH-nFzAWwcCekyg_aug_5.jpg: ignoring corrupt image/label: image size (19, 9) <10 pixels\n",
      "\u001b[34m\u001b[1mtrain: \u001b[0mWARNING ⚠️ /home/polna/Developer/final_degree_project/2d_object_detection/data/yolo/train/images/_kvZyv1eH-nFzAWwcCekyg_aug_6.jpg: ignoring corrupt image/label: image size (19, 9) <10 pixels\n",
      "\u001b[34m\u001b[1mtrain: \u001b[0mWARNING ⚠️ /home/polna/Developer/final_degree_project/2d_object_detection/data/yolo/train/images/_kvZyv1eH-nFzAWwcCekyg_aug_7.jpg: ignoring corrupt image/label: image size (19, 9) <10 pixels\n",
      "\u001b[34m\u001b[1mtrain: \u001b[0mWARNING ⚠️ /home/polna/Developer/final_degree_project/2d_object_detection/data/yolo/train/images/_kvZyv1eH-nFzAWwcCekyg_aug_8.jpg: ignoring corrupt image/label: image size (19, 9) <10 pixels\n",
      "\u001b[34m\u001b[1mtrain: \u001b[0mWARNING ⚠️ /home/polna/Developer/final_degree_project/2d_object_detection/data/yolo/train/images/_kvZyv1eH-nFzAWwcCekyg_aug_9.jpg: ignoring corrupt image/label: image size (19, 9) <10 pixels\n",
      "\u001b[34m\u001b[1mtrain: \u001b[0mWARNING ⚠️ /home/polna/Developer/final_degree_project/2d_object_detection/data/yolo/train/images/aFI3xcpA7sMVdblSZJnwSw_11.jpg: ignoring corrupt image/label: image size (8, 8) <10 pixels\n",
      "\u001b[34m\u001b[1mtrain: \u001b[0mWARNING ⚠️ /home/polna/Developer/final_degree_project/2d_object_detection/data/yolo/train/images/aFI3xcpA7sMVdblSZJnwSw_aug_10.jpg: ignoring corrupt image/label: image size (8, 8) <10 pixels\n",
      "\u001b[34m\u001b[1mtrain: \u001b[0mWARNING ⚠️ /home/polna/Developer/final_degree_project/2d_object_detection/data/yolo/train/images/aFI3xcpA7sMVdblSZJnwSw_aug_9.jpg: ignoring corrupt image/label: image size (8, 8) <10 pixels\n",
      "\u001b[34m\u001b[1mtrain: \u001b[0mWARNING ⚠️ /home/polna/Developer/final_degree_project/2d_object_detection/data/yolo/train/images/aFOUGoY8S_hxfpegBgYqvQ_10.jpg: ignoring corrupt image/label: image size (23, 7) <10 pixels\n",
      "\u001b[34m\u001b[1mtrain: \u001b[0mWARNING ⚠️ /home/polna/Developer/final_degree_project/2d_object_detection/data/yolo/train/images/aFOUGoY8S_hxfpegBgYqvQ_11.jpg: ignoring corrupt image/label: image size (32, 9) <10 pixels\n",
      "\u001b[34m\u001b[1mtrain: \u001b[0mWARNING ⚠️ /home/polna/Developer/final_degree_project/2d_object_detection/data/yolo/train/images/aFOUGoY8S_hxfpegBgYqvQ_aug_0.jpg: ignoring corrupt image/label: image size (23, 7) <10 pixels\n",
      "\u001b[34m\u001b[1mtrain: \u001b[0mWARNING ⚠️ /home/polna/Developer/final_degree_project/2d_object_detection/data/yolo/train/images/aFOUGoY8S_hxfpegBgYqvQ_aug_1.jpg: ignoring corrupt image/label: image size (32, 9) <10 pixels\n",
      "\u001b[34m\u001b[1mtrain: \u001b[0mWARNING ⚠️ /home/polna/Developer/final_degree_project/2d_object_detection/data/yolo/train/images/aGNeydIkWztOdPNpf5OJ8g_8.jpg: ignoring corrupt image/label: image size (14, 9) <10 pixels\n",
      "\u001b[34m\u001b[1mtrain: \u001b[0mWARNING ⚠️ /home/polna/Developer/final_degree_project/2d_object_detection/data/yolo/train/images/aGNeydIkWztOdPNpf5OJ8g_aug_0.jpg: ignoring corrupt image/label: image size (14, 9) <10 pixels\n",
      "\u001b[34m\u001b[1mtrain: \u001b[0mWARNING ⚠️ /home/polna/Developer/final_degree_project/2d_object_detection/data/yolo/train/images/bRLP8zEHB8WniNOUN8q_Mg_19.jpg: ignoring corrupt image/label: image size (9, 27) <10 pixels\n",
      "\u001b[34m\u001b[1mtrain: \u001b[0mWARNING ⚠️ /home/polna/Developer/final_degree_project/2d_object_detection/data/yolo/train/images/bRLP8zEHB8WniNOUN8q_Mg_20.jpg: ignoring corrupt image/label: image size (9, 22) <10 pixels\n",
      "\u001b[34m\u001b[1mtrain: \u001b[0mWARNING ⚠️ /home/polna/Developer/final_degree_project/2d_object_detection/data/yolo/train/images/bRLP8zEHB8WniNOUN8q_Mg_6.jpg: ignoring corrupt image/label: image size (8, 20) <10 pixels\n",
      "\u001b[34m\u001b[1mtrain: \u001b[0mWARNING ⚠️ /home/polna/Developer/final_degree_project/2d_object_detection/data/yolo/train/images/bRLP8zEHB8WniNOUN8q_Mg_aug_3.jpg: ignoring corrupt image/label: image size (9, 22) <10 pixels\n",
      "\u001b[34m\u001b[1mtrain: \u001b[0mWARNING ⚠️ /home/polna/Developer/final_degree_project/2d_object_detection/data/yolo/train/images/bRLP8zEHB8WniNOUN8q_Mg_aug_4.jpg: ignoring corrupt image/label: image size (9, 27) <10 pixels\n",
      "\u001b[34m\u001b[1mtrain: \u001b[0mWARNING ⚠️ /home/polna/Developer/final_degree_project/2d_object_detection/data/yolo/train/images/bRLP8zEHB8WniNOUN8q_Mg_aug_5.jpg: ignoring corrupt image/label: image size (9, 22) <10 pixels\n",
      "\u001b[34m\u001b[1mtrain: \u001b[0mWARNING ⚠️ /home/polna/Developer/final_degree_project/2d_object_detection/data/yolo/train/images/byJr4JctlP7bDFtyWRm8jQ_3.jpg: ignoring corrupt image/label: image size (9, 19) <10 pixels\n",
      "\u001b[34m\u001b[1mtrain: \u001b[0mWARNING ⚠️ /home/polna/Developer/final_degree_project/2d_object_detection/data/yolo/train/images/c3ndjD6bIqSaIGl9Ga1CMA_aug_1.jpg: ignoring corrupt image/label: image size (27, 8) <10 pixels\n",
      "\u001b[34m\u001b[1mtrain: \u001b[0mWARNING ⚠️ /home/polna/Developer/final_degree_project/2d_object_detection/data/yolo/train/images/c3ndjD6bIqSaIGl9Ga1CMA_aug_2.jpg: ignoring corrupt image/label: image size (27, 8) <10 pixels\n",
      "\u001b[34m\u001b[1mtrain: \u001b[0mWARNING ⚠️ /home/polna/Developer/final_degree_project/2d_object_detection/data/yolo/train/images/c3ndjD6bIqSaIGl9Ga1CMA_aug_3.jpg: ignoring corrupt image/label: image size (27, 8) <10 pixels\n",
      "\u001b[34m\u001b[1mtrain: \u001b[0mWARNING ⚠️ /home/polna/Developer/final_degree_project/2d_object_detection/data/yolo/train/images/c3ndjD6bIqSaIGl9Ga1CMA_aug_4.jpg: ignoring corrupt image/label: image size (27, 8) <10 pixels\n",
      "\u001b[34m\u001b[1mtrain: \u001b[0mWARNING ⚠️ /home/polna/Developer/final_degree_project/2d_object_detection/data/yolo/train/images/cFMTkd2_ofTOLHipxTWkvg_8.jpg: ignoring corrupt image/label: image size (9, 12) <10 pixels\n",
      "\u001b[34m\u001b[1mtrain: \u001b[0mWARNING ⚠️ /home/polna/Developer/final_degree_project/2d_object_detection/data/yolo/train/images/cH1BuTHLk9mOrhc-Sc8JqQ_aug_0.jpg: ignoring corrupt image/label: image size (8, 29) <10 pixels\n",
      "\u001b[34m\u001b[1mtrain: \u001b[0mWARNING ⚠️ /home/polna/Developer/final_degree_project/2d_object_detection/data/yolo/train/images/dG_EWtUh_mfLnDRWqvDGDg_4.jpg: ignoring corrupt image/label: image size (32, 8) <10 pixels\n",
      "\u001b[34m\u001b[1mtrain: \u001b[0mWARNING ⚠️ /home/polna/Developer/final_degree_project/2d_object_detection/data/yolo/train/images/dSyDP9UUIHEo_Ifo2Sv66g_4.jpg: ignoring corrupt image/label: image size (6, 7) <10 pixels\n",
      "\u001b[34m\u001b[1mtrain: \u001b[0mWARNING ⚠️ /home/polna/Developer/final_degree_project/2d_object_detection/data/yolo/train/images/dUDIugVz37qFHoSXe_oZHA_20.jpg: ignoring corrupt image/label: image size (9, 9) <10 pixels\n",
      "\u001b[34m\u001b[1mtrain: \u001b[0mWARNING ⚠️ /home/polna/Developer/final_degree_project/2d_object_detection/data/yolo/train/images/dfIQDmKbrR7Oi5WEjYyf8g_aug_0.jpg: ignoring corrupt image/label: image size (9, 29) <10 pixels\n",
      "\u001b[34m\u001b[1mtrain: \u001b[0mWARNING ⚠️ /home/polna/Developer/final_degree_project/2d_object_detection/data/yolo/train/images/dkkJDwRESBsqxr1Y9voWQw_3.jpg: ignoring corrupt image/label: image size (12, 9) <10 pixels\n",
      "\u001b[34m\u001b[1mtrain: \u001b[0mWARNING ⚠️ /home/polna/Developer/final_degree_project/2d_object_detection/data/yolo/train/images/dyZrYL0aJUWsS489PJ0xFw_5.jpg: ignoring corrupt image/label: image size (9, 18) <10 pixels\n",
      "\u001b[34m\u001b[1mtrain: \u001b[0mWARNING ⚠️ /home/polna/Developer/final_degree_project/2d_object_detection/data/yolo/train/images/e3lESQSSRRf3VfUlE3l9Fw_2.jpg: ignoring corrupt image/label: image size (10, 8) <10 pixels\n",
      "\u001b[34m\u001b[1mtrain: \u001b[0mWARNING ⚠️ /home/polna/Developer/final_degree_project/2d_object_detection/data/yolo/train/images/eO8G54CbNUWGP1vr6SsaQQ_3.jpg: ignoring corrupt image/label: image size (36, 9) <10 pixels\n",
      "\u001b[34m\u001b[1mtrain: \u001b[0mWARNING ⚠️ /home/polna/Developer/final_degree_project/2d_object_detection/data/yolo/train/images/eO8G54CbNUWGP1vr6SsaQQ_aug_0.jpg: ignoring corrupt image/label: image size (36, 9) <10 pixels\n",
      "\u001b[34m\u001b[1mtrain: \u001b[0mWARNING ⚠️ /home/polna/Developer/final_degree_project/2d_object_detection/data/yolo/train/images/eeGUDvJ6A21IgChpDu_JEQ_3.jpg: ignoring corrupt image/label: image size (7, 22) <10 pixels\n",
      "\u001b[34m\u001b[1mtrain: \u001b[0mWARNING ⚠️ /home/polna/Developer/final_degree_project/2d_object_detection/data/yolo/train/images/elZ4pS1vIFW0GZ4Os08nLA_12.jpg: ignoring corrupt image/label: image size (16, 9) <10 pixels\n",
      "\u001b[34m\u001b[1mtrain: \u001b[0mWARNING ⚠️ /home/polna/Developer/final_degree_project/2d_object_detection/data/yolo/train/images/elrvMkQXYNMcirag-giWzA_1.jpg: ignoring corrupt image/label: image size (8, 15) <10 pixels\n",
      "\u001b[34m\u001b[1mtrain: \u001b[0mWARNING ⚠️ /home/polna/Developer/final_degree_project/2d_object_detection/data/yolo/train/images/fvLthEXcesV_uXc626PnvQ_3.jpg: ignoring corrupt image/label: image size (8, 13) <10 pixels\n",
      "\u001b[34m\u001b[1mtrain: \u001b[0mWARNING ⚠️ /home/polna/Developer/final_degree_project/2d_object_detection/data/yolo/train/images/fvLthEXcesV_uXc626PnvQ_8.jpg: ignoring corrupt image/label: image size (9, 11) <10 pixels\n",
      "\u001b[34m\u001b[1mtrain: \u001b[0mWARNING ⚠️ /home/polna/Developer/final_degree_project/2d_object_detection/data/yolo/train/images/fvLthEXcesV_uXc626PnvQ_aug_2.jpg: ignoring corrupt image/label: image size (9, 11) <10 pixels\n",
      "\u001b[34m\u001b[1mtrain: \u001b[0mWARNING ⚠️ /home/polna/Developer/final_degree_project/2d_object_detection/data/yolo/train/images/fvLthEXcesV_uXc626PnvQ_aug_4.jpg: ignoring corrupt image/label: image size (9, 11) <10 pixels\n",
      "\u001b[34m\u001b[1mtrain: \u001b[0mWARNING ⚠️ /home/polna/Developer/final_degree_project/2d_object_detection/data/yolo/train/images/fvLthEXcesV_uXc626PnvQ_aug_5.jpg: ignoring corrupt image/label: image size (9, 11) <10 pixels\n",
      "\u001b[34m\u001b[1mtrain: \u001b[0mWARNING ⚠️ /home/polna/Developer/final_degree_project/2d_object_detection/data/yolo/train/images/fvLthEXcesV_uXc626PnvQ_aug_6.jpg: ignoring corrupt image/label: image size (9, 11) <10 pixels\n",
      "\u001b[34m\u001b[1mtrain: \u001b[0mWARNING ⚠️ /home/polna/Developer/final_degree_project/2d_object_detection/data/yolo/train/images/gKECvQ5YohFUhyxOnpUjTQ_4.jpg: ignoring corrupt image/label: image size (8, 14) <10 pixels\n",
      "\u001b[34m\u001b[1mtrain: \u001b[0mWARNING ⚠️ /home/polna/Developer/final_degree_project/2d_object_detection/data/yolo/train/images/gn4eJIXv3OvPHr_LiBb2cA_3.jpg: ignoring corrupt image/label: image size (19, 6) <10 pixels\n",
      "\u001b[34m\u001b[1mtrain: \u001b[0mWARNING ⚠️ /home/polna/Developer/final_degree_project/2d_object_detection/data/yolo/train/images/gn4eJIXv3OvPHr_LiBb2cA_5.jpg: ignoring corrupt image/label: image size (18, 6) <10 pixels\n",
      "\u001b[34m\u001b[1mtrain: \u001b[0mWARNING ⚠️ /home/polna/Developer/final_degree_project/2d_object_detection/data/yolo/train/images/hCN8lJkLemuV7UnL-1YWjA_5.jpg: ignoring corrupt image/label: image size (8, 23) <10 pixels\n",
      "\u001b[34m\u001b[1mtrain: \u001b[0mWARNING ⚠️ /home/polna/Developer/final_degree_project/2d_object_detection/data/yolo/train/images/hCN8lJkLemuV7UnL-1YWjA_aug_1.jpg: ignoring corrupt image/label: image size (8, 23) <10 pixels\n",
      "\u001b[34m\u001b[1mtrain: \u001b[0mWARNING ⚠️ /home/polna/Developer/final_degree_project/2d_object_detection/data/yolo/train/images/hL5oeiMGpWMETctg7sIa1w_8.jpg: ignoring corrupt image/label: image size (10, 7) <10 pixels\n",
      "\u001b[34m\u001b[1mtrain: \u001b[0mWARNING ⚠️ /home/polna/Developer/final_degree_project/2d_object_detection/data/yolo/train/images/hOyXKhFuzmp5Y7mdZRTEJw_5.jpg: ignoring corrupt image/label: image size (13, 9) <10 pixels\n",
      "\u001b[34m\u001b[1mtrain: \u001b[0mWARNING ⚠️ /home/polna/Developer/final_degree_project/2d_object_detection/data/yolo/train/images/hQ3ODk4BxpGTutVNALYQZQ_aug_0.jpg: ignoring corrupt image/label: image size (13, 9) <10 pixels\n",
      "\u001b[34m\u001b[1mtrain: \u001b[0mWARNING ⚠️ /home/polna/Developer/final_degree_project/2d_object_detection/data/yolo/train/images/hcuiBUdQXmGt-haY-YzGRw_5.jpg: ignoring corrupt image/label: image size (35, 9) <10 pixels\n",
      "\u001b[34m\u001b[1mtrain: \u001b[0mWARNING ⚠️ /home/polna/Developer/final_degree_project/2d_object_detection/data/yolo/train/images/hhpmZJ1t4pCQNNW4qPAlng_1.jpg: ignoring corrupt image/label: image size (9, 38) <10 pixels\n",
      "\u001b[34m\u001b[1mtrain: \u001b[0mWARNING ⚠️ /home/polna/Developer/final_degree_project/2d_object_detection/data/yolo/train/images/hhpmZJ1t4pCQNNW4qPAlng_aug_0.jpg: ignoring corrupt image/label: image size (9, 38) <10 pixels\n",
      "\u001b[34m\u001b[1mtrain: \u001b[0mWARNING ⚠️ /home/polna/Developer/final_degree_project/2d_object_detection/data/yolo/train/images/hsatZB4M1EQ1ban-TAuj0w_2.jpg: ignoring corrupt image/label: image size (6, 15) <10 pixels\n",
      "\u001b[34m\u001b[1mtrain: \u001b[0mWARNING ⚠️ /home/polna/Developer/final_degree_project/2d_object_detection/data/yolo/train/images/i2mCWB6xKWHhcrHxYSpOLg_5.jpg: ignoring corrupt image/label: image size (8, 10) <10 pixels\n",
      "\u001b[34m\u001b[1mtrain: \u001b[0mWARNING ⚠️ /home/polna/Developer/final_degree_project/2d_object_detection/data/yolo/train/images/iYLPxmiwSDzZsLshwS-50g_2.jpg: ignoring corrupt image/label: image size (9, 7) <10 pixels\n",
      "\u001b[34m\u001b[1mtrain: \u001b[0mWARNING ⚠️ /home/polna/Developer/final_degree_project/2d_object_detection/data/yolo/train/images/iia9j9FJ5uOhwUZHLvL4DQ_2.jpg: ignoring corrupt image/label: image size (22, 9) <10 pixels\n",
      "\u001b[34m\u001b[1mtrain: \u001b[0mWARNING ⚠️ /home/polna/Developer/final_degree_project/2d_object_detection/data/yolo/train/images/ikShNyzmP3LLIX4zgElDZw_3.jpg: ignoring corrupt image/label: image size (9, 34) <10 pixels\n",
      "\u001b[34m\u001b[1mtrain: \u001b[0mWARNING ⚠️ /home/polna/Developer/final_degree_project/2d_object_detection/data/yolo/train/images/j6CGFVO4iy77n8zJcGABQA_2.jpg: ignoring corrupt image/label: image size (22, 9) <10 pixels\n",
      "\u001b[34m\u001b[1mtrain: \u001b[0mWARNING ⚠️ /home/polna/Developer/final_degree_project/2d_object_detection/data/yolo/train/images/j8lafYCD2uTZKY7IT84h8Q_0.jpg: ignoring corrupt image/label: image size (9, 22) <10 pixels\n",
      "\u001b[34m\u001b[1mtrain: \u001b[0mWARNING ⚠️ /home/polna/Developer/final_degree_project/2d_object_detection/data/yolo/train/images/j8lafYCD2uTZKY7IT84h8Q_aug_0.jpg: ignoring corrupt image/label: image size (8, 23) <10 pixels\n",
      "\u001b[34m\u001b[1mtrain: \u001b[0mWARNING ⚠️ /home/polna/Developer/final_degree_project/2d_object_detection/data/yolo/train/images/j8lafYCD2uTZKY7IT84h8Q_aug_1.jpg: ignoring corrupt image/label: image size (8, 23) <10 pixels\n",
      "\u001b[34m\u001b[1mtrain: \u001b[0mWARNING ⚠️ /home/polna/Developer/final_degree_project/2d_object_detection/data/yolo/train/images/j8lafYCD2uTZKY7IT84h8Q_aug_2.jpg: ignoring corrupt image/label: image size (8, 23) <10 pixels\n",
      "\u001b[34m\u001b[1mtrain: \u001b[0mWARNING ⚠️ /home/polna/Developer/final_degree_project/2d_object_detection/data/yolo/train/images/jJqNjA5lqBHWXSz5kubLig_4.jpg: ignoring corrupt image/label: image size (13, 9) <10 pixels\n",
      "\u001b[34m\u001b[1mtrain: \u001b[0mWARNING ⚠️ /home/polna/Developer/final_degree_project/2d_object_detection/data/yolo/train/images/jJqNjA5lqBHWXSz5kubLig_aug_0.jpg: ignoring corrupt image/label: image size (13, 9) <10 pixels\n",
      "\u001b[34m\u001b[1mtrain: \u001b[0mWARNING ⚠️ /home/polna/Developer/final_degree_project/2d_object_detection/data/yolo/train/images/jWp09_bXkUIKCh9fSP0g7w_10.jpg: ignoring corrupt image/label: image size (8, 6) <10 pixels\n",
      "\u001b[34m\u001b[1mtrain: \u001b[0mWARNING ⚠️ /home/polna/Developer/final_degree_project/2d_object_detection/data/yolo/train/images/jWp09_bXkUIKCh9fSP0g7w_9.jpg: ignoring corrupt image/label: image size (8, 7) <10 pixels\n",
      "\u001b[34m\u001b[1mtrain: \u001b[0mWARNING ⚠️ /home/polna/Developer/final_degree_project/2d_object_detection/data/yolo/train/images/k9p_IdsxBZj8DLn_P1LGFQ_2.jpg: ignoring corrupt image/label: image size (9, 14) <10 pixels\n",
      "\u001b[34m\u001b[1mtrain: \u001b[0mWARNING ⚠️ /home/polna/Developer/final_degree_project/2d_object_detection/data/yolo/train/images/kmYF9r60Qg3upY3s_yXD7A_8.jpg: ignoring corrupt image/label: image size (24, 9) <10 pixels\n",
      "\u001b[34m\u001b[1mtrain: \u001b[0mWARNING ⚠️ /home/polna/Developer/final_degree_project/2d_object_detection/data/yolo/train/images/l8LyjlRqieDWxJsNdAiF7w_aug_0.jpg: ignoring corrupt image/label: image size (9, 14) <10 pixels\n",
      "\u001b[34m\u001b[1mtrain: \u001b[0mWARNING ⚠️ /home/polna/Developer/final_degree_project/2d_object_detection/data/yolo/train/images/l8LyjlRqieDWxJsNdAiF7w_aug_1.jpg: ignoring corrupt image/label: image size (9, 14) <10 pixels\n",
      "\u001b[34m\u001b[1mtrain: \u001b[0mWARNING ⚠️ /home/polna/Developer/final_degree_project/2d_object_detection/data/yolo/train/images/l8LyjlRqieDWxJsNdAiF7w_aug_10.jpg: ignoring corrupt image/label: image size (9, 14) <10 pixels\n",
      "\u001b[34m\u001b[1mtrain: \u001b[0mWARNING ⚠️ /home/polna/Developer/final_degree_project/2d_object_detection/data/yolo/train/images/l8LyjlRqieDWxJsNdAiF7w_aug_11.jpg: ignoring corrupt image/label: image size (9, 14) <10 pixels\n",
      "\u001b[34m\u001b[1mtrain: \u001b[0mWARNING ⚠️ /home/polna/Developer/final_degree_project/2d_object_detection/data/yolo/train/images/l8LyjlRqieDWxJsNdAiF7w_aug_12.jpg: ignoring corrupt image/label: image size (9, 14) <10 pixels\n",
      "\u001b[34m\u001b[1mtrain: \u001b[0mWARNING ⚠️ /home/polna/Developer/final_degree_project/2d_object_detection/data/yolo/train/images/l8LyjlRqieDWxJsNdAiF7w_aug_13.jpg: ignoring corrupt image/label: image size (9, 14) <10 pixels\n",
      "\u001b[34m\u001b[1mtrain: \u001b[0mWARNING ⚠️ /home/polna/Developer/final_degree_project/2d_object_detection/data/yolo/train/images/l8LyjlRqieDWxJsNdAiF7w_aug_2.jpg: ignoring corrupt image/label: image size (9, 14) <10 pixels\n",
      "\u001b[34m\u001b[1mtrain: \u001b[0mWARNING ⚠️ /home/polna/Developer/final_degree_project/2d_object_detection/data/yolo/train/images/l8LyjlRqieDWxJsNdAiF7w_aug_3.jpg: ignoring corrupt image/label: image size (9, 14) <10 pixels\n",
      "\u001b[34m\u001b[1mtrain: \u001b[0mWARNING ⚠️ /home/polna/Developer/final_degree_project/2d_object_detection/data/yolo/train/images/l8LyjlRqieDWxJsNdAiF7w_aug_5.jpg: ignoring corrupt image/label: image size (9, 14) <10 pixels\n",
      "\u001b[34m\u001b[1mtrain: \u001b[0mWARNING ⚠️ /home/polna/Developer/final_degree_project/2d_object_detection/data/yolo/train/images/l8LyjlRqieDWxJsNdAiF7w_aug_6.jpg: ignoring corrupt image/label: image size (9, 14) <10 pixels\n",
      "\u001b[34m\u001b[1mtrain: \u001b[0mWARNING ⚠️ /home/polna/Developer/final_degree_project/2d_object_detection/data/yolo/train/images/l8LyjlRqieDWxJsNdAiF7w_aug_7.jpg: ignoring corrupt image/label: image size (9, 14) <10 pixels\n",
      "\u001b[34m\u001b[1mtrain: \u001b[0mWARNING ⚠️ /home/polna/Developer/final_degree_project/2d_object_detection/data/yolo/train/images/lvD1Nqg_WjFqnaYoWAfskA_4.jpg: ignoring corrupt image/label: image size (10, 8) <10 pixels\n",
      "\u001b[34m\u001b[1mtrain: \u001b[0mWARNING ⚠️ /home/polna/Developer/final_degree_project/2d_object_detection/data/yolo/train/images/lyt6VOV0mRq0XSC4CE7Yiw_4.jpg: ignoring corrupt image/label: image size (8, 21) <10 pixels\n",
      "\u001b[34m\u001b[1mtrain: \u001b[0mWARNING ⚠️ /home/polna/Developer/final_degree_project/2d_object_detection/data/yolo/train/images/m4t043TzP2Oy5jkfpsD-Tw_4.jpg: ignoring corrupt image/label: image size (20, 9) <10 pixels\n",
      "\u001b[34m\u001b[1mtrain: \u001b[0mWARNING ⚠️ /home/polna/Developer/final_degree_project/2d_object_detection/data/yolo/train/images/m86rN7z1GBh2mJGdRKqClA_3.jpg: ignoring corrupt image/label: image size (23, 9) <10 pixels\n",
      "\u001b[34m\u001b[1mtrain: \u001b[0mWARNING ⚠️ /home/polna/Developer/final_degree_project/2d_object_detection/data/yolo/train/images/m86rN7z1GBh2mJGdRKqClA_4.jpg: ignoring corrupt image/label: image size (23, 7) <10 pixels\n",
      "\u001b[34m\u001b[1mtrain: \u001b[0mWARNING ⚠️ /home/polna/Developer/final_degree_project/2d_object_detection/data/yolo/train/images/mF5Bkv5_tJhTz31m8i3okw_6.jpg: ignoring corrupt image/label: image size (18, 8) <10 pixels\n",
      "\u001b[34m\u001b[1mtrain: \u001b[0mWARNING ⚠️ /home/polna/Developer/final_degree_project/2d_object_detection/data/yolo/train/images/mF5Bkv5_tJhTz31m8i3okw_aug_0.jpg: ignoring corrupt image/label: image size (18, 8) <10 pixels\n",
      "\u001b[34m\u001b[1mtrain: \u001b[0mWARNING ⚠️ /home/polna/Developer/final_degree_project/2d_object_detection/data/yolo/train/images/mF5Bkv5_tJhTz31m8i3okw_aug_1.jpg: ignoring corrupt image/label: image size (18, 8) <10 pixels\n",
      "\u001b[34m\u001b[1mtrain: \u001b[0mWARNING ⚠️ /home/polna/Developer/final_degree_project/2d_object_detection/data/yolo/train/images/ma5yng0VgaM2T91FMA6L9g_3.jpg: ignoring corrupt image/label: image size (10, 9) <10 pixels\n",
      "\u001b[34m\u001b[1mtrain: \u001b[0mWARNING ⚠️ /home/polna/Developer/final_degree_project/2d_object_detection/data/yolo/train/images/ma5yng0VgaM2T91FMA6L9g_aug_1.jpg: ignoring corrupt image/label: image size (10, 9) <10 pixels\n",
      "\u001b[34m\u001b[1mtrain: \u001b[0mWARNING ⚠️ /home/polna/Developer/final_degree_project/2d_object_detection/data/yolo/train/images/mn8L69Cu-zI_C5q1X_X5vw_4.jpg: ignoring corrupt image/label: image size (9, 23) <10 pixels\n",
      "\u001b[34m\u001b[1mtrain: \u001b[0mWARNING ⚠️ /home/polna/Developer/final_degree_project/2d_object_detection/data/yolo/train/images/mtCpHGSudsTYeplsfs-ojA_13.jpg: ignoring corrupt image/label: image size (9, 27) <10 pixels\n",
      "\u001b[34m\u001b[1mtrain: \u001b[0mWARNING ⚠️ /home/polna/Developer/final_degree_project/2d_object_detection/data/yolo/train/images/mtQTE6Sdjml0gehAZF4Jng_5.jpg: ignoring corrupt image/label: image size (14, 8) <10 pixels\n",
      "\u001b[34m\u001b[1mtrain: \u001b[0mWARNING ⚠️ /home/polna/Developer/final_degree_project/2d_object_detection/data/yolo/train/images/mv5dVL--2g7xoJom3BEYpA_2.jpg: ignoring corrupt image/label: image size (14, 8) <10 pixels\n",
      "\u001b[34m\u001b[1mtrain: \u001b[0mWARNING ⚠️ /home/polna/Developer/final_degree_project/2d_object_detection/data/yolo/train/images/n1HCLr3PrqqEULcN_WETlA_2.jpg: ignoring corrupt image/label: image size (10, 8) <10 pixels\n",
      "\u001b[34m\u001b[1mtrain: \u001b[0mWARNING ⚠️ /home/polna/Developer/final_degree_project/2d_object_detection/data/yolo/train/images/n765__EAj15hpciCzONyOA_6.jpg: ignoring corrupt image/label: image size (44, 9) <10 pixels\n",
      "\u001b[34m\u001b[1mtrain: \u001b[0mWARNING ⚠️ /home/polna/Developer/final_degree_project/2d_object_detection/data/yolo/train/images/nG688d8gEkPkAPIi9t5xTg_2.jpg: ignoring corrupt image/label: image size (9, 10) <10 pixels\n",
      "\u001b[34m\u001b[1mtrain: \u001b[0mWARNING ⚠️ /home/polna/Developer/final_degree_project/2d_object_detection/data/yolo/train/images/nG688d8gEkPkAPIi9t5xTg_aug_2.jpg: ignoring corrupt image/label: image size (9, 10) <10 pixels\n",
      "\u001b[34m\u001b[1mtrain: \u001b[0mWARNING ⚠️ /home/polna/Developer/final_degree_project/2d_object_detection/data/yolo/train/images/nG688d8gEkPkAPIi9t5xTg_aug_4.jpg: ignoring corrupt image/label: image size (9, 10) <10 pixels\n",
      "\u001b[34m\u001b[1mtrain: \u001b[0mWARNING ⚠️ /home/polna/Developer/final_degree_project/2d_object_detection/data/yolo/train/images/nG688d8gEkPkAPIi9t5xTg_aug_5.jpg: ignoring corrupt image/label: image size (9, 10) <10 pixels\n",
      "\u001b[34m\u001b[1mtrain: \u001b[0mWARNING ⚠️ /home/polna/Developer/final_degree_project/2d_object_detection/data/yolo/train/images/nG688d8gEkPkAPIi9t5xTg_aug_6.jpg: ignoring corrupt image/label: image size (9, 10) <10 pixels\n",
      "\u001b[34m\u001b[1mtrain: \u001b[0mWARNING ⚠️ /home/polna/Developer/final_degree_project/2d_object_detection/data/yolo/train/images/njFNVzU8CY9qDnmtCeF27Q_6.jpg: ignoring corrupt image/label: image size (42, 9) <10 pixels\n",
      "\u001b[34m\u001b[1mtrain: \u001b[0mWARNING ⚠️ /home/polna/Developer/final_degree_project/2d_object_detection/data/yolo/train/images/o1UmmHoGABPQOPhua19rXg_3.jpg: ignoring corrupt image/label: image size (8, 25) <10 pixels\n",
      "\u001b[34m\u001b[1mtrain: \u001b[0mWARNING ⚠️ /home/polna/Developer/final_degree_project/2d_object_detection/data/yolo/train/images/o3iKRrqixpYCZjT4WUSg4g_4.jpg: ignoring corrupt image/label: image size (9, 16) <10 pixels\n",
      "\u001b[34m\u001b[1mtrain: \u001b[0mWARNING ⚠️ /home/polna/Developer/final_degree_project/2d_object_detection/data/yolo/train/images/o3iKRrqixpYCZjT4WUSg4g_aug_10.jpg: ignoring corrupt image/label: image size (9, 16) <10 pixels\n",
      "\u001b[34m\u001b[1mtrain: \u001b[0mWARNING ⚠️ /home/polna/Developer/final_degree_project/2d_object_detection/data/yolo/train/images/o3iKRrqixpYCZjT4WUSg4g_aug_5.jpg: ignoring corrupt image/label: image size (9, 16) <10 pixels\n",
      "\u001b[34m\u001b[1mtrain: \u001b[0mWARNING ⚠️ /home/polna/Developer/final_degree_project/2d_object_detection/data/yolo/train/images/o3iKRrqixpYCZjT4WUSg4g_aug_7.jpg: ignoring corrupt image/label: image size (9, 16) <10 pixels\n",
      "\u001b[34m\u001b[1mtrain: \u001b[0mWARNING ⚠️ /home/polna/Developer/final_degree_project/2d_object_detection/data/yolo/train/images/o3iKRrqixpYCZjT4WUSg4g_aug_8.jpg: ignoring corrupt image/label: image size (9, 16) <10 pixels\n",
      "\u001b[34m\u001b[1mtrain: \u001b[0mWARNING ⚠️ /home/polna/Developer/final_degree_project/2d_object_detection/data/yolo/train/images/oN4fE7c5ATGj9alXfZLB_w_2.jpg: ignoring corrupt image/label: image size (8, 27) <10 pixels\n",
      "\u001b[34m\u001b[1mtrain: \u001b[0mWARNING ⚠️ /home/polna/Developer/final_degree_project/2d_object_detection/data/yolo/train/images/of7s2KcaXFCjzHw4xGZ6TQ_aug_2.jpg: ignoring corrupt image/label: image size (9, 28) <10 pixels\n",
      "\u001b[34m\u001b[1mtrain: \u001b[0mWARNING ⚠️ /home/polna/Developer/final_degree_project/2d_object_detection/data/yolo/train/images/ogcioXtY6smxr5JUvF5djw_4.jpg: ignoring corrupt image/label: image size (15, 9) <10 pixels\n",
      "\u001b[34m\u001b[1mtrain: \u001b[0mWARNING ⚠️ /home/polna/Developer/final_degree_project/2d_object_detection/data/yolo/train/images/ojey3-rUTK1NXoUEbAdvyg_11.jpg: ignoring corrupt image/label: image size (9, 15) <10 pixels\n",
      "\u001b[34m\u001b[1mtrain: \u001b[0mWARNING ⚠️ /home/polna/Developer/final_degree_project/2d_object_detection/data/yolo/train/images/pKeqyTOkbf5gqaWhthfQjg_aug_11.jpg: ignoring corrupt image/label: image size (9, 18) <10 pixels\n",
      "\u001b[34m\u001b[1mtrain: \u001b[0mWARNING ⚠️ /home/polna/Developer/final_degree_project/2d_object_detection/data/yolo/train/images/pKeqyTOkbf5gqaWhthfQjg_aug_12.jpg: ignoring corrupt image/label: image size (9, 18) <10 pixels\n",
      "\u001b[34m\u001b[1mtrain: \u001b[0mWARNING ⚠️ /home/polna/Developer/final_degree_project/2d_object_detection/data/yolo/train/images/pKeqyTOkbf5gqaWhthfQjg_aug_14.jpg: ignoring corrupt image/label: image size (9, 18) <10 pixels\n",
      "\u001b[34m\u001b[1mtrain: \u001b[0mWARNING ⚠️ /home/polna/Developer/final_degree_project/2d_object_detection/data/yolo/train/images/pKeqyTOkbf5gqaWhthfQjg_aug_15.jpg: ignoring corrupt image/label: image size (9, 18) <10 pixels\n",
      "\u001b[34m\u001b[1mtrain: \u001b[0mWARNING ⚠️ /home/polna/Developer/final_degree_project/2d_object_detection/data/yolo/train/images/pKeqyTOkbf5gqaWhthfQjg_aug_16.jpg: ignoring corrupt image/label: image size (9, 18) <10 pixels\n",
      "\u001b[34m\u001b[1mtrain: \u001b[0mWARNING ⚠️ /home/polna/Developer/final_degree_project/2d_object_detection/data/yolo/train/images/pKeqyTOkbf5gqaWhthfQjg_aug_17.jpg: ignoring corrupt image/label: image size (9, 18) <10 pixels\n",
      "\u001b[34m\u001b[1mtrain: \u001b[0mWARNING ⚠️ /home/polna/Developer/final_degree_project/2d_object_detection/data/yolo/train/images/pKeqyTOkbf5gqaWhthfQjg_aug_18.jpg: ignoring corrupt image/label: image size (9, 18) <10 pixels\n",
      "\u001b[34m\u001b[1mtrain: \u001b[0mWARNING ⚠️ /home/polna/Developer/final_degree_project/2d_object_detection/data/yolo/train/images/pdw2CkJTvAYLBRA6V12YfQ_2.jpg: ignoring corrupt image/label: image size (11, 9) <10 pixels\n",
      "\u001b[34m\u001b[1mtrain: \u001b[0mWARNING ⚠️ /home/polna/Developer/final_degree_project/2d_object_detection/data/yolo/train/images/pdw2CkJTvAYLBRA6V12YfQ_3.jpg: ignoring corrupt image/label: image size (10, 9) <10 pixels\n",
      "\u001b[34m\u001b[1mtrain: \u001b[0mWARNING ⚠️ /home/polna/Developer/final_degree_project/2d_object_detection/data/yolo/train/images/pdw2CkJTvAYLBRA6V12YfQ_7.jpg: ignoring corrupt image/label: image size (9, 8) <10 pixels\n",
      "\u001b[34m\u001b[1mtrain: \u001b[0mWARNING ⚠️ /home/polna/Developer/final_degree_project/2d_object_detection/data/yolo/train/images/pdw2CkJTvAYLBRA6V12YfQ_aug_1.jpg: ignoring corrupt image/label: image size (9, 8) <10 pixels\n",
      "\u001b[34m\u001b[1mtrain: \u001b[0mWARNING ⚠️ /home/polna/Developer/final_degree_project/2d_object_detection/data/yolo/train/images/pdw2CkJTvAYLBRA6V12YfQ_aug_2.jpg: ignoring corrupt image/label: image size (9, 8) <10 pixels\n",
      "\u001b[34m\u001b[1mtrain: \u001b[0mWARNING ⚠️ /home/polna/Developer/final_degree_project/2d_object_detection/data/yolo/train/images/pdw2CkJTvAYLBRA6V12YfQ_aug_3.jpg: ignoring corrupt image/label: image size (9, 8) <10 pixels\n",
      "\u001b[34m\u001b[1mtrain: \u001b[0mWARNING ⚠️ /home/polna/Developer/final_degree_project/2d_object_detection/data/yolo/train/images/pxYGbhbiFGFTXxpZF2p6fQ_2.jpg: ignoring corrupt image/label: image size (9, 20) <10 pixels\n",
      "\u001b[34m\u001b[1mtrain: \u001b[0mWARNING ⚠️ /home/polna/Developer/final_degree_project/2d_object_detection/data/yolo/train/images/pxYGbhbiFGFTXxpZF2p6fQ_aug_0.jpg: ignoring corrupt image/label: image size (9, 20) <10 pixels\n",
      "\u001b[34m\u001b[1mtrain: \u001b[0mWARNING ⚠️ /home/polna/Developer/final_degree_project/2d_object_detection/data/yolo/train/images/qXTW6a--zVS2hYt58l74Vw_2.jpg: ignoring corrupt image/label: image size (9, 13) <10 pixels\n",
      "\u001b[34m\u001b[1mtrain: \u001b[0mWARNING ⚠️ /home/polna/Developer/final_degree_project/2d_object_detection/data/yolo/train/images/qXTW6a--zVS2hYt58l74Vw_aug_11.jpg: ignoring corrupt image/label: image size (9, 13) <10 pixels\n",
      "\u001b[34m\u001b[1mtrain: \u001b[0mWARNING ⚠️ /home/polna/Developer/final_degree_project/2d_object_detection/data/yolo/train/images/qXTW6a--zVS2hYt58l74Vw_aug_12.jpg: ignoring corrupt image/label: image size (9, 13) <10 pixels\n",
      "\u001b[34m\u001b[1mtrain: \u001b[0mWARNING ⚠️ /home/polna/Developer/final_degree_project/2d_object_detection/data/yolo/train/images/qXTW6a--zVS2hYt58l74Vw_aug_7.jpg: ignoring corrupt image/label: image size (9, 13) <10 pixels\n",
      "\u001b[34m\u001b[1mtrain: \u001b[0mWARNING ⚠️ /home/polna/Developer/final_degree_project/2d_object_detection/data/yolo/train/images/qXTW6a--zVS2hYt58l74Vw_aug_8.jpg: ignoring corrupt image/label: image size (9, 13) <10 pixels\n",
      "\u001b[34m\u001b[1mtrain: \u001b[0mWARNING ⚠️ /home/polna/Developer/final_degree_project/2d_object_detection/data/yolo/train/images/qXTW6a--zVS2hYt58l74Vw_aug_9.jpg: ignoring corrupt image/label: image size (9, 13) <10 pixels\n",
      "\u001b[34m\u001b[1mtrain: \u001b[0mWARNING ⚠️ /home/polna/Developer/final_degree_project/2d_object_detection/data/yolo/train/images/r2Ase-p0Q0pOJTWyXYtCag_3.jpg: ignoring corrupt image/label: image size (12, 9) <10 pixels\n",
      "\u001b[34m\u001b[1mtrain: \u001b[0mWARNING ⚠️ /home/polna/Developer/final_degree_project/2d_object_detection/data/yolo/train/images/r2Ase-p0Q0pOJTWyXYtCag_aug_0.jpg: ignoring corrupt image/label: image size (12, 9) <10 pixels\n",
      "\u001b[34m\u001b[1mtrain: \u001b[0mWARNING ⚠️ /home/polna/Developer/final_degree_project/2d_object_detection/data/yolo/train/images/rNbaFK2ob5wTjHaXsMG3kQ_6.jpg: ignoring corrupt image/label: image size (26, 8) <10 pixels\n",
      "\u001b[34m\u001b[1mtrain: \u001b[0mWARNING ⚠️ /home/polna/Developer/final_degree_project/2d_object_detection/data/yolo/train/images/rNbaFK2ob5wTjHaXsMG3kQ_aug_0.jpg: ignoring corrupt image/label: image size (26, 8) <10 pixels\n",
      "\u001b[34m\u001b[1mtrain: \u001b[0mWARNING ⚠️ /home/polna/Developer/final_degree_project/2d_object_detection/data/yolo/train/images/sC_lEVFHrlnD9iF48eBPsA_4.jpg: ignoring corrupt image/label: image size (8, 18) <10 pixels\n",
      "\u001b[34m\u001b[1mtrain: \u001b[0mWARNING ⚠️ /home/polna/Developer/final_degree_project/2d_object_detection/data/yolo/train/images/sthHhJczbrufmyrHzNWKAA_2.jpg: ignoring corrupt image/label: image size (9, 21) <10 pixels\n",
      "\u001b[34m\u001b[1mtrain: \u001b[0mWARNING ⚠️ /home/polna/Developer/final_degree_project/2d_object_detection/data/yolo/train/images/sthHhJczbrufmyrHzNWKAA_aug_0.jpg: ignoring corrupt image/label: image size (9, 21) <10 pixels\n",
      "\u001b[34m\u001b[1mtrain: \u001b[0mWARNING ⚠️ /home/polna/Developer/final_degree_project/2d_object_detection/data/yolo/train/images/sthHhJczbrufmyrHzNWKAA_aug_1.jpg: ignoring corrupt image/label: image size (9, 21) <10 pixels\n",
      "\u001b[34m\u001b[1mtrain: \u001b[0mWARNING ⚠️ /home/polna/Developer/final_degree_project/2d_object_detection/data/yolo/train/images/tYZVdyhrNaqQ1j9G3xAXMw_4.jpg: ignoring corrupt image/label: image size (20, 9) <10 pixels\n",
      "\u001b[34m\u001b[1mtrain: \u001b[0mWARNING ⚠️ /home/polna/Developer/final_degree_project/2d_object_detection/data/yolo/train/images/tYZVdyhrNaqQ1j9G3xAXMw_aug_0.jpg: ignoring corrupt image/label: image size (20, 9) <10 pixels\n",
      "\u001b[34m\u001b[1mtrain: \u001b[0mWARNING ⚠️ /home/polna/Developer/final_degree_project/2d_object_detection/data/yolo/train/images/tYZVdyhrNaqQ1j9G3xAXMw_aug_1.jpg: ignoring corrupt image/label: image size (20, 9) <10 pixels\n",
      "\u001b[34m\u001b[1mtrain: \u001b[0mWARNING ⚠️ /home/polna/Developer/final_degree_project/2d_object_detection/data/yolo/train/images/tYZVdyhrNaqQ1j9G3xAXMw_aug_2.jpg: ignoring corrupt image/label: image size (20, 9) <10 pixels\n",
      "\u001b[34m\u001b[1mtrain: \u001b[0mWARNING ⚠️ /home/polna/Developer/final_degree_project/2d_object_detection/data/yolo/train/images/tYZVdyhrNaqQ1j9G3xAXMw_aug_3.jpg: ignoring corrupt image/label: image size (20, 9) <10 pixels\n",
      "\u001b[34m\u001b[1mtrain: \u001b[0mWARNING ⚠️ /home/polna/Developer/final_degree_project/2d_object_detection/data/yolo/train/images/t_IY5RBB10jspaKwtoL5Yw_2.jpg: ignoring corrupt image/label: image size (23, 9) <10 pixels\n",
      "\u001b[34m\u001b[1mtrain: \u001b[0mWARNING ⚠️ /home/polna/Developer/final_degree_project/2d_object_detection/data/yolo/train/images/t_IY5RBB10jspaKwtoL5Yw_aug_0.jpg: ignoring corrupt image/label: image size (23, 9) <10 pixels\n",
      "\u001b[34m\u001b[1mtrain: \u001b[0mWARNING ⚠️ /home/polna/Developer/final_degree_project/2d_object_detection/data/yolo/train/images/tvAlDmyq0D-uuyyDyMwvFA_4.jpg: ignoring corrupt image/label: image size (14, 7) <10 pixels\n",
      "\u001b[34m\u001b[1mtrain: \u001b[0mWARNING ⚠️ /home/polna/Developer/final_degree_project/2d_object_detection/data/yolo/train/images/u-zjYF1hNJ7TcOt8Uac8OQ_1.jpg: ignoring corrupt image/label: image size (8, 22) <10 pixels\n",
      "\u001b[34m\u001b[1mtrain: \u001b[0mWARNING ⚠️ /home/polna/Developer/final_degree_project/2d_object_detection/data/yolo/train/images/uL4ej2XmBjxG19pscspeUg_8.jpg: ignoring corrupt image/label: image size (8, 25) <10 pixels\n",
      "\u001b[34m\u001b[1mtrain: \u001b[0mWARNING ⚠️ /home/polna/Developer/final_degree_project/2d_object_detection/data/yolo/train/images/uMjm2RRYCIRImIzYljxOZA_2.jpg: ignoring corrupt image/label: image size (16, 9) <10 pixels\n",
      "\u001b[34m\u001b[1mtrain: \u001b[0mWARNING ⚠️ /home/polna/Developer/final_degree_project/2d_object_detection/data/yolo/train/images/uMjm2RRYCIRImIzYljxOZA_aug_0.jpg: ignoring corrupt image/label: image size (16, 9) <10 pixels\n",
      "\u001b[34m\u001b[1mtrain: \u001b[0mWARNING ⚠️ /home/polna/Developer/final_degree_project/2d_object_detection/data/yolo/train/images/uMjm2RRYCIRImIzYljxOZA_aug_1.jpg: ignoring corrupt image/label: image size (16, 9) <10 pixels\n",
      "\u001b[34m\u001b[1mtrain: \u001b[0mWARNING ⚠️ /home/polna/Developer/final_degree_project/2d_object_detection/data/yolo/train/images/uMjm2RRYCIRImIzYljxOZA_aug_2.jpg: ignoring corrupt image/label: image size (16, 9) <10 pixels\n",
      "\u001b[34m\u001b[1mtrain: \u001b[0mWARNING ⚠️ /home/polna/Developer/final_degree_project/2d_object_detection/data/yolo/train/images/uMjm2RRYCIRImIzYljxOZA_aug_3.jpg: ignoring corrupt image/label: image size (16, 9) <10 pixels\n",
      "\u001b[34m\u001b[1mtrain: \u001b[0mWARNING ⚠️ /home/polna/Developer/final_degree_project/2d_object_detection/data/yolo/train/images/uMjm2RRYCIRImIzYljxOZA_aug_4.jpg: ignoring corrupt image/label: image size (16, 9) <10 pixels\n",
      "\u001b[34m\u001b[1mtrain: \u001b[0mWARNING ⚠️ /home/polna/Developer/final_degree_project/2d_object_detection/data/yolo/train/images/uMjm2RRYCIRImIzYljxOZA_aug_5.jpg: ignoring corrupt image/label: image size (16, 9) <10 pixels\n",
      "\u001b[34m\u001b[1mtrain: \u001b[0mWARNING ⚠️ /home/polna/Developer/final_degree_project/2d_object_detection/data/yolo/train/images/uMjm2RRYCIRImIzYljxOZA_aug_6.jpg: ignoring corrupt image/label: image size (16, 9) <10 pixels\n",
      "\u001b[34m\u001b[1mtrain: \u001b[0mWARNING ⚠️ /home/polna/Developer/final_degree_project/2d_object_detection/data/yolo/train/images/uMjm2RRYCIRImIzYljxOZA_aug_8.jpg: ignoring corrupt image/label: image size (16, 9) <10 pixels\n",
      "\u001b[34m\u001b[1mtrain: \u001b[0mWARNING ⚠️ /home/polna/Developer/final_degree_project/2d_object_detection/data/yolo/train/images/uPoKkWTD_dGqme9LMgLrmw_3.jpg: ignoring corrupt image/label: image size (8, 7) <10 pixels\n",
      "\u001b[34m\u001b[1mtrain: \u001b[0mWARNING ⚠️ /home/polna/Developer/final_degree_project/2d_object_detection/data/yolo/train/images/v5mmKxKVvmfLD4oCERQCaw_1.jpg: ignoring corrupt image/label: image size (8, 17) <10 pixels\n",
      "\u001b[34m\u001b[1mtrain: \u001b[0mWARNING ⚠️ /home/polna/Developer/final_degree_project/2d_object_detection/data/yolo/train/images/v5mmKxKVvmfLD4oCERQCaw_aug_0.jpg: ignoring corrupt image/label: image size (8, 17) <10 pixels\n",
      "\u001b[34m\u001b[1mtrain: \u001b[0mWARNING ⚠️ /home/polna/Developer/final_degree_project/2d_object_detection/data/yolo/train/images/v5mmKxKVvmfLD4oCERQCaw_aug_1.jpg: ignoring corrupt image/label: image size (8, 17) <10 pixels\n",
      "\u001b[34m\u001b[1mtrain: \u001b[0mWARNING ⚠️ /home/polna/Developer/final_degree_project/2d_object_detection/data/yolo/train/images/v5mmKxKVvmfLD4oCERQCaw_aug_2.jpg: ignoring corrupt image/label: image size (8, 17) <10 pixels\n",
      "\u001b[34m\u001b[1mtrain: \u001b[0mWARNING ⚠️ /home/polna/Developer/final_degree_project/2d_object_detection/data/yolo/train/images/vE22qKEJy5d9C0U6M_yuGw_4.jpg: ignoring corrupt image/label: image size (9, 33) <10 pixels\n",
      "\u001b[34m\u001b[1mtrain: \u001b[0mWARNING ⚠️ /home/polna/Developer/final_degree_project/2d_object_detection/data/yolo/train/images/vE22qKEJy5d9C0U6M_yuGw_aug_0.jpg: ignoring corrupt image/label: image size (9, 33) <10 pixels\n",
      "\u001b[34m\u001b[1mtrain: \u001b[0mWARNING ⚠️ /home/polna/Developer/final_degree_project/2d_object_detection/data/yolo/train/images/vF7prubhsTd2TH4hkhue9A_21.jpg: ignoring corrupt image/label: image size (8, 21) <10 pixels\n",
      "\u001b[34m\u001b[1mtrain: \u001b[0mWARNING ⚠️ /home/polna/Developer/final_degree_project/2d_object_detection/data/yolo/train/images/vF7prubhsTd2TH4hkhue9A_aug_2.jpg: ignoring corrupt image/label: image size (8, 21) <10 pixels\n",
      "\u001b[34m\u001b[1mtrain: \u001b[0mWARNING ⚠️ /home/polna/Developer/final_degree_project/2d_object_detection/data/yolo/train/images/vF7prubhsTd2TH4hkhue9A_aug_3.jpg: ignoring corrupt image/label: image size (8, 21) <10 pixels\n",
      "\u001b[34m\u001b[1mtrain: \u001b[0mWARNING ⚠️ /home/polna/Developer/final_degree_project/2d_object_detection/data/yolo/train/images/vWYOHx4MFlBGICsodNjFGg_14.jpg: ignoring corrupt image/label: image size (8, 11) <10 pixels\n",
      "\u001b[34m\u001b[1mtrain: \u001b[0mWARNING ⚠️ /home/polna/Developer/final_degree_project/2d_object_detection/data/yolo/train/images/vWYOHx4MFlBGICsodNjFGg_aug_0.jpg: ignoring corrupt image/label: image size (8, 11) <10 pixels\n",
      "\u001b[34m\u001b[1mtrain: \u001b[0mWARNING ⚠️ /home/polna/Developer/final_degree_project/2d_object_detection/data/yolo/train/images/vWYOHx4MFlBGICsodNjFGg_aug_1.jpg: ignoring corrupt image/label: image size (8, 11) <10 pixels\n",
      "\u001b[34m\u001b[1mtrain: \u001b[0mWARNING ⚠️ /home/polna/Developer/final_degree_project/2d_object_detection/data/yolo/train/images/vWwtK0XSBq7VcL1IoZdfnQ_7.jpg: ignoring corrupt image/label: image size (10, 7) <10 pixels\n",
      "\u001b[34m\u001b[1mtrain: \u001b[0mWARNING ⚠️ /home/polna/Developer/final_degree_project/2d_object_detection/data/yolo/train/images/vWwtK0XSBq7VcL1IoZdfnQ_aug_0.jpg: ignoring corrupt image/label: image size (10, 7) <10 pixels\n",
      "\u001b[34m\u001b[1mtrain: \u001b[0mWARNING ⚠️ /home/polna/Developer/final_degree_project/2d_object_detection/data/yolo/train/images/w0s8e3lA6nIoOFrbwfWOXQ_5.jpg: ignoring corrupt image/label: image size (28, 9) <10 pixels\n",
      "\u001b[34m\u001b[1mtrain: \u001b[0mWARNING ⚠️ /home/polna/Developer/final_degree_project/2d_object_detection/data/yolo/train/images/w0s8e3lA6nIoOFrbwfWOXQ_aug_2.jpg: ignoring corrupt image/label: image size (28, 9) <10 pixels\n",
      "\u001b[34m\u001b[1mtrain: \u001b[0mWARNING ⚠️ /home/polna/Developer/final_degree_project/2d_object_detection/data/yolo/train/images/w0s8e3lA6nIoOFrbwfWOXQ_aug_3.jpg: ignoring corrupt image/label: image size (28, 9) <10 pixels\n",
      "\u001b[34m\u001b[1mtrain: \u001b[0mWARNING ⚠️ /home/polna/Developer/final_degree_project/2d_object_detection/data/yolo/train/images/w0s8e3lA6nIoOFrbwfWOXQ_aug_4.jpg: ignoring corrupt image/label: image size (28, 9) <10 pixels\n",
      "\u001b[34m\u001b[1mtrain: \u001b[0mWARNING ⚠️ /home/polna/Developer/final_degree_project/2d_object_detection/data/yolo/train/images/w2Nh8szOK0iS5McjfveCxA_3.jpg: ignoring corrupt image/label: image size (7, 6) <10 pixels\n",
      "\u001b[34m\u001b[1mtrain: \u001b[0mWARNING ⚠️ /home/polna/Developer/final_degree_project/2d_object_detection/data/yolo/train/images/w2Nh8szOK0iS5McjfveCxA_4.jpg: ignoring corrupt image/label: image size (10, 9) <10 pixels\n",
      "\u001b[34m\u001b[1mtrain: \u001b[0mWARNING ⚠️ /home/polna/Developer/final_degree_project/2d_object_detection/data/yolo/train/images/w2Nh8szOK0iS5McjfveCxA_aug_0.jpg: ignoring corrupt image/label: image size (10, 9) <10 pixels\n",
      "\u001b[34m\u001b[1mtrain: \u001b[0mWARNING ⚠️ /home/polna/Developer/final_degree_project/2d_object_detection/data/yolo/train/images/w2Nh8szOK0iS5McjfveCxA_aug_1.jpg: ignoring corrupt image/label: image size (10, 9) <10 pixels\n",
      "\u001b[34m\u001b[1mtrain: \u001b[0mWARNING ⚠️ /home/polna/Developer/final_degree_project/2d_object_detection/data/yolo/train/images/w3VWocqYXj1y3KSC4VxhoQ_11.jpg: ignoring corrupt image/label: image size (8, 24) <10 pixels\n",
      "\u001b[34m\u001b[1mtrain: \u001b[0mWARNING ⚠️ /home/polna/Developer/final_degree_project/2d_object_detection/data/yolo/train/images/w3VWocqYXj1y3KSC4VxhoQ_aug_0.jpg: ignoring corrupt image/label: image size (8, 24) <10 pixels\n",
      "\u001b[34m\u001b[1mtrain: \u001b[0mWARNING ⚠️ /home/polna/Developer/final_degree_project/2d_object_detection/data/yolo/train/images/w3VWocqYXj1y3KSC4VxhoQ_aug_2.jpg: ignoring corrupt image/label: image size (8, 24) <10 pixels\n",
      "\u001b[34m\u001b[1mtrain: \u001b[0mWARNING ⚠️ /home/polna/Developer/final_degree_project/2d_object_detection/data/yolo/train/images/w6SAxmDy0HHutOC4aoBj9Q_aug_0.jpg: ignoring corrupt image/label: image size (9, 34) <10 pixels\n",
      "\u001b[34m\u001b[1mtrain: \u001b[0mWARNING ⚠️ /home/polna/Developer/final_degree_project/2d_object_detection/data/yolo/train/images/w6SAxmDy0HHutOC4aoBj9Q_aug_1.jpg: ignoring corrupt image/label: image size (9, 34) <10 pixels\n",
      "\u001b[34m\u001b[1mtrain: \u001b[0mWARNING ⚠️ /home/polna/Developer/final_degree_project/2d_object_detection/data/yolo/train/images/wBXCAUr7liRwtNidr47HQw_aug_10.jpg: ignoring corrupt image/label: image size (12, 9) <10 pixels\n",
      "\u001b[34m\u001b[1mtrain: \u001b[0mWARNING ⚠️ /home/polna/Developer/final_degree_project/2d_object_detection/data/yolo/train/images/wBXCAUr7liRwtNidr47HQw_aug_11.jpg: ignoring corrupt image/label: image size (12, 9) <10 pixels\n",
      "\u001b[34m\u001b[1mtrain: \u001b[0mWARNING ⚠️ /home/polna/Developer/final_degree_project/2d_object_detection/data/yolo/train/images/wBXCAUr7liRwtNidr47HQw_aug_8.jpg: ignoring corrupt image/label: image size (12, 9) <10 pixels\n",
      "\u001b[34m\u001b[1mtrain: \u001b[0mWARNING ⚠️ /home/polna/Developer/final_degree_project/2d_object_detection/data/yolo/train/images/wBXCAUr7liRwtNidr47HQw_aug_9.jpg: ignoring corrupt image/label: image size (12, 9) <10 pixels\n",
      "\u001b[34m\u001b[1mtrain: \u001b[0mWARNING ⚠️ /home/polna/Developer/final_degree_project/2d_object_detection/data/yolo/train/images/wqbKsbspW0eo2Ad27-y33Q_9.jpg: ignoring corrupt image/label: image size (11, 9) <10 pixels\n",
      "\u001b[34m\u001b[1mtrain: \u001b[0mWARNING ⚠️ /home/polna/Developer/final_degree_project/2d_object_detection/data/yolo/train/images/x3YmTUoK9C6EecG4pdLsig_4.jpg: ignoring corrupt image/label: image size (11, 9) <10 pixels\n",
      "\u001b[34m\u001b[1mtrain: \u001b[0mWARNING ⚠️ /home/polna/Developer/final_degree_project/2d_object_detection/data/yolo/train/images/x9SkyrPUaK1_xJVvY0npvw_6.jpg: ignoring corrupt image/label: image size (20, 9) <10 pixels\n",
      "\u001b[34m\u001b[1mtrain: \u001b[0mWARNING ⚠️ /home/polna/Developer/final_degree_project/2d_object_detection/data/yolo/train/images/xYuZ-1CrlbNsmQhoD3uulw_3.jpg: ignoring corrupt image/label: image size (9, 6) <10 pixels\n",
      "\u001b[34m\u001b[1mtrain: \u001b[0mWARNING ⚠️ /home/polna/Developer/final_degree_project/2d_object_detection/data/yolo/train/images/xZ5kPR5YrNyaBcKq0osP2Q_2.jpg: ignoring corrupt image/label: image size (9, 30) <10 pixels\n",
      "\u001b[34m\u001b[1mtrain: \u001b[0mWARNING ⚠️ /home/polna/Developer/final_degree_project/2d_object_detection/data/yolo/train/images/xdvN2qn9IvkborsKx0yPAg_3.jpg: ignoring corrupt image/label: image size (22, 9) <10 pixels\n",
      "\u001b[34m\u001b[1mtrain: \u001b[0mWARNING ⚠️ /home/polna/Developer/final_degree_project/2d_object_detection/data/yolo/train/images/xnPda2T4aVppcVlvhqGPZQ_1.jpg: ignoring corrupt image/label: image size (10, 9) <10 pixels\n",
      "\u001b[34m\u001b[1mtrain: \u001b[0mWARNING ⚠️ /home/polna/Developer/final_degree_project/2d_object_detection/data/yolo/train/images/xwDKfw4-EMtzByGYMsCu3Q_11.jpg: ignoring corrupt image/label: image size (21, 8) <10 pixels\n",
      "\u001b[34m\u001b[1mtrain: \u001b[0mWARNING ⚠️ /home/polna/Developer/final_degree_project/2d_object_detection/data/yolo/train/images/xwDKfw4-EMtzByGYMsCu3Q_aug_2.jpg: ignoring corrupt image/label: image size (21, 8) <10 pixels\n",
      "\u001b[34m\u001b[1mtrain: \u001b[0mWARNING ⚠️ /home/polna/Developer/final_degree_project/2d_object_detection/data/yolo/train/images/xyZtZq9zelWkb6uKW4qP_w_7.jpg: ignoring corrupt image/label: image size (9, 18) <10 pixels\n",
      "\u001b[34m\u001b[1mtrain: \u001b[0mWARNING ⚠️ /home/polna/Developer/final_degree_project/2d_object_detection/data/yolo/train/images/y1b0tVhIl_98JPI89rtAEg_9.jpg: ignoring corrupt image/label: image size (8, 19) <10 pixels\n",
      "\u001b[34m\u001b[1mtrain: \u001b[0mWARNING ⚠️ /home/polna/Developer/final_degree_project/2d_object_detection/data/yolo/train/images/y1quNOqI4Avnyn0xC5iwQA_3.jpg: ignoring corrupt image/label: image size (9, 17) <10 pixels\n",
      "\u001b[34m\u001b[1mtrain: \u001b[0mWARNING ⚠️ /home/polna/Developer/final_degree_project/2d_object_detection/data/yolo/train/images/y1quNOqI4Avnyn0xC5iwQA_aug_0.jpg: ignoring corrupt image/label: image size (9, 17) <10 pixels\n",
      "\u001b[34m\u001b[1mtrain: \u001b[0mWARNING ⚠️ /home/polna/Developer/final_degree_project/2d_object_detection/data/yolo/train/images/y9yk0Jv_6zhj_u_JTArmWw_4.jpg: ignoring corrupt image/label: image size (15, 9) <10 pixels\n",
      "\u001b[34m\u001b[1mtrain: \u001b[0mWARNING ⚠️ /home/polna/Developer/final_degree_project/2d_object_detection/data/yolo/train/images/y9yk0Jv_6zhj_u_JTArmWw_5.jpg: ignoring corrupt image/label: image size (15, 8) <10 pixels\n",
      "\u001b[34m\u001b[1mtrain: \u001b[0mWARNING ⚠️ /home/polna/Developer/final_degree_project/2d_object_detection/data/yolo/train/images/y9yk0Jv_6zhj_u_JTArmWw_aug_0.jpg: ignoring corrupt image/label: image size (15, 8) <10 pixels\n",
      "\u001b[34m\u001b[1mtrain: \u001b[0mWARNING ⚠️ /home/polna/Developer/final_degree_project/2d_object_detection/data/yolo/train/images/y9yk0Jv_6zhj_u_JTArmWw_aug_1.jpg: ignoring corrupt image/label: image size (15, 8) <10 pixels\n",
      "\u001b[34m\u001b[1mtrain: \u001b[0mWARNING ⚠️ /home/polna/Developer/final_degree_project/2d_object_detection/data/yolo/train/images/y9yk0Jv_6zhj_u_JTArmWw_aug_2.jpg: ignoring corrupt image/label: image size (15, 9) <10 pixels\n",
      "\u001b[34m\u001b[1mtrain: \u001b[0mWARNING ⚠️ /home/polna/Developer/final_degree_project/2d_object_detection/data/yolo/train/images/y9yk0Jv_6zhj_u_JTArmWw_aug_3.jpg: ignoring corrupt image/label: image size (15, 8) <10 pixels\n",
      "\u001b[34m\u001b[1mtrain: \u001b[0mWARNING ⚠️ /home/polna/Developer/final_degree_project/2d_object_detection/data/yolo/train/images/yadydCQ2DBEQ3FqZpogxPA_11.jpg: ignoring corrupt image/label: image size (9, 23) <10 pixels\n",
      "\u001b[34m\u001b[1mtrain: \u001b[0mWARNING ⚠️ /home/polna/Developer/final_degree_project/2d_object_detection/data/yolo/train/images/yadydCQ2DBEQ3FqZpogxPA_aug_1.jpg: ignoring corrupt image/label: image size (9, 23) <10 pixels\n",
      "\u001b[34m\u001b[1mtrain: \u001b[0mWARNING ⚠️ /home/polna/Developer/final_degree_project/2d_object_detection/data/yolo/train/images/yadydCQ2DBEQ3FqZpogxPA_aug_2.jpg: ignoring corrupt image/label: image size (9, 23) <10 pixels\n",
      "\u001b[34m\u001b[1mtrain: \u001b[0mWARNING ⚠️ /home/polna/Developer/final_degree_project/2d_object_detection/data/yolo/train/images/yazA3-srPSb4P47eQSw84g_2.jpg: ignoring corrupt image/label: image size (10, 8) <10 pixels\n",
      "\u001b[34m\u001b[1mtrain: \u001b[0mWARNING ⚠️ /home/polna/Developer/final_degree_project/2d_object_detection/data/yolo/train/images/zdmlDaXY8JUMy0dSPZ-iXg_6.jpg: ignoring corrupt image/label: image size (18, 9) <10 pixels\n",
      "\u001b[34m\u001b[1mtrain: \u001b[0mWARNING ⚠️ /home/polna/Developer/final_degree_project/2d_object_detection/data/yolo/train/images/zpJQ1yz6O1qAGVFQOQQRaQ_0.jpg: ignoring corrupt image/label: image size (9, 24) <10 pixels\n",
      "\u001b[34m\u001b[1mtrain: \u001b[0mWARNING ⚠️ /home/polna/Developer/final_degree_project/2d_object_detection/data/yolo/train/images/zpJQ1yz6O1qAGVFQOQQRaQ_aug_0.jpg: ignoring corrupt image/label: image size (9, 24) <10 pixels\n"
     ]
    },
    {
     "name": "stderr",
     "output_type": "stream",
     "text": [
      "\n",
      "\u001b[34m\u001b[1mtrain: \u001b[0mCaching images (7.5GB RAM): 100%|██████████| 192565/192565 [00:29<00:00, 6444.83it/s]\u001b[0m\n"
     ]
    },
    {
     "name": "stdout",
     "output_type": "stream",
     "text": [
      "\u001b[34m\u001b[1malbumentations: \u001b[0mBlur(p=0.01, blur_limit=(3, 7)), MedianBlur(p=0.01, blur_limit=(3, 7)), ToGray(p=0.01), CLAHE(p=0.01, clip_limit=(1, 4.0), tile_grid_size=(8, 8))\n"
     ]
    },
    {
     "name": "stderr",
     "output_type": "stream",
     "text": [
      "\u001b[34m\u001b[1mval: \u001b[0mScanning /home/polna/Developer/final_degree_project/2d_object_detection/data/yolo/val/labels.c\u001b[0m"
     ]
    },
    {
     "name": "stdout",
     "output_type": "stream",
     "text": [
      "\u001b[34m\u001b[1mval: \u001b[0mWARNING ⚠️ /home/polna/Developer/final_degree_project/2d_object_detection/data/yolo/val/images/-cOu9CgYcqWytzymAsYA0A_6.jpg: ignoring corrupt image/label: image size (6, 7) <10 pixels\n",
      "\u001b[34m\u001b[1mval: \u001b[0mWARNING ⚠️ /home/polna/Developer/final_degree_project/2d_object_detection/data/yolo/val/images/-cQgiVzBhjcwQssC4bxxew_9.jpg: ignoring corrupt image/label: image size (10, 9) <10 pixels\n",
      "\u001b[34m\u001b[1mval: \u001b[0mWARNING ⚠️ /home/polna/Developer/final_degree_project/2d_object_detection/data/yolo/val/images/1p4A-J8LxnTIFqPGCNEw9A_1.jpg: ignoring corrupt image/label: image size (7, 22) <10 pixels\n",
      "\u001b[34m\u001b[1mval: \u001b[0mWARNING ⚠️ /home/polna/Developer/final_degree_project/2d_object_detection/data/yolo/val/images/1pkKhVIteoX57YHjlUZlEg_aug_2.jpg: ignoring corrupt image/label: image size (9, 7) <10 pixels\n",
      "\u001b[34m\u001b[1mval: \u001b[0mWARNING ⚠️ /home/polna/Developer/final_degree_project/2d_object_detection/data/yolo/val/images/4FAZqGVXY_9lzEF3Xdh3mA_7.jpg: ignoring corrupt image/label: image size (13, 9) <10 pixels\n",
      "\u001b[34m\u001b[1mval: \u001b[0mWARNING ⚠️ /home/polna/Developer/final_degree_project/2d_object_detection/data/yolo/val/images/4uSg_tYFVd87eEBCk9EyJw_aug_1.jpg: ignoring corrupt image/label: image size (10, 9) <10 pixels\n",
      "\u001b[34m\u001b[1mval: \u001b[0mWARNING ⚠️ /home/polna/Developer/final_degree_project/2d_object_detection/data/yolo/val/images/4uSg_tYFVd87eEBCk9EyJw_aug_2.jpg: ignoring corrupt image/label: image size (10, 9) <10 pixels\n",
      "\u001b[34m\u001b[1mval: \u001b[0mWARNING ⚠️ /home/polna/Developer/final_degree_project/2d_object_detection/data/yolo/val/images/5ZmsfxIrMa6TmjFE0i-HhA_aug_0.jpg: ignoring corrupt image/label: image size (9, 10) <10 pixels\n",
      "\u001b[34m\u001b[1mval: \u001b[0mWARNING ⚠️ /home/polna/Developer/final_degree_project/2d_object_detection/data/yolo/val/images/6CorX7qpBOGAyZmSS0J-UA_7.jpg: ignoring corrupt image/label: image size (10, 8) <10 pixels\n",
      "\u001b[34m\u001b[1mval: \u001b[0mWARNING ⚠️ /home/polna/Developer/final_degree_project/2d_object_detection/data/yolo/val/images/6CorX7qpBOGAyZmSS0J-UA_aug_0.jpg: ignoring corrupt image/label: image size (10, 8) <10 pixels\n",
      "\u001b[34m\u001b[1mval: \u001b[0mWARNING ⚠️ /home/polna/Developer/final_degree_project/2d_object_detection/data/yolo/val/images/6CorX7qpBOGAyZmSS0J-UA_aug_10.jpg: ignoring corrupt image/label: image size (10, 8) <10 pixels\n",
      "\u001b[34m\u001b[1mval: \u001b[0mWARNING ⚠️ /home/polna/Developer/final_degree_project/2d_object_detection/data/yolo/val/images/6CorX7qpBOGAyZmSS0J-UA_aug_11.jpg: ignoring corrupt image/label: image size (10, 8) <10 pixels\n",
      "\u001b[34m\u001b[1mval: \u001b[0mWARNING ⚠️ /home/polna/Developer/final_degree_project/2d_object_detection/data/yolo/val/images/6CorX7qpBOGAyZmSS0J-UA_aug_5.jpg: ignoring corrupt image/label: image size (10, 8) <10 pixels\n",
      "\u001b[34m\u001b[1mval: \u001b[0mWARNING ⚠️ /home/polna/Developer/final_degree_project/2d_object_detection/data/yolo/val/images/6CorX7qpBOGAyZmSS0J-UA_aug_9.jpg: ignoring corrupt image/label: image size (10, 8) <10 pixels\n",
      "\u001b[34m\u001b[1mval: \u001b[0mWARNING ⚠️ /home/polna/Developer/final_degree_project/2d_object_detection/data/yolo/val/images/6lkJnoBjmom5_t6k1z6sSA_2.jpg: ignoring corrupt image/label: image size (8, 6) <10 pixels\n",
      "\u001b[34m\u001b[1mval: \u001b[0mWARNING ⚠️ /home/polna/Developer/final_degree_project/2d_object_detection/data/yolo/val/images/7qzgsbN-1WL9Z7TrXQVPGw_3.jpg: ignoring corrupt image/label: image size (12, 9) <10 pixels\n",
      "\u001b[34m\u001b[1mval: \u001b[0mWARNING ⚠️ /home/polna/Developer/final_degree_project/2d_object_detection/data/yolo/val/images/8-ZGaSJdDB9mkL93yDrVyA_aug_4.jpg: ignoring corrupt image/label: image size (9, 17) <10 pixels\n",
      "\u001b[34m\u001b[1mval: \u001b[0mWARNING ⚠️ /home/polna/Developer/final_degree_project/2d_object_detection/data/yolo/val/images/Ae4HZ65rrhJQRWb69OoUVA_aug_3.jpg: ignoring corrupt image/label: image size (13, 9) <10 pixels\n",
      "\u001b[34m\u001b[1mval: \u001b[0mWARNING ⚠️ /home/polna/Developer/final_degree_project/2d_object_detection/data/yolo/val/images/EZsVYM5jLKw6kxsmDb0aVQ_aug_0.jpg: ignoring corrupt image/label: image size (23, 9) <10 pixels\n",
      "\u001b[34m\u001b[1mval: \u001b[0mWARNING ⚠️ /home/polna/Developer/final_degree_project/2d_object_detection/data/yolo/val/images/En4PrSIpwfbO_aejpwINcg_5.jpg: ignoring corrupt image/label: image size (25, 9) <10 pixels\n",
      "\u001b[34m\u001b[1mval: \u001b[0mWARNING ⚠️ /home/polna/Developer/final_degree_project/2d_object_detection/data/yolo/val/images/EvVXsCWQX6K5cPzt1isUuw_aug_0.jpg: ignoring corrupt image/label: image size (9, 32) <10 pixels\n",
      "\u001b[34m\u001b[1mval: \u001b[0mWARNING ⚠️ /home/polna/Developer/final_degree_project/2d_object_detection/data/yolo/val/images/FUQuJs-52jhftJYZa0hI9g_aug_0.jpg: ignoring corrupt image/label: image size (21, 6) <10 pixels\n",
      "\u001b[34m\u001b[1mval: \u001b[0mWARNING ⚠️ /home/polna/Developer/final_degree_project/2d_object_detection/data/yolo/val/images/G-VaMvuZKu9TMrz71AdbYA_3.jpg: ignoring corrupt image/label: image size (12, 7) <10 pixels\n",
      "\u001b[34m\u001b[1mval: \u001b[0mWARNING ⚠️ /home/polna/Developer/final_degree_project/2d_object_detection/data/yolo/val/images/GtQIpmJDZO_8AAFgpqD9mw_aug_0.jpg: ignoring corrupt image/label: image size (13, 9) <10 pixels\n",
      "\u001b[34m\u001b[1mval: \u001b[0mWARNING ⚠️ /home/polna/Developer/final_degree_project/2d_object_detection/data/yolo/val/images/HB10h31lv4TBrjFjpQAqlA_4.jpg: ignoring corrupt image/label: image size (9, 12) <10 pixels\n",
      "\u001b[34m\u001b[1mval: \u001b[0mWARNING ⚠️ /home/polna/Developer/final_degree_project/2d_object_detection/data/yolo/val/images/J3YyZyk18FmEiuZjSw0vhA_6.jpg: ignoring corrupt image/label: image size (9, 17) <10 pixels\n",
      "\u001b[34m\u001b[1mval: \u001b[0mWARNING ⚠️ /home/polna/Developer/final_degree_project/2d_object_detection/data/yolo/val/images/N57OfcO1Zbr9qD9P6GJLKw_4.jpg: ignoring corrupt image/label: image size (26, 9) <10 pixels\n",
      "\u001b[34m\u001b[1mval: \u001b[0mWARNING ⚠️ /home/polna/Developer/final_degree_project/2d_object_detection/data/yolo/val/images/OXQ0d1XsZd1prUcck6Fz4A_aug_0.jpg: ignoring corrupt image/label: image size (11, 8) <10 pixels\n",
      "\u001b[34m\u001b[1mval: \u001b[0mWARNING ⚠️ /home/polna/Developer/final_degree_project/2d_object_detection/data/yolo/val/images/OoA9h0JUsa3cLAZG9HPzxg_2.jpg: ignoring corrupt image/label: image size (8, 19) <10 pixels\n",
      "\u001b[34m\u001b[1mval: \u001b[0mWARNING ⚠️ /home/polna/Developer/final_degree_project/2d_object_detection/data/yolo/val/images/P66DJzVuc3F7vOAcWxSx9Q_aug_0.jpg: ignoring corrupt image/label: image size (7, 28) <10 pixels\n",
      "\u001b[34m\u001b[1mval: \u001b[0mWARNING ⚠️ /home/polna/Developer/final_degree_project/2d_object_detection/data/yolo/val/images/PKX7fhvpyfZrzh034nB_8w_1.jpg: ignoring corrupt image/label: image size (9, 17) <10 pixels\n",
      "\u001b[34m\u001b[1mval: \u001b[0mWARNING ⚠️ /home/polna/Developer/final_degree_project/2d_object_detection/data/yolo/val/images/QxMCNzxVib4ZBD8KJNMzFQ_aug_2.jpg: ignoring corrupt image/label: image size (10, 9) <10 pixels\n",
      "\u001b[34m\u001b[1mval: \u001b[0mWARNING ⚠️ /home/polna/Developer/final_degree_project/2d_object_detection/data/yolo/val/images/QxMCNzxVib4ZBD8KJNMzFQ_aug_5.jpg: ignoring corrupt image/label: image size (10, 9) <10 pixels\n",
      "\u001b[34m\u001b[1mval: \u001b[0mWARNING ⚠️ /home/polna/Developer/final_degree_project/2d_object_detection/data/yolo/val/images/T18E4AsRszWFlwnEEZVUQw_aug_4.jpg: ignoring corrupt image/label: image size (9, 18) <10 pixels\n",
      "\u001b[34m\u001b[1mval: \u001b[0mWARNING ⚠️ /home/polna/Developer/final_degree_project/2d_object_detection/data/yolo/val/images/T8kgXYbo2WDu-olXmRweyw_aug_1.jpg: ignoring corrupt image/label: image size (8, 19) <10 pixels\n",
      "\u001b[34m\u001b[1mval: \u001b[0mWARNING ⚠️ /home/polna/Developer/final_degree_project/2d_object_detection/data/yolo/val/images/UWnThAsVi7uMzu3HezYGUw_aug_1.jpg: ignoring corrupt image/label: image size (8, 22) <10 pixels\n",
      "\u001b[34m\u001b[1mval: \u001b[0mWARNING ⚠️ /home/polna/Developer/final_degree_project/2d_object_detection/data/yolo/val/images/UWnThAsVi7uMzu3HezYGUw_aug_2.jpg: ignoring corrupt image/label: image size (8, 22) <10 pixels\n",
      "\u001b[34m\u001b[1mval: \u001b[0mWARNING ⚠️ /home/polna/Developer/final_degree_project/2d_object_detection/data/yolo/val/images/UpcAQMGeJmxjIsB9c64CJA_2.jpg: ignoring corrupt image/label: image size (23, 9) <10 pixels\n",
      "\u001b[34m\u001b[1mval: \u001b[0mWARNING ⚠️ /home/polna/Developer/final_degree_project/2d_object_detection/data/yolo/val/images/Xh2Z4m35fYpeHNdctI_wvA_aug_11.jpg: ignoring corrupt image/label: image size (9, 13) <10 pixels\n",
      "\u001b[34m\u001b[1mval: \u001b[0mWARNING ⚠️ /home/polna/Developer/final_degree_project/2d_object_detection/data/yolo/val/images/Xs5XtpTkoZQYCJwXK3N2TQ_aug_17.jpg: ignoring corrupt image/label: image size (8, 17) <10 pixels\n",
      "\u001b[34m\u001b[1mval: \u001b[0mWARNING ⚠️ /home/polna/Developer/final_degree_project/2d_object_detection/data/yolo/val/images/Y1H4oOvZID2tk8EZiaiQuQ_aug_11.jpg: ignoring corrupt image/label: image size (33, 8) <10 pixels\n",
      "\u001b[34m\u001b[1mval: \u001b[0mWARNING ⚠️ /home/polna/Developer/final_degree_project/2d_object_detection/data/yolo/val/images/Zkax4zUOygdIocbie2EOOA_aug_3.jpg: ignoring corrupt image/label: image size (9, 19) <10 pixels\n",
      "\u001b[34m\u001b[1mval: \u001b[0mWARNING ⚠️ /home/polna/Developer/final_degree_project/2d_object_detection/data/yolo/val/images/_kvZyv1eH-nFzAWwcCekyg_aug_3.jpg: ignoring corrupt image/label: image size (19, 9) <10 pixels\n",
      "\u001b[34m\u001b[1mval: \u001b[0mWARNING ⚠️ /home/polna/Developer/final_degree_project/2d_object_detection/data/yolo/val/images/_r9CqVJYcCLNoVBnsTgfaA_4.jpg: ignoring corrupt image/label: image size (39, 8) <10 pixels\n",
      "\u001b[34m\u001b[1mval: \u001b[0mWARNING ⚠️ /home/polna/Developer/final_degree_project/2d_object_detection/data/yolo/val/images/aFOUGoY8S_hxfpegBgYqvQ_aug_2.jpg: ignoring corrupt image/label: image size (32, 9) <10 pixels\n",
      "\u001b[34m\u001b[1mval: \u001b[0mWARNING ⚠️ /home/polna/Developer/final_degree_project/2d_object_detection/data/yolo/val/images/c3ndjD6bIqSaIGl9Ga1CMA_2.jpg: ignoring corrupt image/label: image size (27, 8) <10 pixels\n",
      "\u001b[34m\u001b[1mval: \u001b[0mWARNING ⚠️ /home/polna/Developer/final_degree_project/2d_object_detection/data/yolo/val/images/cH1BuTHLk9mOrhc-Sc8JqQ_1.jpg: ignoring corrupt image/label: image size (8, 29) <10 pixels\n",
      "\u001b[34m\u001b[1mval: \u001b[0mWARNING ⚠️ /home/polna/Developer/final_degree_project/2d_object_detection/data/yolo/val/images/dfIQDmKbrR7Oi5WEjYyf8g_4.jpg: ignoring corrupt image/label: image size (9, 29) <10 pixels\n",
      "\u001b[34m\u001b[1mval: \u001b[0mWARNING ⚠️ /home/polna/Developer/final_degree_project/2d_object_detection/data/yolo/val/images/eQbnFuKOJ3lI4mAr_qlP-A_4.jpg: ignoring corrupt image/label: image size (15, 9) <10 pixels\n",
      "\u001b[34m\u001b[1mval: \u001b[0mWARNING ⚠️ /home/polna/Developer/final_degree_project/2d_object_detection/data/yolo/val/images/hCN8lJkLemuV7UnL-1YWjA_aug_0.jpg: ignoring corrupt image/label: image size (8, 23) <10 pixels\n",
      "\u001b[34m\u001b[1mval: \u001b[0mWARNING ⚠️ /home/polna/Developer/final_degree_project/2d_object_detection/data/yolo/val/images/hQ3ODk4BxpGTutVNALYQZQ_3.jpg: ignoring corrupt image/label: image size (13, 9) <10 pixels\n",
      "\u001b[34m\u001b[1mval: \u001b[0mWARNING ⚠️ /home/polna/Developer/final_degree_project/2d_object_detection/data/yolo/val/images/hQ3ODk4BxpGTutVNALYQZQ_aug_1.jpg: ignoring corrupt image/label: image size (13, 9) <10 pixels\n",
      "\u001b[34m\u001b[1mval: \u001b[0mWARNING ⚠️ /home/polna/Developer/final_degree_project/2d_object_detection/data/yolo/val/images/ma5yng0VgaM2T91FMA6L9g_aug_4.jpg: ignoring corrupt image/label: image size (10, 9) <10 pixels\n",
      "\u001b[34m\u001b[1mval: \u001b[0mWARNING ⚠️ /home/polna/Developer/final_degree_project/2d_object_detection/data/yolo/val/images/mtCpHGSudsTYeplsfs-ojA_aug_3.jpg: ignoring corrupt image/label: image size (9, 27) <10 pixels\n",
      "\u001b[34m\u001b[1mval: \u001b[0mWARNING ⚠️ /home/polna/Developer/final_degree_project/2d_object_detection/data/yolo/val/images/nG688d8gEkPkAPIi9t5xTg_aug_3.jpg: ignoring corrupt image/label: image size (9, 10) <10 pixels\n",
      "\u001b[34m\u001b[1mval: \u001b[0mWARNING ⚠️ /home/polna/Developer/final_degree_project/2d_object_detection/data/yolo/val/images/of7s2KcaXFCjzHw4xGZ6TQ_2.jpg: ignoring corrupt image/label: image size (9, 28) <10 pixels\n",
      "\u001b[34m\u001b[1mval: \u001b[0mWARNING ⚠️ /home/polna/Developer/final_degree_project/2d_object_detection/data/yolo/val/images/of7s2KcaXFCjzHw4xGZ6TQ_4.jpg: ignoring corrupt image/label: image size (9, 29) <10 pixels\n",
      "\u001b[34m\u001b[1mval: \u001b[0mWARNING ⚠️ /home/polna/Developer/final_degree_project/2d_object_detection/data/yolo/val/images/of7s2KcaXFCjzHw4xGZ6TQ_aug_1.jpg: ignoring corrupt image/label: image size (9, 28) <10 pixels\n",
      "\u001b[34m\u001b[1mval: \u001b[0mWARNING ⚠️ /home/polna/Developer/final_degree_project/2d_object_detection/data/yolo/val/images/pdw2CkJTvAYLBRA6V12YfQ_aug_0.jpg: ignoring corrupt image/label: image size (11, 9) <10 pixels\n",
      "\u001b[34m\u001b[1mval: \u001b[0mWARNING ⚠️ /home/polna/Developer/final_degree_project/2d_object_detection/data/yolo/val/images/uMjm2RRYCIRImIzYljxOZA_aug_7.jpg: ignoring corrupt image/label: image size (16, 9) <10 pixels\n",
      "\u001b[34m\u001b[1mval: \u001b[0mWARNING ⚠️ /home/polna/Developer/final_degree_project/2d_object_detection/data/yolo/val/images/v3YrHSaHt-usq777t1nZoQ_4.jpg: ignoring corrupt image/label: image size (13, 9) <10 pixels\n",
      "\u001b[34m\u001b[1mval: \u001b[0mWARNING ⚠️ /home/polna/Developer/final_degree_project/2d_object_detection/data/yolo/val/images/v5mmKxKVvmfLD4oCERQCaw_9.jpg: ignoring corrupt image/label: image size (8, 10) <10 pixels\n",
      "\u001b[34m\u001b[1mval: \u001b[0mWARNING ⚠️ /home/polna/Developer/final_degree_project/2d_object_detection/data/yolo/val/images/vF7prubhsTd2TH4hkhue9A_12.jpg: ignoring corrupt image/label: image size (8, 16) <10 pixels\n",
      "\u001b[34m\u001b[1mval: \u001b[0mWARNING ⚠️ /home/polna/Developer/final_degree_project/2d_object_detection/data/yolo/val/images/vWYOHx4MFlBGICsodNjFGg_aug_2.jpg: ignoring corrupt image/label: image size (8, 11) <10 pixels\n",
      "\u001b[34m\u001b[1mval: \u001b[0mWARNING ⚠️ /home/polna/Developer/final_degree_project/2d_object_detection/data/yolo/val/images/wBXCAUr7liRwtNidr47HQw_2.jpg: ignoring corrupt image/label: image size (12, 9) <10 pixels\n",
      "\u001b[34m\u001b[1mval: \u001b[0mWARNING ⚠️ /home/polna/Developer/final_degree_project/2d_object_detection/data/yolo/val/images/yadydCQ2DBEQ3FqZpogxPA_aug_0.jpg: ignoring corrupt image/label: image size (9, 23) <10 pixels\n",
      "\u001b[34m\u001b[1mval: \u001b[0mWARNING ⚠️ /home/polna/Developer/final_degree_project/2d_object_detection/data/yolo/val/images/z-GHWstl1HvHpvgPb2rfgQ_3.jpg: ignoring corrupt image/label: image size (15, 9) <10 pixels\n"
     ]
    },
    {
     "name": "stderr",
     "output_type": "stream",
     "text": [
      "\n",
      "\u001b[34m\u001b[1mval: \u001b[0mCaching images (1.0GB RAM): 100%|██████████| 25677/25677 [00:04<00:00, 5981.10it/s]\u001b[0m\n"
     ]
    },
    {
     "name": "stdout",
     "output_type": "stream",
     "text": [
      "Plotting labels to results/500e full dataset/labels.jpg... \n",
      "\u001b[34m\u001b[1moptimizer:\u001b[0m 'optimizer=auto' found, ignoring 'lr0=0.01' and 'momentum=0.937' and determining best 'optimizer', 'lr0' and 'momentum' automatically... \n",
      "\u001b[34m\u001b[1moptimizer:\u001b[0m SGD(lr=0.01, momentum=0.9) with parameter groups 57 weight(decay=0.0), 64 weight(decay=0.00390625), 63 bias(decay=0.0)\n",
      "Image sizes 128 train, 128 val\n",
      "Using 10 dataloader workers\n",
      "Logging results to \u001b[1mresults/500e full dataset\u001b[0m\n",
      "Starting training for 500 epochs...\n",
      "\n",
      "      Epoch    GPU_mem   box_loss   cls_loss   dfl_loss  Instances       Size\n"
     ]
    },
    {
     "name": "stderr",
     "output_type": "stream",
     "text": [
      "      1/500      4.76G     0.3695      5.574     0.9913        203        128: 100%|██████████| 386\n",
      "                 Class     Images  Instances      Box(P          R      mAP50  mAP50-95): 100%|████\n"
     ]
    },
    {
     "name": "stdout",
     "output_type": "stream",
     "text": [
      "                   all      25677      25677    0.00114     0.0228    0.00129    0.00122\n",
      "\n",
      "      Epoch    GPU_mem   box_loss   cls_loss   dfl_loss  Instances       Size\n"
     ]
    },
    {
     "name": "stderr",
     "output_type": "stream",
     "text": [
      "      2/500       4.8G      0.321      3.594     0.9426        215        128: 100%|██████████| 386\n",
      "                 Class     Images  Instances      Box(P          R      mAP50  mAP50-95): 100%|████\n"
     ]
    },
    {
     "name": "stdout",
     "output_type": "stream",
     "text": [
      "                   all      25677      25677       0.52     0.0402     0.0263     0.0254\n",
      "\n",
      "      Epoch    GPU_mem   box_loss   cls_loss   dfl_loss  Instances       Size\n"
     ]
    },
    {
     "name": "stderr",
     "output_type": "stream",
     "text": [
      "      3/500      4.87G     0.2998      1.553     0.9306        196        128: 100%|██████████| 386\n",
      "                 Class     Images  Instances      Box(P          R      mAP50  mAP50-95): 100%|████\n"
     ]
    },
    {
     "name": "stdout",
     "output_type": "stream",
     "text": [
      "                   all      25677      25677      0.555      0.123     0.0828     0.0807\n",
      "\n",
      "      Epoch    GPU_mem   box_loss   cls_loss   dfl_loss  Instances       Size\n"
     ]
    },
    {
     "name": "stderr",
     "output_type": "stream",
     "text": [
      "      4/500      4.87G     0.2569       1.03     0.9168        193        128: 100%|██████████| 386\n",
      "                 Class     Images  Instances      Box(P          R      mAP50  mAP50-95): 100%|████\n"
     ]
    },
    {
     "name": "stdout",
     "output_type": "stream",
     "text": [
      "                   all      25677      25677      0.366      0.226      0.156      0.155\n",
      "\n",
      "      Epoch    GPU_mem   box_loss   cls_loss   dfl_loss  Instances       Size\n"
     ]
    },
    {
     "name": "stderr",
     "output_type": "stream",
     "text": [
      "      5/500      5.02G     0.2219     0.8559     0.9073        194        128: 100%|██████████| 386\n",
      "                 Class     Images  Instances      Box(P          R      mAP50  mAP50-95): 100%|████\n"
     ]
    },
    {
     "name": "stdout",
     "output_type": "stream",
     "text": [
      "                   all      25677      25677       0.36       0.25        0.2      0.186\n",
      "\n",
      "      Epoch    GPU_mem   box_loss   cls_loss   dfl_loss  Instances       Size\n"
     ]
    },
    {
     "name": "stderr",
     "output_type": "stream",
     "text": [
      "      6/500         5G     0.2032     0.7831     0.9037        204        128: 100%|██████████| 386\n",
      "                 Class     Images  Instances      Box(P          R      mAP50  mAP50-95): 100%|████\n"
     ]
    },
    {
     "name": "stdout",
     "output_type": "stream",
     "text": [
      "                   all      25677      25677      0.361      0.269      0.248      0.239\n",
      "\n",
      "      Epoch    GPU_mem   box_loss   cls_loss   dfl_loss  Instances       Size\n"
     ]
    },
    {
     "name": "stderr",
     "output_type": "stream",
     "text": [
      "      7/500      4.85G     0.1921     0.7346      0.901        205        128: 100%|██████████| 386\n",
      "                 Class     Images  Instances      Box(P          R      mAP50  mAP50-95): 100%|████\n"
     ]
    },
    {
     "name": "stdout",
     "output_type": "stream",
     "text": [
      "                   all      25677      25677        0.4      0.436       0.39      0.373\n",
      "\n",
      "      Epoch    GPU_mem   box_loss   cls_loss   dfl_loss  Instances       Size\n"
     ]
    },
    {
     "name": "stderr",
     "output_type": "stream",
     "text": [
      "      8/500      4.89G     0.1834     0.6987     0.8999        210        128: 100%|██████████| 386\n",
      "                 Class     Images  Instances      Box(P          R      mAP50  mAP50-95): 100%|████\n"
     ]
    },
    {
     "name": "stdout",
     "output_type": "stream",
     "text": [
      "                   all      25677      25677      0.406      0.474      0.426      0.404\n",
      "\n",
      "      Epoch    GPU_mem   box_loss   cls_loss   dfl_loss  Instances       Size\n"
     ]
    },
    {
     "name": "stderr",
     "output_type": "stream",
     "text": [
      "      9/500      4.97G     0.1779     0.6744     0.8993        197        128: 100%|██████████| 386\n",
      "                 Class     Images  Instances      Box(P          R      mAP50  mAP50-95): 100%|████\n"
     ]
    },
    {
     "name": "stdout",
     "output_type": "stream",
     "text": [
      "                   all      25677      25677      0.475      0.501      0.474      0.448\n",
      "\n",
      "      Epoch    GPU_mem   box_loss   cls_loss   dfl_loss  Instances       Size\n"
     ]
    },
    {
     "name": "stderr",
     "output_type": "stream",
     "text": [
      "     10/500      4.92G     0.1732     0.6543     0.8976        203        128: 100%|██████████| 386\n",
      "                 Class     Images  Instances      Box(P          R      mAP50  mAP50-95): 100%|████\n"
     ]
    },
    {
     "name": "stdout",
     "output_type": "stream",
     "text": [
      "                   all      25677      25677      0.509      0.583      0.574       0.55\n",
      "\n",
      "      Epoch    GPU_mem   box_loss   cls_loss   dfl_loss  Instances       Size\n"
     ]
    },
    {
     "name": "stderr",
     "output_type": "stream",
     "text": [
      "     11/500       4.9G     0.1691     0.6382     0.8971        206        128: 100%|██████████| 386\n",
      "                 Class     Images  Instances      Box(P          R      mAP50  mAP50-95): 100%|████\n"
     ]
    },
    {
     "name": "stdout",
     "output_type": "stream",
     "text": [
      "                   all      25677      25677      0.447      0.512      0.451      0.413\n",
      "\n",
      "      Epoch    GPU_mem   box_loss   cls_loss   dfl_loss  Instances       Size\n"
     ]
    },
    {
     "name": "stderr",
     "output_type": "stream",
     "text": [
      "     12/500      4.84G     0.1659     0.6254     0.8972        206        128: 100%|██████████| 386\n",
      "                 Class     Images  Instances      Box(P          R      mAP50  mAP50-95): 100%|████\n"
     ]
    },
    {
     "name": "stdout",
     "output_type": "stream",
     "text": [
      "                   all      25677      25677      0.529      0.588      0.579      0.548\n",
      "\n",
      "      Epoch    GPU_mem   box_loss   cls_loss   dfl_loss  Instances       Size\n"
     ]
    },
    {
     "name": "stderr",
     "output_type": "stream",
     "text": [
      "     13/500      4.94G     0.1633     0.6167     0.8961        206        128: 100%|██████████| 386\n",
      "                 Class     Images  Instances      Box(P          R      mAP50  mAP50-95): 100%|████\n"
     ]
    },
    {
     "name": "stdout",
     "output_type": "stream",
     "text": [
      "                   all      25677      25677      0.522      0.561      0.535      0.503\n",
      "\n",
      "      Epoch    GPU_mem   box_loss   cls_loss   dfl_loss  Instances       Size\n"
     ]
    },
    {
     "name": "stderr",
     "output_type": "stream",
     "text": [
      "     14/500      4.86G     0.1608     0.6102     0.8964        211        128: 100%|██████████| 386\n",
      "                 Class     Images  Instances      Box(P          R      mAP50  mAP50-95): 100%|████\n"
     ]
    },
    {
     "name": "stdout",
     "output_type": "stream",
     "text": [
      "                   all      25677      25677       0.56      0.602      0.595      0.564\n",
      "\n",
      "      Epoch    GPU_mem   box_loss   cls_loss   dfl_loss  Instances       Size\n"
     ]
    },
    {
     "name": "stderr",
     "output_type": "stream",
     "text": [
      "     15/500      4.84G     0.1582     0.5991     0.8953        192        128: 100%|██████████| 386\n",
      "                 Class     Images  Instances      Box(P          R      mAP50  mAP50-95): 100%|████\n"
     ]
    },
    {
     "name": "stdout",
     "output_type": "stream",
     "text": [
      "                   all      25677      25677      0.545      0.617      0.603      0.578\n",
      "\n",
      "      Epoch    GPU_mem   box_loss   cls_loss   dfl_loss  Instances       Size\n"
     ]
    },
    {
     "name": "stderr",
     "output_type": "stream",
     "text": [
      "     16/500      4.83G     0.1556     0.5952      0.895        193        128: 100%|██████████| 386\n",
      "                 Class     Images  Instances      Box(P          R      mAP50  mAP50-95): 100%|████\n"
     ]
    },
    {
     "name": "stdout",
     "output_type": "stream",
     "text": [
      "                   all      25677      25677      0.526      0.565       0.54      0.505\n",
      "\n",
      "      Epoch    GPU_mem   box_loss   cls_loss   dfl_loss  Instances       Size\n"
     ]
    },
    {
     "name": "stderr",
     "output_type": "stream",
     "text": [
      "     17/500      4.84G     0.1543     0.5899     0.8946        205        128: 100%|██████████| 386\n",
      "                 Class     Images  Instances      Box(P          R      mAP50  mAP50-95): 100%|████\n"
     ]
    },
    {
     "name": "stdout",
     "output_type": "stream",
     "text": [
      "                   all      25677      25677      0.685      0.723      0.753      0.719\n",
      "\n",
      "      Epoch    GPU_mem   box_loss   cls_loss   dfl_loss  Instances       Size\n"
     ]
    },
    {
     "name": "stderr",
     "output_type": "stream",
     "text": [
      "     18/500      4.88G      0.153     0.5873     0.8948        204        128: 100%|██████████| 386\n",
      "                 Class     Images  Instances      Box(P          R      mAP50  mAP50-95): 100%|████\n"
     ]
    },
    {
     "name": "stdout",
     "output_type": "stream",
     "text": [
      "                   all      25677      25677      0.528      0.569      0.549      0.517\n",
      "\n",
      "      Epoch    GPU_mem   box_loss   cls_loss   dfl_loss  Instances       Size\n"
     ]
    },
    {
     "name": "stderr",
     "output_type": "stream",
     "text": [
      "     19/500      4.83G     0.1508      0.581     0.8943        193        128: 100%|██████████| 386\n",
      "                 Class     Images  Instances      Box(P          R      mAP50  mAP50-95): 100%|████\n"
     ]
    },
    {
     "name": "stdout",
     "output_type": "stream",
     "text": [
      "                   all      25677      25677      0.614      0.683      0.681       0.65\n",
      "\n",
      "      Epoch    GPU_mem   box_loss   cls_loss   dfl_loss  Instances       Size\n"
     ]
    },
    {
     "name": "stderr",
     "output_type": "stream",
     "text": [
      "     20/500      4.83G     0.1495      0.577     0.8943        190        128: 100%|██████████| 386\n",
      "                 Class     Images  Instances      Box(P          R      mAP50  mAP50-95): 100%|████\n"
     ]
    },
    {
     "name": "stdout",
     "output_type": "stream",
     "text": [
      "                   all      25677      25677      0.622      0.703        0.7      0.665\n",
      "\n",
      "      Epoch    GPU_mem   box_loss   cls_loss   dfl_loss  Instances       Size\n"
     ]
    },
    {
     "name": "stderr",
     "output_type": "stream",
     "text": [
      "     21/500      4.83G     0.1476      0.574     0.8942        217        128: 100%|██████████| 386\n",
      "                 Class     Images  Instances      Box(P          R      mAP50  mAP50-95): 100%|████\n"
     ]
    },
    {
     "name": "stdout",
     "output_type": "stream",
     "text": [
      "                   all      25677      25677      0.605      0.666      0.667      0.638\n",
      "\n",
      "      Epoch    GPU_mem   box_loss   cls_loss   dfl_loss  Instances       Size\n"
     ]
    },
    {
     "name": "stderr",
     "output_type": "stream",
     "text": [
      "     22/500      4.83G     0.1463     0.5714     0.8944        200        128: 100%|██████████| 386\n",
      "                 Class     Images  Instances      Box(P          R      mAP50  mAP50-95): 100%|████\n"
     ]
    },
    {
     "name": "stdout",
     "output_type": "stream",
     "text": [
      "                   all      25677      25677       0.63      0.708      0.708       0.68\n",
      "\n",
      "      Epoch    GPU_mem   box_loss   cls_loss   dfl_loss  Instances       Size\n"
     ]
    },
    {
     "name": "stderr",
     "output_type": "stream",
     "text": [
      "     23/500      4.83G     0.1457     0.5708     0.8936        192        128: 100%|██████████| 386\n",
      "                 Class     Images  Instances      Box(P          R      mAP50  mAP50-95): 100%|████\n"
     ]
    },
    {
     "name": "stdout",
     "output_type": "stream",
     "text": [
      "                   all      25677      25677      0.649      0.728      0.729      0.705\n",
      "\n",
      "      Epoch    GPU_mem   box_loss   cls_loss   dfl_loss  Instances       Size\n"
     ]
    },
    {
     "name": "stderr",
     "output_type": "stream",
     "text": [
      "     24/500      4.83G      0.144     0.5635     0.8934        197        128: 100%|██████████| 386\n",
      "                 Class     Images  Instances      Box(P          R      mAP50  mAP50-95): 100%|████\n"
     ]
    },
    {
     "name": "stdout",
     "output_type": "stream",
     "text": [
      "                   all      25677      25677      0.622       0.68      0.682      0.649\n",
      "\n",
      "      Epoch    GPU_mem   box_loss   cls_loss   dfl_loss  Instances       Size\n"
     ]
    },
    {
     "name": "stderr",
     "output_type": "stream",
     "text": [
      "     25/500      4.83G     0.1432     0.5607     0.8937        203        128: 100%|██████████| 386\n",
      "                 Class     Images  Instances      Box(P          R      mAP50  mAP50-95): 100%|████\n"
     ]
    },
    {
     "name": "stdout",
     "output_type": "stream",
     "text": [
      "                   all      25677      25677      0.636      0.688      0.693      0.667\n",
      "\n",
      "      Epoch    GPU_mem   box_loss   cls_loss   dfl_loss  Instances       Size\n"
     ]
    },
    {
     "name": "stderr",
     "output_type": "stream",
     "text": [
      "     26/500      4.83G     0.1421     0.5583     0.8936        207        128: 100%|██████████| 386\n",
      "                 Class     Images  Instances      Box(P          R      mAP50  mAP50-95): 100%|████\n"
     ]
    },
    {
     "name": "stdout",
     "output_type": "stream",
     "text": [
      "                   all      25677      25677      0.686      0.739      0.753      0.728\n",
      "\n",
      "      Epoch    GPU_mem   box_loss   cls_loss   dfl_loss  Instances       Size\n"
     ]
    },
    {
     "name": "stderr",
     "output_type": "stream",
     "text": [
      "     27/500      4.83G     0.1407     0.5565     0.8932        186        128: 100%|██████████| 386\n",
      "                 Class     Images  Instances      Box(P          R      mAP50  mAP50-95): 100%|████\n"
     ]
    },
    {
     "name": "stdout",
     "output_type": "stream",
     "text": [
      "                   all      25677      25677      0.658      0.724      0.731       0.71\n",
      "\n",
      "      Epoch    GPU_mem   box_loss   cls_loss   dfl_loss  Instances       Size\n"
     ]
    },
    {
     "name": "stderr",
     "output_type": "stream",
     "text": [
      "     28/500      4.82G       0.14     0.5557     0.8936        207        128: 100%|██████████| 386\n",
      "                 Class     Images  Instances      Box(P          R      mAP50  mAP50-95): 100%|████\n"
     ]
    },
    {
     "name": "stdout",
     "output_type": "stream",
     "text": [
      "                   all      25677      25677      0.701      0.745       0.76      0.733\n",
      "\n",
      "      Epoch    GPU_mem   box_loss   cls_loss   dfl_loss  Instances       Size\n"
     ]
    },
    {
     "name": "stderr",
     "output_type": "stream",
     "text": [
      "     29/500      4.83G     0.1391     0.5543     0.8934        197        128: 100%|██████████| 386\n",
      "                 Class     Images  Instances      Box(P          R      mAP50  mAP50-95): 100%|████\n"
     ]
    },
    {
     "name": "stdout",
     "output_type": "stream",
     "text": [
      "                   all      25677      25677      0.695       0.75      0.761      0.734\n",
      "\n",
      "      Epoch    GPU_mem   box_loss   cls_loss   dfl_loss  Instances       Size\n"
     ]
    },
    {
     "name": "stderr",
     "output_type": "stream",
     "text": [
      "     30/500      4.82G     0.1378     0.5497     0.8927        200        128: 100%|██████████| 386\n",
      "                 Class     Images  Instances      Box(P          R      mAP50  mAP50-95): 100%|████\n"
     ]
    },
    {
     "name": "stdout",
     "output_type": "stream",
     "text": [
      "                   all      25677      25677      0.699      0.742       0.76      0.731\n",
      "\n",
      "      Epoch    GPU_mem   box_loss   cls_loss   dfl_loss  Instances       Size\n"
     ]
    },
    {
     "name": "stderr",
     "output_type": "stream",
     "text": [
      "     31/500      4.83G     0.1362     0.5454      0.893        206        128: 100%|██████████| 386\n",
      "                 Class     Images  Instances      Box(P          R      mAP50  mAP50-95): 100%|████\n"
     ]
    },
    {
     "name": "stdout",
     "output_type": "stream",
     "text": [
      "                   all      25677      25677      0.675      0.732      0.744       0.72\n",
      "\n",
      "      Epoch    GPU_mem   box_loss   cls_loss   dfl_loss  Instances       Size\n"
     ]
    },
    {
     "name": "stderr",
     "output_type": "stream",
     "text": [
      "     32/500      4.82G     0.1356      0.547     0.8932        195        128: 100%|██████████| 386\n",
      "                 Class     Images  Instances      Box(P          R      mAP50  mAP50-95): 100%|████\n"
     ]
    },
    {
     "name": "stdout",
     "output_type": "stream",
     "text": [
      "                   all      25677      25677      0.667      0.721      0.725      0.704\n",
      "\n",
      "      Epoch    GPU_mem   box_loss   cls_loss   dfl_loss  Instances       Size\n"
     ]
    },
    {
     "name": "stderr",
     "output_type": "stream",
     "text": [
      "     33/500      4.82G     0.1347     0.5445      0.893        198        128: 100%|██████████| 386\n",
      "                 Class     Images  Instances      Box(P          R      mAP50  mAP50-95): 100%|████\n"
     ]
    },
    {
     "name": "stdout",
     "output_type": "stream",
     "text": [
      "                   all      25677      25677       0.68      0.747       0.75      0.727\n",
      "\n",
      "      Epoch    GPU_mem   box_loss   cls_loss   dfl_loss  Instances       Size\n"
     ]
    },
    {
     "name": "stderr",
     "output_type": "stream",
     "text": [
      "     34/500      4.82G     0.1345     0.5382     0.8933        209        128: 100%|██████████| 386\n",
      "                 Class     Images  Instances      Box(P          R      mAP50  mAP50-95): 100%|████\n"
     ]
    },
    {
     "name": "stdout",
     "output_type": "stream",
     "text": [
      "                   all      25677      25677      0.703       0.75      0.766      0.742\n",
      "\n",
      "      Epoch    GPU_mem   box_loss   cls_loss   dfl_loss  Instances       Size\n"
     ]
    },
    {
     "name": "stderr",
     "output_type": "stream",
     "text": [
      "     35/500      4.82G     0.1334     0.5366     0.8929        187        128: 100%|██████████| 386\n",
      "                 Class     Images  Instances      Box(P          R      mAP50  mAP50-95): 100%|████\n"
     ]
    },
    {
     "name": "stdout",
     "output_type": "stream",
     "text": [
      "                   all      25677      25677      0.689      0.751      0.759      0.732\n",
      "\n",
      "      Epoch    GPU_mem   box_loss   cls_loss   dfl_loss  Instances       Size\n"
     ]
    },
    {
     "name": "stderr",
     "output_type": "stream",
     "text": [
      "     36/500      4.82G     0.1328      0.536     0.8929        193        128: 100%|██████████| 386\n",
      "                 Class     Images  Instances      Box(P          R      mAP50  mAP50-95): 100%|████\n"
     ]
    },
    {
     "name": "stdout",
     "output_type": "stream",
     "text": [
      "                   all      25677      25677      0.695      0.761      0.767      0.739\n",
      "\n",
      "      Epoch    GPU_mem   box_loss   cls_loss   dfl_loss  Instances       Size\n"
     ]
    },
    {
     "name": "stderr",
     "output_type": "stream",
     "text": [
      "     37/500      4.82G     0.1317     0.5342     0.8926        198        128: 100%|██████████| 386\n",
      "                 Class     Images  Instances      Box(P          R      mAP50  mAP50-95): 100%|████\n"
     ]
    },
    {
     "name": "stdout",
     "output_type": "stream",
     "text": [
      "                   all      25677      25677      0.706      0.766      0.776      0.746\n",
      "\n",
      "      Epoch    GPU_mem   box_loss   cls_loss   dfl_loss  Instances       Size\n"
     ]
    },
    {
     "name": "stderr",
     "output_type": "stream",
     "text": [
      "     38/500      4.82G     0.1312     0.5307     0.8923        198        128: 100%|██████████| 386\n",
      "                 Class     Images  Instances      Box(P          R      mAP50  mAP50-95): 100%|████\n"
     ]
    },
    {
     "name": "stdout",
     "output_type": "stream",
     "text": [
      "                   all      25677      25677      0.715      0.776      0.784      0.753\n",
      "\n",
      "      Epoch    GPU_mem   box_loss   cls_loss   dfl_loss  Instances       Size\n"
     ]
    },
    {
     "name": "stderr",
     "output_type": "stream",
     "text": [
      "     39/500      4.82G     0.1303     0.5314     0.8921        189        128: 100%|██████████| 386\n",
      "                 Class     Images  Instances      Box(P          R      mAP50  mAP50-95): 100%|████\n"
     ]
    },
    {
     "name": "stdout",
     "output_type": "stream",
     "text": [
      "                   all      25677      25677      0.719      0.773      0.785      0.754\n",
      "\n",
      "      Epoch    GPU_mem   box_loss   cls_loss   dfl_loss  Instances       Size\n"
     ]
    },
    {
     "name": "stderr",
     "output_type": "stream",
     "text": [
      "     40/500      4.82G     0.1306     0.5318     0.8923        208        128: 100%|██████████| 386\n",
      "                 Class     Images  Instances      Box(P          R      mAP50  mAP50-95): 100%|████\n"
     ]
    },
    {
     "name": "stdout",
     "output_type": "stream",
     "text": [
      "                   all      25677      25677      0.716      0.776      0.784      0.754\n",
      "\n",
      "      Epoch    GPU_mem   box_loss   cls_loss   dfl_loss  Instances       Size\n"
     ]
    },
    {
     "name": "stderr",
     "output_type": "stream",
     "text": [
      "     41/500      4.82G       0.13     0.5301     0.8923        206        128: 100%|██████████| 386\n",
      "                 Class     Images  Instances      Box(P          R      mAP50  mAP50-95): 100%|████\n"
     ]
    },
    {
     "name": "stdout",
     "output_type": "stream",
     "text": [
      "                   all      25677      25677      0.719      0.776      0.785      0.756\n",
      "\n",
      "      Epoch    GPU_mem   box_loss   cls_loss   dfl_loss  Instances       Size\n"
     ]
    },
    {
     "name": "stderr",
     "output_type": "stream",
     "text": [
      "     42/500      4.82G     0.1292     0.5287     0.8921        213        128: 100%|██████████| 386\n",
      "                 Class     Images  Instances      Box(P          R      mAP50  mAP50-95): 100%|████\n"
     ]
    },
    {
     "name": "stdout",
     "output_type": "stream",
     "text": [
      "                   all      25677      25677       0.72      0.776      0.786      0.758\n",
      "\n",
      "      Epoch    GPU_mem   box_loss   cls_loss   dfl_loss  Instances       Size\n"
     ]
    },
    {
     "name": "stderr",
     "output_type": "stream",
     "text": [
      "     43/500      4.82G     0.1297     0.5278     0.8917        209        128: 100%|██████████| 386\n",
      "                 Class     Images  Instances      Box(P          R      mAP50  mAP50-95): 100%|████\n"
     ]
    },
    {
     "name": "stdout",
     "output_type": "stream",
     "text": [
      "                   all      25677      25677      0.716      0.779      0.786       0.76\n",
      "\n",
      "      Epoch    GPU_mem   box_loss   cls_loss   dfl_loss  Instances       Size\n"
     ]
    },
    {
     "name": "stderr",
     "output_type": "stream",
     "text": [
      "     44/500      4.82G     0.1291     0.5269      0.892        186        128: 100%|██████████| 386\n",
      "                 Class     Images  Instances      Box(P          R      mAP50  mAP50-95): 100%|████\n"
     ]
    },
    {
     "name": "stdout",
     "output_type": "stream",
     "text": [
      "                   all      25677      25677       0.72       0.78      0.788      0.762\n",
      "\n",
      "      Epoch    GPU_mem   box_loss   cls_loss   dfl_loss  Instances       Size\n"
     ]
    },
    {
     "name": "stderr",
     "output_type": "stream",
     "text": [
      "     45/500      4.82G        inf     0.5247     0.8919        200        128: 100%|██████████| 386\n",
      "                 Class     Images  Instances      Box(P          R      mAP50  mAP50-95): 100%|████\n"
     ]
    },
    {
     "name": "stdout",
     "output_type": "stream",
     "text": [
      "                   all      25677      25677      0.723      0.783      0.791      0.763\n",
      "\n",
      "      Epoch    GPU_mem   box_loss   cls_loss   dfl_loss  Instances       Size\n"
     ]
    },
    {
     "name": "stderr",
     "output_type": "stream",
     "text": [
      "     46/500      4.82G     0.1282      0.524     0.8917        197        128: 100%|██████████| 386\n",
      "                 Class     Images  Instances      Box(P          R      mAP50  mAP50-95): 100%|████\n"
     ]
    },
    {
     "name": "stdout",
     "output_type": "stream",
     "text": [
      "                   all      25677      25677      0.727       0.78      0.792      0.764\n",
      "\n",
      "      Epoch    GPU_mem   box_loss   cls_loss   dfl_loss  Instances       Size\n"
     ]
    },
    {
     "name": "stderr",
     "output_type": "stream",
     "text": [
      "     47/500      4.82G     0.1278      0.523     0.8913        199        128: 100%|██████████| 386\n",
      "                 Class     Images  Instances      Box(P          R      mAP50  mAP50-95): 100%|████\n"
     ]
    },
    {
     "name": "stdout",
     "output_type": "stream",
     "text": [
      "                   all      25677      25677      0.729      0.783      0.794      0.765\n",
      "\n",
      "      Epoch    GPU_mem   box_loss   cls_loss   dfl_loss  Instances       Size\n"
     ]
    },
    {
     "name": "stderr",
     "output_type": "stream",
     "text": [
      "     48/500      4.82G     0.1275     0.5239     0.8913        193        128: 100%|██████████| 386\n",
      "                 Class     Images  Instances      Box(P          R      mAP50  mAP50-95): 100%|████\n"
     ]
    },
    {
     "name": "stdout",
     "output_type": "stream",
     "text": [
      "                   all      25677      25677      0.731      0.786      0.795      0.765\n",
      "\n",
      "      Epoch    GPU_mem   box_loss   cls_loss   dfl_loss  Instances       Size\n"
     ]
    },
    {
     "name": "stderr",
     "output_type": "stream",
     "text": [
      "     49/500      4.82G     0.1274     0.5254     0.8911        208        128: 100%|██████████| 386\n",
      "                 Class     Images  Instances      Box(P          R      mAP50  mAP50-95): 100%|████\n"
     ]
    },
    {
     "name": "stdout",
     "output_type": "stream",
     "text": [
      "                   all      25677      25677       0.73      0.786      0.795      0.764\n",
      "\n",
      "      Epoch    GPU_mem   box_loss   cls_loss   dfl_loss  Instances       Size\n"
     ]
    },
    {
     "name": "stderr",
     "output_type": "stream",
     "text": [
      "     50/500      4.82G      0.127     0.5182     0.8915        194        128: 100%|██████████| 386\n",
      "                 Class     Images  Instances      Box(P          R      mAP50  mAP50-95): 100%|████\n"
     ]
    },
    {
     "name": "stdout",
     "output_type": "stream",
     "text": [
      "                   all      25677      25677       0.73      0.785      0.795      0.764\n",
      "\n",
      "      Epoch    GPU_mem   box_loss   cls_loss   dfl_loss  Instances       Size\n"
     ]
    },
    {
     "name": "stderr",
     "output_type": "stream",
     "text": [
      "     51/500      4.82G     0.1267     0.5174     0.8912        201        128: 100%|██████████| 386\n",
      "                 Class     Images  Instances      Box(P          R      mAP50  mAP50-95): 100%|████\n"
     ]
    },
    {
     "name": "stdout",
     "output_type": "stream",
     "text": [
      "                   all      25677      25677      0.728      0.786      0.795      0.763\n",
      "\n",
      "      Epoch    GPU_mem   box_loss   cls_loss   dfl_loss  Instances       Size\n"
     ]
    },
    {
     "name": "stderr",
     "output_type": "stream",
     "text": [
      "     52/500      4.82G     0.1258     0.5169     0.8912        202        128: 100%|██████████| 386\n",
      "                 Class     Images  Instances      Box(P          R      mAP50  mAP50-95): 100%|████\n"
     ]
    },
    {
     "name": "stdout",
     "output_type": "stream",
     "text": [
      "                   all      25677      25677       0.73      0.785      0.795      0.762\n",
      "\n",
      "      Epoch    GPU_mem   box_loss   cls_loss   dfl_loss  Instances       Size\n"
     ]
    },
    {
     "name": "stderr",
     "output_type": "stream",
     "text": [
      "     53/500      4.82G     0.1257     0.5178      0.891        206        128: 100%|██████████| 386\n",
      "                 Class     Images  Instances      Box(P          R      mAP50  mAP50-95): 100%|████\n"
     ]
    },
    {
     "name": "stdout",
     "output_type": "stream",
     "text": [
      "                   all      25677      25677      0.731      0.785      0.795      0.762\n",
      "\n",
      "      Epoch    GPU_mem   box_loss   cls_loss   dfl_loss  Instances       Size\n"
     ]
    },
    {
     "name": "stderr",
     "output_type": "stream",
     "text": [
      "     54/500      4.82G     0.1258     0.5177     0.8916        204        128: 100%|██████████| 386\n",
      "                 Class     Images  Instances      Box(P          R      mAP50  mAP50-95): 100%|████\n"
     ]
    },
    {
     "name": "stdout",
     "output_type": "stream",
     "text": [
      "                   all      25677      25677      0.732      0.786      0.797      0.762\n",
      "\n",
      "      Epoch    GPU_mem   box_loss   cls_loss   dfl_loss  Instances       Size\n"
     ]
    },
    {
     "name": "stderr",
     "output_type": "stream",
     "text": [
      "     55/500      4.82G     0.1257     0.5217     0.8915        179        128: 100%|██████████| 386\n",
      "                 Class     Images  Instances      Box(P          R      mAP50  mAP50-95): 100%|████\n"
     ]
    },
    {
     "name": "stdout",
     "output_type": "stream",
     "text": [
      "                   all      25677      25677      0.735      0.787      0.798      0.763\n",
      "\n",
      "      Epoch    GPU_mem   box_loss   cls_loss   dfl_loss  Instances       Size\n"
     ]
    },
    {
     "name": "stderr",
     "output_type": "stream",
     "text": [
      "     56/500      4.82G     0.1257     0.5193     0.8912        211        128: 100%|██████████| 386\n",
      "                 Class     Images  Instances      Box(P          R      mAP50  mAP50-95): 100%|████\n"
     ]
    },
    {
     "name": "stdout",
     "output_type": "stream",
     "text": [
      "                   all      25677      25677      0.734      0.789        0.8      0.764\n",
      "\n",
      "      Epoch    GPU_mem   box_loss   cls_loss   dfl_loss  Instances       Size\n"
     ]
    },
    {
     "name": "stderr",
     "output_type": "stream",
     "text": [
      "     57/500      4.82G     0.1254     0.5173     0.8913        197        128: 100%|██████████| 386\n",
      "                 Class     Images  Instances      Box(P          R      mAP50  mAP50-95): 100%|████\n"
     ]
    },
    {
     "name": "stdout",
     "output_type": "stream",
     "text": [
      "                   all      25677      25677      0.736      0.787      0.801      0.764\n",
      "\n",
      "      Epoch    GPU_mem   box_loss   cls_loss   dfl_loss  Instances       Size\n"
     ]
    },
    {
     "name": "stderr",
     "output_type": "stream",
     "text": [
      "     58/500      4.82G     0.1257     0.5186     0.8913        192        128: 100%|██████████| 386\n",
      "                 Class     Images  Instances      Box(P          R      mAP50  mAP50-95): 100%|████\n"
     ]
    },
    {
     "name": "stdout",
     "output_type": "stream",
     "text": [
      "                   all      25677      25677      0.737      0.787      0.801      0.764\n",
      "\n",
      "      Epoch    GPU_mem   box_loss   cls_loss   dfl_loss  Instances       Size\n"
     ]
    },
    {
     "name": "stderr",
     "output_type": "stream",
     "text": [
      "     59/500      4.82G      0.125     0.5175     0.8907        201        128: 100%|██████████| 386\n",
      "                 Class     Images  Instances      Box(P          R      mAP50  mAP50-95): 100%|████\n"
     ]
    },
    {
     "name": "stdout",
     "output_type": "stream",
     "text": [
      "                   all      25677      25677      0.736      0.789      0.802      0.764\n",
      "\n",
      "      Epoch    GPU_mem   box_loss   cls_loss   dfl_loss  Instances       Size\n"
     ]
    },
    {
     "name": "stderr",
     "output_type": "stream",
     "text": [
      "     60/500      4.82G     0.1242      0.516     0.8912        212        128: 100%|██████████| 386\n",
      "                 Class     Images  Instances      Box(P          R      mAP50  mAP50-95): 100%|████\n"
     ]
    },
    {
     "name": "stdout",
     "output_type": "stream",
     "text": [
      "                   all      25677      25677      0.738      0.788      0.802      0.765\n",
      "\n",
      "      Epoch    GPU_mem   box_loss   cls_loss   dfl_loss  Instances       Size\n"
     ]
    },
    {
     "name": "stderr",
     "output_type": "stream",
     "text": [
      "     61/500      4.82G     0.1243     0.5134      0.891        204        128: 100%|██████████| 386\n",
      "                 Class     Images  Instances      Box(P          R      mAP50  mAP50-95): 100%|████\n"
     ]
    },
    {
     "name": "stdout",
     "output_type": "stream",
     "text": [
      "                   all      25677      25677      0.739      0.789      0.803      0.765\n",
      "\n",
      "      Epoch    GPU_mem   box_loss   cls_loss   dfl_loss  Instances       Size\n"
     ]
    },
    {
     "name": "stderr",
     "output_type": "stream",
     "text": [
      "     62/500      4.82G     0.1238     0.5144     0.8914        200        128: 100%|██████████| 386\n",
      "                 Class     Images  Instances      Box(P          R      mAP50  mAP50-95): 100%|████\n"
     ]
    },
    {
     "name": "stdout",
     "output_type": "stream",
     "text": [
      "                   all      25677      25677      0.742      0.786      0.803      0.765\n",
      "\n",
      "      Epoch    GPU_mem   box_loss   cls_loss   dfl_loss  Instances       Size\n"
     ]
    },
    {
     "name": "stderr",
     "output_type": "stream",
     "text": [
      "     63/500      4.82G     0.1243     0.5148     0.8908        212        128: 100%|██████████| 386\n",
      "                 Class     Images  Instances      Box(P          R      mAP50  mAP50-95): 100%|████\n"
     ]
    },
    {
     "name": "stdout",
     "output_type": "stream",
     "text": [
      "                   all      25677      25677      0.743      0.787      0.804      0.766\n",
      "\n",
      "      Epoch    GPU_mem   box_loss   cls_loss   dfl_loss  Instances       Size\n"
     ]
    },
    {
     "name": "stderr",
     "output_type": "stream",
     "text": [
      "     64/500      4.82G     0.1238     0.5139     0.8905        210        128: 100%|██████████| 386\n",
      "                 Class     Images  Instances      Box(P          R      mAP50  mAP50-95): 100%|████\n"
     ]
    },
    {
     "name": "stdout",
     "output_type": "stream",
     "text": [
      "                   all      25677      25677      0.745      0.787      0.805      0.766\n",
      "\n",
      "      Epoch    GPU_mem   box_loss   cls_loss   dfl_loss  Instances       Size\n"
     ]
    },
    {
     "name": "stderr",
     "output_type": "stream",
     "text": [
      "     65/500      4.82G     0.1232     0.5126      0.891        206        128: 100%|██████████| 386\n",
      "                 Class     Images  Instances      Box(P          R      mAP50  mAP50-95): 100%|████\n"
     ]
    },
    {
     "name": "stdout",
     "output_type": "stream",
     "text": [
      "                   all      25677      25677      0.745      0.787      0.806      0.766\n",
      "\n",
      "      Epoch    GPU_mem   box_loss   cls_loss   dfl_loss  Instances       Size\n"
     ]
    },
    {
     "name": "stderr",
     "output_type": "stream",
     "text": [
      "     66/500      4.82G     0.1227     0.5123     0.8905        202        128: 100%|██████████| 386\n",
      "                 Class     Images  Instances      Box(P          R      mAP50  mAP50-95): 100%|████\n"
     ]
    },
    {
     "name": "stdout",
     "output_type": "stream",
     "text": [
      "                   all      25677      25677      0.745      0.787      0.806      0.766\n",
      "\n",
      "      Epoch    GPU_mem   box_loss   cls_loss   dfl_loss  Instances       Size\n"
     ]
    },
    {
     "name": "stderr",
     "output_type": "stream",
     "text": [
      "     67/500      4.82G     0.1227     0.5138     0.8906        219        128: 100%|██████████| 386\n",
      "                 Class     Images  Instances      Box(P          R      mAP50  mAP50-95): 100%|████\n"
     ]
    },
    {
     "name": "stdout",
     "output_type": "stream",
     "text": [
      "                   all      25677      25677      0.746      0.786      0.807      0.766\n",
      "\n",
      "      Epoch    GPU_mem   box_loss   cls_loss   dfl_loss  Instances       Size\n"
     ]
    },
    {
     "name": "stderr",
     "output_type": "stream",
     "text": [
      "     68/500      4.82G     0.1232     0.5138     0.8904        213        128: 100%|██████████| 386\n",
      "                 Class     Images  Instances      Box(P          R      mAP50  mAP50-95): 100%|████\n"
     ]
    },
    {
     "name": "stdout",
     "output_type": "stream",
     "text": [
      "                   all      25677      25677      0.744      0.787      0.807      0.766\n",
      "\n",
      "      Epoch    GPU_mem   box_loss   cls_loss   dfl_loss  Instances       Size\n"
     ]
    },
    {
     "name": "stderr",
     "output_type": "stream",
     "text": [
      "     69/500      4.82G     0.1228     0.5093     0.8905        206        128: 100%|██████████| 386\n",
      "                 Class     Images  Instances      Box(P          R      mAP50  mAP50-95): 100%|████\n"
     ]
    },
    {
     "name": "stdout",
     "output_type": "stream",
     "text": [
      "                   all      25677      25677      0.744      0.788      0.807      0.765\n",
      "\n",
      "      Epoch    GPU_mem   box_loss   cls_loss   dfl_loss  Instances       Size\n"
     ]
    },
    {
     "name": "stderr",
     "output_type": "stream",
     "text": [
      "     70/500      4.82G      0.123     0.5128      0.891        196        128: 100%|██████████| 386\n",
      "                 Class     Images  Instances      Box(P          R      mAP50  mAP50-95): 100%|████\n"
     ]
    },
    {
     "name": "stdout",
     "output_type": "stream",
     "text": [
      "                   all      25677      25677      0.745      0.788      0.808      0.765\n",
      "\n",
      "      Epoch    GPU_mem   box_loss   cls_loss   dfl_loss  Instances       Size\n"
     ]
    },
    {
     "name": "stderr",
     "output_type": "stream",
     "text": [
      "     71/500      4.82G     0.1221     0.5084     0.8906        181        128: 100%|██████████| 386\n",
      "                 Class     Images  Instances      Box(P          R      mAP50  mAP50-95): 100%|████\n"
     ]
    },
    {
     "name": "stdout",
     "output_type": "stream",
     "text": [
      "                   all      25677      25677      0.745       0.79      0.809      0.765\n",
      "\n",
      "      Epoch    GPU_mem   box_loss   cls_loss   dfl_loss  Instances       Size\n"
     ]
    },
    {
     "name": "stderr",
     "output_type": "stream",
     "text": [
      "     72/500      4.82G      0.122     0.5088     0.8904        214        128: 100%|██████████| 386\n",
      "                 Class     Images  Instances      Box(P          R      mAP50  mAP50-95): 100%|████\n"
     ]
    },
    {
     "name": "stdout",
     "output_type": "stream",
     "text": [
      "                   all      25677      25677      0.741      0.795      0.811      0.765\n",
      "\n",
      "      Epoch    GPU_mem   box_loss   cls_loss   dfl_loss  Instances       Size\n"
     ]
    },
    {
     "name": "stderr",
     "output_type": "stream",
     "text": [
      "     73/500      4.82G     0.1219     0.5067     0.8902        186        128: 100%|██████████| 386\n",
      "                 Class     Images  Instances      Box(P          R      mAP50  mAP50-95): 100%|████\n"
     ]
    },
    {
     "name": "stdout",
     "output_type": "stream",
     "text": [
      "                   all      25677      25677       0.74      0.794      0.811      0.764\n",
      "\n",
      "      Epoch    GPU_mem   box_loss   cls_loss   dfl_loss  Instances       Size\n"
     ]
    },
    {
     "name": "stderr",
     "output_type": "stream",
     "text": [
      "     74/500      4.82G     0.1215     0.5064     0.8905        206        128: 100%|██████████| 386\n",
      "                 Class     Images  Instances      Box(P          R      mAP50  mAP50-95): 100%|████\n"
     ]
    },
    {
     "name": "stdout",
     "output_type": "stream",
     "text": [
      "                   all      25677      25677      0.741      0.792      0.811      0.764\n",
      "\n",
      "      Epoch    GPU_mem   box_loss   cls_loss   dfl_loss  Instances       Size\n"
     ]
    },
    {
     "name": "stderr",
     "output_type": "stream",
     "text": [
      "     75/500      4.82G     0.1211     0.5059     0.8901        207        128: 100%|██████████| 386\n",
      "                 Class     Images  Instances      Box(P          R      mAP50  mAP50-95): 100%|████\n"
     ]
    },
    {
     "name": "stdout",
     "output_type": "stream",
     "text": [
      "                   all      25677      25677      0.738      0.794      0.811      0.763\n",
      "\n",
      "      Epoch    GPU_mem   box_loss   cls_loss   dfl_loss  Instances       Size\n"
     ]
    },
    {
     "name": "stderr",
     "output_type": "stream",
     "text": [
      "     76/500      4.82G     0.1212     0.5046     0.8904        205        128: 100%|██████████| 386\n",
      "                 Class     Images  Instances      Box(P          R      mAP50  mAP50-95): 100%|████\n"
     ]
    },
    {
     "name": "stdout",
     "output_type": "stream",
     "text": [
      "                   all      25677      25677       0.74      0.791       0.81      0.762\n",
      "\n",
      "      Epoch    GPU_mem   box_loss   cls_loss   dfl_loss  Instances       Size\n"
     ]
    },
    {
     "name": "stderr",
     "output_type": "stream",
     "text": [
      "     77/500      4.82G     0.1206     0.5051     0.8899        194        128: 100%|██████████| 386\n",
      "                 Class     Images  Instances      Box(P          R      mAP50  mAP50-95): 100%|████\n"
     ]
    },
    {
     "name": "stdout",
     "output_type": "stream",
     "text": [
      "                   all      25677      25677      0.739      0.792      0.811      0.762\n",
      "\n",
      "      Epoch    GPU_mem   box_loss   cls_loss   dfl_loss  Instances       Size\n"
     ]
    },
    {
     "name": "stderr",
     "output_type": "stream",
     "text": [
      "     78/500      4.82G     0.1202     0.5059     0.8902        200        128: 100%|██████████| 386\n",
      "                 Class     Images  Instances      Box(P          R      mAP50  mAP50-95): 100%|████\n"
     ]
    },
    {
     "name": "stdout",
     "output_type": "stream",
     "text": [
      "                   all      25677      25677      0.738      0.793      0.811      0.762\n",
      "\n",
      "      Epoch    GPU_mem   box_loss   cls_loss   dfl_loss  Instances       Size\n"
     ]
    },
    {
     "name": "stderr",
     "output_type": "stream",
     "text": [
      "     79/500      4.82G     0.1206     0.5045     0.8905        211        128: 100%|██████████| 386\n",
      "                 Class     Images  Instances      Box(P          R      mAP50  mAP50-95): 100%|████\n"
     ]
    },
    {
     "name": "stdout",
     "output_type": "stream",
     "text": [
      "                   all      25677      25677      0.739       0.79       0.81      0.761\n",
      "\n",
      "      Epoch    GPU_mem   box_loss   cls_loss   dfl_loss  Instances       Size\n"
     ]
    },
    {
     "name": "stderr",
     "output_type": "stream",
     "text": [
      "     80/500      4.82G     0.1203     0.5037     0.8904        200        128: 100%|██████████| 386\n",
      "                 Class     Images  Instances      Box(P          R      mAP50  mAP50-95): 100%|████\n"
     ]
    },
    {
     "name": "stdout",
     "output_type": "stream",
     "text": [
      "                   all      25677      25677      0.739      0.791       0.81      0.759\n",
      "\n",
      "      Epoch    GPU_mem   box_loss   cls_loss   dfl_loss  Instances       Size\n"
     ]
    },
    {
     "name": "stderr",
     "output_type": "stream",
     "text": [
      "     81/500      4.82G     0.1208        0.5     0.8902        197        128: 100%|██████████| 386\n",
      "                 Class     Images  Instances      Box(P          R      mAP50  mAP50-95): 100%|████\n"
     ]
    },
    {
     "name": "stdout",
     "output_type": "stream",
     "text": [
      "                   all      25677      25677       0.74      0.789       0.81      0.759\n",
      "\n",
      "      Epoch    GPU_mem   box_loss   cls_loss   dfl_loss  Instances       Size\n"
     ]
    },
    {
     "name": "stderr",
     "output_type": "stream",
     "text": [
      "     82/500      4.82G     0.1199     0.5009     0.8903        198        128: 100%|██████████| 386\n",
      "                 Class     Images  Instances      Box(P          R      mAP50  mAP50-95): 100%|████\n"
     ]
    },
    {
     "name": "stdout",
     "output_type": "stream",
     "text": [
      "                   all      25677      25677       0.74      0.789       0.81      0.758\n",
      "\n",
      "      Epoch    GPU_mem   box_loss   cls_loss   dfl_loss  Instances       Size\n"
     ]
    },
    {
     "name": "stderr",
     "output_type": "stream",
     "text": [
      "     83/500      4.82G     0.1199     0.5021     0.8901        208        128: 100%|██████████| 386\n",
      "                 Class     Images  Instances      Box(P          R      mAP50  mAP50-95): 100%|████\n"
     ]
    },
    {
     "name": "stdout",
     "output_type": "stream",
     "text": [
      "                   all      25677      25677       0.74      0.789      0.811      0.758\n",
      "\n",
      "      Epoch    GPU_mem   box_loss   cls_loss   dfl_loss  Instances       Size\n"
     ]
    },
    {
     "name": "stderr",
     "output_type": "stream",
     "text": [
      "     84/500      4.82G     0.1193      0.503       0.89        194        128: 100%|██████████| 386\n",
      "                 Class     Images  Instances      Box(P          R      mAP50  mAP50-95): 100%|████\n"
     ]
    },
    {
     "name": "stdout",
     "output_type": "stream",
     "text": [
      "                   all      25677      25677      0.741      0.788      0.811      0.758\n",
      "\n",
      "      Epoch    GPU_mem   box_loss   cls_loss   dfl_loss  Instances       Size\n"
     ]
    },
    {
     "name": "stderr",
     "output_type": "stream",
     "text": [
      "     85/500      4.82G     0.1198     0.5029     0.8903        187        128: 100%|██████████| 386\n",
      "                 Class     Images  Instances      Box(P          R      mAP50  mAP50-95): 100%|████\n"
     ]
    },
    {
     "name": "stdout",
     "output_type": "stream",
     "text": [
      "                   all      25677      25677      0.744      0.788      0.811      0.759\n",
      "\n",
      "      Epoch    GPU_mem   box_loss   cls_loss   dfl_loss  Instances       Size\n"
     ]
    },
    {
     "name": "stderr",
     "output_type": "stream",
     "text": [
      "     86/500      4.82G     0.1197     0.5015     0.8902        192        128: 100%|██████████| 386\n",
      "                 Class     Images  Instances      Box(P          R      mAP50  mAP50-95): 100%|████\n"
     ]
    },
    {
     "name": "stdout",
     "output_type": "stream",
     "text": [
      "                   all      25677      25677      0.744      0.789      0.812      0.759\n",
      "\n",
      "      Epoch    GPU_mem   box_loss   cls_loss   dfl_loss  Instances       Size\n"
     ]
    },
    {
     "name": "stderr",
     "output_type": "stream",
     "text": [
      "     87/500      4.82G     0.1195     0.5004     0.8904        189        128: 100%|██████████| 386\n",
      "                 Class     Images  Instances      Box(P          R      mAP50  mAP50-95): 100%|████\n"
     ]
    },
    {
     "name": "stdout",
     "output_type": "stream",
     "text": [
      "                   all      25677      25677      0.744       0.79      0.813       0.76\n",
      "\n",
      "      Epoch    GPU_mem   box_loss   cls_loss   dfl_loss  Instances       Size\n"
     ]
    },
    {
     "name": "stderr",
     "output_type": "stream",
     "text": [
      "     88/500      4.82G     0.1193     0.4998     0.8903        194        128: 100%|██████████| 386\n",
      "                 Class     Images  Instances      Box(P          R      mAP50  mAP50-95): 100%|████\n"
     ]
    },
    {
     "name": "stdout",
     "output_type": "stream",
     "text": [
      "                   all      25677      25677      0.745       0.79      0.813       0.76\n",
      "\n",
      "      Epoch    GPU_mem   box_loss   cls_loss   dfl_loss  Instances       Size\n"
     ]
    },
    {
     "name": "stderr",
     "output_type": "stream",
     "text": [
      "     89/500      4.82G     0.1185     0.4989     0.8895        197        128: 100%|██████████| 386\n",
      "                 Class     Images  Instances      Box(P          R      mAP50  mAP50-95): 100%|████\n"
     ]
    },
    {
     "name": "stdout",
     "output_type": "stream",
     "text": [
      "                   all      25677      25677      0.744      0.789      0.814      0.761\n",
      "\n",
      "      Epoch    GPU_mem   box_loss   cls_loss   dfl_loss  Instances       Size\n"
     ]
    },
    {
     "name": "stderr",
     "output_type": "stream",
     "text": [
      "     90/500      4.82G     0.1191     0.4982     0.8899        214        128: 100%|██████████| 386\n",
      "                 Class     Images  Instances      Box(P          R      mAP50  mAP50-95): 100%|████\n"
     ]
    },
    {
     "name": "stdout",
     "output_type": "stream",
     "text": [
      "                   all      25677      25677      0.745      0.791      0.816      0.761\n",
      "\n",
      "      Epoch    GPU_mem   box_loss   cls_loss   dfl_loss  Instances       Size\n"
     ]
    },
    {
     "name": "stderr",
     "output_type": "stream",
     "text": [
      "     91/500      4.82G     0.1188     0.5003     0.8901        214        128: 100%|██████████| 386\n",
      "                 Class     Images  Instances      Box(P          R      mAP50  mAP50-95): 100%|████\n"
     ]
    },
    {
     "name": "stdout",
     "output_type": "stream",
     "text": [
      "                   all      25677      25677      0.748       0.79      0.816      0.761\n",
      "\n",
      "      Epoch    GPU_mem   box_loss   cls_loss   dfl_loss  Instances       Size\n"
     ]
    },
    {
     "name": "stderr",
     "output_type": "stream",
     "text": [
      "     92/500      4.82G     0.1192     0.4965     0.8901        201        128: 100%|██████████| 386\n",
      "                 Class     Images  Instances      Box(P          R      mAP50  mAP50-95): 100%|████\n"
     ]
    },
    {
     "name": "stdout",
     "output_type": "stream",
     "text": [
      "                   all      25677      25677      0.749      0.792      0.818      0.762\n",
      "\n",
      "      Epoch    GPU_mem   box_loss   cls_loss   dfl_loss  Instances       Size\n"
     ]
    },
    {
     "name": "stderr",
     "output_type": "stream",
     "text": [
      "     93/500      4.82G      0.118      0.497     0.8897        196        128: 100%|██████████| 386\n",
      "                 Class     Images  Instances      Box(P          R      mAP50  mAP50-95): 100%|████\n"
     ]
    },
    {
     "name": "stdout",
     "output_type": "stream",
     "text": [
      "                   all      25677      25677      0.752       0.79      0.818      0.762\n",
      "\n",
      "      Epoch    GPU_mem   box_loss   cls_loss   dfl_loss  Instances       Size\n"
     ]
    },
    {
     "name": "stderr",
     "output_type": "stream",
     "text": [
      "     94/500       4.8G     0.1187     0.4979     0.8898       1536        128:  59%|█████▉    | 227\n"
     ]
    },
    {
     "ename": "KeyboardInterrupt",
     "evalue": "",
     "output_type": "error",
     "traceback": [
      "\u001b[0;31m---------------------------------------------------------------------------\u001b[0m",
      "\u001b[0;31mKeyboardInterrupt\u001b[0m                         Traceback (most recent call last)",
      "Cell \u001b[0;32mIn[6], line 7\u001b[0m\n\u001b[1;32m      3\u001b[0m dataset \u001b[38;5;241m=\u001b[39m \u001b[38;5;124m\"\u001b[39m\u001b[38;5;124m/data/yolo/data.yaml\u001b[39m\u001b[38;5;124m\"\u001b[39m\n\u001b[1;32m      5\u001b[0m \u001b[38;5;66;03m# 12h Train, in GPU 0 -> device=0\u001b[39;00m\n\u001b[1;32m      6\u001b[0m \u001b[38;5;66;03m# On multiple devices use [0, 1, n]\u001b[39;00m\n\u001b[0;32m----> 7\u001b[0m results \u001b[38;5;241m=\u001b[39m \u001b[43mmodel\u001b[49m\u001b[38;5;241;43m.\u001b[39;49m\u001b[43mtrain\u001b[49m\u001b[43m(\u001b[49m\n\u001b[1;32m      8\u001b[0m \u001b[43m    \u001b[49m\u001b[43mdata\u001b[49m\u001b[38;5;241;43m=\u001b[39;49m\u001b[38;5;124;43mf\u001b[39;49m\u001b[38;5;124;43m\"\u001b[39;49m\u001b[38;5;132;43;01m{\u001b[39;49;00m\u001b[43mbase_path\u001b[49m\u001b[38;5;132;43;01m}\u001b[39;49;00m\u001b[38;5;124;43m/\u001b[39;49m\u001b[38;5;132;43;01m{\u001b[39;49;00m\u001b[43mdataset\u001b[49m\u001b[38;5;132;43;01m}\u001b[39;49;00m\u001b[38;5;124;43m\"\u001b[39;49m\u001b[43m,\u001b[49m\n\u001b[1;32m      9\u001b[0m \u001b[43m    \u001b[49m\u001b[43mseed\u001b[49m\u001b[38;5;241;43m=\u001b[39;49m\u001b[38;5;241;43m42\u001b[39;49m\u001b[43m,\u001b[49m\n\u001b[1;32m     10\u001b[0m \u001b[43m    \u001b[49m\u001b[43mepochs\u001b[49m\u001b[38;5;241;43m=\u001b[39;49m\u001b[38;5;241;43m500\u001b[39;49m\u001b[43m,\u001b[49m\n\u001b[1;32m     11\u001b[0m \u001b[43m    \u001b[49m\u001b[43mimgsz\u001b[49m\u001b[38;5;241;43m=\u001b[39;49m\u001b[38;5;241;43m128\u001b[39;49m\u001b[43m,\u001b[49m\n\u001b[1;32m     12\u001b[0m \u001b[43m    \u001b[49m\u001b[43mdevice\u001b[49m\u001b[38;5;241;43m=\u001b[39;49m\u001b[38;5;241;43m0\u001b[39;49m\u001b[43m,\u001b[49m\n\u001b[1;32m     13\u001b[0m \u001b[43m    \u001b[49m\u001b[43mbatch\u001b[49m\u001b[38;5;241;43m=\u001b[39;49m\u001b[38;5;241;43m500\u001b[39;49m\u001b[43m,\u001b[49m\n\u001b[1;32m     14\u001b[0m \u001b[43m    \u001b[49m\u001b[43mworkers\u001b[49m\u001b[38;5;241;43m=\u001b[39;49m\u001b[38;5;241;43m10\u001b[39;49m\u001b[43m,\u001b[49m\n\u001b[1;32m     15\u001b[0m \u001b[43m    \u001b[49m\u001b[43mval\u001b[49m\u001b[38;5;241;43m=\u001b[39;49m\u001b[38;5;28;43;01mTrue\u001b[39;49;00m\u001b[43m,\u001b[49m\n\u001b[1;32m     16\u001b[0m \u001b[43m    \u001b[49m\u001b[43mplots\u001b[49m\u001b[38;5;241;43m=\u001b[39;49m\u001b[38;5;28;43;01mTrue\u001b[39;49;00m\u001b[43m,\u001b[49m\n\u001b[1;32m     17\u001b[0m \u001b[43m    \u001b[49m\u001b[43msave\u001b[49m\u001b[38;5;241;43m=\u001b[39;49m\u001b[38;5;28;43;01mTrue\u001b[39;49;00m\u001b[43m,\u001b[49m\n\u001b[1;32m     18\u001b[0m \u001b[43m    \u001b[49m\u001b[43msave_period\u001b[49m\u001b[38;5;241;43m=\u001b[39;49m\u001b[38;5;241;43m10\u001b[39;49m\u001b[43m,\u001b[49m\n\u001b[1;32m     19\u001b[0m \u001b[43m    \u001b[49m\u001b[43mresume\u001b[49m\u001b[38;5;241;43m=\u001b[39;49m\u001b[38;5;28;43;01mFalse\u001b[39;49;00m\u001b[43m,\u001b[49m\n\u001b[1;32m     20\u001b[0m \u001b[43m    \u001b[49m\u001b[43mproject\u001b[49m\u001b[38;5;241;43m=\u001b[39;49m\u001b[43mproject\u001b[49m\u001b[43m,\u001b[49m\n\u001b[1;32m     21\u001b[0m \u001b[43m    \u001b[49m\u001b[43mname\u001b[49m\u001b[38;5;241;43m=\u001b[39;49m\u001b[43mexperiment\u001b[49m\u001b[43m,\u001b[49m\n\u001b[1;32m     22\u001b[0m \u001b[43m    \u001b[49m\u001b[43mfraction\u001b[49m\u001b[38;5;241;43m=\u001b[39;49m\u001b[38;5;241;43m1.0\u001b[39;49m\u001b[43m,\u001b[49m\n\u001b[1;32m     23\u001b[0m \u001b[43m    \u001b[49m\u001b[43mcache\u001b[49m\u001b[38;5;241;43m=\u001b[39;49m\u001b[38;5;28;43;01mTrue\u001b[39;49;00m\u001b[43m,\u001b[49m\n\u001b[1;32m     24\u001b[0m \u001b[43m)\u001b[49m\n",
      "File \u001b[0;32m~/.pyenv/versions/3.12.4/lib/python3.12/site-packages/ultralytics/engine/model.py:815\u001b[0m, in \u001b[0;36mModel.train\u001b[0;34m(self, trainer, **kwargs)\u001b[0m\n\u001b[1;32m    812\u001b[0m     \u001b[38;5;28mself\u001b[39m\u001b[38;5;241m.\u001b[39mmodel \u001b[38;5;241m=\u001b[39m \u001b[38;5;28mself\u001b[39m\u001b[38;5;241m.\u001b[39mtrainer\u001b[38;5;241m.\u001b[39mmodel\n\u001b[1;32m    814\u001b[0m \u001b[38;5;28mself\u001b[39m\u001b[38;5;241m.\u001b[39mtrainer\u001b[38;5;241m.\u001b[39mhub_session \u001b[38;5;241m=\u001b[39m \u001b[38;5;28mself\u001b[39m\u001b[38;5;241m.\u001b[39msession  \u001b[38;5;66;03m# attach optional HUB session\u001b[39;00m\n\u001b[0;32m--> 815\u001b[0m \u001b[38;5;28;43mself\u001b[39;49m\u001b[38;5;241;43m.\u001b[39;49m\u001b[43mtrainer\u001b[49m\u001b[38;5;241;43m.\u001b[39;49m\u001b[43mtrain\u001b[49m\u001b[43m(\u001b[49m\u001b[43m)\u001b[49m\n\u001b[1;32m    816\u001b[0m \u001b[38;5;66;03m# Update model and cfg after training\u001b[39;00m\n\u001b[1;32m    817\u001b[0m \u001b[38;5;28;01mif\u001b[39;00m RANK \u001b[38;5;129;01min\u001b[39;00m {\u001b[38;5;241m-\u001b[39m\u001b[38;5;241m1\u001b[39m, \u001b[38;5;241m0\u001b[39m}:\n",
      "File \u001b[0;32m~/.pyenv/versions/3.12.4/lib/python3.12/site-packages/ultralytics/engine/trainer.py:206\u001b[0m, in \u001b[0;36mBaseTrainer.train\u001b[0;34m(self)\u001b[0m\n\u001b[1;32m    203\u001b[0m         ddp_cleanup(\u001b[38;5;28mself\u001b[39m, \u001b[38;5;28mstr\u001b[39m(file))\n\u001b[1;32m    205\u001b[0m \u001b[38;5;28;01melse\u001b[39;00m:\n\u001b[0;32m--> 206\u001b[0m     \u001b[38;5;28;43mself\u001b[39;49m\u001b[38;5;241;43m.\u001b[39;49m\u001b[43m_do_train\u001b[49m\u001b[43m(\u001b[49m\u001b[43mworld_size\u001b[49m\u001b[43m)\u001b[49m\n",
      "File \u001b[0;32m~/.pyenv/versions/3.12.4/lib/python3.12/site-packages/ultralytics/engine/trainer.py:382\u001b[0m, in \u001b[0;36mBaseTrainer._do_train\u001b[0;34m(self, world_size)\u001b[0m\n\u001b[1;32m    380\u001b[0m \u001b[38;5;28;01mwith\u001b[39;00m autocast(\u001b[38;5;28mself\u001b[39m\u001b[38;5;241m.\u001b[39mamp):\n\u001b[1;32m    381\u001b[0m     batch \u001b[38;5;241m=\u001b[39m \u001b[38;5;28mself\u001b[39m\u001b[38;5;241m.\u001b[39mpreprocess_batch(batch)\n\u001b[0;32m--> 382\u001b[0m     \u001b[38;5;28mself\u001b[39m\u001b[38;5;241m.\u001b[39mloss, \u001b[38;5;28mself\u001b[39m\u001b[38;5;241m.\u001b[39mloss_items \u001b[38;5;241m=\u001b[39m \u001b[38;5;28;43mself\u001b[39;49m\u001b[38;5;241;43m.\u001b[39;49m\u001b[43mmodel\u001b[49m\u001b[43m(\u001b[49m\u001b[43mbatch\u001b[49m\u001b[43m)\u001b[49m\n\u001b[1;32m    383\u001b[0m     \u001b[38;5;28;01mif\u001b[39;00m RANK \u001b[38;5;241m!=\u001b[39m \u001b[38;5;241m-\u001b[39m\u001b[38;5;241m1\u001b[39m:\n\u001b[1;32m    384\u001b[0m         \u001b[38;5;28mself\u001b[39m\u001b[38;5;241m.\u001b[39mloss \u001b[38;5;241m*\u001b[39m\u001b[38;5;241m=\u001b[39m world_size\n",
      "File \u001b[0;32m~/.pyenv/versions/3.12.4/lib/python3.12/site-packages/torch/nn/modules/module.py:1553\u001b[0m, in \u001b[0;36mModule._wrapped_call_impl\u001b[0;34m(self, *args, **kwargs)\u001b[0m\n\u001b[1;32m   1551\u001b[0m     \u001b[38;5;28;01mreturn\u001b[39;00m \u001b[38;5;28mself\u001b[39m\u001b[38;5;241m.\u001b[39m_compiled_call_impl(\u001b[38;5;241m*\u001b[39margs, \u001b[38;5;241m*\u001b[39m\u001b[38;5;241m*\u001b[39mkwargs)  \u001b[38;5;66;03m# type: ignore[misc]\u001b[39;00m\n\u001b[1;32m   1552\u001b[0m \u001b[38;5;28;01melse\u001b[39;00m:\n\u001b[0;32m-> 1553\u001b[0m     \u001b[38;5;28;01mreturn\u001b[39;00m \u001b[38;5;28;43mself\u001b[39;49m\u001b[38;5;241;43m.\u001b[39;49m\u001b[43m_call_impl\u001b[49m\u001b[43m(\u001b[49m\u001b[38;5;241;43m*\u001b[39;49m\u001b[43margs\u001b[49m\u001b[43m,\u001b[49m\u001b[43m \u001b[49m\u001b[38;5;241;43m*\u001b[39;49m\u001b[38;5;241;43m*\u001b[39;49m\u001b[43mkwargs\u001b[49m\u001b[43m)\u001b[49m\n",
      "File \u001b[0;32m~/.pyenv/versions/3.12.4/lib/python3.12/site-packages/torch/nn/modules/module.py:1562\u001b[0m, in \u001b[0;36mModule._call_impl\u001b[0;34m(self, *args, **kwargs)\u001b[0m\n\u001b[1;32m   1557\u001b[0m \u001b[38;5;66;03m# If we don't have any hooks, we want to skip the rest of the logic in\u001b[39;00m\n\u001b[1;32m   1558\u001b[0m \u001b[38;5;66;03m# this function, and just call forward.\u001b[39;00m\n\u001b[1;32m   1559\u001b[0m \u001b[38;5;28;01mif\u001b[39;00m \u001b[38;5;129;01mnot\u001b[39;00m (\u001b[38;5;28mself\u001b[39m\u001b[38;5;241m.\u001b[39m_backward_hooks \u001b[38;5;129;01mor\u001b[39;00m \u001b[38;5;28mself\u001b[39m\u001b[38;5;241m.\u001b[39m_backward_pre_hooks \u001b[38;5;129;01mor\u001b[39;00m \u001b[38;5;28mself\u001b[39m\u001b[38;5;241m.\u001b[39m_forward_hooks \u001b[38;5;129;01mor\u001b[39;00m \u001b[38;5;28mself\u001b[39m\u001b[38;5;241m.\u001b[39m_forward_pre_hooks\n\u001b[1;32m   1560\u001b[0m         \u001b[38;5;129;01mor\u001b[39;00m _global_backward_pre_hooks \u001b[38;5;129;01mor\u001b[39;00m _global_backward_hooks\n\u001b[1;32m   1561\u001b[0m         \u001b[38;5;129;01mor\u001b[39;00m _global_forward_hooks \u001b[38;5;129;01mor\u001b[39;00m _global_forward_pre_hooks):\n\u001b[0;32m-> 1562\u001b[0m     \u001b[38;5;28;01mreturn\u001b[39;00m \u001b[43mforward_call\u001b[49m\u001b[43m(\u001b[49m\u001b[38;5;241;43m*\u001b[39;49m\u001b[43margs\u001b[49m\u001b[43m,\u001b[49m\u001b[43m \u001b[49m\u001b[38;5;241;43m*\u001b[39;49m\u001b[38;5;241;43m*\u001b[39;49m\u001b[43mkwargs\u001b[49m\u001b[43m)\u001b[49m\n\u001b[1;32m   1564\u001b[0m \u001b[38;5;28;01mtry\u001b[39;00m:\n\u001b[1;32m   1565\u001b[0m     result \u001b[38;5;241m=\u001b[39m \u001b[38;5;28;01mNone\u001b[39;00m\n",
      "File \u001b[0;32m~/.pyenv/versions/3.12.4/lib/python3.12/site-packages/ultralytics/nn/tasks.py:105\u001b[0m, in \u001b[0;36mBaseModel.forward\u001b[0;34m(self, x, *args, **kwargs)\u001b[0m\n\u001b[1;32m     91\u001b[0m \u001b[38;5;250m\u001b[39m\u001b[38;5;124;03m\"\"\"\u001b[39;00m\n\u001b[1;32m     92\u001b[0m \u001b[38;5;124;03mPerform forward pass of the model for either training or inference.\u001b[39;00m\n\u001b[1;32m     93\u001b[0m \n\u001b[0;32m   (...)\u001b[0m\n\u001b[1;32m    102\u001b[0m \u001b[38;5;124;03m    (torch.Tensor): Loss if x is a dict (training), or network predictions (inference).\u001b[39;00m\n\u001b[1;32m    103\u001b[0m \u001b[38;5;124;03m\"\"\"\u001b[39;00m\n\u001b[1;32m    104\u001b[0m \u001b[38;5;28;01mif\u001b[39;00m \u001b[38;5;28misinstance\u001b[39m(x, \u001b[38;5;28mdict\u001b[39m):  \u001b[38;5;66;03m# for cases of training and validating while training.\u001b[39;00m\n\u001b[0;32m--> 105\u001b[0m     \u001b[38;5;28;01mreturn\u001b[39;00m \u001b[38;5;28;43mself\u001b[39;49m\u001b[38;5;241;43m.\u001b[39;49m\u001b[43mloss\u001b[49m\u001b[43m(\u001b[49m\u001b[43mx\u001b[49m\u001b[43m,\u001b[49m\u001b[43m \u001b[49m\u001b[38;5;241;43m*\u001b[39;49m\u001b[43margs\u001b[49m\u001b[43m,\u001b[49m\u001b[43m \u001b[49m\u001b[38;5;241;43m*\u001b[39;49m\u001b[38;5;241;43m*\u001b[39;49m\u001b[43mkwargs\u001b[49m\u001b[43m)\u001b[49m\n\u001b[1;32m    106\u001b[0m \u001b[38;5;28;01mreturn\u001b[39;00m \u001b[38;5;28mself\u001b[39m\u001b[38;5;241m.\u001b[39mpredict(x, \u001b[38;5;241m*\u001b[39margs, \u001b[38;5;241m*\u001b[39m\u001b[38;5;241m*\u001b[39mkwargs)\n",
      "File \u001b[0;32m~/.pyenv/versions/3.12.4/lib/python3.12/site-packages/ultralytics/nn/tasks.py:287\u001b[0m, in \u001b[0;36mBaseModel.loss\u001b[0;34m(self, batch, preds)\u001b[0m\n\u001b[1;32m    284\u001b[0m     \u001b[38;5;28mself\u001b[39m\u001b[38;5;241m.\u001b[39mcriterion \u001b[38;5;241m=\u001b[39m \u001b[38;5;28mself\u001b[39m\u001b[38;5;241m.\u001b[39minit_criterion()\n\u001b[1;32m    286\u001b[0m preds \u001b[38;5;241m=\u001b[39m \u001b[38;5;28mself\u001b[39m\u001b[38;5;241m.\u001b[39mforward(batch[\u001b[38;5;124m\"\u001b[39m\u001b[38;5;124mimg\u001b[39m\u001b[38;5;124m\"\u001b[39m]) \u001b[38;5;28;01mif\u001b[39;00m preds \u001b[38;5;129;01mis\u001b[39;00m \u001b[38;5;28;01mNone\u001b[39;00m \u001b[38;5;28;01melse\u001b[39;00m preds\n\u001b[0;32m--> 287\u001b[0m \u001b[38;5;28;01mreturn\u001b[39;00m \u001b[38;5;28;43mself\u001b[39;49m\u001b[38;5;241;43m.\u001b[39;49m\u001b[43mcriterion\u001b[49m\u001b[43m(\u001b[49m\u001b[43mpreds\u001b[49m\u001b[43m,\u001b[49m\u001b[43m \u001b[49m\u001b[43mbatch\u001b[49m\u001b[43m)\u001b[49m\n",
      "File \u001b[0;32m~/.pyenv/versions/3.12.4/lib/python3.12/site-packages/ultralytics/utils/loss.py:250\u001b[0m, in \u001b[0;36mv8DetectionLoss.__call__\u001b[0;34m(self, preds, batch)\u001b[0m\n\u001b[1;32m    248\u001b[0m \u001b[38;5;28;01mif\u001b[39;00m fg_mask\u001b[38;5;241m.\u001b[39msum():\n\u001b[1;32m    249\u001b[0m     target_bboxes \u001b[38;5;241m/\u001b[39m\u001b[38;5;241m=\u001b[39m stride_tensor\n\u001b[0;32m--> 250\u001b[0m     loss[\u001b[38;5;241m0\u001b[39m], loss[\u001b[38;5;241m2\u001b[39m] \u001b[38;5;241m=\u001b[39m \u001b[38;5;28;43mself\u001b[39;49m\u001b[38;5;241;43m.\u001b[39;49m\u001b[43mbbox_loss\u001b[49m\u001b[43m(\u001b[49m\n\u001b[1;32m    251\u001b[0m \u001b[43m        \u001b[49m\u001b[43mpred_distri\u001b[49m\u001b[43m,\u001b[49m\u001b[43m \u001b[49m\u001b[43mpred_bboxes\u001b[49m\u001b[43m,\u001b[49m\u001b[43m \u001b[49m\u001b[43manchor_points\u001b[49m\u001b[43m,\u001b[49m\u001b[43m \u001b[49m\u001b[43mtarget_bboxes\u001b[49m\u001b[43m,\u001b[49m\u001b[43m \u001b[49m\u001b[43mtarget_scores\u001b[49m\u001b[43m,\u001b[49m\u001b[43m \u001b[49m\u001b[43mtarget_scores_sum\u001b[49m\u001b[43m,\u001b[49m\u001b[43m \u001b[49m\u001b[43mfg_mask\u001b[49m\n\u001b[1;32m    252\u001b[0m \u001b[43m    \u001b[49m\u001b[43m)\u001b[49m\n\u001b[1;32m    254\u001b[0m loss[\u001b[38;5;241m0\u001b[39m] \u001b[38;5;241m*\u001b[39m\u001b[38;5;241m=\u001b[39m \u001b[38;5;28mself\u001b[39m\u001b[38;5;241m.\u001b[39mhyp\u001b[38;5;241m.\u001b[39mbox  \u001b[38;5;66;03m# box gain\u001b[39;00m\n\u001b[1;32m    255\u001b[0m loss[\u001b[38;5;241m1\u001b[39m] \u001b[38;5;241m*\u001b[39m\u001b[38;5;241m=\u001b[39m \u001b[38;5;28mself\u001b[39m\u001b[38;5;241m.\u001b[39mhyp\u001b[38;5;241m.\u001b[39mcls  \u001b[38;5;66;03m# cls gain\u001b[39;00m\n",
      "File \u001b[0;32m~/.pyenv/versions/3.12.4/lib/python3.12/site-packages/torch/nn/modules/module.py:1549\u001b[0m, in \u001b[0;36mModule._wrapped_call_impl\u001b[0;34m(self, *args, **kwargs)\u001b[0m\n\u001b[1;32m   1546\u001b[0m             tracing_state\u001b[38;5;241m.\u001b[39mpop_scope()\n\u001b[1;32m   1547\u001b[0m     \u001b[38;5;28;01mreturn\u001b[39;00m result\n\u001b[0;32m-> 1549\u001b[0m \u001b[38;5;28;01mdef\u001b[39;00m \u001b[38;5;21m_wrapped_call_impl\u001b[39m(\u001b[38;5;28mself\u001b[39m, \u001b[38;5;241m*\u001b[39margs, \u001b[38;5;241m*\u001b[39m\u001b[38;5;241m*\u001b[39mkwargs):\n\u001b[1;32m   1550\u001b[0m     \u001b[38;5;28;01mif\u001b[39;00m \u001b[38;5;28mself\u001b[39m\u001b[38;5;241m.\u001b[39m_compiled_call_impl \u001b[38;5;129;01mis\u001b[39;00m \u001b[38;5;129;01mnot\u001b[39;00m \u001b[38;5;28;01mNone\u001b[39;00m:\n\u001b[1;32m   1551\u001b[0m         \u001b[38;5;28;01mreturn\u001b[39;00m \u001b[38;5;28mself\u001b[39m\u001b[38;5;241m.\u001b[39m_compiled_call_impl(\u001b[38;5;241m*\u001b[39margs, \u001b[38;5;241m*\u001b[39m\u001b[38;5;241m*\u001b[39mkwargs)  \u001b[38;5;66;03m# type: ignore[misc]\u001b[39;00m\n",
      "\u001b[0;31mKeyboardInterrupt\u001b[0m: "
     ]
    }
   ],
   "source": [
    "project = \"results/\"\n",
    "experiment = \"500e full dataset\"\n",
    "dataset = \"/data/yolo/data.yaml\"\n",
    "\n",
    "# 12h Train, in GPU 0 -> device=0\n",
    "# On multiple devices use [0, 1, n]\n",
    "results = model.train(\n",
    "    data=f\"{base_path}/{dataset}\",\n",
    "    seed=42,\n",
    "    epochs=500,\n",
    "    imgsz=128,\n",
    "    device=0,\n",
    "    batch=500,\n",
    "    workers=10,\n",
    "    val=True,\n",
    "    plots=True,\n",
    "    save=True,\n",
    "    save_period=10,\n",
    "    resume=False,\n",
    "    project=project,\n",
    "    name=experiment,\n",
    "    fraction=1.0,\n",
    "    cache=True,\n",
    ")"
   ]
  },
  {
   "cell_type": "code",
   "execution_count": 5,
   "id": "1c988069-d24a-47c5-9bdc-d29843a2c582",
   "metadata": {},
   "outputs": [
    {
     "name": "stdout",
     "output_type": "stream",
     "text": [
      "Model summary: 225 layers, 3,437,343 parameters, 0 gradients, 10.2 GFLOPs\n"
     ]
    },
    {
     "data": {
      "text/plain": [
       "(225, 3437343, 0, 10.228764799999999)"
      ]
     },
     "execution_count": 5,
     "metadata": {},
     "output_type": "execute_result"
    }
   ],
   "source": [
    "# Load trained model\n",
    "model = YOLO(os.path.join(base_path, \"models/best.pt\"))\n",
    "\n",
    "model.info()"
   ]
  },
  {
   "cell_type": "code",
   "execution_count": 6,
   "id": "d2317331bb3dbcbc",
   "metadata": {},
   "outputs": [
    {
     "name": "stdout",
     "output_type": "stream",
     "text": [
      "Ultralytics YOLOv8.2.84 🚀 Python-3.12.4 torch-2.4.0+cu118 CPU (Intel Core(TM) i7-10700K 3.80GHz)\n",
      "Model summary (fused): 168 layers, 3,431,927 parameters, 0 gradients, 10.1 GFLOPs\n",
      "\n",
      "\u001b[34m\u001b[1mPyTorch:\u001b[0m starting from '/home/polna/Developer/final_degree_project/2d_object_detection/models/best.pt' with input shape (1, 3, 128, 128) BCHW and output shape(s) (1, 405, 336) (13.4 MB)\n",
      "\n",
      "\u001b[34m\u001b[1mTorchScript:\u001b[0m starting export with torch 2.4.0+cu118...\n",
      "\u001b[34m\u001b[1mTorchScript:\u001b[0m export success ✅ 1.0s, saved as '/home/polna/Developer/final_degree_project/2d_object_detection/models/best.torchscript' (13.4 MB)\n",
      "\n",
      "Export complete (2.6s)\n",
      "Results saved to \u001b[1m/home/polna/Developer/final_degree_project/2d_object_detection/models\u001b[0m\n",
      "Predict:         yolo predict task=detect model=/home/polna/Developer/final_degree_project/2d_object_detection/models/best.torchscript imgsz=128  \n",
      "Validate:        yolo val task=detect model=/home/polna/Developer/final_degree_project/2d_object_detection/models/best.torchscript imgsz=128 data=/home/polna/Developer/final_degree_project/2d_object_detection//data/yolo/data.yaml  \n",
      "Visualize:       https://netron.app\n"
     ]
    },
    {
     "data": {
      "text/plain": [
       "'/home/polna/Developer/final_degree_project/2d_object_detection/models/best.torchscript'"
      ]
     },
     "execution_count": 6,
     "metadata": {},
     "output_type": "execute_result"
    }
   ],
   "source": [
    "# Save model as pytorch format\n",
    "model.export()"
   ]
  },
  {
   "cell_type": "code",
   "execution_count": 8,
   "id": "ade59c77",
   "metadata": {},
   "outputs": [
    {
     "name": "stdout",
     "output_type": "stream",
     "text": [
      "Ultralytics YOLOv8.2.84 🚀 Python-3.12.4 torch-2.4.0+cu118 CPU (Intel Core(TM) i7-10700K 3.80GHz)\n",
      "Model summary (fused): 168 layers, 3,431,927 parameters, 0 gradients, 10.1 GFLOPs\n",
      "\n",
      "\u001b[34m\u001b[1mPyTorch:\u001b[0m starting from '/home/polna/Developer/final_degree_project/2d_object_detection/models/best.pt' with input shape (1, 3, 640, 640) BCHW and output shape(s) (1, 405, 8400) (13.4 MB)\n",
      "\u001b[31m\u001b[1mrequirements:\u001b[0m Ultralytics requirements ['onnx>=1.12.0', 'onnxslim>=0.1.31', 'onnxruntime'] not found, attempting AutoUpdate...\n",
      "Collecting onnx>=1.12.0\n",
      "  Downloading onnx-1.16.2-cp312-cp312-manylinux_2_17_x86_64.manylinux2014_x86_64.whl.metadata (16 kB)\n",
      "Collecting onnxslim>=0.1.31\n",
      "  Downloading onnxslim-0.1.32-py3-none-any.whl.metadata (2.7 kB)\n",
      "Collecting onnxruntime\n",
      "  Downloading onnxruntime-1.19.0-cp312-cp312-manylinux_2_27_x86_64.manylinux_2_28_x86_64.whl.metadata (4.3 kB)\n",
      "Requirement already satisfied: numpy>=1.20 in /home/polna/.pyenv/versions/3.12.4/lib/python3.12/site-packages (from onnx>=1.12.0) (1.26.4)\n",
      "Requirement already satisfied: protobuf>=3.20.2 in /home/polna/.pyenv/versions/3.12.4/lib/python3.12/site-packages (from onnx>=1.12.0) (5.27.3)\n",
      "Requirement already satisfied: sympy in /home/polna/.pyenv/versions/3.12.4/lib/python3.12/site-packages (from onnxslim>=0.1.31) (1.13.2)\n",
      "Requirement already satisfied: packaging in /home/polna/.pyenv/versions/3.12.4/lib/python3.12/site-packages (from onnxslim>=0.1.31) (24.1)\n",
      "Collecting coloredlogs (from onnxruntime)\n",
      "  Downloading coloredlogs-15.0.1-py2.py3-none-any.whl.metadata (12 kB)\n",
      "Collecting flatbuffers (from onnxruntime)\n",
      "  Downloading flatbuffers-24.3.25-py2.py3-none-any.whl.metadata (850 bytes)\n",
      "Collecting humanfriendly>=9.1 (from coloredlogs->onnxruntime)\n",
      "  Downloading humanfriendly-10.0-py2.py3-none-any.whl.metadata (9.2 kB)\n",
      "Requirement already satisfied: mpmath<1.4,>=1.1.0 in /home/polna/.pyenv/versions/3.12.4/lib/python3.12/site-packages (from sympy->onnxslim>=0.1.31) (1.3.0)\n",
      "Downloading onnx-1.16.2-cp312-cp312-manylinux_2_17_x86_64.manylinux2014_x86_64.whl (15.9 MB)\n",
      "\u001b[2K   \u001b[38;2;114;156;31m━━━━━━━━━━━━━━━━━━━━━━━━━━━━━━━━━━━━━━━━\u001b[0m \u001b[32m15.9/15.9 MB\u001b[0m \u001b[31m62.6 MB/s\u001b[0m eta \u001b[36m0:00:00\u001b[0mMB/s\u001b[0m eta \u001b[36m0:00:01\u001b[0m\n",
      "\u001b[?25hDownloading onnxslim-0.1.32-py3-none-any.whl (130 kB)\n",
      "Downloading onnxruntime-1.19.0-cp312-cp312-manylinux_2_27_x86_64.manylinux_2_28_x86_64.whl (13.2 MB)\n",
      "\u001b[2K   \u001b[38;2;114;156;31m━━━━━━━━━━━━━━━━━━━━━━━━━━━━━━━━━━━━━━━━\u001b[0m \u001b[32m13.2/13.2 MB\u001b[0m \u001b[31m97.3 MB/s\u001b[0m eta \u001b[36m0:00:00\u001b[0m\n",
      "\u001b[?25hDownloading coloredlogs-15.0.1-py2.py3-none-any.whl (46 kB)\n",
      "Downloading flatbuffers-24.3.25-py2.py3-none-any.whl (26 kB)\n",
      "Downloading humanfriendly-10.0-py2.py3-none-any.whl (86 kB)\n",
      "Installing collected packages: flatbuffers, onnx, humanfriendly, onnxslim, coloredlogs, onnxruntime\n",
      "Successfully installed coloredlogs-15.0.1 flatbuffers-24.3.25 humanfriendly-10.0 onnx-1.16.2 onnxruntime-1.19.0 onnxslim-0.1.32\n",
      "\n",
      "\u001b[31m\u001b[1mrequirements:\u001b[0m AutoUpdate success ✅ 5.2s, installed 3 packages: ['onnx>=1.12.0', 'onnxslim>=0.1.31', 'onnxruntime']\n",
      "\u001b[31m\u001b[1mrequirements:\u001b[0m ⚠️ \u001b[1mRestart runtime or rerun command for updates to take effect\u001b[0m\n",
      "\n",
      "\n",
      "\u001b[34m\u001b[1mONNX:\u001b[0m starting export with onnx 1.16.2 opset 19...\n",
      "\u001b[34m\u001b[1mONNX:\u001b[0m slimming with onnxslim 0.1.32...\n",
      "\u001b[34m\u001b[1mONNX:\u001b[0m export success ✅ 20.3s, saved as '/home/polna/Developer/final_degree_project/2d_object_detection/models/best.onnx' (13.2 MB)\n",
      "\n",
      "Export complete (21.7s)\n",
      "Results saved to \u001b[1m/home/polna/Developer/final_degree_project/2d_object_detection/models\u001b[0m\n",
      "Predict:         yolo predict task=detect model=/home/polna/Developer/final_degree_project/2d_object_detection/models/best.onnx imgsz=640  \n",
      "Validate:        yolo val task=detect model=/home/polna/Developer/final_degree_project/2d_object_detection/models/best.onnx imgsz=640 data=/home/polna/Developer/final_degree_project/2d_object_detection//data/yolo/data.yaml  \n",
      "Visualize:       https://netron.app\n"
     ]
    },
    {
     "data": {
      "text/plain": [
       "'/home/polna/Developer/final_degree_project/2d_object_detection/models/best.onnx'"
      ]
     },
     "execution_count": 8,
     "metadata": {},
     "output_type": "execute_result"
    }
   ],
   "source": [
    "# Save model as onnx format\n",
    "model.export(format='onnx', imgsz=640, dynamic=True, simplify=True, batch=1, half=False)"
   ]
  },
  {
   "cell_type": "code",
   "execution_count": 9,
   "id": "889becb8",
   "metadata": {},
   "outputs": [
    {
     "name": "stdout",
     "output_type": "stream",
     "text": [
      "Ultralytics YOLOv8.2.84 🚀 Python-3.12.4 torch-2.4.0+cu118 CPU (Intel Core(TM) i7-10700K 3.80GHz)\n",
      "Model summary (fused): 168 layers, 3,431,927 parameters, 0 gradients, 10.1 GFLOPs\n"
     ]
    },
    {
     "name": "stderr",
     "output_type": "stream",
     "text": [
      "\u001b[34m\u001b[1mval: \u001b[0mScanning /home/polna/Developer/final_degree_project/2d_object_detection/data/yolo/val/labels.c\u001b[0m"
     ]
    },
    {
     "name": "stdout",
     "output_type": "stream",
     "text": [
      "\u001b[34m\u001b[1mval: \u001b[0mWARNING ⚠️ /home/polna/Developer/final_degree_project/2d_object_detection/data/yolo/val/images/-cOu9CgYcqWytzymAsYA0A_6.jpg: ignoring corrupt image/label: image size (6, 7) <10 pixels\n",
      "\u001b[34m\u001b[1mval: \u001b[0mWARNING ⚠️ /home/polna/Developer/final_degree_project/2d_object_detection/data/yolo/val/images/-cQgiVzBhjcwQssC4bxxew_9.jpg: ignoring corrupt image/label: image size (10, 9) <10 pixels\n",
      "\u001b[34m\u001b[1mval: \u001b[0mWARNING ⚠️ /home/polna/Developer/final_degree_project/2d_object_detection/data/yolo/val/images/1p4A-J8LxnTIFqPGCNEw9A_1.jpg: ignoring corrupt image/label: image size (7, 22) <10 pixels\n",
      "\u001b[34m\u001b[1mval: \u001b[0mWARNING ⚠️ /home/polna/Developer/final_degree_project/2d_object_detection/data/yolo/val/images/1pkKhVIteoX57YHjlUZlEg_aug_2.jpg: ignoring corrupt image/label: image size (9, 7) <10 pixels\n",
      "\u001b[34m\u001b[1mval: \u001b[0mWARNING ⚠️ /home/polna/Developer/final_degree_project/2d_object_detection/data/yolo/val/images/4FAZqGVXY_9lzEF3Xdh3mA_7.jpg: ignoring corrupt image/label: image size (13, 9) <10 pixels\n",
      "\u001b[34m\u001b[1mval: \u001b[0mWARNING ⚠️ /home/polna/Developer/final_degree_project/2d_object_detection/data/yolo/val/images/4uSg_tYFVd87eEBCk9EyJw_aug_1.jpg: ignoring corrupt image/label: image size (10, 9) <10 pixels\n",
      "\u001b[34m\u001b[1mval: \u001b[0mWARNING ⚠️ /home/polna/Developer/final_degree_project/2d_object_detection/data/yolo/val/images/4uSg_tYFVd87eEBCk9EyJw_aug_2.jpg: ignoring corrupt image/label: image size (10, 9) <10 pixels\n",
      "\u001b[34m\u001b[1mval: \u001b[0mWARNING ⚠️ /home/polna/Developer/final_degree_project/2d_object_detection/data/yolo/val/images/5ZmsfxIrMa6TmjFE0i-HhA_aug_0.jpg: ignoring corrupt image/label: image size (9, 10) <10 pixels\n",
      "\u001b[34m\u001b[1mval: \u001b[0mWARNING ⚠️ /home/polna/Developer/final_degree_project/2d_object_detection/data/yolo/val/images/6CorX7qpBOGAyZmSS0J-UA_7.jpg: ignoring corrupt image/label: image size (10, 8) <10 pixels\n",
      "\u001b[34m\u001b[1mval: \u001b[0mWARNING ⚠️ /home/polna/Developer/final_degree_project/2d_object_detection/data/yolo/val/images/6CorX7qpBOGAyZmSS0J-UA_aug_0.jpg: ignoring corrupt image/label: image size (10, 8) <10 pixels\n",
      "\u001b[34m\u001b[1mval: \u001b[0mWARNING ⚠️ /home/polna/Developer/final_degree_project/2d_object_detection/data/yolo/val/images/6CorX7qpBOGAyZmSS0J-UA_aug_10.jpg: ignoring corrupt image/label: image size (10, 8) <10 pixels\n",
      "\u001b[34m\u001b[1mval: \u001b[0mWARNING ⚠️ /home/polna/Developer/final_degree_project/2d_object_detection/data/yolo/val/images/6CorX7qpBOGAyZmSS0J-UA_aug_11.jpg: ignoring corrupt image/label: image size (10, 8) <10 pixels\n",
      "\u001b[34m\u001b[1mval: \u001b[0mWARNING ⚠️ /home/polna/Developer/final_degree_project/2d_object_detection/data/yolo/val/images/6CorX7qpBOGAyZmSS0J-UA_aug_5.jpg: ignoring corrupt image/label: image size (10, 8) <10 pixels\n",
      "\u001b[34m\u001b[1mval: \u001b[0mWARNING ⚠️ /home/polna/Developer/final_degree_project/2d_object_detection/data/yolo/val/images/6CorX7qpBOGAyZmSS0J-UA_aug_9.jpg: ignoring corrupt image/label: image size (10, 8) <10 pixels\n",
      "\u001b[34m\u001b[1mval: \u001b[0mWARNING ⚠️ /home/polna/Developer/final_degree_project/2d_object_detection/data/yolo/val/images/6lkJnoBjmom5_t6k1z6sSA_2.jpg: ignoring corrupt image/label: image size (8, 6) <10 pixels\n",
      "\u001b[34m\u001b[1mval: \u001b[0mWARNING ⚠️ /home/polna/Developer/final_degree_project/2d_object_detection/data/yolo/val/images/7qzgsbN-1WL9Z7TrXQVPGw_3.jpg: ignoring corrupt image/label: image size (12, 9) <10 pixels\n",
      "\u001b[34m\u001b[1mval: \u001b[0mWARNING ⚠️ /home/polna/Developer/final_degree_project/2d_object_detection/data/yolo/val/images/8-ZGaSJdDB9mkL93yDrVyA_aug_4.jpg: ignoring corrupt image/label: image size (9, 17) <10 pixels\n",
      "\u001b[34m\u001b[1mval: \u001b[0mWARNING ⚠️ /home/polna/Developer/final_degree_project/2d_object_detection/data/yolo/val/images/Ae4HZ65rrhJQRWb69OoUVA_aug_3.jpg: ignoring corrupt image/label: image size (13, 9) <10 pixels\n",
      "\u001b[34m\u001b[1mval: \u001b[0mWARNING ⚠️ /home/polna/Developer/final_degree_project/2d_object_detection/data/yolo/val/images/EZsVYM5jLKw6kxsmDb0aVQ_aug_0.jpg: ignoring corrupt image/label: image size (23, 9) <10 pixels\n",
      "\u001b[34m\u001b[1mval: \u001b[0mWARNING ⚠️ /home/polna/Developer/final_degree_project/2d_object_detection/data/yolo/val/images/En4PrSIpwfbO_aejpwINcg_5.jpg: ignoring corrupt image/label: image size (25, 9) <10 pixels\n",
      "\u001b[34m\u001b[1mval: \u001b[0mWARNING ⚠️ /home/polna/Developer/final_degree_project/2d_object_detection/data/yolo/val/images/EvVXsCWQX6K5cPzt1isUuw_aug_0.jpg: ignoring corrupt image/label: image size (9, 32) <10 pixels\n",
      "\u001b[34m\u001b[1mval: \u001b[0mWARNING ⚠️ /home/polna/Developer/final_degree_project/2d_object_detection/data/yolo/val/images/FUQuJs-52jhftJYZa0hI9g_aug_0.jpg: ignoring corrupt image/label: image size (21, 6) <10 pixels\n",
      "\u001b[34m\u001b[1mval: \u001b[0mWARNING ⚠️ /home/polna/Developer/final_degree_project/2d_object_detection/data/yolo/val/images/G-VaMvuZKu9TMrz71AdbYA_3.jpg: ignoring corrupt image/label: image size (12, 7) <10 pixels\n",
      "\u001b[34m\u001b[1mval: \u001b[0mWARNING ⚠️ /home/polna/Developer/final_degree_project/2d_object_detection/data/yolo/val/images/GtQIpmJDZO_8AAFgpqD9mw_aug_0.jpg: ignoring corrupt image/label: image size (13, 9) <10 pixels\n",
      "\u001b[34m\u001b[1mval: \u001b[0mWARNING ⚠️ /home/polna/Developer/final_degree_project/2d_object_detection/data/yolo/val/images/HB10h31lv4TBrjFjpQAqlA_4.jpg: ignoring corrupt image/label: image size (9, 12) <10 pixels\n",
      "\u001b[34m\u001b[1mval: \u001b[0mWARNING ⚠️ /home/polna/Developer/final_degree_project/2d_object_detection/data/yolo/val/images/J3YyZyk18FmEiuZjSw0vhA_6.jpg: ignoring corrupt image/label: image size (9, 17) <10 pixels\n",
      "\u001b[34m\u001b[1mval: \u001b[0mWARNING ⚠️ /home/polna/Developer/final_degree_project/2d_object_detection/data/yolo/val/images/N57OfcO1Zbr9qD9P6GJLKw_4.jpg: ignoring corrupt image/label: image size (26, 9) <10 pixels\n",
      "\u001b[34m\u001b[1mval: \u001b[0mWARNING ⚠️ /home/polna/Developer/final_degree_project/2d_object_detection/data/yolo/val/images/OXQ0d1XsZd1prUcck6Fz4A_aug_0.jpg: ignoring corrupt image/label: image size (11, 8) <10 pixels\n",
      "\u001b[34m\u001b[1mval: \u001b[0mWARNING ⚠️ /home/polna/Developer/final_degree_project/2d_object_detection/data/yolo/val/images/OoA9h0JUsa3cLAZG9HPzxg_2.jpg: ignoring corrupt image/label: image size (8, 19) <10 pixels\n",
      "\u001b[34m\u001b[1mval: \u001b[0mWARNING ⚠️ /home/polna/Developer/final_degree_project/2d_object_detection/data/yolo/val/images/P66DJzVuc3F7vOAcWxSx9Q_aug_0.jpg: ignoring corrupt image/label: image size (7, 28) <10 pixels\n",
      "\u001b[34m\u001b[1mval: \u001b[0mWARNING ⚠️ /home/polna/Developer/final_degree_project/2d_object_detection/data/yolo/val/images/PKX7fhvpyfZrzh034nB_8w_1.jpg: ignoring corrupt image/label: image size (9, 17) <10 pixels\n",
      "\u001b[34m\u001b[1mval: \u001b[0mWARNING ⚠️ /home/polna/Developer/final_degree_project/2d_object_detection/data/yolo/val/images/QxMCNzxVib4ZBD8KJNMzFQ_aug_2.jpg: ignoring corrupt image/label: image size (10, 9) <10 pixels\n",
      "\u001b[34m\u001b[1mval: \u001b[0mWARNING ⚠️ /home/polna/Developer/final_degree_project/2d_object_detection/data/yolo/val/images/QxMCNzxVib4ZBD8KJNMzFQ_aug_5.jpg: ignoring corrupt image/label: image size (10, 9) <10 pixels\n",
      "\u001b[34m\u001b[1mval: \u001b[0mWARNING ⚠️ /home/polna/Developer/final_degree_project/2d_object_detection/data/yolo/val/images/T18E4AsRszWFlwnEEZVUQw_aug_4.jpg: ignoring corrupt image/label: image size (9, 18) <10 pixels\n",
      "\u001b[34m\u001b[1mval: \u001b[0mWARNING ⚠️ /home/polna/Developer/final_degree_project/2d_object_detection/data/yolo/val/images/T8kgXYbo2WDu-olXmRweyw_aug_1.jpg: ignoring corrupt image/label: image size (8, 19) <10 pixels\n",
      "\u001b[34m\u001b[1mval: \u001b[0mWARNING ⚠️ /home/polna/Developer/final_degree_project/2d_object_detection/data/yolo/val/images/UWnThAsVi7uMzu3HezYGUw_aug_1.jpg: ignoring corrupt image/label: image size (8, 22) <10 pixels\n",
      "\u001b[34m\u001b[1mval: \u001b[0mWARNING ⚠️ /home/polna/Developer/final_degree_project/2d_object_detection/data/yolo/val/images/UWnThAsVi7uMzu3HezYGUw_aug_2.jpg: ignoring corrupt image/label: image size (8, 22) <10 pixels\n",
      "\u001b[34m\u001b[1mval: \u001b[0mWARNING ⚠️ /home/polna/Developer/final_degree_project/2d_object_detection/data/yolo/val/images/UpcAQMGeJmxjIsB9c64CJA_2.jpg: ignoring corrupt image/label: image size (23, 9) <10 pixels\n",
      "\u001b[34m\u001b[1mval: \u001b[0mWARNING ⚠️ /home/polna/Developer/final_degree_project/2d_object_detection/data/yolo/val/images/Xh2Z4m35fYpeHNdctI_wvA_aug_11.jpg: ignoring corrupt image/label: image size (9, 13) <10 pixels\n",
      "\u001b[34m\u001b[1mval: \u001b[0mWARNING ⚠️ /home/polna/Developer/final_degree_project/2d_object_detection/data/yolo/val/images/Xs5XtpTkoZQYCJwXK3N2TQ_aug_17.jpg: ignoring corrupt image/label: image size (8, 17) <10 pixels\n",
      "\u001b[34m\u001b[1mval: \u001b[0mWARNING ⚠️ /home/polna/Developer/final_degree_project/2d_object_detection/data/yolo/val/images/Y1H4oOvZID2tk8EZiaiQuQ_aug_11.jpg: ignoring corrupt image/label: image size (33, 8) <10 pixels\n",
      "\u001b[34m\u001b[1mval: \u001b[0mWARNING ⚠️ /home/polna/Developer/final_degree_project/2d_object_detection/data/yolo/val/images/Zkax4zUOygdIocbie2EOOA_aug_3.jpg: ignoring corrupt image/label: image size (9, 19) <10 pixels\n",
      "\u001b[34m\u001b[1mval: \u001b[0mWARNING ⚠️ /home/polna/Developer/final_degree_project/2d_object_detection/data/yolo/val/images/_kvZyv1eH-nFzAWwcCekyg_aug_3.jpg: ignoring corrupt image/label: image size (19, 9) <10 pixels\n",
      "\u001b[34m\u001b[1mval: \u001b[0mWARNING ⚠️ /home/polna/Developer/final_degree_project/2d_object_detection/data/yolo/val/images/_r9CqVJYcCLNoVBnsTgfaA_4.jpg: ignoring corrupt image/label: image size (39, 8) <10 pixels\n",
      "\u001b[34m\u001b[1mval: \u001b[0mWARNING ⚠️ /home/polna/Developer/final_degree_project/2d_object_detection/data/yolo/val/images/aFOUGoY8S_hxfpegBgYqvQ_aug_2.jpg: ignoring corrupt image/label: image size (32, 9) <10 pixels\n",
      "\u001b[34m\u001b[1mval: \u001b[0mWARNING ⚠️ /home/polna/Developer/final_degree_project/2d_object_detection/data/yolo/val/images/c3ndjD6bIqSaIGl9Ga1CMA_2.jpg: ignoring corrupt image/label: image size (27, 8) <10 pixels\n",
      "\u001b[34m\u001b[1mval: \u001b[0mWARNING ⚠️ /home/polna/Developer/final_degree_project/2d_object_detection/data/yolo/val/images/cH1BuTHLk9mOrhc-Sc8JqQ_1.jpg: ignoring corrupt image/label: image size (8, 29) <10 pixels\n",
      "\u001b[34m\u001b[1mval: \u001b[0mWARNING ⚠️ /home/polna/Developer/final_degree_project/2d_object_detection/data/yolo/val/images/dfIQDmKbrR7Oi5WEjYyf8g_4.jpg: ignoring corrupt image/label: image size (9, 29) <10 pixels\n",
      "\u001b[34m\u001b[1mval: \u001b[0mWARNING ⚠️ /home/polna/Developer/final_degree_project/2d_object_detection/data/yolo/val/images/eQbnFuKOJ3lI4mAr_qlP-A_4.jpg: ignoring corrupt image/label: image size (15, 9) <10 pixels\n",
      "\u001b[34m\u001b[1mval: \u001b[0mWARNING ⚠️ /home/polna/Developer/final_degree_project/2d_object_detection/data/yolo/val/images/hCN8lJkLemuV7UnL-1YWjA_aug_0.jpg: ignoring corrupt image/label: image size (8, 23) <10 pixels\n",
      "\u001b[34m\u001b[1mval: \u001b[0mWARNING ⚠️ /home/polna/Developer/final_degree_project/2d_object_detection/data/yolo/val/images/hQ3ODk4BxpGTutVNALYQZQ_3.jpg: ignoring corrupt image/label: image size (13, 9) <10 pixels\n",
      "\u001b[34m\u001b[1mval: \u001b[0mWARNING ⚠️ /home/polna/Developer/final_degree_project/2d_object_detection/data/yolo/val/images/hQ3ODk4BxpGTutVNALYQZQ_aug_1.jpg: ignoring corrupt image/label: image size (13, 9) <10 pixels\n",
      "\u001b[34m\u001b[1mval: \u001b[0mWARNING ⚠️ /home/polna/Developer/final_degree_project/2d_object_detection/data/yolo/val/images/ma5yng0VgaM2T91FMA6L9g_aug_4.jpg: ignoring corrupt image/label: image size (10, 9) <10 pixels\n",
      "\u001b[34m\u001b[1mval: \u001b[0mWARNING ⚠️ /home/polna/Developer/final_degree_project/2d_object_detection/data/yolo/val/images/mtCpHGSudsTYeplsfs-ojA_aug_3.jpg: ignoring corrupt image/label: image size (9, 27) <10 pixels\n",
      "\u001b[34m\u001b[1mval: \u001b[0mWARNING ⚠️ /home/polna/Developer/final_degree_project/2d_object_detection/data/yolo/val/images/nG688d8gEkPkAPIi9t5xTg_aug_3.jpg: ignoring corrupt image/label: image size (9, 10) <10 pixels\n",
      "\u001b[34m\u001b[1mval: \u001b[0mWARNING ⚠️ /home/polna/Developer/final_degree_project/2d_object_detection/data/yolo/val/images/of7s2KcaXFCjzHw4xGZ6TQ_2.jpg: ignoring corrupt image/label: image size (9, 28) <10 pixels\n",
      "\u001b[34m\u001b[1mval: \u001b[0mWARNING ⚠️ /home/polna/Developer/final_degree_project/2d_object_detection/data/yolo/val/images/of7s2KcaXFCjzHw4xGZ6TQ_4.jpg: ignoring corrupt image/label: image size (9, 29) <10 pixels\n",
      "\u001b[34m\u001b[1mval: \u001b[0mWARNING ⚠️ /home/polna/Developer/final_degree_project/2d_object_detection/data/yolo/val/images/of7s2KcaXFCjzHw4xGZ6TQ_aug_1.jpg: ignoring corrupt image/label: image size (9, 28) <10 pixels\n",
      "\u001b[34m\u001b[1mval: \u001b[0mWARNING ⚠️ /home/polna/Developer/final_degree_project/2d_object_detection/data/yolo/val/images/pdw2CkJTvAYLBRA6V12YfQ_aug_0.jpg: ignoring corrupt image/label: image size (11, 9) <10 pixels\n",
      "\u001b[34m\u001b[1mval: \u001b[0mWARNING ⚠️ /home/polna/Developer/final_degree_project/2d_object_detection/data/yolo/val/images/uMjm2RRYCIRImIzYljxOZA_aug_7.jpg: ignoring corrupt image/label: image size (16, 9) <10 pixels\n",
      "\u001b[34m\u001b[1mval: \u001b[0mWARNING ⚠️ /home/polna/Developer/final_degree_project/2d_object_detection/data/yolo/val/images/v3YrHSaHt-usq777t1nZoQ_4.jpg: ignoring corrupt image/label: image size (13, 9) <10 pixels\n",
      "\u001b[34m\u001b[1mval: \u001b[0mWARNING ⚠️ /home/polna/Developer/final_degree_project/2d_object_detection/data/yolo/val/images/v5mmKxKVvmfLD4oCERQCaw_9.jpg: ignoring corrupt image/label: image size (8, 10) <10 pixels\n",
      "\u001b[34m\u001b[1mval: \u001b[0mWARNING ⚠️ /home/polna/Developer/final_degree_project/2d_object_detection/data/yolo/val/images/vF7prubhsTd2TH4hkhue9A_12.jpg: ignoring corrupt image/label: image size (8, 16) <10 pixels\n",
      "\u001b[34m\u001b[1mval: \u001b[0mWARNING ⚠️ /home/polna/Developer/final_degree_project/2d_object_detection/data/yolo/val/images/vWYOHx4MFlBGICsodNjFGg_aug_2.jpg: ignoring corrupt image/label: image size (8, 11) <10 pixels\n",
      "\u001b[34m\u001b[1mval: \u001b[0mWARNING ⚠️ /home/polna/Developer/final_degree_project/2d_object_detection/data/yolo/val/images/wBXCAUr7liRwtNidr47HQw_2.jpg: ignoring corrupt image/label: image size (12, 9) <10 pixels\n",
      "\u001b[34m\u001b[1mval: \u001b[0mWARNING ⚠️ /home/polna/Developer/final_degree_project/2d_object_detection/data/yolo/val/images/yadydCQ2DBEQ3FqZpogxPA_aug_0.jpg: ignoring corrupt image/label: image size (9, 23) <10 pixels\n",
      "\u001b[34m\u001b[1mval: \u001b[0mWARNING ⚠️ /home/polna/Developer/final_degree_project/2d_object_detection/data/yolo/val/images/z-GHWstl1HvHpvgPb2rfgQ_3.jpg: ignoring corrupt image/label: image size (15, 9) <10 pixels\n"
     ]
    },
    {
     "name": "stderr",
     "output_type": "stream",
     "text": [
      "\n",
      "                 Class     Images  Instances      Box(P          R      mAP50  mAP50-95): 100%|████\n"
     ]
    },
    {
     "name": "stdout",
     "output_type": "stream",
     "text": [
      "                   all      25677      25677      0.749      0.787      0.808      0.767\n",
      "            other-sign         59         59      0.472      0.016      0.128       0.12\n",
      "regulatory--maximum-speed-limit-30--g1         74         74      0.659      0.811      0.777      0.767\n",
      "warning--crossroads--g3         57         57      0.693      0.877      0.887       0.87\n",
      "information--end-of-motorway--g1         59         59      0.914      0.903      0.963      0.854\n",
      "warning--double-curve-first-left--g1         67         67      0.428      0.403      0.478      0.463\n",
      "regulatory--maximum-speed-limit-50--g1         75         75      0.811        0.4      0.687      0.685\n",
      "regulatory--no-heavy-goods-vehicles--g4         67         67      0.566      0.487       0.61      0.568\n",
      "    warning--texts--g3         60         60      0.588        0.9      0.769      0.765\n",
      "warning--horizontal-alignment-left--g1         65         65      0.314      0.204       0.31      0.278\n",
      "complementary--maximum-speed-limit-30--g1         63         63      0.717      0.905      0.908      0.862\n",
      "regulatory--priority-road--g4         66         66      0.907      0.883      0.952      0.942\n",
      "regulatory--one-way-straight--g1         71         71      0.774      0.789      0.811      0.797\n",
      "information--parking--g1         69         69      0.519      0.536      0.553      0.543\n",
      "regulatory--weight-limit--g1         69         69        0.6      0.458      0.559      0.537\n",
      "regulatory--no-right-turn--g1         62         62      0.445      0.629      0.442      0.441\n",
      "information--pedestrians-crossing--g1         59         59      0.869      0.902      0.956      0.956\n",
      "regulatory--no-entry--g1         64         64      0.836      0.922      0.951      0.864\n",
      "regulatory--maximum-speed-limit-90--g1         46         46          1          0      0.414      0.407\n",
      "regulatory--maximum-speed-limit-120--g1         75         75      0.767      0.627      0.768      0.716\n",
      "warning--wild-animals--g1         61         61      0.661      0.541      0.685      0.618\n",
      "regulatory--no-bicycles--g1         69         69      0.596      0.841       0.85      0.839\n",
      "regulatory--no-heavy-goods-vehicles--g1         63         63      0.563      0.776      0.741      0.718\n",
      "regulatory--no-motorcycles--g1         72         72      0.733      0.861      0.895      0.895\n",
      "warning--traffic-merges-left--g1         59         59      0.424      0.814      0.474      0.456\n",
      "warning--divided-highway-ends--g2         49         49          1      0.956      0.993      0.993\n",
      "regulatory--end-of-prohibition--g1         62         62      0.835      0.661      0.804      0.752\n",
      "warning--traffic-signals--g1         49         49      0.891      0.939      0.963      0.961\n",
      "complementary--chevron-right-unsure--g6         53         53      0.399      0.491      0.399      0.398\n",
      "regulatory--no-left-turn--g1         66         66      0.401      0.568      0.399      0.386\n",
      "  regulatory--stop--g1         71         71      0.743      0.936      0.924      0.763\n",
      "warning--roadworks--g4         65         65      0.762        0.8      0.864      0.864\n",
      "complementary--obstacle-delineator--g1         66         66      0.922       0.97       0.98      0.903\n",
      "warning--railroad-crossing-without-barriers--g4         68         68      0.855      0.985       0.99      0.988\n",
      "regulatory--no-overtaking--g1         65         65      0.842      0.877      0.942      0.933\n",
      "warning--curve-right--g1         64         64      0.446      0.719      0.448      0.427\n",
      "complementary--chevron-left--g2         54         54      0.468      0.667      0.464      0.464\n",
      "warning--other-danger--g1         73         73      0.921      0.945       0.98      0.973\n",
      "warning--roadworks--g1         70         70      0.573      0.613      0.583      0.558\n",
      "warning--road-narrows--g1         67         67      0.823      0.672      0.843      0.828\n",
      "warning--double-curve-first-right--g1         56         56      0.401      0.788      0.414      0.357\n",
      "regulatory--no-parking--g2         62         62      0.825      0.774      0.838      0.811\n",
      "warning--traffic-merges-right--g1         61         61      0.503      0.754      0.498      0.496\n",
      "regulatory--maximum-speed-limit-20--g1         65         65          1          0       0.49      0.452\n",
      "regulatory--maximum-speed-limit-15--g1         46         46      0.748      0.978       0.95      0.919\n",
      "regulatory--no-straight-through--g1         55         55      0.657       0.87      0.893      0.793\n",
      "warning--school-zone--g2         63         63       0.95      0.984      0.987      0.987\n",
      "complementary--maximum-speed-limit-20--g1         79         79      0.817      0.962      0.962      0.915\n",
      "regulatory--one-way-right--g1         67         67      0.424      0.552      0.414      0.365\n",
      "regulatory--one-way-right--g3         62         62      0.854      0.484      0.724      0.603\n",
      "regulatory--turn-left--g2         54         54      0.368       0.63      0.457      0.413\n",
      "complementary--obstacle-delineator--g2         66         66      0.912      0.937      0.944      0.924\n",
      "warning--narrow-bridge--g1         63         63      0.948      0.968      0.985      0.984\n",
      "regulatory--no-overtaking--g5         57         57      0.554      0.916       0.79       0.79\n",
      "regulatory--one-way-left--g3         54         54      0.576       0.63      0.665      0.574\n",
      "regulatory--maximum-speed-limit-30--g3         60         60      0.718        0.9      0.852      0.718\n",
      "complementary--maximum-speed-limit-70--g1         74         74      0.732      0.973      0.964      0.915\n",
      " regulatory--yield--g1         54         54      0.923      0.963      0.965      0.965\n",
      "regulatory--turn-left-ahead--g1         59         59      0.305      0.271      0.271      0.248\n",
      "regulatory--go-straight-or-turn-left--g1         64         64       0.34      0.322      0.378      0.318\n",
      "regulatory--bicycles-only--g1         69         69       0.77      0.928      0.911      0.809\n",
      "regulatory--go-straight--g1         77         77      0.792      0.922      0.939      0.896\n",
      "regulatory--maximum-speed-limit-40--g1         60         60      0.647      0.867      0.875      0.872\n",
      "regulatory--maximum-speed-limit-80--g1         68         68      0.208     0.0695      0.366       0.36\n",
      "information--road-bump--g1         72         72      0.985      0.925      0.984      0.877\n",
      " warning--children--g1         74         74      0.738      0.905      0.941      0.938\n",
      "regulatory--no-stopping--g15         63         63      0.799      0.819      0.907      0.835\n",
      "regulatory--no-buses--g3         58         58      0.602      0.314      0.498      0.469\n",
      "complementary--chevron-right--g5         68         68      0.434      0.721      0.545      0.545\n",
      "complementary--chevron-right--g1         54         54      0.519      0.738      0.558      0.509\n",
      "information--stairs--g1         72         72      0.933      0.579      0.889      0.813\n",
      "complementary--pass-right--g1         63         63      0.735      0.837      0.897      0.804\n",
      "complementary--chevron-right--g4         60         60       0.48      0.909      0.671      0.603\n",
      "  warning--t-roads--g1         59         59      0.976      0.864      0.955      0.909\n",
      "regulatory--no-u-turn--g2         58         58      0.768      0.911      0.946      0.946\n",
      "warning--junction-with-a-side-road-perpendicular-right--g3         67         67      0.476      0.719      0.474      0.471\n",
      "warning--horizontal-alignment-right--g1         58         58      0.495      0.625      0.587      0.582\n",
      "warning--pedestrians-crossing--g1         46         46      0.828      0.783      0.901      0.892\n",
      "regulatory--keep-right--g1         64         64      0.644      0.311      0.577      0.537\n",
      "regulatory--keep-left--g2         68         68      0.939      0.941      0.981      0.981\n",
      "warning--wombat-crossing--g1         66         66      0.914      0.965      0.979      0.947\n",
      "regulatory--no-hawkers--g1         64         64      0.947      0.844      0.933      0.926\n",
      "warning--railroad-crossing-with-barriers--g1         61         61      0.963      0.863      0.961      0.814\n",
      "information--disabled-persons--g1         58         58      0.746      0.931      0.952       0.83\n",
      "warning--uneven-road--g2         66         66      0.962      0.765      0.928      0.917\n",
      "complementary--extent-of-prohibition-area-both-direction--g1         68         68      0.929      0.676      0.865       0.85\n",
      "  warning--t-roads--g2         59         59       0.89      0.949      0.983      0.983\n",
      "regulatory--no-parking--g1         76         76      0.521      0.816      0.625      0.536\n",
      "regulatory--turn-left--g1         69         69      0.457      0.536      0.432       0.42\n",
      "warning--pedestrians-crossing--g4         76         76      0.666      0.829      0.857      0.832\n",
      "regulatory--turn-left--g3         71         71      0.519      0.867      0.589      0.589\n",
      "warning--roundabout--g1         67         67      0.919      0.955      0.967      0.964\n",
      "information--parking--g3         63         63       0.87      0.873      0.917      0.816\n",
      "regulatory--turn-right--g2         66         66      0.369      0.545      0.408      0.401\n",
      "regulatory--no-parking--g5         65         65      0.783      0.892      0.887      0.807\n",
      "regulatory--no-motor-vehicles--g4         56         56      0.727      0.911       0.94       0.94\n",
      "regulatory--shared-path-pedestrians-and-bicycles--g1         66         66      0.926      0.943       0.97      0.876\n",
      "regulatory--maximum-speed-limit-5--g1         70         70      0.853      0.914      0.953      0.934\n",
      "complementary--go-left--g1         56         56      0.395      0.518      0.358      0.338\n",
      "regulatory--keep-right--g4         75         75      0.972      0.942      0.976      0.976\n",
      "regulatory--go-straight-or-turn-left--g2         51         51      0.837      0.704      0.865      0.865\n",
      "regulatory--turn-right--g3         68         68      0.621      0.397      0.506      0.483\n",
      "information--interstate-route--g1         55         55      0.954      0.747      0.911      0.833\n",
      "regulatory--lane-control--g1         65         65      0.752      0.862      0.887      0.807\n",
      "warning--road-bump--g2         65         65      0.755      0.898      0.914      0.911\n",
      "complementary--chevron-left--g3         65         65      0.453      0.615       0.49      0.424\n",
      "regulatory--give-way-to-oncoming-traffic--g1         82         82      0.961      0.893      0.974      0.944\n",
      " warning--children--g2         73         73      0.779       0.89      0.913      0.913\n",
      "complementary--maximum-speed-limit-35--g1         68         68      0.592      0.876      0.876      0.844\n",
      "warning--road-bump--g1         75         75      0.738      0.933       0.95      0.946\n",
      "regulatory--no-u-turn--g1         58         58      0.508       0.73      0.556      0.542\n",
      "warning--pass-left-or-right--g2         60         60      0.943      0.933       0.97      0.961\n",
      "regulatory--no-overtaking--g2         62         62          1      0.853      0.956      0.939\n",
      "complementary--go-right--g1         60         60      0.159     0.0667      0.282      0.268\n",
      "regulatory--turn-right--g1         68         68      0.406      0.632      0.456      0.435\n",
      "warning--crossroads--g1         57         57      0.586      0.912      0.881      0.881\n",
      "warning--curve-right--g2         65         65      0.404      0.815      0.429      0.429\n",
      "regulatory--no-turns--g1         68         68      0.733      0.853      0.911       0.88\n",
      "regulatory--no-turn-on-red--g3         77         77      0.851      0.779      0.863       0.63\n",
      "regulatory--no-parking-or-no-stopping--g2         66         66      0.402      0.379      0.441      0.434\n",
      "regulatory--stop-here-on-red-or-flashing-light--g2         57         57      0.982      0.977       0.99      0.893\n",
      "regulatory--maximum-speed-limit-25--g2         62         62      0.967      0.968      0.978      0.744\n",
      "warning--curve-left--g2         62         62      0.333      0.274      0.341      0.334\n",
      "warning--junction-with-a-side-road-perpendicular-left--g1         63         63      0.497      0.413      0.395      0.384\n",
      "warning--winding-road-first-right--g1         54         54      0.515      0.688      0.524      0.521\n",
      "warning--accidental-area-unsure--g2         63         63      0.886      0.984      0.985      0.914\n",
      "regulatory--no-overtaking--g4         63         63      0.879      0.587      0.692       0.69\n",
      "complementary--keep-left--g1         71         71      0.589      0.807      0.746      0.737\n",
      "regulatory--maximum-speed-limit-60--g1         58         58       0.44     0.0862       0.28       0.27\n",
      "regulatory--wrong-way--g1         83         83      0.979      0.952      0.984      0.915\n",
      "regulatory--no-heavy-goods-vehicles--g2         76         76      0.704      0.421      0.627      0.611\n",
      "regulatory--road-closed--g2         62         62      0.736      0.766       0.83      0.791\n",
      "regulatory--one-way-left--g1         58         58      0.328      0.337      0.407      0.398\n",
      "information--bike-route--g1         70         70      0.761          1      0.977      0.977\n",
      "regulatory--no-stopping--g8         61         61      0.585      0.246      0.466      0.453\n",
      "complementary--maximum-speed-limit-15--g1         79         79      0.917      0.962      0.984      0.971\n",
      "regulatory--pedestrians-only--g1         65         65      0.943      0.761      0.924      0.786\n",
      "complementary--except-bicycles--g1         64         64      0.853      0.984      0.988      0.978\n",
      "    warning--texts--g2         61         61      0.753      0.852        0.9       0.89\n",
      "information--parking--g5         62         62      0.537      0.524       0.49      0.477\n",
      "complementary--distance--g1         59         59      0.814      0.729       0.86      0.725\n",
      "complementary--distance--g2         59         59      0.493      0.725      0.611      0.564\n",
      "warning--two-way-traffic--g2         66         66      0.774      0.848      0.889      0.877\n",
      "warning--double-reverse-curve-right--g1         61         61      0.887      0.869      0.954      0.937\n",
      "regulatory--end-of-maximum-speed-limit-70--g2         64         64      0.793      0.895      0.876      0.768\n",
      "information--dead-end--g1         73         73      0.948      0.849      0.957      0.941\n",
      "complementary--chevron-left--g5         66         66      0.476      0.744      0.499      0.491\n",
      "regulatory--road-closed-to-vehicles--g3         74         74      0.825      0.946      0.971      0.971\n",
      "regulatory--buses-only--g1         67         67      0.741      0.716      0.795      0.716\n",
      "regulatory--no-straight-through--g2         50         50      0.665       0.94      0.951      0.951\n",
      "warning--junction-with-a-side-road-acute-left--g1         79         79       0.47      0.639      0.473      0.473\n",
      "warning--road-widens-right--g1         75         75      0.818       0.84      0.925      0.877\n",
      "warning--road-narrows-right--g2         61         61      0.449      0.541      0.502      0.502\n",
      "warning--emergency-vehicles--g1         80         80      0.786      0.963      0.973      0.949\n",
      "warning--junction-with-a-side-road-perpendicular-left--g3         64         64      0.341      0.297      0.287       0.28\n",
      "warning--junction-with-a-side-road-acute-right--g1         68         68      0.375      0.486      0.408      0.408\n",
      "regulatory--maximum-speed-limit-40--g6         60         60      0.686      0.983      0.952      0.827\n",
      "warning--railroad-crossing-without-barriers--g3         63         63      0.769      0.873      0.939      0.789\n",
      "warning--turn-right--g1         72         72       0.41       0.58        0.4      0.381\n",
      "complementary--chevron-right--g3         62         62       0.56      0.472      0.538      0.456\n",
      "information--tram-bus-stop--g2         73         73       0.94      0.808      0.927      0.916\n",
      "regulatory--maximum-speed-limit-10--g1         69         69          1      0.173       0.83      0.829\n",
      "regulatory--height-limit--g1         54         54      0.762      0.667      0.764      0.605\n",
      "regulatory--roundabout--g1         75         75      0.967      0.793      0.929      0.864\n",
      "warning--slippery-road-surface--g1         61         61      0.817      0.885      0.928      0.851\n",
      "warning--double-curve-first-right--g2         70         70      0.383      0.543      0.395      0.395\n",
      "regulatory--keep-left--g1         52         52       0.41      0.692      0.412      0.393\n",
      "complementary--chevron-left--g1         59         59      0.465      0.781      0.565      0.532\n",
      "warning--junction-with-a-side-road-perpendicular-right--g1         70         70      0.463      0.531      0.486      0.458\n",
      "regulatory--no-motor-vehicles-except-motorcycles--g1         69         69      0.685      0.725      0.808      0.797\n",
      "regulatory--maximum-speed-limit-45--g1         73         73      0.925      0.847      0.931      0.895\n",
      "warning--slippery-road-surface--g2         72         72      0.977      0.944      0.982      0.982\n",
      "complementary--distance--g3         57         57      0.729      0.898      0.917      0.873\n",
      "warning--roadworks--g3         53         53      0.556      0.811      0.749      0.724\n",
      "complementary--maximum-speed-limit-50--g1         51         51      0.751      0.843      0.881      0.835\n",
      "regulatory--maximum-speed-limit-100--g1         72         72       0.88      0.819      0.886      0.863\n",
      "complementary--maximum-speed-limit-55--g1         72         72          1          0      0.928      0.915\n",
      "regulatory--maximum-speed-limit-70--g1         77         77      0.799      0.818      0.867      0.837\n",
      "regulatory--no-u-turn--g3         47         47      0.434       0.83       0.44      0.436\n",
      "regulatory--no-right-turn--g2         68         68      0.566      0.412      0.503      0.466\n",
      "regulatory--no-stopping--g5         62         62      0.724      0.806      0.845      0.768\n",
      "warning--roadworks--g2         69         69      0.925      0.768        0.9       0.89\n",
      "warning--wild-animals--g4         78         78      0.932      0.526       0.83      0.785\n",
      " information--food--g2         61         61      0.862      0.934      0.966      0.802\n",
      "regulatory--go-straight-or-turn-left--g3         66         66      0.362      0.455      0.356      0.356\n",
      "regulatory--turn-right-ahead--g2         62         62      0.669      0.915      0.844      0.844\n",
      "regulatory--no-stopping--g2         63         63       0.92      0.914      0.965      0.808\n",
      "regulatory--keep-right--g6         62         62      0.724      0.845      0.852      0.821\n",
      "information--living-street--g1         50         50      0.875       0.84      0.895      0.842\n",
      "complementary--tow-away-zone--g1         69         69      0.803      0.913      0.929      0.839\n",
      "regulatory--one-way-left--g2         60         60      0.511      0.924      0.543      0.461\n",
      "regulatory--triple-lanes-turn-left-center-lane--g1         67         67      0.538      0.985      0.929      0.862\n",
      "complementary--both-directions--g1         69         69      0.826      0.536      0.771      0.749\n",
      "complementary--maximum-speed-limit-45--g1         62         62      0.922      0.949      0.971      0.932\n",
      "warning--turn-left--g1         58         58      0.406      0.779      0.403      0.401\n",
      "information--limited-access-road--g1         53         53      0.734      0.943      0.957      0.851\n",
      "complementary--maximum-speed-limit-75--g1         54         54      0.804       0.91      0.939      0.897\n",
      "warning--road-narrows-left--g2         61         61      0.341      0.772      0.439      0.439\n",
      "regulatory--dual-lanes-go-straight-on-right--g1         62         62      0.503      0.968      0.771       0.77\n",
      "regulatory--do-not-block-intersection--g1         60         60      0.695      0.933      0.936      0.906\n",
      "regulatory--maximum-speed-limit-55--g2         65         65      0.618      0.877      0.827      0.701\n",
      "regulatory--radar-enforced--g1         61         61      0.877      0.585       0.85      0.805\n",
      "warning--traffic-merges-right--g2         58         58      0.389      0.526      0.393      0.387\n",
      " regulatory--stop--g10         63         63      0.872      0.651      0.816      0.762\n",
      "complementary--turn-left--g2         68         68      0.465      0.721      0.438      0.411\n",
      "regulatory--minimum-safe-distance--g1         65         65      0.813      0.969      0.978      0.898\n",
      "regulatory--no-turn-on-red--g1         64         64      0.637      0.906      0.897      0.768\n",
      "regulatory--stop-signals--g1         69         69       0.96      0.783      0.918      0.849\n",
      "information--gas-station--g1         56         56      0.943      0.875       0.96      0.926\n",
      "regulatory--end-of-speed-limit-zone--g1         71         71      0.773      0.944       0.87      0.672\n",
      "warning--two-way-traffic--g1         74         74      0.905      0.878      0.949      0.949\n",
      "warning--curve-left--g1         67         67      0.433      0.418      0.493      0.488\n",
      "information--hospital--g1         67         67      0.854       0.91      0.959      0.905\n",
      "regulatory--reversible-lanes--g2         75         75      0.931      0.987       0.99      0.943\n",
      "warning--flaggers-in-road--g1         68         68      0.973      0.941      0.981      0.927\n",
      "information--children--g1         74         74      0.966      0.986      0.991      0.989\n",
      "warning--traffic-signals--g4         67         67      0.902      0.985      0.992      0.992\n",
      "warning--railroad-crossing--g3         52         52      0.948      0.942      0.987      0.983\n",
      "warning--traffic-signals--g2         58         58      0.812          1       0.99      0.915\n",
      "regulatory--one-way-right--g2         64         64      0.484      0.375      0.512      0.408\n",
      "regulatory--no-overtaking-by-heavy-goods-vehicles--g1         70         70      0.743      0.943      0.947      0.885\n",
      "regulatory--no-turn-on-red--g2         73         73      0.923      0.521      0.765      0.719\n",
      "warning--double-curve-first-left--g2         56         56      0.432      0.679      0.445      0.414\n",
      "warning--steep-ascent--g7         74         74      0.839      0.703      0.891      0.828\n",
      "warning--kangaloo-crossing--g1         67         67      0.903      0.985      0.988      0.964\n",
      "regulatory--truck-speed-limit-60--g1         61         61      0.762      0.328      0.665       0.63\n",
      "regulatory--priority-over-oncoming-vehicles--g1         48         48      0.916      0.875      0.934      0.861\n",
      "information--pedestrians-crossing--g2         63         63       0.81          1      0.992      0.814\n",
      "warning--pedestrians-crossing--g10         61         61      0.973          1      0.995      0.995\n",
      "regulatory--passing-lane-ahead--g1         45         45          1          0      0.296       0.28\n",
      "information--airport--g1         62         62      0.734      0.887      0.883      0.842\n",
      "regulatory--no-motor-vehicles-except-motorcycles--g2         73         73      0.915      0.586      0.779      0.712\n",
      "information--safety-area--g2         79         79      0.936          1      0.994      0.919\n",
      "warning--roundabout--g25         54         54      0.938      0.842      0.925      0.807\n",
      "regulatory--parking-restrictions--g2         59         59      0.729      0.684       0.77      0.704\n",
      "regulatory--no-parking-or-no-stopping--g1         70         70      0.541      0.429      0.585      0.527\n",
      "warning--uneven-road--g6         73         73      0.886      0.959      0.961       0.94\n",
      "complementary--go-right--g2         55         55       0.84      0.582      0.711      0.708\n",
      "regulatory--maximum-speed-limit-45--g3         71         71      0.956      0.909      0.978      0.789\n",
      "warning--railroad-intersection--g3         56         56      0.834      0.982      0.958      0.906\n",
      "warning--railroad-crossing--g1         65         65      0.937      0.923      0.974       0.86\n",
      "warning--railroad-crossing--g4         62         62      0.826      0.839        0.9      0.827\n",
      "information--airport--g2         69         69      0.986      0.812      0.955      0.955\n",
      "complementary--trucks-turn-right--g1         72         72      0.958          1      0.995       0.94\n",
      "information--highway-exit--g1         67         67      0.825      0.955      0.976       0.93\n",
      "regulatory--end-of-bicycles-only--g1         54         54      0.899      0.759      0.918      0.768\n",
      "warning--bus-stop-ahead--g3         61         61      0.583      0.885      0.915      0.893\n",
      "warning--double-turn-first-right--g1         50         50      0.654       0.78      0.803      0.794\n",
      "warning--winding-road-first-right--g3         61         61      0.885      0.967      0.961      0.961\n",
      "warning--railroad-crossing-with-barriers--g2         76         76      0.887      0.961       0.97      0.942\n",
      "warning--railroad-intersection--g4         64         64      0.794      0.859      0.908      0.908\n",
      "warning--winding-road-first-left--g1         72         72      0.544      0.944      0.661      0.653\n",
      "regulatory--go-straight-or-turn-right--g1         69         69      0.466      0.531       0.46      0.407\n",
      "regulatory--turn-right-ahead--g1         74         74      0.515      0.649      0.478       0.45\n",
      "complementary--turn-right--g2         58         58      0.432      0.603        0.5      0.497\n",
      "    warning--texts--g1         75         75      0.757      0.791      0.839      0.803\n",
      "regulatory--keep-right--g2         71         71      0.979      0.668      0.847      0.777\n",
      "regulatory--go-straight--g3         60         60      0.896      0.983       0.99      0.879\n",
      "complementary--trucks--g1         69         69      0.901      0.922      0.947      0.904\n",
      "warning--pedestrians-crossing--g9         75         75      0.821      0.747      0.913      0.794\n",
      "information--end-of-living-street--g1         55         55      0.928      0.982      0.992        0.9\n",
      "information--bus-stop--g1         69         69      0.951      0.986      0.985      0.985\n",
      "regulatory--pedestrians-only--g2         77         77      0.789       0.87      0.896      0.758\n",
      "information--motorway--g1         68         68      0.848      0.897      0.924      0.856\n",
      "information--parking--g45         54         54      0.827      0.618      0.775      0.679\n",
      "warning--road-narrows-left--g1         62         62      0.414      0.919      0.527      0.527\n",
      "complementary--accident-area--g3         62         62      0.954          1      0.995      0.883\n",
      "warning--trucks-crossing--g1         51         51      0.814      0.922      0.971      0.971\n",
      "warning--domestic-animals--g1         59         59      0.777      0.932      0.955      0.955\n",
      "warning--road-narrows--g2         75         75      0.658      0.384      0.611      0.611\n",
      "warning--stop-ahead--g9         58         58      0.938      0.966       0.99      0.987\n",
      "warning--narrow-bridge--g3         70         70      0.985      0.967      0.987      0.987\n",
      "warning--pedestrians-crossing--g5         50         50      0.522       0.96      0.919      0.919\n",
      "regulatory--maximum-speed-limit-led-60--g1         63         63      0.517      0.778      0.535      0.507\n",
      "regulatory--no-parking-or-no-stopping--g3         51         51      0.594      0.287      0.432      0.352\n",
      "regulatory--width-limit--g1         68         68      0.887      0.735      0.889      0.889\n",
      "regulatory--maximum-speed-limit-35--g2         58         58      0.585      0.874       0.75      0.601\n",
      "information--emergency-facility--g2         55         55      0.924      0.818      0.909      0.832\n",
      "warning--road-widens--g1         71         71      0.595      0.901      0.895      0.895\n",
      "regulatory--no-pedestrians--g2         67         67      0.894      0.836      0.921      0.921\n",
      "warning--hairpin-curve-right--g1         68         68      0.493      0.643      0.482      0.482\n",
      "complementary--keep-right--g1         57         57       0.57      0.474      0.519      0.477\n",
      "warning--junction-with-a-side-road-perpendicular-left--g4         55         55          1      0.483      0.781      0.765\n",
      "warning--height-restriction--g2         67         67      0.816      0.836      0.923      0.849\n",
      "warning--hairpin-curve-right--g4         67         67      0.868      0.981      0.889      0.874\n",
      "warning--traffic-signals--g3         69         69          1      0.927       0.97      0.843\n",
      "regulatory--mopeds-and-bicycles-only--g1         62         62      0.914      0.984      0.991      0.968\n",
      "regulatory--no-left-turn--g2         67         67      0.432      0.442      0.398      0.398\n",
      "regulatory--end-of-no-parking--g1         56         56      0.788      0.946      0.953      0.929\n",
      "regulatory--end-of-priority-road--g1         69         69      0.792      0.828      0.849      0.794\n",
      "regulatory--no-heavy-goods-vehicles-or-buses--g1         69         69      0.909      0.986      0.991      0.955\n",
      "warning--uneven-roads-ahead--g1         66         66      0.923      0.879      0.958       0.95\n",
      "warning--playground--g1         49         49      0.575      0.959      0.942      0.921\n",
      "regulatory--road-closed-to-vehicles--g1         69         69      0.836      0.754      0.831      0.826\n",
      "warning--added-lane-right--g1         62         62      0.975      0.935      0.974      0.974\n",
      "information--lodging--g1         71         71      0.872          1      0.992      0.958\n",
      "warning--pedestrian-stumble-train--g1         71         71      0.947          1      0.995      0.946\n",
      "information--end-of-built-up-area--g1         55         55      0.916      0.982      0.992       0.99\n",
      "warning--divided-highway-ends--g1         81         81       0.91      0.975       0.98      0.947\n",
      "warning--domestic-animals--g3         61         61      0.841      0.967      0.977      0.958\n",
      "complementary--priority-route-at-intersection--g1         62         62      0.909      0.968       0.98       0.98\n",
      "warning--bicycles-crossing--g2         63         63      0.807      0.968      0.982      0.949\n",
      "regulatory--bicycles-only--g2         62         62      0.759      0.935      0.941      0.912\n",
      "regulatory--maximum-speed-limit-led-80--g1         60         60      0.446        0.7      0.573       0.54\n",
      "regulatory--maximum-speed-limit-50--g6         55         55      0.635      0.916      0.894      0.894\n",
      "warning--slippery-motorcycles--g1         75         75      0.927      0.973      0.987      0.987\n",
      "regulatory--pass-on-either-side--g2         77         77      0.975      0.792      0.933      0.902\n",
      "complementary--one-direction-right--g1         47         47      0.209      0.107      0.248      0.223\n",
      "warning--hairpin-curve-left--g1         53         53      0.467       0.71      0.474      0.474\n",
      "information--trailer-camping--g1         55         55      0.909          1      0.984      0.949\n",
      "regulatory--no-stopping--g4         57         57      0.726      0.842      0.811      0.795\n",
      "regulatory--no-pedestrians-or-bicycles--g1         64         64      0.903          1      0.995      0.995\n",
      "regulatory--no-heavy-goods-vehicles--g5         56         56      0.869       0.71      0.829      0.756\n",
      "warning--other-danger--g3         60         60      0.971       0.95      0.971      0.906\n",
      "regulatory--dual-path-pedestrians-and-bicycles--g1         65         65       0.56      0.877      0.742      0.624\n",
      "warning--dual-lanes-right-turn-or-go-straight--g1         51         51      0.912          1      0.995      0.995\n",
      "regulatory--maximum-speed-limit-100--g3         68         68      0.969      0.985      0.992      0.992\n",
      "regulatory--pass-on-either-side--g1         70         70      0.898      0.957       0.97      0.885\n",
      "regulatory--dual-path-bicycles-and-pedestrians--g1         73         73      0.495      0.751      0.571      0.511\n",
      "complementary--one-direction-left--g1         63         63        0.4      0.841      0.595      0.549\n",
      "regulatory--no-motor-vehicle-trailers--g1         50         50      0.618       0.84      0.833      0.816\n",
      "regulatory--no-pedestrians--g1         55         55      0.761      0.945      0.956      0.893\n",
      "regulatory--no-pedestrians--g3         68         68      0.899      0.941      0.975      0.975\n",
      "warning--traffic-merges-left--g2         74         74      0.533       0.68      0.596      0.587\n",
      "regulatory--text-four-lines--g1         67         67      0.631      0.925       0.86      0.809\n",
      "warning--railroad-crossing-without-barriers--g1         64         64      0.701      0.938      0.914      0.911\n",
      "regulatory--stop-here-on-red-or-flashing-light--g1         54         54      0.618      0.981      0.983      0.783\n",
      "regulatory--maximum-speed-limit-40--g3         61         61       0.88       0.59      0.853      0.697\n",
      "information--telephone--g2         56         56      0.907      0.697      0.812      0.698\n",
      "regulatory--maximum-speed-limit-110--g1         64         64      0.854      0.781      0.905      0.888\n",
      "warning--falling-rocks-or-debris-right--g1         68         68      0.861       0.91      0.946       0.93\n",
      "regulatory--dual-lanes-go-straight-on-left--g1         61         61      0.591      0.754      0.759      0.758\n",
      "regulatory--u-turn--g1         62         62      0.983      0.968      0.983      0.948\n",
      "complementary--maximum-speed-limit-40--g1         69         69      0.876      0.986      0.976      0.899\n",
      "information--parking--g6         49         49      0.787      0.796      0.846      0.843\n",
      "regulatory--maximum-speed-limit-led-100--g1         68         68      0.833      0.912      0.928      0.861\n",
      "warning--falling-rocks-or-debris-right--g2         60         60      0.905      0.792      0.914      0.914\n",
      "warning--pedestrians-crossing--g12         48         48       0.77      0.979      0.954      0.954\n",
      "complementary--buses--g1         63         63      0.731      0.762      0.806      0.779\n",
      "regulatory--no-bicycles--g3         57         57      0.845      0.766      0.882      0.882\n",
      "warning--pass-left-or-right--g1         68         68      0.861      0.912      0.961      0.885\n",
      "information--parking--g2         70         70      0.686      0.743      0.832      0.766\n",
      "warning--bicycles-crossing--g3         62         62      0.726      0.935      0.957      0.957\n",
      "warning--road-narrows-right--g1         65         65      0.525      0.272      0.434      0.428\n",
      "information--highway-interstate-route--g2         65         65      0.945          1      0.995      0.951\n",
      "  warning--y-roads--g1         63         63      0.726      0.968      0.952      0.952\n",
      "regulatory--no-left-turn--g3         74         74      0.482      0.441      0.485      0.436\n",
      "  regulatory--stop--g2         77         77      0.942      0.837       0.96       0.92\n",
      "regulatory--road-closed--g1         64         64      0.842      0.922      0.939      0.877\n",
      "regulatory--left-turn-yield-on-green--g1         61         61      0.836          1      0.981      0.755\n",
      "regulatory--go-straight-or-turn-right--g3         62         62      0.404      0.516      0.394      0.374\n",
      "      warning--dip--g2         60         60      0.907      0.917      0.971      0.961\n",
      "warning--winding-road-first-left--g2         60         60      0.802       0.88      0.906      0.899\n",
      "warning--bicycles-crossing--g1         79         79      0.849      0.962      0.975      0.938\n",
      "complementary--chevron-left--g4         58         58      0.787      0.445      0.605      0.541\n",
      "regulatory--no-right-turn--g3         56         56      0.453      0.828      0.503      0.503\n",
      "regulatory--no-motorcycles--g2         71         71      0.548      0.803       0.77       0.77\n",
      "regulatory--end-of-maximum-speed-limit-30--g2         60         60      0.599      0.597      0.718      0.715\n",
      "warning--loop-270-degree--g1         72         72      0.852          1      0.993      0.993\n",
      "complementary--maximum-speed-limit-25--g1         58         58      0.947      0.862      0.921      0.899\n",
      "warning--offset-roads--g3         64         64      0.762      0.906      0.923      0.921\n",
      "warning--trail-crossing--g2         71         71      0.942          1      0.994      0.956\n",
      "regulatory--no-vehicles-carrying-dangerous-goods--g1         67         67      0.874       0.93      0.967      0.904\n",
      "warning--falling-rocks-or-debris-right--g4         68         68      0.819      0.866      0.876      0.839\n",
      "regulatory--maximum-speed-limit-65--g2         73         73      0.943      0.899       0.98      0.806\n",
      "information--central-lane--g1         60         60      0.983      0.968      0.991      0.954\n",
      "information--end-of-limited-access-road--g1         60         60      0.886      0.983      0.987       0.79\n",
      "information--telephone--g1         63         63      0.884       0.81      0.909      0.813\n",
      "information--no-parking--g3         62         62          1      0.764      0.973       0.92\n",
      "information--gas-station--g3         72         72       0.95      0.944      0.986      0.907\n",
      "regulatory--roundabout--g2         61         61      0.875          1      0.989      0.846\n",
      "warning--roadworks--g6         67         67       0.97       0.98      0.994      0.994\n",
      "warning--crossroads-with-priority-to-the-right--g1         63         63      0.982      0.905      0.982      0.978\n",
      "regulatory--dual-lanes-turn-right-or-straight--g1         77         77      0.531      0.649      0.589      0.589\n",
      "regulatory--maximum-speed-limit-25--g1         69         69      0.953      0.886      0.948      0.903\n",
      "regulatory--no-bicycles--g2         69         69      0.643      0.888      0.849      0.825\n",
      "regulatory--dual-lanes-turn-left-or-straight--g1         53         53      0.441      0.388      0.396      0.395\n",
      "regulatory--no-mopeds-or-bicycles--g1         72         72      0.867      0.944       0.96      0.924\n",
      " information--camp--g1         48         48      0.925      0.875      0.931       0.87\n",
      "warning--horizontal-alignment-right--g3         67         67          1      0.993      0.995      0.995\n",
      "warning--pedestrians-crossing--g11         43         43      0.845      0.977      0.989      0.989\n",
      "regulatory--no-motor-vehicles--g1         72         72      0.957      0.944      0.981      0.962\n",
      "information--minimum-speed-40--g1         62         62      0.905      0.769      0.924      0.881\n",
      "information--dead-end-except-bicycles--g1         76         76      0.836          1      0.995      0.988\n",
      "warning--shared-lane-motorcycles-bicycles--g1         61         61      0.906      0.869      0.947      0.897\n",
      "regulatory--do-not-stop-on-tracks--g1         71         71       0.91      0.338      0.805      0.698\n",
      "warning--turn-right--g2         62         62      0.893      0.887      0.978      0.978\n",
      "warning--trams-crossing--g1         64         64      0.743      0.859       0.89      0.887\n",
      "regulatory--turning-vehicles-yield-to-pedestrians--g1         57         57      0.879          1      0.971      0.775\n",
      "warning--playground--g3         61         61      0.824          1      0.995      0.995\n",
      "regulatory--end-of-maximum-speed-limit-70--g1         61         61      0.799      0.918      0.949       0.83\n",
      "warning--railroad-crossing-with-barriers--g4         66         66       0.97      0.985      0.993      0.967\n",
      "warning--restricted-zone--g1         60         60      0.965          1      0.995      0.995\n",
      "warning--hairpin-curve-left--g3         66         66      0.985      0.997      0.995      0.995\n",
      "regulatory--bicycles-only--g3         78         78      0.938      0.974       0.98      0.831\n",
      "regulatory--end-of-buses-only--g1         44         44      0.867          1      0.985      0.829\n",
      "regulatory--dual-lanes-turn-left-no-u-turn--g1         80         80      0.901      0.568      0.873      0.871\n",
      "regulatory--shared-path-bicycles-and-pedestrians--g1         68         68      0.878      0.971      0.989      0.941\n",
      "warning--equestrians-crossing--g2         67         67       0.84       0.97      0.983      0.983\n",
      "regulatory--weight-limit-with-trucks--g1         63         63      0.965          1      0.995      0.905\n",
      "regulatory--detour-left--g1         58         58      0.983      0.991      0.994      0.983\n",
      "information--end-of-pedestrians-only--g2         61         61      0.975      0.984      0.991      0.814\n",
      "Speed: 0.0ms preprocess, 2.4ms inference, 0.0ms loss, 0.3ms postprocess per image\n",
      "Results saved to \u001b[1m/home/polna/Developer/final_degree_project/2d_object_detection/runs/detect/val\u001b[0m\n"
     ]
    },
    {
     "data": {
      "text/plain": [
       "array([    0.12001,     0.76745,      0.8696,     0.85427,     0.46285,     0.68462,     0.56835,     0.76472,     0.27822,     0.86226,       0.942,     0.79694,     0.54258,     0.53701,      0.4409,     0.95617,     0.86391,     0.40739,     0.71631,     0.61814,     0.83863,     0.71788,     0.89487,     0.45569,\n",
       "           0.99308,     0.75193,     0.96132,     0.39846,     0.38587,     0.76344,     0.86416,     0.90276,      0.9875,     0.93283,      0.4274,     0.46416,      0.9734,     0.55816,     0.82755,      0.3565,     0.81125,     0.49584,     0.45247,     0.91926,     0.79315,     0.98731,     0.91534,     0.36535,\n",
       "           0.60269,     0.41345,     0.92403,     0.98381,     0.79046,     0.57428,     0.71767,     0.91451,     0.96521,     0.24778,     0.31756,     0.80874,     0.89594,     0.87155,     0.36024,     0.87723,     0.93834,     0.83496,     0.46901,     0.54536,     0.50871,     0.81286,     0.80445,     0.60296,\n",
       "           0.90946,     0.94635,     0.47149,     0.58245,      0.8922,     0.53729,     0.98096,     0.94715,     0.92581,     0.81377,     0.82962,     0.91749,     0.85035,     0.98342,     0.53634,     0.41959,     0.83218,     0.58897,      0.9644,     0.81587,     0.40118,     0.80715,     0.94037,     0.87569,\n",
       "            0.9337,     0.33838,     0.97638,     0.86499,     0.48317,     0.83322,       0.807,     0.91141,       0.424,     0.94442,      0.9126,     0.84415,     0.94604,     0.54214,     0.96052,     0.93905,     0.26834,     0.43503,     0.88069,     0.42929,     0.87969,      0.6299,     0.43374,     0.89304,\n",
       "           0.74438,     0.33373,     0.38359,     0.52098,     0.91382,     0.69023,     0.73702,     0.27044,     0.91527,     0.61085,     0.79081,     0.39783,     0.97666,     0.45277,     0.97134,     0.78618,     0.97823,     0.88965,     0.47723,     0.72469,     0.56355,     0.87738,     0.93696,     0.76777,\n",
       "           0.94051,     0.49058,     0.97101,     0.71576,     0.95138,     0.47336,     0.87725,     0.50244,     0.94884,     0.27981,      0.4078,     0.82652,     0.78877,     0.38144,     0.45643,      0.9164,       0.829,     0.60517,     0.86364,     0.85111,     0.39471,     0.39326,     0.53239,     0.45837,\n",
       "           0.79738,     0.89547,     0.98162,     0.87263,     0.72422,     0.83533,     0.86253,     0.91532,     0.83745,     0.43622,     0.46621,     0.76779,     0.88967,     0.78539,     0.80237,     0.35639,     0.84396,     0.80818,     0.82093,     0.84248,      0.8394,      0.4607,     0.86164,     0.74885,\n",
       "           0.93164,     0.40093,     0.85132,     0.89729,      0.4388,     0.76959,     0.90634,     0.70069,     0.80541,     0.38671,     0.76166,     0.41114,     0.89756,     0.76831,     0.84912,     0.92604,     0.67234,      0.9485,     0.48756,     0.90522,     0.94275,     0.92731,     0.98935,     0.99227,\n",
       "           0.98269,     0.91544,     0.40819,     0.88511,     0.71937,     0.41365,     0.82837,     0.96352,     0.62999,     0.86066,     0.81401,       0.995,     0.27985,     0.84209,     0.71191,     0.91891,     0.80678,      0.7036,     0.52664,     0.93965,     0.70767,     0.78902,     0.90567,     0.85965,\n",
       "           0.82686,     0.95488,     0.93974,     0.93034,     0.76783,     0.89312,     0.79427,     0.96122,     0.94196,     0.90823,     0.65303,     0.40686,     0.44984,     0.49739,     0.80319,      0.7772,     0.87852,     0.90448,     0.79377,     0.89974,     0.98506,     0.75757,     0.85585,     0.67888,\n",
       "           0.52652,     0.88276,      0.9707,     0.95489,     0.61067,     0.98728,     0.98732,     0.91909,     0.50739,     0.35247,     0.88856,     0.60139,     0.83153,     0.89459,     0.92137,     0.48175,      0.4772,      0.7646,     0.84908,     0.87443,     0.84289,     0.96831,     0.39801,     0.92874,\n",
       "           0.79445,     0.95489,     0.95043,     0.92074,     0.82605,     0.97447,     0.95831,     0.94629,     0.99002,     0.94716,     0.95802,     0.97981,     0.94923,     0.91194,     0.53996,     0.89384,     0.98693,     0.90215,     0.22269,     0.47374,     0.94868,     0.79476,       0.995,     0.75599,\n",
       "           0.90586,     0.62383,       0.995,     0.99164,     0.88501,     0.51105,     0.54949,     0.81599,     0.89292,     0.97461,     0.58689,     0.80908,     0.91143,     0.78323,     0.69746,     0.69847,     0.88763,     0.93037,     0.75786,     0.94847,     0.89856,     0.84253,     0.86069,       0.914,\n",
       "           0.95383,     0.77947,     0.88248,     0.88481,     0.76564,     0.95717,     0.42793,     0.95079,     0.95178,     0.43571,     0.91968,      0.8769,     0.75463,     0.37413,     0.96071,     0.89927,     0.93786,     0.54093,     0.50303,     0.77042,      0.7147,     0.99271,     0.89864,     0.92135,\n",
       "           0.95601,      0.9035,     0.83881,     0.80603,     0.95412,     0.78992,     0.81331,     0.92012,     0.90699,     0.84628,     0.99355,     0.97841,     0.58858,     0.90298,     0.82542,     0.39501,     0.92357,     0.86954,       0.995,     0.98918,     0.96196,     0.88132,     0.98766,     0.89673,\n",
       "           0.69842,     0.97823,     0.88737,      0.7752,       0.995,     0.83025,     0.96675,       0.995,     0.99485,     0.83074,     0.82924,     0.87147,     0.94101,     0.98329,     0.90468,     0.98312,     0.81368])"
      ]
     },
     "execution_count": 9,
     "metadata": {},
     "output_type": "execute_result"
    }
   ],
   "source": [
    "# Validate the model\n",
    "modeltest = YOLO(\"models/best.pt\")\n",
    "metrics = modeltest.val()  # no arguments needed, dataset and settings remembered\n",
    "metrics.box.map    # map50-95\n",
    "metrics.box.map50  # map50\n",
    "metrics.box.map75  # map75\n",
    "metrics.box.maps   # a list contains map50-95 of each category"
   ]
  },
  {
   "cell_type": "code",
   "execution_count": null,
   "id": "dbdde73b-9b56-4cea-aebf-a50a4319e343",
   "metadata": {},
   "outputs": [],
   "source": [
    "# List of image paths\n",
    "path = \"\"\n",
    "image_paths = ['bus.jpg', 'car.jpg', 'bike.jpg']"
   ]
  },
  {
   "cell_type": "code",
   "execution_count": null,
   "id": "c391a05e-ac0e-46f8-9db4-dbd9795618c9",
   "metadata": {},
   "outputs": [],
   "source": [
    "# Run inference on each image and save the results\n",
    "for i, image_path in enumerate(image_paths):\n",
    "    results = model(image_path)  # results list\n",
    "\n",
    "    # Show the results\n",
    "    for r in results:\n",
    "        im_array = r.plot()  # plot a BGR numpy array of predictions\n",
    "        im = Image.fromarray(im_array[..., ::-1])  # RGB PIL image\n",
    "        im.save(f'results_{i}.jpg')  # save image"
   ]
  },
  {
   "cell_type": "code",
   "execution_count": 10,
   "id": "85326dd1-7e4a-4f5b-919a-ed7cf837f19b",
   "metadata": {},
   "outputs": [
    {
     "name": "stdout",
     "output_type": "stream",
     "text": [
      "/bin/bash: line 1: tensorboard: command not found\n"
     ]
    }
   ],
   "source": [
    "!tensorboard --logdir results "
   ]
  },
  {
   "cell_type": "code",
   "execution_count": null,
   "id": "287cad0b-06c0-493a-8222-c4395afaaf49",
   "metadata": {},
   "outputs": [],
   "source": []
  }
 ],
 "metadata": {
  "kernelspec": {
   "display_name": "Python 3 (ipykernel)",
   "language": "python",
   "name": "python3"
  },
  "language_info": {
   "codemirror_mode": {
    "name": "ipython",
    "version": 3
   },
   "file_extension": ".py",
   "mimetype": "text/x-python",
   "name": "python",
   "nbconvert_exporter": "python",
   "pygments_lexer": "ipython3",
   "version": "3.12.4"
  }
 },
 "nbformat": 4,
 "nbformat_minor": 5
}
