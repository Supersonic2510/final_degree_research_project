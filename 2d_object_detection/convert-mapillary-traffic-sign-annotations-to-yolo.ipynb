{
 "cells": [
  {
   "cell_type": "code",
   "metadata": {
    "collapsed": false,
    "ExecuteTime": {
     "end_time": "2024-08-29T21:18:24.387723Z",
     "start_time": "2024-08-29T21:18:23.274488Z"
    }
   },
   "source": [
    "import json\n",
    "import pathlib\n",
    "import pandas as pd\n",
    "import yaml\n",
    "import numpy as np\n",
    "import os\n",
    "import shutil\n",
    "import glob\n",
    "import math\n",
    "import matplotlib.pyplot as plt"
   ],
   "outputs": [],
   "execution_count": 1
  },
  {
   "cell_type": "code",
   "metadata": {
    "collapsed": false,
    "ExecuteTime": {
     "end_time": "2024-08-29T21:18:25.238142Z",
     "start_time": "2024-08-29T21:18:25.234017Z"
    }
   },
   "source": [
    "def from_json(json_file):\n",
    "    \"\"\"Create a dictionary from a JSON file.\"\"\"\n",
    "\n",
    "    json_file = pathlib.Path(json_file)  # In case the file path is passed as a string\n",
    "\n",
    "    # Load json as a regular python dict\n",
    "    data = json.loads(json_file.read_bytes())\n",
    "\n",
    "    # Convert 'objects' list of dictionaries to dataframe\n",
    "    if 'objects' in data:\n",
    "        data['objects'] = pd.DataFrame(data['objects'])\n",
    "\n",
    "    return data"
   ],
   "outputs": [],
   "execution_count": 2
  },
  {
   "cell_type": "code",
   "metadata": {
    "collapsed": false,
    "ExecuteTime": {
     "end_time": "2024-08-29T21:18:25.714580Z",
     "start_time": "2024-08-29T21:18:25.711950Z"
    }
   },
   "source": [
    "def create_data_yaml(output_dir, category_dict):\n",
    "    \n",
    "    category_dict_local = {v: k for k, v in category_dict.items()}\n",
    "    \n",
    "    \"\"\"Create a data.yaml file in the output directory with the specified structure.\"\"\"\n",
    "    # Define the data\n",
    "    data = {\n",
    "        'train': '../train/images',\n",
    "        'val': '../valid/images',\n",
    "        'test': '../test/images',\n",
    "        'nc': len(category_dict_local),\n",
    "        'names': category_dict_local\n",
    "    }\n",
    "\n",
    "    # Create the output directory if it doesn't exist\n",
    "    output_dir.mkdir(parents=True, exist_ok=True)\n",
    "\n",
    "    # Define the file path\n",
    "    file_path = output_dir / 'data.yaml'\n",
    "\n",
    "    # Write the data to the file\n",
    "    with open(file_path, 'w') as file:\n",
    "        yaml.dump(data, file, default_flow_style=False, sort_keys=False)"
   ],
   "outputs": [],
   "execution_count": 3
  },
  {
   "cell_type": "code",
   "metadata": {
    "collapsed": false,
    "ExecuteTime": {
     "end_time": "2024-08-29T21:18:26.038514Z",
     "start_time": "2024-08-29T21:18:26.035667Z"
    }
   },
   "source": [
    "def process_row(row):\n",
    "    \"\"\"Process a row of the DataFrame.\"\"\"\n",
    "    row = row.copy()  # to avoid SettingWithCopyWarning\n",
    "    # Process 'bbox' if it exists in the row\n",
    "    if 'bbox' in row:\n",
    "        row = pd.concat([row.drop('bbox', axis=1), row['bbox'].apply(pd.Series)], axis=1)\n",
    "    # Process 'properties' if it exists in the row\n",
    "    if 'properties' in row:\n",
    "        row = pd.concat([row.drop('properties', axis=1), row['properties'].apply(pd.Series)], axis=1)\n",
    "    return row"
   ],
   "outputs": [],
   "execution_count": 4
  },
  {
   "cell_type": "code",
   "metadata": {
    "collapsed": false,
    "ExecuteTime": {
     "end_time": "2024-08-29T21:18:26.307268Z",
     "start_time": "2024-08-29T21:18:26.300690Z"
    }
   },
   "source": [
    "def get_dataset(input_dir):\n",
    "    \"\"\"Get a DataFrame representing a dataset.\"\"\"\n",
    "    image_dir = input_dir / 'images'\n",
    "    annotation_dir = input_dir / 'annotations'\n",
    "\n",
    "    # Create a dictionary where the keys are the base names without the extension of annotation files\n",
    "    image_path = {image_file.stem: image_file for image_file in image_dir.glob('*.jpg')}\n",
    "    annotation_path = {annotation_file.stem: annotation_file for annotation_file in annotation_dir.glob('*.json')}\n",
    "\n",
    "    # Get the intersection of the keys in both lists\n",
    "    common_keys = set(image_path.keys()) & set(annotation_path.keys())\n",
    "\n",
    "    # Create a list of dictionaries from the common annotation files\n",
    "    annotation_dataframes = [dict(**from_json(annotation_path[key]), image=image_path[key]) for key in common_keys]\n",
    "\n",
    "    # Convert the list of dictionaries into a DataFrame\n",
    "    df = pd.DataFrame(annotation_dataframes)\n",
    "\n",
    "    # Apply the process_row function to each row in the 'objects' column\n",
    "    df['objects'] = df['objects'].apply(process_row)\n",
    "\n",
    "    return df"
   ],
   "outputs": [],
   "execution_count": 5
  },
  {
   "cell_type": "code",
   "metadata": {
    "collapsed": false,
    "ExecuteTime": {
     "end_time": "2024-08-29T21:18:26.607909Z",
     "start_time": "2024-08-29T21:18:26.565811Z"
    }
   },
   "source": [
    "def label_to_code(df):\n",
    "    # Create a list to store all labels\n",
    "    all_labels = [] \n",
    "\n",
    "    # Iterate over each DataFrame in the 'objects' series\n",
    "    for df_inner in df['objects']:\n",
    "        if 'label' in df_inner.columns:  # Check if 'label' column exists in the inner DataFrame\n",
    "            all_labels.extend(df_inner['label'])\n",
    "    \n",
    "    # Generate a dictionary mapping each unique label to a unique integer code.\n",
    "    label_to_code = {label: i for i, label in enumerate(set(all_labels))}\n",
    "\n",
    "    # Create a function to map 'label' to 'label_code' within each inner DataFrame\n",
    "    def map_labels(df_inner):\n",
    "        if 'label' in df_inner.columns:\n",
    "            df_inner['label_code'] = df_inner['label'].map(label_to_code)\n",
    "\n",
    "    # Apply the map_labels function to each inner DataFrame in the 'objects' series\n",
    "    df['objects'].apply(map_labels)\n",
    "    \n",
    "    return df, label_to_code"
   ],
   "outputs": [],
   "execution_count": 6
  },
  {
   "cell_type": "code",
   "metadata": {
    "collapsed": false,
    "ExecuteTime": {
     "end_time": "2024-08-29T21:18:26.936773Z",
     "start_time": "2024-08-29T21:18:26.895120Z"
    }
   },
   "source": [
    "def label_to_code_opt(df):\n",
    "    # Utilize pandas.Series.explode and a lambda to avoid the for loop \n",
    "    all_labels = df['objects'].apply(lambda x: x['label'].tolist() if 'label' in x.columns else []).explode()\n",
    "    \n",
    "    # Generate a dictionary mapping each unique label to a unique integer code.\n",
    "    label_to_code = {label: i for i, label in enumerate(all_labels.dropna().unique())}\n",
    "    \n",
    "    # Create a function to map 'label' to 'label_code' within each inner DataFrame\n",
    "    def map_labels(df_inner):\n",
    "        if 'label' in df_inner.columns:\n",
    "            return df_inner.assign(label_code=df_inner['label'].map(label_to_code))\n",
    "        return df_inner\n",
    "\n",
    "    # Apply the map_labels function to each inner DataFrame in the 'objects' series\n",
    "    df['objects'] = df['objects'].apply(map_labels)\n",
    "    \n",
    "    return df, label_to_code"
   ],
   "outputs": [],
   "execution_count": 7
  },
  {
   "cell_type": "code",
   "metadata": {
    "collapsed": false,
    "ExecuteTime": {
     "end_time": "2024-08-29T21:18:27.248097Z",
     "start_time": "2024-08-29T21:18:27.040155Z"
    }
   },
   "source": [
    "def filter_dataframe(df, num_classes):\n",
    "    \"\"\"Filter the DataFrame based on the num_classes variable.\"\"\"\n",
    "    if num_classes != -1:\n",
    "        df = df[df['label_code'] < num_classes]\n",
    "    return df"
   ],
   "outputs": [],
   "execution_count": 8
  },
  {
   "cell_type": "code",
   "metadata": {
    "collapsed": false,
    "ExecuteTime": {
     "end_time": "2024-08-29T21:18:27.487060Z",
     "start_time": "2024-08-29T21:18:27.315183Z"
    }
   },
   "source": [
    "def reduce_data(df, sample_ratio=100):\n",
    "    # Sample a percentage of the rows\n",
    "    df_sample = df.sample(frac=sample_ratio / 100, random_state=42)\n",
    "    return df_sample"
   ],
   "outputs": [],
   "execution_count": 9
  },
  {
   "cell_type": "code",
   "metadata": {
    "collapsed": false,
    "ExecuteTime": {
     "end_time": "2024-08-29T21:18:27.762238Z",
     "start_time": "2024-08-29T21:18:27.544504Z"
    }
   },
   "source": [
    "def to_yolo(df):\n",
    "    all_new_rows = []\n",
    "    for outer_i, row in df.iterrows():\n",
    "        objects = row[\"objects\"]\n",
    "        image_objects = []\n",
    "        image_name = row['image']\n",
    "        for inner_i, obj in objects.iterrows():\n",
    "            w = obj['xmax'] - obj['xmin']\n",
    "            h = obj['ymax'] - obj['ymin']\n",
    "            xc = (obj['xmax'] + obj['xmin']) / 2\n",
    "            yc = (obj['ymax'] + obj['ymin']) / 2\n",
    "            \n",
    "            new_row = pd.DataFrame(\n",
    "                [[obj['label_code'], xc, yc, w, h]], \n",
    "                columns=['class', 'xc', 'yc', 'w', 'h'])\n",
    "            \n",
    "            # Normalize calculated values to the image's width and height\n",
    "            new_row[['xc', 'w']] = new_row[['xc', 'w']].div(row['width'], axis=0)\n",
    "            new_row[['yc', 'h']] = new_row[['yc', 'h']].div(row['height'], axis=0)\n",
    "            \n",
    "            image_objects.append(new_row)\n",
    "    \n",
    "        # Combine all image_objects DataFrames into a single DataFrame\n",
    "        if image_objects:\n",
    "            image_df = pd.concat(image_objects, ignore_index=True)\n",
    "        else:\n",
    "            image_df = pd.DataFrame()\n",
    "    \n",
    "        # All_new_rows is a list of tuples. Each tuple has image_name and corresponding image_df\n",
    "        all_new_rows.append((image_name, image_df))\n",
    "    \n",
    "    # convert the list of tuples to a DataFrame\n",
    "    return pd.DataFrame(all_new_rows, columns=['image', 'objects'])"
   ],
   "outputs": [],
   "execution_count": 10
  },
  {
   "cell_type": "code",
   "metadata": {
    "collapsed": false,
    "ExecuteTime": {
     "end_time": "2024-08-29T21:18:28.065427Z",
     "start_time": "2024-08-29T21:18:27.777358Z"
    }
   },
   "source": [
    "def split_data(df, train_ratio=0.7, val_ratio=0.2):\n",
    "    # Create an array of indices, shuffled\n",
    "    indices = np.random.permutation(df.index)\n",
    "\n",
    "    # Calculate the sizes of the train, val, and test sets\n",
    "    train_size = int(train_ratio * len(df))\n",
    "    val_size = int(val_ratio * len(df))\n",
    "\n",
    "    # Split the indices into train, val, and test indices\n",
    "    train_indices, val_indices, test_indices = np.split(indices, [train_size, train_size + val_size])\n",
    "\n",
    "    # Create the train, val, and test sets\n",
    "    train_df = df.loc[train_indices]\n",
    "    val_df = df.loc[val_indices]\n",
    "    test_df = df.loc[test_indices]\n",
    "\n",
    "    return train_df, val_df, test_df"
   ],
   "outputs": [],
   "execution_count": 11
  },
  {
   "cell_type": "code",
   "metadata": {
    "collapsed": false,
    "ExecuteTime": {
     "end_time": "2024-08-29T21:18:28.314475Z",
     "start_time": "2024-08-29T21:18:28.085556Z"
    }
   },
   "source": [
    "def create_folders_and_labels(train_df, val_df, test_df, base_dir):\n",
    "    # Create the main directories\n",
    "    for set_name in ['train', 'val', 'test']:\n",
    "        os.makedirs(os.path.join(base_dir, set_name, 'images'), exist_ok=True)\n",
    "        os.makedirs(os.path.join(base_dir, set_name, 'labels'), exist_ok=True)\n",
    "\n",
    "    # Assuming that each DataFrame has 'image', 'label', 'class', 'xc', 'yc', 'w', 'h' columns\n",
    "    for df, set_name in zip([train_df, val_df, test_df], ['train', 'val', 'test']):\n",
    "        for _, row in df.iterrows():\n",
    "            # Copy the image file to the 'images' directory\n",
    "            shutil.copy(row[\"image\"], os.path.join(base_dir, set_name, \"images\"))\n",
    "            \n",
    "            # Write the label to a text file in the 'labels' directory\n",
    "            label_file_path = os.path.join(base_dir, set_name, 'labels', f'{os.path.basename(row[\"image\"]).split(\".\")[0]}.txt')\n",
    "            with open(label_file_path, 'w') as f:\n",
    "                for _, inner_row in row['objects'].iterrows():\n",
    "                    f.write(f'{int(inner_row[\"class\"])} {inner_row[\"xc\"]} {inner_row[\"yc\"]} {inner_row[\"w\"]} {inner_row[\"h\"]}\\n')\n",
    "\n",
    "    # Print the number of labels and images in each directory\n",
    "    for set_name in ['train', 'val', 'test']:\n",
    "        num_images = len(os.listdir(os.path.join(base_dir, set_name, 'images')))\n",
    "        num_labels = len(os.listdir(os.path.join(base_dir, set_name, 'labels')))\n",
    "        print(f'{set_name}: {num_images} images, {num_labels} labels')"
   ],
   "outputs": [],
   "execution_count": 12
  },
  {
   "cell_type": "code",
   "source": [
    "def plot_sorted_counts(df: pd.DataFrame, column: str):\n",
    "    # Get counts of values in 'class' column\n",
    "    class_counts = df[column].value_counts()\n",
    "\n",
    "    # Sort the counts and plot\n",
    "    class_counts.sort_index().plot(kind='bar')\n",
    "\n",
    "    plt.xlabel('Class')\n",
    "    plt.ylabel('Count')\n",
    "    plt.title('Number of instances per class')\n",
    "    plt.show()"
   ],
   "metadata": {
    "collapsed": false,
    "ExecuteTime": {
     "end_time": "2024-08-29T21:18:28.619441Z",
     "start_time": "2024-08-29T21:18:28.395720Z"
    }
   },
   "outputs": [],
   "execution_count": 13
  },
  {
   "cell_type": "code",
   "metadata": {
    "collapsed": false,
    "ExecuteTime": {
     "end_time": "2024-08-29T21:18:28.870579Z",
     "start_time": "2024-08-29T21:18:28.690190Z"
    }
   },
   "source": [
    "input_dir = pathlib.Path('data/')\n",
    "output_dir = pathlib.Path('data/yolo')"
   ],
   "outputs": [],
   "execution_count": 14
  },
  {
   "cell_type": "code",
   "metadata": {
    "collapsed": false,
    "ExecuteTime": {
     "end_time": "2024-08-29T21:20:34.425397Z",
     "start_time": "2024-08-29T21:18:28.958575Z"
    }
   },
   "source": [
    "# Get the dataset\n",
    "df = get_dataset(input_dir)"
   ],
   "outputs": [],
   "execution_count": 15
  },
  {
   "cell_type": "code",
   "metadata": {
    "collapsed": false,
    "ExecuteTime": {
     "end_time": "2024-08-29T21:20:56.189067Z",
     "start_time": "2024-08-29T21:20:34.440112Z"
    }
   },
   "source": [
    "df, category_dict = label_to_code(df)"
   ],
   "outputs": [],
   "execution_count": 16
  },
  {
   "cell_type": "code",
   "metadata": {
    "collapsed": false,
    "ExecuteTime": {
     "end_time": "2024-08-29T21:20:56.212135Z",
     "start_time": "2024-08-29T21:20:56.210221Z"
    }
   },
   "source": [
    "num_classes = -1 \n",
    "df = filter_dataframe(df, num_classes)"
   ],
   "outputs": [],
   "execution_count": 17
  },
  {
   "cell_type": "code",
   "metadata": {
    "collapsed": false,
    "ExecuteTime": {
     "end_time": "2024-08-29T21:20:56.250104Z",
     "start_time": "2024-08-29T21:20:56.223900Z"
    }
   },
   "source": [
    "# Create the data.yaml file\n",
    "create_data_yaml(output_dir, category_dict)"
   ],
   "outputs": [],
   "execution_count": 18
  },
  {
   "cell_type": "code",
   "metadata": {
    "collapsed": false,
    "ExecuteTime": {
     "end_time": "2024-08-29T21:20:56.385539Z",
     "start_time": "2024-08-29T21:20:56.263827Z"
    }
   },
   "source": [
    "sample_ratio = 100 \n",
    "# Reduce percentage of total dataset\n",
    "df = reduce_data(df, sample_ratio)"
   ],
   "outputs": [],
   "execution_count": 19
  },
  {
   "metadata": {
    "collapsed": false,
    "ExecuteTime": {
     "end_time": "2024-08-29T21:25:08.919968Z",
     "start_time": "2024-08-29T21:20:56.408337Z"
    }
   },
   "cell_type": "code",
   "source": "df_yolo = to_yolo(df)",
   "outputs": [],
   "execution_count": 20
  },
  {
   "metadata": {
    "collapsed": false,
    "ExecuteTime": {
     "end_time": "2024-08-29T21:25:08.958556Z",
     "start_time": "2024-08-29T21:25:08.940301Z"
    }
   },
   "cell_type": "code",
   "source": "df_yolo.head()",
   "outputs": [
    {
     "data": {
      "text/plain": [
       "                                    image  \\\n",
       "0  data/images/ZMA8CFaAb8T5MN_6NhdvfA.jpg   \n",
       "1  data/images/MWcOkejquLOuuTtwt1qp6A.jpg   \n",
       "2  data/images/2QK-_ZCc4DBE9KphEkoz7A.jpg   \n",
       "3  data/images/CgwKoXSQ7CuT2MU-lyn8mQ.jpg   \n",
       "4  data/images/fJnmrhyhHPjmdTqDjA6mCg.jpg   \n",
       "\n",
       "                                             objects  \n",
       "0     class        xc        yc         w        ...  \n",
       "1     class        xc        yc         w        ...  \n",
       "2     class        xc        yc         w        ...  \n",
       "3      class        xc        yc         w       ...  \n",
       "4     class        xc        yc         w        ...  "
      ],
      "text/html": [
       "<div>\n",
       "<style scoped>\n",
       "    .dataframe tbody tr th:only-of-type {\n",
       "        vertical-align: middle;\n",
       "    }\n",
       "\n",
       "    .dataframe tbody tr th {\n",
       "        vertical-align: top;\n",
       "    }\n",
       "\n",
       "    .dataframe thead th {\n",
       "        text-align: right;\n",
       "    }\n",
       "</style>\n",
       "<table border=\"1\" class=\"dataframe\">\n",
       "  <thead>\n",
       "    <tr style=\"text-align: right;\">\n",
       "      <th></th>\n",
       "      <th>image</th>\n",
       "      <th>objects</th>\n",
       "    </tr>\n",
       "  </thead>\n",
       "  <tbody>\n",
       "    <tr>\n",
       "      <th>0</th>\n",
       "      <td>data/images/ZMA8CFaAb8T5MN_6NhdvfA.jpg</td>\n",
       "      <td>class        xc        yc         w        ...</td>\n",
       "    </tr>\n",
       "    <tr>\n",
       "      <th>1</th>\n",
       "      <td>data/images/MWcOkejquLOuuTtwt1qp6A.jpg</td>\n",
       "      <td>class        xc        yc         w        ...</td>\n",
       "    </tr>\n",
       "    <tr>\n",
       "      <th>2</th>\n",
       "      <td>data/images/2QK-_ZCc4DBE9KphEkoz7A.jpg</td>\n",
       "      <td>class        xc        yc         w        ...</td>\n",
       "    </tr>\n",
       "    <tr>\n",
       "      <th>3</th>\n",
       "      <td>data/images/CgwKoXSQ7CuT2MU-lyn8mQ.jpg</td>\n",
       "      <td>class        xc        yc         w       ...</td>\n",
       "    </tr>\n",
       "    <tr>\n",
       "      <th>4</th>\n",
       "      <td>data/images/fJnmrhyhHPjmdTqDjA6mCg.jpg</td>\n",
       "      <td>class        xc        yc         w        ...</td>\n",
       "    </tr>\n",
       "  </tbody>\n",
       "</table>\n",
       "</div>"
      ]
     },
     "execution_count": 21,
     "metadata": {},
     "output_type": "execute_result"
    }
   ],
   "execution_count": 21
  },
  {
   "metadata": {
    "collapsed": false,
    "ExecuteTime": {
     "end_time": "2024-08-29T21:25:08.983927Z",
     "start_time": "2024-08-29T21:25:08.975743Z"
    }
   },
   "cell_type": "code",
   "source": [
    "# Split data into train, val, and test sets\n",
    "train_df, val_df, test_df = split_data(df_yolo)"
   ],
   "outputs": [],
   "execution_count": 22
  },
  {
   "metadata": {
    "collapsed": false,
    "jupyter": {
     "is_executing": true
    },
    "ExecuteTime": {
     "start_time": "2024-08-29T21:25:09.009466Z"
    }
   },
   "cell_type": "code",
   "source": "create_folders_and_labels(train_df, val_df, test_df, output_dir)",
   "outputs": [],
   "execution_count": null
  },
  {
   "metadata": {
    "collapsed": false,
    "ExecuteTime": {
     "end_time": "2024-08-29T20:55:24.805106Z",
     "start_time": "2024-08-29T20:55:23.928883Z"
    }
   },
   "cell_type": "code",
   "outputs": [
    {
     "name": "stdout",
     "output_type": "stream",
     "text": [
      "All checks passed. The images in each subdirectory are unique and there are no duplicates between them.\n"
     ]
    }
   ],
   "execution_count": 57,
   "source": [
    "# Get a list of all the image files in each subdirectory\n",
    "train_images = set(os.listdir(os.path.join(output_dir, 'train', 'images')))\n",
    "val_images = set(os.listdir(os.path.join(output_dir, 'val', 'images')))\n",
    "test_images = set(os.listdir(os.path.join(output_dir, 'test', 'images')))\n",
    "\n",
    "# Check that the images in each subdirectory are unique\n",
    "assert len(train_images) == len(os.listdir(os.path.join(output_dir, 'train', 'images')))\n",
    "assert len(val_images) == len(os.listdir(os.path.join(output_dir, 'val', 'images')))\n",
    "assert len(test_images) == len(os.listdir(os.path.join(output_dir, 'test', 'images')))\n",
    "\n",
    "# Check that there are no duplicates between the subdirectories\n",
    "assert len(train_images.intersection(val_images)) == 0\n",
    "assert len(train_images.intersection(test_images)) == 0\n",
    "assert len(val_images.intersection(test_images)) == 0\n",
    "\n",
    "print(\"All checks passed. The images in each subdirectory are unique and there are no duplicates between them.\")"
   ]
  },
  {
   "metadata": {
    "collapsed": false,
    "ExecuteTime": {
     "end_time": "2024-08-29T20:55:25.306216Z",
     "start_time": "2024-08-29T20:55:24.872635Z"
    }
   },
   "cell_type": "code",
   "outputs": [
    {
     "name": "stdout",
     "output_type": "stream",
     "text": [
      "Train-Val duplicates: []\n",
      "Number of Train-Val duplicates: 0\n",
      "Train-Test duplicates: []\n",
      "Number of Train-Test duplicates: 0\n",
      "Val-Test duplicates: []\n",
      "Number of Val-Test duplicates: 0\n"
     ]
    }
   ],
   "execution_count": 58,
   "source": [
    "# Get a list of all the image files in each subdirectory\n",
    "train_images = set(os.listdir(os.path.join(output_dir, 'train', 'images')))\n",
    "val_images = set(os.listdir(os.path.join(output_dir, 'val', 'images')))\n",
    "test_images = set(os.listdir(os.path.join(output_dir, 'test', 'images')))\n",
    "\n",
    "# Find duplicates between the subdirectories\n",
    "train_val_duplicates = train_images.intersection(val_images)\n",
    "train_test_duplicates = train_images.intersection(test_images)\n",
    "val_test_duplicates = val_images.intersection(test_images)\n",
    "\n",
    "# Print out the duplicates and their count\n",
    "print(f\"Train-Val duplicates: {list(train_val_duplicates)}\")\n",
    "print(f\"Number of Train-Val duplicates: {len(train_val_duplicates)}\")\n",
    "\n",
    "print(f\"Train-Test duplicates: {list(train_test_duplicates)}\")\n",
    "print(f\"Number of Train-Test duplicates: {len(train_test_duplicates)}\")\n",
    "\n",
    "print(f\"Val-Test duplicates: {list(val_test_duplicates)}\")\n",
    "print(f\"Number of Val-Test duplicates: {len(val_test_duplicates)}\")"
   ]
  }
 ],
 "metadata": {
  "kernelspec": {
   "display_name": "Python 3 (ipykernel)",
   "language": "python",
   "name": "python3"
  },
  "language_info": {
   "codemirror_mode": {
    "name": "ipython",
    "version": 3
   },
   "file_extension": ".py",
   "mimetype": "text/x-python",
   "name": "python",
   "nbconvert_exporter": "python",
   "pygments_lexer": "ipython3",
   "version": "3.11.7"
  }
 },
 "nbformat": 4,
 "nbformat_minor": 4
}
