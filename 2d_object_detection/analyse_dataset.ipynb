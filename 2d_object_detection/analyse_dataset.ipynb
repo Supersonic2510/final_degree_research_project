{
 "cells": [
  {
   "cell_type": "code",
   "execution_count": null,
   "id": "initial_id",
   "metadata": {
    "collapsed": true
   },
   "outputs": [],
   "source": [
    "# Apply transformation to set an image to each row in order to know it\n",
    "df_as_single = pd.concat(df_yolo.apply(lambda row: row['objects'].assign(image=row['image']), axis=1).to_list())\n",
    "df_as_single"
   ]
  },
  {
   "metadata": {},
   "cell_type": "code",
   "outputs": [],
   "execution_count": null,
   "source": "df_as_single['class'].hist()",
   "id": "5fdcd15d65c1afde"
  },
  {
   "metadata": {},
   "cell_type": "code",
   "outputs": [],
   "execution_count": null,
   "source": "df_as_single['class'].mode()",
   "id": "7c11fddcafbb9ca1"
  },
  {
   "metadata": {},
   "cell_type": "code",
   "outputs": [],
   "execution_count": null,
   "source": [
    "# Show class distribution\n",
    "plot_sorted_counts(df_as_single, 'class')"
   ],
   "id": "14d5aecb38083f86"
  },
  {
   "metadata": {},
   "cell_type": "code",
   "outputs": [],
   "execution_count": null,
   "source": [
    "# We check the class that correspond to the value\n",
    "class_number = df_as_single['class'].mode()[0]\n",
    "# Find which category corresponds\n",
    "[key for key, val in category_dict.items() if val == class_number]"
   ],
   "id": "61e5d0aa4a02d5e9"
  },
  {
   "metadata": {},
   "cell_type": "code",
   "outputs": [],
   "execution_count": null,
   "source": [
    "# Filter by list that contain this class\n",
    "df_as_single_filtered = df_as_single[df_as_single['class'] == class_number]\n",
    "df_as_single_filtered"
   ],
   "id": "73554cfb74d0a2d3"
  },
  {
   "metadata": {},
   "cell_type": "code",
   "outputs": [],
   "execution_count": null,
   "source": [
    "df_as_single_filtered.reset_index(drop=True, inplace=True)\n",
    "df_as_single.reset_index(drop=True, inplace=True)\n",
    "mask = df_as_single['image'].isin(df_as_single_filtered['image'])\n",
    "filtered_rows = df_as_single[mask]\n",
    "filtered_rows"
   ],
   "id": "821ea52bd399e229"
  },
  {
   "metadata": {},
   "cell_type": "code",
   "outputs": [],
   "execution_count": null,
   "source": "filtered_rows.loc[153:154]",
   "id": "d8517b4480587917"
  },
  {
   "metadata": {},
   "cell_type": "code",
   "outputs": [],
   "execution_count": null,
   "source": "filtered_rows[filtered_rows['image'].astype(str) == \"datasets/Mapillary Traffic Sign/images/yuc-hYWnqfRVfXUpJIAf9A.jpg\"]",
   "id": "b9cc67d221ba8b66"
  },
  {
   "metadata": {},
   "cell_type": "code",
   "outputs": [],
   "execution_count": null,
   "source": [
    "filtered_rows_unique = filtered_rows.groupby('image').filter(lambda x: x['class'].nunique() == 1)\n",
    "filtered_rows_unique"
   ],
   "id": "58f313ed8446b9c5"
  },
  {
   "metadata": {},
   "cell_type": "code",
   "outputs": [],
   "execution_count": null,
   "source": [
    "rows_to_delete = filtered_rows_unique.drop_duplicates(subset='image')\n",
    "rows_to_delete"
   ],
   "id": "a97d6d816223ac7f"
  },
  {
   "metadata": {},
   "cell_type": "code",
   "outputs": [],
   "execution_count": null,
   "source": [
    "mask = df_as_single['image'].isin(rows_to_delete['image'])\n",
    "filtered_df = df_as_single[~mask]\n",
    "filtered_df"
   ],
   "id": "ae70631c55d2e869"
  },
  {
   "metadata": {},
   "cell_type": "code",
   "outputs": [],
   "execution_count": null,
   "source": [
    "# Show filtered rows\n",
    "filtered_df['class'].hist()"
   ],
   "id": "22839f23aca0500a"
  },
  {
   "metadata": {},
   "cell_type": "code",
   "outputs": [],
   "execution_count": null,
   "source": "filtered_df['class'].value_counts()",
   "id": "f0a8b91eba7a1497"
  },
  {
   "metadata": {},
   "cell_type": "code",
   "outputs": [],
   "execution_count": null,
   "source": [
    "# Show class distribution\n",
    "plot_sorted_counts(filtered_df, 'class')"
   ],
   "id": "a366a7169d57520d"
  },
  {
   "metadata": {},
   "cell_type": "markdown",
   "source": [
    "# Here we can confirm that stratification is not a valid option because most of \"other sign\" classes are tight-coupled with other classes\n",
    "\n",
    "https://www.hindawi.com/journals/mpe/2022/9571513/"
   ],
   "id": "18a1fb269be5cf1d"
  },
  {
   "metadata": {},
   "cell_type": "code",
   "outputs": [],
   "execution_count": null,
   "source": [
    "# Get rows where the 'class' column equals class_number\n",
    "rows_to_delete_2 = filtered_df[filtered_df['class'] == class_number]\n",
    "\n",
    "# Then get all rows whose 'image' is in the 'image' column of class_rows\n",
    "mask = filtered_df['image'].isin(rows_to_delete_2['image'])\n",
    "filtered_df_2 = filtered_df[~mask]\n",
    "filtered_df_2"
   ],
   "id": "5751e0a05ef7280a"
  },
  {
   "metadata": {},
   "cell_type": "code",
   "outputs": [],
   "execution_count": null,
   "source": [
    "# Show filtered rows excluding other sign\n",
    "filtered_df_2['class'].hist()"
   ],
   "id": "15384dd550f493b9"
  },
  {
   "metadata": {},
   "cell_type": "code",
   "outputs": [],
   "execution_count": null,
   "source": "filtered_df_2['image'].unique()",
   "id": "6b773c55713c350f"
  },
  {
   "metadata": {},
   "cell_type": "code",
   "outputs": [],
   "execution_count": null,
   "source": "filtered_df_2['class'].value_counts()",
   "id": "11d35feeb27b48ff"
  },
  {
   "metadata": {},
   "cell_type": "code",
   "outputs": [],
   "execution_count": null,
   "source": [
    "# First get the unique image IDs from dataframe `filtered_df_2`\n",
    "unique_image_ids = filtered_df_2['image'].unique()\n",
    "\n",
    "# Then, from `df_yolo`, select only the rows where image_id is in `unique_image_ids`\n",
    "yolo_filtered_df_2 = df_yolo[df_yolo['image'].isin(unique_image_ids)].copy()\n",
    "yolo_filtered_df_2"
   ],
   "id": "e5aa6c6726ae0263"
  },
  {
   "metadata": {},
   "cell_type": "code",
   "outputs": [],
   "execution_count": null,
   "source": [
    "# Show class distribution\n",
    "plot_sorted_counts(filtered_df_2, 'class')"
   ],
   "id": "94fa49bedc52d880"
  },
  {
   "metadata": {},
   "cell_type": "markdown",
   "source": "# We see that augmentation is the best here",
   "id": "2e9604298111ad38"
  },
  {
   "metadata": {},
   "cell_type": "code",
   "outputs": [],
   "execution_count": null,
   "source": [
    "# This filtered dataset is the number of rows\n",
    "df_as_single_filtered['class'].value_counts()"
   ],
   "id": "56710de3fbb7c2ec"
  },
  {
   "metadata": {},
   "cell_type": "code",
   "outputs": [],
   "execution_count": null,
   "source": "filtered_df_2['class'].value_counts().max()",
   "id": "6bd71f6d21d16a1c"
  },
  {
   "metadata": {},
   "cell_type": "code",
   "outputs": [],
   "execution_count": null,
   "source": [
    "# Now we can add the missing class label to last dataset which is reduced\n",
    "#temp = list_single_classes.groupby('image')['class'].unique()"
   ],
   "id": "65c0913b934dec31"
  },
  {
   "metadata": {},
   "cell_type": "code",
   "outputs": [],
   "execution_count": null,
   "source": [
    "# Some classes can have empty datasets\n",
    "df_yolo[df_yolo['objects'].str.len() == 0]"
   ],
   "id": "ce1422f9eebd18a5"
  },
  {
   "metadata": {},
   "cell_type": "code",
   "outputs": [],
   "execution_count": null,
   "source": [
    "# Group by class and count unique image ids for each class\n",
    "class_image_counts = filtered_df_2.groupby('class')['image'].nunique()\n",
    "\n",
    "# Find the classes that do not have at least one image id with a single label\n",
    "classes_without_unique_images = class_image_counts[class_image_counts < 1]\n",
    "\n",
    "if len(classes_without_unique_images) > 0:\n",
    "    print(\"Following classes do not have at least one unique image instance:\")\n",
    "    print(classes_without_unique_images.index.tolist())\n",
    "else:\n",
    "    print(\"All classes have at least one unique image instance.\")"
   ],
   "id": "7dd99f89ad1e5c28"
  },
  {
   "metadata": {},
   "cell_type": "code",
   "outputs": [],
   "execution_count": null,
   "source": [
    "final_count = 0\n",
    "new_rows = []\n",
    "new_objects_rows = []\n",
    "\n",
    "df_yolo_copy = df_yolo.copy()\n",
    "list_single_classes_copy = filtered_df_2.copy()\n",
    "\n",
    "row_count = len(df_yolo_copy)\n",
    "counts_per_class = list_single_classes_copy['class'].value_counts()\n",
    "total_classes = len(counts_per_class.index)\n",
    "sum_of_counts = counts_per_class.sum()\n",
    "\n",
    "mean_count = sum_of_counts / total_classes\n",
    "max_count = counts_per_class.max()\n",
    "\n",
    "while mean_count < max_count:\n",
    "    idx = np.random.randint(row_count)\n",
    "    row = df_yolo_copy.iloc[idx]\n",
    "    inner_df = row['objects']\n",
    "    \n",
    "    pass_class = False\n",
    "    \n",
    "    if not inner_df.empty:\n",
    "        unique_classes = inner_df['class'].unique()\n",
    "        \n",
    "        for class_label in unique_classes:\n",
    "            if counts_per_class[class_label] >= max_count:\n",
    "                pass_class = True\n",
    "                break\n",
    "        \n",
    "        if not pass_class:\n",
    "            final_count += 1\n",
    "            new_rows.append(row)\n",
    "            new_objects_rows.extend(inner_df.assign(image=row['image']).to_dict('records'))\n",
    "            \n",
    "            counts_per_class = counts_per_class.add(inner_df['class'].value_counts(), fill_value=0)\n",
    "            total_classes = len(counts_per_class.index)\n",
    "            sum_of_counts = counts_per_class.sum()\n",
    "\n",
    "            mean_count = sum_of_counts / total_classes\n",
    "            max_count = counts_per_class.max()\n",
    "\n",
    "            # plot_sorted_counts(list_single_classes_copy, 'class')\n",
    "            print(f\"Average is {mean_count} / {max_count} and total is {sum_of_counts}\")\n",
    "\n",
    "df_yolo_copy = df_yolo_copy.append(new_rows)\n",
    "list_single_classes_copy = list_single_classes_copy.append(pd.DataFrame(new_objects_rows))\n",
    "\n",
    "# Process df_final as needed\n",
    "print(f\"Total is {final_count}\")\n",
    "print(f\"Average is {mean_count} / {max_count}\")"
   ],
   "id": "e77c31d216a66d8e"
  },
  {
   "metadata": {},
   "cell_type": "code",
   "outputs": [],
   "execution_count": null,
   "source": [
    "# This gets how many for each instace\n",
    "# class df_as_single['class'].value_counts().loc[n]\n",
    "df_as_single['class'].value_counts().max()\n",
    "#"
   ],
   "id": "47b87776cc7455dd"
  }
 ],
 "metadata": {
  "kernelspec": {
   "display_name": "Python 3",
   "language": "python",
   "name": "python3"
  },
  "language_info": {
   "codemirror_mode": {
    "name": "ipython",
    "version": 2
   },
   "file_extension": ".py",
   "mimetype": "text/x-python",
   "name": "python",
   "nbconvert_exporter": "python",
   "pygments_lexer": "ipython2",
   "version": "2.7.6"
  }
 },
 "nbformat": 4,
 "nbformat_minor": 5
}
