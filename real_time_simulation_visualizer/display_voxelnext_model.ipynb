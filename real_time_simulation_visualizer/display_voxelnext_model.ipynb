{
 "cells": [
  {
   "cell_type": "code",
   "id": "initial_id",
   "metadata": {
    "collapsed": true,
    "ExecuteTime": {
     "end_time": "2024-10-09T21:22:03.363408Z",
     "start_time": "2024-10-09T21:21:59.548086Z"
    }
   },
   "source": [
    "import carla\n",
    "import random\n",
    "import queue\n",
    "import numpy as np\n",
    "import cv2\n",
    "import matplotlib.pyplot as plt\n",
    "from mpl_toolkits.mplot3d import Axes3D\n",
    "import time\n",
    "import os\n",
    "import struct\n",
    "import subprocess\n",
    "import json\n",
    "import shutil\n",
    "from IPython.display import display, clear_output\n",
    "import torch\n",
    "from model_wrapper import ModelWrapper\n",
    "from demo_dataset import DemoDataset\n",
    "from visual_utils import *\n",
    "from dash_canvas.utils import array_to_data_url\n",
    "from display_server import  DisplayServer\n",
    "import socketio"
   ],
   "outputs": [],
   "execution_count": 1
  },
  {
   "metadata": {
    "ExecuteTime": {
     "end_time": "2024-10-09T21:22:03.489736Z",
     "start_time": "2024-10-09T21:22:03.486547Z"
    }
   },
   "cell_type": "code",
   "source": [
    "# Set timestamp and create directory\n",
    "timestamp = time.strftime(\"%Y%m%d-%H%M%S\")\n",
    "run_directory = f'runs/run_{timestamp}'\n",
    "os.makedirs(run_directory, exist_ok=True)"
   ],
   "id": "3f1cf86765da0b57",
   "outputs": [],
   "execution_count": 2
  },
  {
   "metadata": {
    "ExecuteTime": {
     "end_time": "2024-10-09T21:22:03.738329Z",
     "start_time": "2024-10-09T21:22:03.734535Z"
    }
   },
   "cell_type": "code",
   "source": [
    "# Function to build the camera projection matrix\n",
    "def build_projection_matrix(w, h, fov, is_behind_camera=False):\n",
    "    focal = w / (2.0 * np.tan(fov * np.pi / 360.0))\n",
    "    K = np.identity(3)\n",
    "    if is_behind_camera:\n",
    "        K[0, 0] = K[1, 1] = -focal\n",
    "    else:\n",
    "        K[0, 0] = K[1, 1] = focal\n",
    "    K[0, 2] = w / 2.0\n",
    "    K[1, 2] = h / 2.0\n",
    "    return K"
   ],
   "id": "c8a6f702a675ca70",
   "outputs": [],
   "execution_count": 3
  },
  {
   "metadata": {
    "ExecuteTime": {
     "end_time": "2024-10-09T21:22:04.190284Z",
     "start_time": "2024-10-09T21:22:04.186878Z"
    }
   },
   "cell_type": "code",
   "source": [
    "# Function to process LiDAR data and save it as a binary file\n",
    "def save_lidar_data(data):\n",
    "    points = np.frombuffer(data.raw_data, dtype=np.dtype('f4'))\n",
    "    points = np.reshape(points, (int(points.shape[0] / 4), 4))\n",
    "    \n",
    "    file_name = f'{run_directory}/lidar.bin'\n",
    "    with open(file_name, 'wb') as f:\n",
    "        for point in points:\n",
    "            f.write(struct.pack('ffff', *point))"
   ],
   "id": "d9c5c3f80573301e",
   "outputs": [],
   "execution_count": 4
  },
  {
   "metadata": {
    "ExecuteTime": {
     "end_time": "2024-10-09T21:22:05.064027Z",
     "start_time": "2024-10-09T21:22:05.060863Z"
    }
   },
   "cell_type": "code",
   "source": [
    "def convert_cuda_dict_to_numpy(predict_dict):\n",
    "    numpy_dict = {}\n",
    "    for key, value in predict_dict.items():\n",
    "        if value.is_cuda:\n",
    "            numpy_dict[key] = value.cpu().numpy()\n",
    "        else:\n",
    "            numpy_dict[key] = value.numpy()\n",
    "    return numpy_dict"
   ],
   "id": "9de989eef41cc5c1",
   "outputs": [],
   "execution_count": 5
  },
  {
   "metadata": {
    "ExecuteTime": {
     "end_time": "2024-10-09T21:22:05.987267Z",
     "start_time": "2024-10-09T21:22:05.984188Z"
    }
   },
   "cell_type": "code",
   "source": [
    "def generate_ai_predictions(lidar_data):\n",
    "    points = np.frombuffer(lidar_data.raw_data, dtype=np.dtype('f4'))\n",
    "    points = np.reshape(points, (int(points.shape[0] / 4), 4))\n",
    "    points = points.copy()\n",
    "    points[:, 1] *= -1\n",
    "    \n",
    "    # Make a prediction\n",
    "    with torch.no_grad():\n",
    "        output = model.forward(points)\n",
    "    \n",
    "    return output, points"
   ],
   "id": "bb5704d25af434c",
   "outputs": [],
   "execution_count": 6
  },
  {
   "metadata": {
    "ExecuteTime": {
     "end_time": "2024-10-09T21:22:11.894396Z",
     "start_time": "2024-10-09T21:22:06.532512Z"
    }
   },
   "cell_type": "code",
   "source": [
    "# Load the model\n",
    "model = torch.load('models/voxelnext_model_last.pth', weights_only=False)\n",
    "model.cuda()\n",
    "model.eval()"
   ],
   "id": "ed81c711ebb24dec",
   "outputs": [
    {
     "name": "stderr",
     "output_type": "stream",
     "text": [
      "/home/polna/Developer/Carla_Client/.venv/lib/python3.10/site-packages/spconv/pytorch/functional.py:47: FutureWarning: `torch.cuda.amp.custom_fwd(args...)` is deprecated. Please use `torch.amp.custom_fwd(args..., device_type='cuda')` instead.\n",
      "  _TORCH_CUSTOM_FWD = amp.custom_fwd(cast_inputs=torch.float16)\n",
      "/home/polna/Developer/Carla_Client/.venv/lib/python3.10/site-packages/spconv/pytorch/functional.py:97: FutureWarning: `torch.cuda.amp.custom_bwd(args...)` is deprecated. Please use `torch.amp.custom_bwd(args..., device_type='cuda')` instead.\n",
      "  def backward(ctx, grad_output):\n",
      "/home/polna/Developer/Carla_Client/.venv/lib/python3.10/site-packages/spconv/pytorch/functional.py:163: FutureWarning: `torch.cuda.amp.custom_bwd(args...)` is deprecated. Please use `torch.amp.custom_bwd(args..., device_type='cuda')` instead.\n",
      "  def backward(ctx, grad_output):\n",
      "/home/polna/Developer/Carla_Client/.venv/lib/python3.10/site-packages/spconv/pytorch/functional.py:243: FutureWarning: `torch.cuda.amp.custom_bwd(args...)` is deprecated. Please use `torch.amp.custom_bwd(args..., device_type='cuda')` instead.\n",
      "  def backward(ctx, grad_output):\n",
      "/home/polna/Developer/Carla_Client/.venv/lib/python3.10/site-packages/spconv/pytorch/functional.py:332: FutureWarning: `torch.cuda.amp.custom_bwd(args...)` is deprecated. Please use `torch.amp.custom_bwd(args..., device_type='cuda')` instead.\n",
      "  def backward(ctx, grad_output):\n",
      "/home/polna/Developer/Carla_Client/.venv/lib/python3.10/site-packages/spconv/pytorch/functional.py:369: FutureWarning: `torch.cuda.amp.custom_bwd(args...)` is deprecated. Please use `torch.amp.custom_bwd(args..., device_type='cuda')` instead.\n",
      "  def backward(ctx, grad_output):\n",
      "/home/polna/Developer/Carla_Client/.venv/lib/python3.10/site-packages/spconv/pytorch/functional.py:389: FutureWarning: `torch.cuda.amp.custom_bwd(args...)` is deprecated. Please use `torch.amp.custom_bwd(args..., device_type='cuda')` instead.\n",
      "  def backward(ctx, grad_output):\n",
      "/home/polna/Developer/Carla_Client/.venv/lib/python3.10/site-packages/spconv/pytorch/functional.py:412: FutureWarning: `torch.cuda.amp.custom_bwd(args...)` is deprecated. Please use `torch.amp.custom_bwd(args..., device_type='cuda')` instead.\n",
      "  def backward(ctx, grad_output):\n",
      "/home/polna/Developer/Carla_Client/pcdet/utils/loss_utils.py:152: FutureWarning: `torch.cuda.amp.custom_fwd(args...)` is deprecated. Please use `torch.amp.custom_fwd(args..., device_type='cuda')` instead.\n",
      "  @torch.cuda.amp.custom_fwd(cast_inputs=torch.float16)\n"
     ]
    },
    {
     "data": {
      "text/plain": [
       "ModelWrapper(\n",
       "  (model): VoxelNeXt(\n",
       "    (vfe): MeanVFE()\n",
       "    (backbone_3d): VoxelResBackBone8xVoxelNeXt(\n",
       "      (conv_input): SparseSequential(\n",
       "        (0): SubMConv3d(4, 32, kernel_size=[3, 3, 3], stride=[1, 1, 1], padding=[1, 1, 1], dilation=[1, 1, 1], output_padding=[0, 0, 0], bias=False, algo=ConvAlgo.MaskImplicitGemm)\n",
       "        (1): BatchNorm1d(32, eps=0.001, momentum=0.01, affine=True, track_running_stats=True)\n",
       "        (2): ReLU()\n",
       "      )\n",
       "      (conv1): SparseSequential(\n",
       "        (0): SparseBasicBlock(\n",
       "          (conv1): SubMConv3d(32, 32, kernel_size=[3, 3, 3], stride=[1, 1, 1], padding=[1, 1, 1], dilation=[1, 1, 1], output_padding=[0, 0, 0], algo=ConvAlgo.MaskImplicitGemm)\n",
       "          (bn1): BatchNorm1d(32, eps=0.001, momentum=0.01, affine=True, track_running_stats=True)\n",
       "          (relu): ReLU()\n",
       "          (conv2): SubMConv3d(32, 32, kernel_size=[3, 3, 3], stride=[1, 1, 1], padding=[1, 1, 1], dilation=[1, 1, 1], output_padding=[0, 0, 0], algo=ConvAlgo.MaskImplicitGemm)\n",
       "          (bn2): BatchNorm1d(32, eps=0.001, momentum=0.01, affine=True, track_running_stats=True)\n",
       "        )\n",
       "        (1): SparseBasicBlock(\n",
       "          (conv1): SubMConv3d(32, 32, kernel_size=[3, 3, 3], stride=[1, 1, 1], padding=[1, 1, 1], dilation=[1, 1, 1], output_padding=[0, 0, 0], algo=ConvAlgo.MaskImplicitGemm)\n",
       "          (bn1): BatchNorm1d(32, eps=0.001, momentum=0.01, affine=True, track_running_stats=True)\n",
       "          (relu): ReLU()\n",
       "          (conv2): SubMConv3d(32, 32, kernel_size=[3, 3, 3], stride=[1, 1, 1], padding=[1, 1, 1], dilation=[1, 1, 1], output_padding=[0, 0, 0], algo=ConvAlgo.MaskImplicitGemm)\n",
       "          (bn2): BatchNorm1d(32, eps=0.001, momentum=0.01, affine=True, track_running_stats=True)\n",
       "        )\n",
       "      )\n",
       "      (conv2): SparseSequential(\n",
       "        (0): SparseSequential(\n",
       "          (0): SparseConv3d(32, 64, kernel_size=[5, 5, 5], stride=[2, 2, 2], padding=[2, 2, 2], dilation=[1, 1, 1], output_padding=[0, 0, 0], bias=False, algo=ConvAlgo.Native)\n",
       "          (1): BatchNorm1d(64, eps=0.001, momentum=0.01, affine=True, track_running_stats=True)\n",
       "          (2): ReLU()\n",
       "        )\n",
       "        (1): SparseBasicBlock(\n",
       "          (conv1): SubMConv3d(64, 64, kernel_size=[3, 3, 3], stride=[1, 1, 1], padding=[1, 1, 1], dilation=[1, 1, 1], output_padding=[0, 0, 0], algo=ConvAlgo.MaskImplicitGemm)\n",
       "          (bn1): BatchNorm1d(64, eps=0.001, momentum=0.01, affine=True, track_running_stats=True)\n",
       "          (relu): ReLU()\n",
       "          (conv2): SubMConv3d(64, 64, kernel_size=[3, 3, 3], stride=[1, 1, 1], padding=[1, 1, 1], dilation=[1, 1, 1], output_padding=[0, 0, 0], algo=ConvAlgo.MaskImplicitGemm)\n",
       "          (bn2): BatchNorm1d(64, eps=0.001, momentum=0.01, affine=True, track_running_stats=True)\n",
       "        )\n",
       "        (2): SparseBasicBlock(\n",
       "          (conv1): SubMConv3d(64, 64, kernel_size=[3, 3, 3], stride=[1, 1, 1], padding=[1, 1, 1], dilation=[1, 1, 1], output_padding=[0, 0, 0], algo=ConvAlgo.MaskImplicitGemm)\n",
       "          (bn1): BatchNorm1d(64, eps=0.001, momentum=0.01, affine=True, track_running_stats=True)\n",
       "          (relu): ReLU()\n",
       "          (conv2): SubMConv3d(64, 64, kernel_size=[3, 3, 3], stride=[1, 1, 1], padding=[1, 1, 1], dilation=[1, 1, 1], output_padding=[0, 0, 0], algo=ConvAlgo.MaskImplicitGemm)\n",
       "          (bn2): BatchNorm1d(64, eps=0.001, momentum=0.01, affine=True, track_running_stats=True)\n",
       "        )\n",
       "      )\n",
       "      (conv3): SparseSequential(\n",
       "        (0): SparseSequential(\n",
       "          (0): SparseConv3d(64, 128, kernel_size=[5, 5, 5], stride=[2, 2, 2], padding=[2, 2, 2], dilation=[1, 1, 1], output_padding=[0, 0, 0], bias=False, algo=ConvAlgo.Native)\n",
       "          (1): BatchNorm1d(128, eps=0.001, momentum=0.01, affine=True, track_running_stats=True)\n",
       "          (2): ReLU()\n",
       "        )\n",
       "        (1): SparseBasicBlock(\n",
       "          (conv1): SubMConv3d(128, 128, kernel_size=[3, 3, 3], stride=[1, 1, 1], padding=[1, 1, 1], dilation=[1, 1, 1], output_padding=[0, 0, 0], algo=ConvAlgo.MaskImplicitGemm)\n",
       "          (bn1): BatchNorm1d(128, eps=0.001, momentum=0.01, affine=True, track_running_stats=True)\n",
       "          (relu): ReLU()\n",
       "          (conv2): SubMConv3d(128, 128, kernel_size=[3, 3, 3], stride=[1, 1, 1], padding=[1, 1, 1], dilation=[1, 1, 1], output_padding=[0, 0, 0], algo=ConvAlgo.MaskImplicitGemm)\n",
       "          (bn2): BatchNorm1d(128, eps=0.001, momentum=0.01, affine=True, track_running_stats=True)\n",
       "        )\n",
       "        (2): SparseBasicBlock(\n",
       "          (conv1): SubMConv3d(128, 128, kernel_size=[3, 3, 3], stride=[1, 1, 1], padding=[1, 1, 1], dilation=[1, 1, 1], output_padding=[0, 0, 0], algo=ConvAlgo.MaskImplicitGemm)\n",
       "          (bn1): BatchNorm1d(128, eps=0.001, momentum=0.01, affine=True, track_running_stats=True)\n",
       "          (relu): ReLU()\n",
       "          (conv2): SubMConv3d(128, 128, kernel_size=[3, 3, 3], stride=[1, 1, 1], padding=[1, 1, 1], dilation=[1, 1, 1], output_padding=[0, 0, 0], algo=ConvAlgo.MaskImplicitGemm)\n",
       "          (bn2): BatchNorm1d(128, eps=0.001, momentum=0.01, affine=True, track_running_stats=True)\n",
       "        )\n",
       "      )\n",
       "      (conv4): SparseSequential(\n",
       "        (0): SparseSequential(\n",
       "          (0): SparseConv3d(128, 256, kernel_size=[3, 3, 3], stride=[2, 2, 2], padding=[1, 1, 1], dilation=[1, 1, 1], output_padding=[0, 0, 0], bias=False, algo=ConvAlgo.MaskImplicitGemm)\n",
       "          (1): BatchNorm1d(256, eps=0.001, momentum=0.01, affine=True, track_running_stats=True)\n",
       "          (2): ReLU()\n",
       "        )\n",
       "        (1): SparseBasicBlock(\n",
       "          (conv1): SubMConv3d(256, 256, kernel_size=[3, 3, 3], stride=[1, 1, 1], padding=[1, 1, 1], dilation=[1, 1, 1], output_padding=[0, 0, 0], algo=ConvAlgo.MaskImplicitGemm)\n",
       "          (bn1): BatchNorm1d(256, eps=0.001, momentum=0.01, affine=True, track_running_stats=True)\n",
       "          (relu): ReLU()\n",
       "          (conv2): SubMConv3d(256, 256, kernel_size=[3, 3, 3], stride=[1, 1, 1], padding=[1, 1, 1], dilation=[1, 1, 1], output_padding=[0, 0, 0], algo=ConvAlgo.MaskImplicitGemm)\n",
       "          (bn2): BatchNorm1d(256, eps=0.001, momentum=0.01, affine=True, track_running_stats=True)\n",
       "        )\n",
       "        (2): SparseBasicBlock(\n",
       "          (conv1): SubMConv3d(256, 256, kernel_size=[3, 3, 3], stride=[1, 1, 1], padding=[1, 1, 1], dilation=[1, 1, 1], output_padding=[0, 0, 0], algo=ConvAlgo.MaskImplicitGemm)\n",
       "          (bn1): BatchNorm1d(256, eps=0.001, momentum=0.01, affine=True, track_running_stats=True)\n",
       "          (relu): ReLU()\n",
       "          (conv2): SubMConv3d(256, 256, kernel_size=[3, 3, 3], stride=[1, 1, 1], padding=[1, 1, 1], dilation=[1, 1, 1], output_padding=[0, 0, 0], algo=ConvAlgo.MaskImplicitGemm)\n",
       "          (bn2): BatchNorm1d(256, eps=0.001, momentum=0.01, affine=True, track_running_stats=True)\n",
       "        )\n",
       "      )\n",
       "      (conv5): SparseSequential(\n",
       "        (0): SparseSequential(\n",
       "          (0): SparseConv3d(256, 256, kernel_size=[3, 3, 3], stride=[2, 2, 2], padding=[1, 1, 1], dilation=[1, 1, 1], output_padding=[0, 0, 0], bias=False, algo=ConvAlgo.MaskImplicitGemm)\n",
       "          (1): BatchNorm1d(256, eps=0.001, momentum=0.01, affine=True, track_running_stats=True)\n",
       "          (2): ReLU()\n",
       "        )\n",
       "        (1): SparseBasicBlock(\n",
       "          (conv1): SubMConv3d(256, 256, kernel_size=[3, 3, 3], stride=[1, 1, 1], padding=[1, 1, 1], dilation=[1, 1, 1], output_padding=[0, 0, 0], algo=ConvAlgo.MaskImplicitGemm)\n",
       "          (bn1): BatchNorm1d(256, eps=0.001, momentum=0.01, affine=True, track_running_stats=True)\n",
       "          (relu): ReLU()\n",
       "          (conv2): SubMConv3d(256, 256, kernel_size=[3, 3, 3], stride=[1, 1, 1], padding=[1, 1, 1], dilation=[1, 1, 1], output_padding=[0, 0, 0], algo=ConvAlgo.MaskImplicitGemm)\n",
       "          (bn2): BatchNorm1d(256, eps=0.001, momentum=0.01, affine=True, track_running_stats=True)\n",
       "        )\n",
       "        (2): SparseBasicBlock(\n",
       "          (conv1): SubMConv3d(256, 256, kernel_size=[3, 3, 3], stride=[1, 1, 1], padding=[1, 1, 1], dilation=[1, 1, 1], output_padding=[0, 0, 0], algo=ConvAlgo.MaskImplicitGemm)\n",
       "          (bn1): BatchNorm1d(256, eps=0.001, momentum=0.01, affine=True, track_running_stats=True)\n",
       "          (relu): ReLU()\n",
       "          (conv2): SubMConv3d(256, 256, kernel_size=[3, 3, 3], stride=[1, 1, 1], padding=[1, 1, 1], dilation=[1, 1, 1], output_padding=[0, 0, 0], algo=ConvAlgo.MaskImplicitGemm)\n",
       "          (bn2): BatchNorm1d(256, eps=0.001, momentum=0.01, affine=True, track_running_stats=True)\n",
       "        )\n",
       "      )\n",
       "      (conv6): SparseSequential(\n",
       "        (0): SparseSequential(\n",
       "          (0): SparseConv3d(256, 256, kernel_size=[3, 3, 3], stride=[2, 2, 2], padding=[1, 1, 1], dilation=[1, 1, 1], output_padding=[0, 0, 0], bias=False, algo=ConvAlgo.MaskImplicitGemm)\n",
       "          (1): BatchNorm1d(256, eps=0.001, momentum=0.01, affine=True, track_running_stats=True)\n",
       "          (2): ReLU()\n",
       "        )\n",
       "        (1): SparseBasicBlock(\n",
       "          (conv1): SubMConv3d(256, 256, kernel_size=[3, 3, 3], stride=[1, 1, 1], padding=[1, 1, 1], dilation=[1, 1, 1], output_padding=[0, 0, 0], algo=ConvAlgo.MaskImplicitGemm)\n",
       "          (bn1): BatchNorm1d(256, eps=0.001, momentum=0.01, affine=True, track_running_stats=True)\n",
       "          (relu): ReLU()\n",
       "          (conv2): SubMConv3d(256, 256, kernel_size=[3, 3, 3], stride=[1, 1, 1], padding=[1, 1, 1], dilation=[1, 1, 1], output_padding=[0, 0, 0], algo=ConvAlgo.MaskImplicitGemm)\n",
       "          (bn2): BatchNorm1d(256, eps=0.001, momentum=0.01, affine=True, track_running_stats=True)\n",
       "        )\n",
       "        (2): SparseBasicBlock(\n",
       "          (conv1): SubMConv3d(256, 256, kernel_size=[3, 3, 3], stride=[1, 1, 1], padding=[1, 1, 1], dilation=[1, 1, 1], output_padding=[0, 0, 0], algo=ConvAlgo.MaskImplicitGemm)\n",
       "          (bn1): BatchNorm1d(256, eps=0.001, momentum=0.01, affine=True, track_running_stats=True)\n",
       "          (relu): ReLU()\n",
       "          (conv2): SubMConv3d(256, 256, kernel_size=[3, 3, 3], stride=[1, 1, 1], padding=[1, 1, 1], dilation=[1, 1, 1], output_padding=[0, 0, 0], algo=ConvAlgo.MaskImplicitGemm)\n",
       "          (bn2): BatchNorm1d(256, eps=0.001, momentum=0.01, affine=True, track_running_stats=True)\n",
       "        )\n",
       "      )\n",
       "      (conv_out): SparseSequential(\n",
       "        (0): SparseConv2d(256, 256, kernel_size=[3, 3], stride=[1, 1], padding=[1, 1], dilation=[1, 1], output_padding=[0, 0], bias=False, algo=ConvAlgo.MaskImplicitGemm)\n",
       "        (1): BatchNorm1d(256, eps=0.001, momentum=0.01, affine=True, track_running_stats=True)\n",
       "        (2): ReLU()\n",
       "      )\n",
       "      (shared_conv): SparseSequential(\n",
       "        (0): SubMConv2d(256, 256, kernel_size=[3, 3], stride=[1, 1], padding=[1, 1], dilation=[1, 1], output_padding=[0, 0], algo=ConvAlgo.MaskImplicitGemm)\n",
       "        (1): BatchNorm1d(256, eps=1e-05, momentum=0.1, affine=True, track_running_stats=True)\n",
       "        (2): ReLU(inplace=True)\n",
       "      )\n",
       "    )\n",
       "    (map_to_bev_module): None\n",
       "    (pfe): None\n",
       "    (backbone_2d): None\n",
       "    (dense_head): VoxelNeXtHead(\n",
       "      (heads_list): ModuleList(\n",
       "        (0): SeparateHead(\n",
       "          (center): Sequential(\n",
       "            (0): SparseSequential(\n",
       "              (0): SubMConv2d(256, 256, kernel_size=[3, 3], stride=[1, 1], padding=[1, 1], dilation=[1, 1], output_padding=[0, 0], algo=ConvAlgo.MaskImplicitGemm)\n",
       "              (1): BatchNorm1d(256, eps=1e-05, momentum=0.1, affine=True, track_running_stats=True)\n",
       "              (2): ReLU()\n",
       "            )\n",
       "            (1): SubMConv2d(256, 2, kernel_size=[1, 1], stride=[1, 1], padding=[0, 0], dilation=[1, 1], output_padding=[0, 0], algo=ConvAlgo.MaskImplicitGemm)\n",
       "          )\n",
       "          (center_z): Sequential(\n",
       "            (0): SparseSequential(\n",
       "              (0): SubMConv2d(256, 256, kernel_size=[3, 3], stride=[1, 1], padding=[1, 1], dilation=[1, 1], output_padding=[0, 0], algo=ConvAlgo.MaskImplicitGemm)\n",
       "              (1): BatchNorm1d(256, eps=1e-05, momentum=0.1, affine=True, track_running_stats=True)\n",
       "              (2): ReLU()\n",
       "            )\n",
       "            (1): SubMConv2d(256, 1, kernel_size=[1, 1], stride=[1, 1], padding=[0, 0], dilation=[1, 1], output_padding=[0, 0], algo=ConvAlgo.MaskImplicitGemm)\n",
       "          )\n",
       "          (dim): Sequential(\n",
       "            (0): SparseSequential(\n",
       "              (0): SubMConv2d(256, 256, kernel_size=[3, 3], stride=[1, 1], padding=[1, 1], dilation=[1, 1], output_padding=[0, 0], algo=ConvAlgo.MaskImplicitGemm)\n",
       "              (1): BatchNorm1d(256, eps=1e-05, momentum=0.1, affine=True, track_running_stats=True)\n",
       "              (2): ReLU()\n",
       "            )\n",
       "            (1): SubMConv2d(256, 3, kernel_size=[1, 1], stride=[1, 1], padding=[0, 0], dilation=[1, 1], output_padding=[0, 0], algo=ConvAlgo.MaskImplicitGemm)\n",
       "          )\n",
       "          (rot): Sequential(\n",
       "            (0): SparseSequential(\n",
       "              (0): SubMConv2d(256, 256, kernel_size=[3, 3], stride=[1, 1], padding=[1, 1], dilation=[1, 1], output_padding=[0, 0], algo=ConvAlgo.MaskImplicitGemm)\n",
       "              (1): BatchNorm1d(256, eps=1e-05, momentum=0.1, affine=True, track_running_stats=True)\n",
       "              (2): ReLU()\n",
       "            )\n",
       "            (1): SubMConv2d(256, 2, kernel_size=[1, 1], stride=[1, 1], padding=[0, 0], dilation=[1, 1], output_padding=[0, 0], algo=ConvAlgo.MaskImplicitGemm)\n",
       "          )\n",
       "          (iou): Sequential(\n",
       "            (0): SparseSequential(\n",
       "              (0): SubMConv2d(256, 256, kernel_size=[3, 3], stride=[1, 1], padding=[1, 1], dilation=[1, 1], output_padding=[0, 0], algo=ConvAlgo.MaskImplicitGemm)\n",
       "              (1): BatchNorm1d(256, eps=1e-05, momentum=0.1, affine=True, track_running_stats=True)\n",
       "              (2): ReLU()\n",
       "            )\n",
       "            (1): SubMConv2d(256, 1, kernel_size=[1, 1], stride=[1, 1], padding=[0, 0], dilation=[1, 1], output_padding=[0, 0], algo=ConvAlgo.MaskImplicitGemm)\n",
       "          )\n",
       "          (hm): Sequential(\n",
       "            (0): SparseSequential(\n",
       "              (0): SubMConv2d(256, 256, kernel_size=[3, 3], stride=[1, 1], padding=[1, 1], dilation=[1, 1], output_padding=[0, 0], algo=ConvAlgo.MaskImplicitGemm)\n",
       "              (1): BatchNorm1d(256, eps=1e-05, momentum=0.1, affine=True, track_running_stats=True)\n",
       "              (2): ReLU()\n",
       "            )\n",
       "            (1): SubMConv2d(256, 5, kernel_size=[1, 1], stride=[1, 1], padding=[0, 0], dilation=[1, 1], output_padding=[0, 0], algo=ConvAlgo.MaskImplicitGemm)\n",
       "          )\n",
       "        )\n",
       "      )\n",
       "      (hm_loss_func): FocalLossSparse()\n",
       "      (reg_loss_func): RegLossSparse()\n",
       "      (crit_iou): IouLossSparse()\n",
       "      (crit_iou_reg): IouRegLossSparse()\n",
       "    )\n",
       "    (point_head): None\n",
       "    (roi_head): None\n",
       "  )\n",
       ")"
      ]
     },
     "execution_count": 7,
     "metadata": {},
     "output_type": "execute_result"
    }
   ],
   "execution_count": 7
  },
  {
   "metadata": {
    "ExecuteTime": {
     "end_time": "2024-10-09T21:22:29.727163Z",
     "start_time": "2024-10-09T21:22:29.529459Z"
    }
   },
   "cell_type": "code",
   "source": [
    "# Connect to Carla server\n",
    "client = carla.Client('localhost', 2000)\n",
    "client.set_timeout(10.0)\n",
    "world = client.get_world()\n",
    "tm = client.get_trafficmanager()\n",
    "tm.set_synchronous_mode(True)\n",
    "\n",
    "# Load a town (optional)\n",
    "#town_name = 'Town03'\n",
    "#world = client.load_world(town_name)\n",
    "\n",
    "# Set the simulation FPS\n",
    "desired_fps = 10  # Set your desired FPS here\n",
    "settings = world.get_settings()\n",
    "settings.fixed_delta_seconds = 1.0 / desired_fps\n",
    "settings.synchronous_mode = True  # Enable synchronous mod\n",
    "world.apply_settings(settings)"
   ],
   "id": "938addbba955aa1a",
   "outputs": [
    {
     "data": {
      "text/plain": [
       "6102"
      ]
     },
     "execution_count": 9,
     "metadata": {},
     "output_type": "execute_result"
    }
   ],
   "execution_count": 9
  },
  {
   "metadata": {
    "ExecuteTime": {
     "end_time": "2024-10-09T21:22:31.814877Z",
     "start_time": "2024-10-09T21:22:31.756541Z"
    }
   },
   "cell_type": "code",
   "source": [
    "#Spawn random vehicles with autopilot\n",
    "blueprint_library = world.get_blueprint_library()\n",
    "vehicle_bp = blueprint_library.filter('vehicle.*')\n",
    "\n",
    "# Get all walker and walker controller blueprints\n",
    "walker_bp = blueprint_library.filter('walker.pedestrian.*')\n",
    "controller_bp = blueprint_library.find('controller.ai.walker')\n",
    "\n",
    "spawn_points = world.get_map().get_spawn_points()"
   ],
   "id": "a64fd2d1226555b7",
   "outputs": [],
   "execution_count": 10
  },
  {
   "metadata": {
    "ExecuteTime": {
     "end_time": "2024-10-09T21:22:32.346657Z",
     "start_time": "2024-10-09T21:22:32.223565Z"
    }
   },
   "cell_type": "code",
   "source": [
    "#Spawn random vehicles with autopilot\n",
    "random.shuffle(spawn_points)\n",
    "# Limit to 50 cars or available spawn points\n",
    "num_cars = min(50, len(spawn_points))\n",
    "\n",
    "vehicles = []\n",
    "\n",
    "for spawn_point in spawn_points[:num_cars]:\n",
    "    for _ in range(10):  # Try up to 10 times to spawn the vehicle\n",
    "        vehicle = world.try_spawn_actor(random.choice(vehicle_bp), spawn_point)\n",
    "        if vehicle:\n",
    "            vehicle.set_autopilot(True)\n",
    "            vehicles.append(vehicle)\n",
    "            break  # Exit the retry loop if successful"
   ],
   "id": "4fe188d1aac9d31e",
   "outputs": [],
   "execution_count": 11
  },
  {
   "metadata": {
    "ExecuteTime": {
     "end_time": "2024-10-09T21:22:33.372650Z",
     "start_time": "2024-10-09T21:22:32.676034Z"
    }
   },
   "cell_type": "code",
   "source": [
    "# Spawn pedestrians\n",
    "num_pedestrians = num_cars * 5  # Five times the number of vehicles\n",
    "pedestrian_spawn_points = [carla.Transform(location=world.get_random_location_from_navigation())\n",
    "                           for _ in range(num_pedestrians)\n",
    "                           if world.get_random_location_from_navigation() is not None]\n",
    "\n",
    "# Build and apply the batch of commands to spawn the pedestrians\n",
    "batch = [carla.command.SpawnActor(random.choice(walker_bp), spawn_point)\n",
    "         for spawn_point in pedestrian_spawn_points]\n",
    "results = client.apply_batch_sync(batch, True)\n",
    "\n",
    "# Initialize lists to store pedestrian and controller actors\n",
    "pedestrians = []\n",
    "walker_controllers = []\n",
    "\n",
    "# Process the results of pedestrian spawning\n",
    "walkers_list = [{\"id\": result.actor_id} for result in results if not result.error]\n",
    "\n",
    "# Build and apply the batch of commands to spawn the walker controllers\n",
    "batch = [carla.command.SpawnActor(controller_bp, carla.Transform(), walker[\"id\"])\n",
    "         for walker in walkers_list]\n",
    "results = client.apply_batch_sync(batch, True)\n",
    "\n",
    "# Process the results of controller spawning and populate the lists\n",
    "for i, result in enumerate(results):\n",
    "    if not result.error:\n",
    "        walkers_list[i][\"con\"] = result.actor_id\n",
    "        pedestrians.append(walkers_list[i][\"id\"])\n",
    "        walker_controllers.append(walkers_list[i][\"con\"])\n",
    "\n",
    "# Retrieve all actors (walkers and controllers) from their IDs\n",
    "all_id = pedestrians + walker_controllers\n",
    "all_actors = world.get_actors(all_id)\n",
    "\n",
    "# Initialize each controller and set a random walk target and speed\n",
    "for i in range(len(walker_controllers)):\n",
    "    walker_controller = all_actors.find(walker_controllers[i])\n",
    "    pedestrian = all_actors.find(pedestrians[i])\n",
    "    \n",
    "    walker_controller.start()\n",
    "    walker_controller.go_to_location(world.get_random_location_from_navigation())\n",
    "    walker_controller.set_max_speed(1 + random.random())"
   ],
   "id": "f02fea9bb6f4f74a",
   "outputs": [],
   "execution_count": 12
  },
  {
   "metadata": {
    "ExecuteTime": {
     "end_time": "2024-10-09T21:22:33.384779Z",
     "start_time": "2024-10-09T21:22:33.380216Z"
    }
   },
   "cell_type": "code",
   "source": [
    "#Spawn your car with autopilot and LiDAR sensor\n",
    "ego_vehicle_bp = blueprint_library.find('vehicle.audi.a2')\n",
    "ego_vehicle_spawn_point = spawn_points[num_cars]\n",
    "\n",
    "ego_vehicle = world.spawn_actor(ego_vehicle_bp, ego_vehicle_spawn_point)\n",
    "ego_vehicle.set_autopilot(True)"
   ],
   "id": "7b15ff25ddf17edb",
   "outputs": [],
   "execution_count": 13
  },
  {
   "metadata": {
    "ExecuteTime": {
     "end_time": "2024-10-09T21:22:33.671630Z",
     "start_time": "2024-10-09T21:22:33.667101Z"
    }
   },
   "cell_type": "code",
   "source": [
    "# Spawn Lidar\n",
    "lidar_bp = blueprint_library.find('sensor.lidar.ray_cast')\n",
    "lidar_bp.set_attribute('range', '100')  # Increase range if needed\n",
    "lidar_bp.set_attribute('rotation_frequency', str(desired_fps))\n",
    "lidar_bp.set_attribute('channels', '64')  # Increase number of channels for better vertical resolution\n",
    "lidar_bp.set_attribute('points_per_second', '1000000')  # Increase points per second for denser point cloud\n",
    "lidar_bp.set_attribute('upper_fov', '10')  # Adjust upper field of view\n",
    "lidar_bp.set_attribute('lower_fov', '-30')  # Adjust lower field of view\n",
    "lidar_bp.set_attribute('horizontal_fov', '360')  # Ensure full 360 degree horizontal field of view\n",
    "\n",
    "lidar_location = carla.Location(0, 0, 2.5)\n",
    "lidar_rotation = carla.Rotation(0, 0, 0)\n",
    "lidar_transform = carla.Transform(lidar_location, lidar_rotation)\n",
    "lidar = world.spawn_actor(lidar_bp, lidar_transform, attach_to=ego_vehicle)"
   ],
   "id": "99388551ad5b7887",
   "outputs": [],
   "execution_count": 14
  },
  {
   "metadata": {
    "ExecuteTime": {
     "end_time": "2024-10-09T21:22:34.191282Z",
     "start_time": "2024-10-09T21:22:34.188746Z"
    }
   },
   "cell_type": "code",
   "source": [
    "# Spawn camera\n",
    "camera_bp = blueprint_library.find('sensor.camera.rgb')\n",
    "camera_bp.set_attribute('image_size_x', '1920')  # 8K resolution width\n",
    "camera_bp.set_attribute('image_size_y', '1080')  # 8K resolution height"
   ],
   "id": "95f6941349aea13d",
   "outputs": [],
   "execution_count": 15
  },
  {
   "metadata": {
    "ExecuteTime": {
     "end_time": "2024-10-09T21:22:34.684916Z",
     "start_time": "2024-10-09T21:22:34.681324Z"
    }
   },
   "cell_type": "code",
   "source": [
    "# Define camera transforms for each direction (relative to the car)\n",
    "camera_front_transform = carla.Transform(carla.Location(x=1.5, y=0.0, z=2.0), carla.Rotation(pitch=0.0, yaw=0.0, roll=0.0))\n",
    "camera_rear_transform = carla.Transform(carla.Location(x=-1.5, y=0.0, z=2.0), carla.Rotation(pitch=0.0, yaw=180.0, roll=0.0))\n",
    "camera_left_transform = carla.Transform(carla.Location(x=0.0, y=-0.5, z=2.0), carla.Rotation(pitch=0.0, yaw=-90.0, roll=0.0))\n",
    "camera_right_transform = carla.Transform(carla.Location(x=0.0, y=0.5, z=2.0), carla.Rotation(pitch=0.0, yaw=90.0, roll=0.0))"
   ],
   "id": "c9ea43b8fbb796fb",
   "outputs": [],
   "execution_count": 16
  },
  {
   "metadata": {
    "ExecuteTime": {
     "end_time": "2024-10-09T21:22:35.192987Z",
     "start_time": "2024-10-09T21:22:35.186723Z"
    }
   },
   "cell_type": "code",
   "source": [
    "# Spawn cameras attached to the ego vehicle\n",
    "camera_front = world.spawn_actor(camera_bp, camera_front_transform, attach_to=ego_vehicle)\n",
    "camera_rear = world.spawn_actor(camera_bp, camera_rear_transform, attach_to=ego_vehicle)\n",
    "camera_left = world.spawn_actor(camera_bp, camera_left_transform, attach_to=ego_vehicle)\n",
    "camera_right = world.spawn_actor(camera_bp, camera_right_transform, attach_to=ego_vehicle)"
   ],
   "id": "93b1d748015f0cf7",
   "outputs": [],
   "execution_count": 17
  },
  {
   "metadata": {
    "ExecuteTime": {
     "end_time": "2024-10-09T21:22:35.699483Z",
     "start_time": "2024-10-09T21:22:35.693715Z"
    }
   },
   "cell_type": "code",
   "source": [
    "# Create a queue to store and retrieve the sensors data\n",
    "lidar_queue = queue.Queue()\n",
    "lidar.listen(lidar_queue.put)\n",
    "\n",
    "camera_front_queue = queue.Queue()\n",
    "camera_rear_queue = queue.Queue()\n",
    "camera_left_queue = queue.Queue()\n",
    "camera_right_queue = queue.Queue()\n",
    "\n",
    "camera_front.listen(camera_front_queue.put)\n",
    "camera_rear.listen(camera_rear_queue.put)\n",
    "camera_left.listen(camera_left_queue.put)\n",
    "camera_right.listen(camera_right_queue.put)"
   ],
   "id": "4a25504b1487d238",
   "outputs": [],
   "execution_count": 18
  },
  {
   "metadata": {
    "ExecuteTime": {
     "end_time": "2024-10-09T21:22:36.309131Z",
     "start_time": "2024-10-09T21:22:36.306237Z"
    }
   },
   "cell_type": "code",
   "source": [
    "# Get the attributes from the camera\n",
    "image_w = camera_bp.get_attribute(\"image_size_x\").as_int()\n",
    "image_h = camera_bp.get_attribute(\"image_size_y\").as_int()\n",
    "fov = camera_bp.get_attribute(\"fov\").as_float()\n",
    "\n",
    "# Calculate the camera projection matrix to project from 3D -> 2D\n",
    "K = build_projection_matrix(image_w, image_h, fov)"
   ],
   "id": "bda60b5e7c65f833",
   "outputs": [],
   "execution_count": 19
  },
  {
   "metadata": {
    "ExecuteTime": {
     "end_time": "2024-10-09T21:22:36.958746Z",
     "start_time": "2024-10-09T21:22:36.953218Z"
    }
   },
   "cell_type": "code",
   "source": [
    "def update_spectator():\n",
    "    # Get the location and rotation of the ego vehicle\n",
    "    ego_location = ego_vehicle.get_location()\n",
    "    ego_rotation = ego_vehicle.get_transform().rotation\n",
    "    \n",
    "    # Calculate an offset position behind and above the vehicle\n",
    "    offset_distance = 5.0  # Distance behind the vehicle\n",
    "    offset_height = 2.0    # Height above the vehicle\n",
    "    \n",
    "    # Convert rotation to radians\n",
    "    yaw = np.radians(ego_rotation.yaw)\n",
    "    \n",
    "    # Calculate the offset position\n",
    "    offset_x = -offset_distance * np.cos(yaw)\n",
    "    offset_y = -offset_distance * np.sin(yaw)\n",
    "    \n",
    "    # New location for the spectator\n",
    "    spectator_location = carla.Location(\n",
    "        x=ego_location.x + offset_x,\n",
    "        y=ego_location.y + offset_y,\n",
    "        z=ego_location.z + offset_height\n",
    "    )\n",
    "    \n",
    "    # Set the spectator's transform\n",
    "    spectator = world.get_spectator()\n",
    "    spectator.set_transform(carla.Transform(spectator_location, ego_rotation))"
   ],
   "id": "527b2ee5859a9228",
   "outputs": [],
   "execution_count": 20
  },
  {
   "metadata": {
    "ExecuteTime": {
     "end_time": "2024-10-09T21:22:37.469467Z",
     "start_time": "2024-10-09T21:22:37.464102Z"
    }
   },
   "cell_type": "code",
   "source": [
    "def compute_model():\n",
    "    # Get the latest LiDAR data and generate AI predictions\n",
    "    lidar_data = lidar_queue.get()\n",
    "    \n",
    "    #save_lidar_data(lidar_data)\n",
    "    predict_dict, points = generate_ai_predictions(lidar_data)\n",
    "        \n",
    "    # Make a prediction\n",
    "    with torch.no_grad():\n",
    "        predict_dict = model.forward(points)\n",
    "    \n",
    "    # Get the latest images from all four camera queues\n",
    "    image_data_front = camera_front_queue.get()\n",
    "    image_data_rear = camera_rear_queue.get()\n",
    "    image_data_left = camera_left_queue.get()\n",
    "    image_data_right = camera_right_queue.get()\n",
    "    \n",
    "    # Process front camera image\n",
    "    img_front = np.reshape(np.copy(image_data_front.raw_data), (image_data_front.height, image_data_front.width, 4))\n",
    "    img_front_plt = cv2.cvtColor(img_front, cv2.COLOR_BGRA2RGBA)\n",
    "\n",
    "    # Process rear camera image\n",
    "    img_rear = np.reshape(np.copy(image_data_rear.raw_data), (image_data_rear.height, image_data_rear.width, 4))\n",
    "    img_rear_plt = cv2.cvtColor(img_rear, cv2.COLOR_BGRA2RGBA)\n",
    "\n",
    "    # Process left camera image\n",
    "    img_left = np.reshape(np.copy(image_data_left.raw_data), (image_data_left.height, image_data_left.width, 4))\n",
    "    img_left_plt = cv2.cvtColor(img_left, cv2.COLOR_BGRA2RGBA)\n",
    "\n",
    "    # Process right camera image\n",
    "    img_right = np.reshape(np.copy(image_data_right.raw_data), (image_data_right.height, image_data_right.width, 4))\n",
    "    img_right_plt = cv2.cvtColor(img_right, cv2.COLOR_BGRA2RGBA)\n",
    "    \n",
    "    # Convert AI predictions to CPU for further processing\n",
    "    predict_dict_cpu = convert_cuda_dict_to_numpy(predict_dict)\n",
    "    \n",
    "    return points, img_front_plt, img_rear_plt, img_left_plt, img_right_plt, predict_dict_cpu"
   ],
   "id": "7a348c6a2fd83bcf",
   "outputs": [],
   "execution_count": 21
  },
  {
   "metadata": {
    "ExecuteTime": {
     "end_time": "2024-10-09T21:22:38.575450Z",
     "start_time": "2024-10-09T21:22:38.572582Z"
    }
   },
   "cell_type": "code",
   "source": [
    "def simulate_world_plot_data():\n",
    "    world.tick()\n",
    "    update_spectator()\n",
    "    points, img_front, img_rear, img_left, img_right, predict_dict = compute_model()\n",
    "    visualize_lidar_data_3D(points, predict_dict['pred_boxes'], predict_dict['pred_labels'], predict_dict['pred_scores'], window=True)"
   ],
   "id": "99fa4119d7f4ff9f",
   "outputs": [],
   "execution_count": 22
  },
  {
   "metadata": {
    "ExecuteTime": {
     "end_time": "2024-10-09T21:22:38.917713Z",
     "start_time": "2024-10-09T21:22:38.914756Z"
    }
   },
   "cell_type": "code",
   "source": [
    "def simulate_world(server, websocket):\n",
    "    world.tick()\n",
    "    update_spectator()\n",
    "    points, img_front, img_rear, img_left, img_right, predict_dict = compute_model()\n",
    "    server.update_data(points, predict_dict['pred_boxes'], predict_dict['pred_labels'], predict_dict['pred_scores'], img_front, img_rear, img_left, img_right)\n",
    "    websocket.emit('update_data')"
   ],
   "id": "f36b0caee65647e3",
   "outputs": [],
   "execution_count": 23
  },
  {
   "metadata": {
    "ExecuteTime": {
     "end_time": "2024-10-09T21:22:42.659519Z",
     "start_time": "2024-10-09T21:22:40.366226Z"
    }
   },
   "cell_type": "code",
   "source": [
    "# Initialize the Dash application\n",
    "display_server = DisplayServer()\n",
    "\n",
    "# Start the server\n",
    "display_server.start()\n",
    "\n",
    "# Create a Socket.IO client\n",
    "sio = socketio.Client()\n",
    "\n",
    "time.sleep(2)  # Wait for 2 seconds to give the server time to start\n",
    "\n",
    "# Connect to the server\n",
    "sio.connect(\"http://localhost:5000\")"
   ],
   "id": "836c9de0d8dcc360",
   "outputs": [
    {
     "name": "stderr",
     "output_type": "stream",
     "text": [
      "(55772) wsgi starting up on http://127.0.0.1:5000\n",
      "(55772) accepted ('127.0.0.1', 51574)\n",
      "127.0.0.1 - - [09/Oct/2024 23:22:42] \"GET /socket.io/?transport=polling&EIO=4&t=1728508962.6120985 HTTP/1.1\" 200 278 0.000322\n",
      "(55772) accepted ('127.0.0.1', 51582)\n"
     ]
    }
   ],
   "execution_count": 24
  },
  {
   "metadata": {},
   "cell_type": "code",
   "source": [
    "for _ in range(500):\n",
    "    simulate_world(server=display_server, websocket=sio)\n",
    "    time.sleep(1.0 / desired_fps)"
   ],
   "id": "534f1f4f05246077",
   "outputs": [],
   "execution_count": null
  },
  {
   "metadata": {},
   "cell_type": "code",
   "source": "simulate_world(server=display_server, websocket=sio)",
   "id": "838648d36e255faf",
   "outputs": [],
   "execution_count": null
  },
  {
   "metadata": {},
   "cell_type": "code",
   "source": "simulate_world_plot_data()",
   "id": "d1c2f5490b9fb32a",
   "outputs": [],
   "execution_count": null
  },
  {
   "metadata": {},
   "cell_type": "markdown",
   "source": "# This is to save each frame for optional analysis",
   "id": "cd9867f62e2bcae2"
  },
  {
   "metadata": {
    "jupyter": {
     "is_executing": true
    },
    "ExecuteTime": {
     "start_time": "2024-10-09T21:22:44.967937Z"
    }
   },
   "cell_type": "code",
   "source": [
    "from PIL import Image\n",
    "# Start loop for simulation\n",
    "for step in range(1050):  # Total steps of 1050\n",
    "    # Simulate world ticking and update\n",
    "    world.tick()\n",
    "    update_spectator()\n",
    "    \n",
    "    # Compute model predictions and images\n",
    "    points, img_front, img_rear, img_left, img_right, predict_dict = compute_model()\n",
    "    \n",
    "    # Only start saving after 50 steps\n",
    "    if step >= 50:\n",
    "        frame_index = step - 50  # Frame index starts from 0 after 50 steps\n",
    "        \n",
    "        # Save LiDAR visualization\n",
    "        lidar_save_path = f'gif generator/lidar/frame_{frame_index}.png'\n",
    "        visualize_lidar_data_3D_3rd_person_view(points, predict_dict['pred_boxes'], predict_dict['pred_labels'], predict_dict['pred_scores'], window=False, save_path=lidar_save_path)\n",
    "        \n",
    "        # Save front, rear, left, right images\n",
    "        Image.fromarray(img_front).save(f'gif generator/img_front/frame_{frame_index}.png')\n",
    "        Image.fromarray(img_rear).save(f'gif generator/img_rear/frame_{frame_index}.png')\n",
    "        Image.fromarray(img_left).save(f'gif generator/img_left/frame_{frame_index}.png')\n",
    "        Image.fromarray(img_right).save(f'gif generator/img_right/frame_{frame_index}.png')\n",
    "        \n",
    "        print(f\"Saved frame {frame_index}\")\n",
    "\n",
    "print(\"All frames saved.\")"
   ],
   "id": "82aed971aec07249",
   "outputs": [],
   "execution_count": null
  },
  {
   "metadata": {},
   "cell_type": "code",
   "source": [
    "for _ in range(500):\n",
    "    world.tick()\n",
    "\n",
    "lidar_queue.queue.clear()\n",
    "camera_front_queue.queue.clear()\n",
    "camera_rear_queue.queue.clear()\n",
    "camera_left_queue.queue.clear()\n",
    "camera_right_queue.queue.clear()"
   ],
   "id": "7b83fd2e3f57d458",
   "outputs": [],
   "execution_count": null
  },
  {
   "metadata": {},
   "cell_type": "code",
   "source": [
    "#Cleanup\n",
    "lidar.stop()\n",
    "lidar.destroy()\n",
    "\n",
    "camera_front.stop()\n",
    "camera_front.destroy()\n",
    "\n",
    "camera_rear.stop()\n",
    "camera_rear.destroy()\n",
    "\n",
    "camera_left.stop()\n",
    "camera_left.destroy()\n",
    "\n",
    "camera_right.stop()\n",
    "camera_right.destroy()"
   ],
   "id": "ccbd6986ea2f6892",
   "outputs": [],
   "execution_count": null
  },
  {
   "metadata": {},
   "cell_type": "code",
   "source": "ego_vehicle.destroy()",
   "id": "4440ef9cbc83524f",
   "outputs": [],
   "execution_count": null
  },
  {
   "metadata": {},
   "cell_type": "code",
   "source": [
    "for vehicle in vehicles:\n",
    "    vehicle.destroy()"
   ],
   "id": "c392561a25d6205f",
   "outputs": [],
   "execution_count": null
  },
  {
   "metadata": {},
   "cell_type": "code",
   "source": [
    "tm.set_synchronous_mode(False)\n",
    "settings.synchronous_mode = False\n",
    "settings.fixed_delta_seconds = None\n",
    "world.apply_settings(settings)"
   ],
   "id": "96c1ac907284e26b",
   "outputs": [],
   "execution_count": null
  },
  {
   "metadata": {},
   "cell_type": "code",
   "source": [
    "sio.disconnect()\n",
    "display_server.stop()"
   ],
   "id": "a6f4b087dd691474",
   "outputs": [],
   "execution_count": null
  }
 ],
 "metadata": {
  "kernelspec": {
   "display_name": "Python 3",
   "language": "python",
   "name": "python3"
  },
  "language_info": {
   "codemirror_mode": {
    "name": "ipython",
    "version": 2
   },
   "file_extension": ".py",
   "mimetype": "text/x-python",
   "name": "python",
   "nbconvert_exporter": "python",
   "pygments_lexer": "ipython2",
   "version": "2.7.6"
  }
 },
 "nbformat": 4,
 "nbformat_minor": 5
}
