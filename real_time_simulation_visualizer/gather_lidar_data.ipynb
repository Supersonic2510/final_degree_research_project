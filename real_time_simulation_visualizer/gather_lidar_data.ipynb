{
 "cells": [
  {
   "cell_type": "code",
   "id": "initial_id",
   "metadata": {
    "collapsed": true,
    "ExecuteTime": {
     "end_time": "2024-07-16T07:50:05.628707Z",
     "start_time": "2024-07-16T07:50:05.448755Z"
    }
   },
   "source": [
    "import carla\n",
    "import random\n",
    "import time\n",
    "import numpy as np\n",
    "import struct\n",
    "import os"
   ],
   "outputs": [],
   "execution_count": 1
  },
  {
   "metadata": {
    "ExecuteTime": {
     "end_time": "2024-07-16T07:50:07.274373Z",
     "start_time": "2024-07-16T07:50:07.067920Z"
    }
   },
   "cell_type": "code",
   "source": [
    "# Connect to Carla server\n",
    "client = carla.Client('localhost', 2000)\n",
    "client.set_timeout(10.0)\n",
    "world = client.get_world()\n",
    "tm = client.get_trafficmanager()\n",
    "tm.set_synchronous_mode(True)\n",
    "\n",
    "# Load a town (optional)\n",
    "#town_name = 'Town03'\n",
    "#world = client.load_world(town_name)\n",
    "\n",
    "# Set the simulation FPS\n",
    "desired_fps = 10  # Set your desired FPS here\n",
    "settings = world.get_settings()\n",
    "settings.fixed_delta_seconds = 1.0 / desired_fps\n",
    "settings.synchronous_mode = True  # Enable synchronous mod\n",
    "world.apply_settings(settings)\n",
    "\n"
   ],
   "id": "7801dcba1f46a41e",
   "outputs": [
    {
     "data": {
      "text/plain": [
       "4904"
      ]
     },
     "execution_count": 2,
     "metadata": {},
     "output_type": "execute_result"
    }
   ],
   "execution_count": 2
  },
  {
   "metadata": {
    "ExecuteTime": {
     "end_time": "2024-07-16T07:50:08.399774Z",
     "start_time": "2024-07-16T07:50:08.278341Z"
    }
   },
   "cell_type": "code",
   "source": [
    "#Spawn random vehicles with autopilot\n",
    "blueprint_library = world.get_blueprint_library()\n",
    "vehicle_bp = blueprint_library.filter('vehicle.*')\n",
    "\n",
    "spawn_points = world.get_map().get_spawn_points()\n",
    "random.shuffle(spawn_points)\n",
    "\n",
    "# Limit to 50 cars or available spawn points\n",
    "num_cars = min(50, len(spawn_points))\n",
    "\n",
    "vehicles = []\n",
    "\n",
    "for spawn_point in spawn_points[:num_cars]:\n",
    "    for _ in range(10):  # Try up to 10 times to spawn the vehicle\n",
    "        vehicle = world.try_spawn_actor(random.choice(vehicle_bp), spawn_point)\n",
    "        if vehicle:\n",
    "            vehicle.set_autopilot(True)\n",
    "            vehicles.append(vehicle)\n",
    "            break  # Exit the retry loop if successful"
   ],
   "id": "62088b7132ae58f1",
   "outputs": [],
   "execution_count": 3
  },
  {
   "metadata": {
    "ExecuteTime": {
     "end_time": "2024-07-16T07:50:10.306662Z",
     "start_time": "2024-07-16T07:50:10.300360Z"
    }
   },
   "cell_type": "code",
   "source": [
    "#Spawn your car with autopilot and LiDAR sensor\n",
    "ego_vehicle_bp = blueprint_library.find('vehicle.audi.a2')\n",
    "ego_vehicle_spawn_point = spawn_points[num_cars]\n",
    "\n",
    "ego_vehicle = world.spawn_actor(ego_vehicle_bp, ego_vehicle_spawn_point)\n",
    "ego_vehicle.set_autopilot(True)\n",
    "\n",
    "lidar_bp = blueprint_library.find('sensor.lidar.ray_cast')\n",
    "lidar_bp.set_attribute('range', '100')  # Increase range if needed\n",
    "lidar_bp.set_attribute('rotation_frequency', str(desired_fps))\n",
    "lidar_bp.set_attribute('channels', '64')  # Increase number of channels for better vertical resolution\n",
    "lidar_bp.set_attribute('points_per_second', '1000000')  # Increase points per second for denser point cloud\n",
    "lidar_bp.set_attribute('upper_fov', '10')  # Adjust upper field of view\n",
    "lidar_bp.set_attribute('lower_fov', '-30')  # Adjust lower field of view\n",
    "lidar_bp.set_attribute('horizontal_fov', '360')  # Ensure full 360 degree horizontal field of view\n",
    "\n",
    "lidar_location = carla.Location(0, 0, 2.5)\n",
    "lidar_rotation = carla.Rotation(0, 0, 0)\n",
    "lidar_transform = carla.Transform(lidar_location, lidar_rotation)\n",
    "lidar = world.spawn_actor(lidar_bp, lidar_transform, attach_to=ego_vehicle)"
   ],
   "id": "645525886c76c89a",
   "outputs": [],
   "execution_count": 4
  },
  {
   "metadata": {
    "ExecuteTime": {
     "end_time": "2024-07-16T07:50:11.180201Z",
     "start_time": "2024-07-16T07:50:11.175373Z"
    }
   },
   "cell_type": "code",
   "source": [
    "# Ensure the folder 'lidar_data' exists\n",
    "if not os.path.exists('lidar_data'):\n",
    "    os.makedirs('lidar_data')\n",
    "\n",
    "#Function to process LiDAR data and save it as a binary file\n",
    "def save_lidar_data(data):\n",
    "    global frame\n",
    "    points = np.frombuffer(data.raw_data, dtype=np.dtype('f4'))\n",
    "    points = np.reshape(points, (int(points.shape[0] / 4), 4))\n",
    "    \n",
    "    file_name = f'lidar_data/lidar_frame_{frame}.bin'\n",
    "    with open(file_name, 'wb') as f:\n",
    "        for point in points:\n",
    "            f.write(struct.pack('ffff', *point))\n",
    "            \n",
    "    frame += 1  # Increment the frame counter"
   ],
   "id": "755fcdeba230db88",
   "outputs": [],
   "execution_count": 5
  },
  {
   "metadata": {
    "ExecuteTime": {
     "end_time": "2024-07-16T07:50:13.208395Z",
     "start_time": "2024-07-16T07:50:13.205383Z"
    }
   },
   "cell_type": "code",
   "source": [
    "#Attach callback to LiDAR sensor and start data collection\n",
    "frame = 0\n",
    "lidar.listen(lambda data: save_lidar_data(data))"
   ],
   "id": "f545a42a849451f8",
   "outputs": [],
   "execution_count": 6
  },
  {
   "metadata": {
    "ExecuteTime": {
     "end_time": "2024-07-16T07:50:58.256210Z",
     "start_time": "2024-07-16T07:50:15.119778Z"
    }
   },
   "cell_type": "code",
   "source": [
    "# Tick the server to gather 1000 frames of data\n",
    "for _ in range(1000):\n",
    "    world.tick()"
   ],
   "id": "b785fec35bde93f3",
   "outputs": [],
   "execution_count": 7
  },
  {
   "metadata": {},
   "cell_type": "code",
   "outputs": [],
   "execution_count": null,
   "source": "",
   "id": "5fa73b24c1240d4a"
  },
  {
   "metadata": {
    "ExecuteTime": {
     "end_time": "2024-07-16T07:52:41.217647Z",
     "start_time": "2024-07-16T07:52:40.807175Z"
    }
   },
   "cell_type": "code",
   "source": [
    "# Always disable sync mode before the script ends to prevent the server blocking whilst waiting for a tick\n",
    "settings.synchronous_mode = False\n",
    "settings.fixed_delta_seconds = None\n",
    "world.apply_settings(settings)\n",
    "tm.set_synchronous_mode(False)\n",
    "\n",
    "#Cleanup\n",
    "lidar.stop()\n",
    "lidar.destroy()\n",
    "ego_vehicle.destroy()"
   ],
   "id": "21e5a794ca591bc6",
   "outputs": [
    {
     "data": {
      "text/plain": [
       "True"
      ]
     },
     "execution_count": 8,
     "metadata": {},
     "output_type": "execute_result"
    }
   ],
   "execution_count": 8
  },
  {
   "metadata": {
    "jupyter": {
     "is_executing": true
    },
    "ExecuteTime": {
     "start_time": "2024-07-16T07:53:42.575252Z"
    }
   },
   "cell_type": "code",
   "source": [
    "for vehicle in vehicles:\n",
    "    vehicle.destroy()"
   ],
   "id": "17ea45f51a078a9b",
   "outputs": [],
   "execution_count": null
  },
  {
   "metadata": {
    "ExecuteTime": {
     "end_time": "2024-07-16T07:53:56.599485Z",
     "start_time": "2024-07-16T07:53:56.585389Z"
    }
   },
   "cell_type": "code",
   "source": [
    "# Get all actors in the world\n",
    "actors = world.get_actors()\n",
    "\n",
    "# Filter for vehicle actors and print their blueprints\n",
    "vehicle_actors = actors.filter('vehicle.*')\n",
    "\n",
    "print(vehicle_actors)"
   ],
   "id": "1b5b2a144d01d18f",
   "outputs": [
    {
     "ename": "NameError",
     "evalue": "name 'world' is not defined",
     "output_type": "error",
     "traceback": [
      "\u001B[0;31m---------------------------------------------------------------------------\u001B[0m",
      "\u001B[0;31mNameError\u001B[0m                                 Traceback (most recent call last)",
      "Cell \u001B[0;32mIn[2], line 2\u001B[0m\n\u001B[1;32m      1\u001B[0m \u001B[38;5;66;03m# Get all actors in the world\u001B[39;00m\n\u001B[0;32m----> 2\u001B[0m actors \u001B[38;5;241m=\u001B[39m \u001B[43mworld\u001B[49m\u001B[38;5;241m.\u001B[39mget_actors()\n\u001B[1;32m      4\u001B[0m \u001B[38;5;66;03m# Filter for vehicle actors and print their blueprints\u001B[39;00m\n\u001B[1;32m      5\u001B[0m vehicle_actors \u001B[38;5;241m=\u001B[39m actors\u001B[38;5;241m.\u001B[39mfilter(\u001B[38;5;124m'\u001B[39m\u001B[38;5;124mvehicle.*\u001B[39m\u001B[38;5;124m'\u001B[39m)\n",
      "\u001B[0;31mNameError\u001B[0m: name 'world' is not defined"
     ]
    }
   ],
   "execution_count": 2
  },
  {
   "metadata": {
    "ExecuteTime": {
     "end_time": "2024-07-16T07:53:54.657613Z",
     "start_time": "2024-07-16T07:53:54.479997Z"
    }
   },
   "cell_type": "code",
   "source": "vehicles",
   "id": "caadfa2212082d9c",
   "outputs": [
    {
     "ename": "NameError",
     "evalue": "name 'vehicles' is not defined",
     "output_type": "error",
     "traceback": [
      "\u001B[0;31m---------------------------------------------------------------------------\u001B[0m",
      "\u001B[0;31mNameError\u001B[0m                                 Traceback (most recent call last)",
      "Cell \u001B[0;32mIn[1], line 1\u001B[0m\n\u001B[0;32m----> 1\u001B[0m \u001B[43mvehicles\u001B[49m\n",
      "\u001B[0;31mNameError\u001B[0m: name 'vehicles' is not defined"
     ]
    }
   ],
   "execution_count": 1
  },
  {
   "metadata": {},
   "cell_type": "code",
   "outputs": [],
   "execution_count": null,
   "source": "",
   "id": "a0509afa57c7b8e8"
  }
 ],
 "metadata": {
  "kernelspec": {
   "display_name": "Python 3",
   "language": "python",
   "name": "python3"
  },
  "language_info": {
   "codemirror_mode": {
    "name": "ipython",
    "version": 2
   },
   "file_extension": ".py",
   "mimetype": "text/x-python",
   "name": "python",
   "nbconvert_exporter": "python",
   "pygments_lexer": "ipython2",
   "version": "2.7.6"
  }
 },
 "nbformat": 4,
 "nbformat_minor": 5
}
